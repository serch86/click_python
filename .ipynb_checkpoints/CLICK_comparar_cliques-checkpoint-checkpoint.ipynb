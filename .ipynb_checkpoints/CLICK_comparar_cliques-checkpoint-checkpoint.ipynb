{
 "cells": [
  {
   "cell_type": "code",
   "execution_count": 1,
   "metadata": {},
   "outputs": [],
   "source": [
    "import pandas as pd\n",
    "pd.set_option('display.float_format', lambda x: '%.5f' % x)\n",
    "pd.set_option('max_rows', 20)\n",
    "pd.set_option('max_columns', 40)\n",
    "\n",
    "import networkx as nx,community\n",
    "import matplotlib.pyplot as plt\n",
    "plt.style.use('ggplot')\n",
    "font = {'family' : 'sans',\n",
    "        'weight' : 'bold',\n",
    "        'size'   : 20}\n",
    "plt.rc('font', **font)\n",
    "\n",
    "plt.rcParams['xtick.labelsize'] = 16\n",
    "plt.rcParams['axes.labelsize'] = 18\n",
    "plt.rcParams['ytick.labelsize'] = 16\n",
    "plt.rcParams[u'figure.figsize'] = (16,8)"
   ]
  },
  {
   "cell_type": "code",
   "execution_count": 25,
   "metadata": {},
   "outputs": [],
   "source": [
    "#mas librerias que voy obteniendo\n",
    "import biopandas.pdb as bp\n",
    "biop = bp.PandasPdb() #libreria de lectura de pdbs\n",
    "#libreria de calculo de distancia euclidiana\n",
    "from scipy.spatial.distance import pdist, squareform\n",
    "#libreria de mate\n",
    "import numpy as np"
   ]
  },
  {
   "cell_type": "code",
   "execution_count": 116,
   "metadata": {},
   "outputs": [],
   "source": [
    "#archivos pdbs\n",
    "path1 ='/Users/serch/pdbmani/trj_0.pdb'\n",
    "path2='/Users/serch/pdbmani/trj_0_A.pdb'\n",
    "# generar mismos resultados que el algoritmo click\n",
    "pathprueba ='/Users/serch/pdbmani/Serch/1phr.pdb'\n",
    "\n",
    "#funcion de lectura con biopandas\n",
    "def read_biopdb(path):\n",
    "        df = biop.read_pdb(path)\n",
    "        df_atom = df.df['ATOM']\n",
    "        #OJO AQUI ESTA ADECUADO AL PDB\n",
    "        df_ca = df_atom[:1805][df_atom.atom_name == 'CA'][[\n",
    "        'atom_number','atom_name','residue_name','residue_number',\n",
    "        'x_coord','y_coord','z_coord']]\n",
    "        columna_vector = []\n",
    "        for i in zip(df_ca.x_coord.tolist(),df_ca.y_coord.tolist(),df_ca.z_coord.tolist()):\n",
    "            columna_vector.append(list(i))\n",
    "            \n",
    "        df_ca['vector'] = columna_vector\n",
    "        return(df_ca)"
   ]
  },
  {
   "cell_type": "code",
   "execution_count": 160,
   "metadata": {},
   "outputs": [
    {
     "name": "stderr",
     "output_type": "stream",
     "text": [
      "C:\\Users\\serch\\Anaconda3\\lib\\site-packages\\ipykernel_launcher.py:12: UserWarning: Boolean Series key will be reindexed to match DataFrame index.\n",
      "  if sys.path[0] == '':\n"
     ]
    }
   ],
   "source": [
    "df_ca1 = read_biopdb(path1)\n",
    "df_ca2 = read_biopdb(path2)"
   ]
  },
  {
   "cell_type": "code",
   "execution_count": 161,
   "metadata": {},
   "outputs": [],
   "source": [
    "#se calcula la distancia entre cada par de nodos.\n",
    "# def distancia_entre_atomos(df_ca):\n",
    "distancias = []\n",
    "#se calcula la distancia euclidiana entre cada atomo de carbon alfalfa\n",
    "for v,i in zip(df_ca1.vector,df_ca1.atom_number):\n",
    "    distancia_un_atomo = []\n",
    "    for av,j in zip(df_ca1.vector,df_ca1.atom_number):\n",
    "        distancia = pdist([v,av],metric='euclidean').item()\n",
    "        distancia_un_atomo.append(distancia)\n",
    "    distancias.append(distancia_un_atomo)"
   ]
  },
  {
   "cell_type": "code",
   "execution_count": 162,
   "metadata": {},
   "outputs": [],
   "source": [
    "#se genera la matriz de adyacencias para la red\n",
    "distancias_adyacenctes = pd.DataFrame(index=df_ca1.atom_number,\n",
    "                                      columns=df_ca1.atom_number,\n",
    "                                      data=distancias)"
   ]
  },
  {
   "cell_type": "code",
   "execution_count": 163,
   "metadata": {},
   "outputs": [
    {
     "name": "stdout",
     "output_type": "stream",
     "text": [
      "Name: \n",
      "Type: Graph\n",
      "Number of nodes: 116\n",
      "Number of edges: 6670\n",
      "Average degree: 115.0000\n"
     ]
    }
   ],
   "source": [
    "#red de distancias completa\n",
    "red = nx.from_pandas_adjacency(distancias_adyacenctes)\n",
    "print(nx.info(red))"
   ]
  },
  {
   "cell_type": "code",
   "execution_count": 164,
   "metadata": {},
   "outputs": [],
   "source": [
    "#filtro de distancias\n",
    "edgesstrong = [(u,v) for (u,v,d) in red.edges(data=True) if d[\"weight\"] <=10]"
   ]
  },
  {
   "cell_type": "code",
   "execution_count": 165,
   "metadata": {},
   "outputs": [],
   "source": [
    "red = nx.Graph(edgesstrong)"
   ]
  },
  {
   "cell_type": "code",
   "execution_count": 166,
   "metadata": {},
   "outputs": [
    {
     "name": "stdout",
     "output_type": "stream",
     "text": [
      "Name: \n",
      "Type: Graph\n",
      "Number of nodes: 116\n",
      "Number of edges: 888\n",
      "Average degree:  15.3103\n"
     ]
    }
   ],
   "source": [
    "print(nx.info(red))"
   ]
  },
  {
   "cell_type": "code",
   "execution_count": 167,
   "metadata": {},
   "outputs": [],
   "source": [
    "cl = list(nx.find_cliques(red))"
   ]
  },
  {
   "cell_type": "code",
   "execution_count": 168,
   "metadata": {},
   "outputs": [
    {
     "name": "stdout",
     "output_type": "stream",
     "text": [
      "cliques: [[1032, 1016, 992, 802, 901, 895], [1032, 1016, 992, 802, 774], [1032, 1016, 992, 1173, 1190, 1207], [1032, 1016, 1046, 808, 802, 774], [1032, 1016, 1046, 1153, 802, 774], [1032, 1016, 1046, 1153, 1173, 334, 1190], [1032, 1016, 1046, 1153, 1173, 1063], [1032, 1016, 1207, 334, 1173, 1190], [1032, 1016, 895, 808, 802], [1032, 1090, 1153, 1141, 1046, 1063], [1032, 1141, 1153, 1173, 1046, 1190, 334], [1032, 1141, 1153, 1173, 1046, 1063], [1552, 1476, 465, 1457, 1506, 1487], [1552, 1476, 1562, 1506, 1487, 1457], [1552, 1476, 1562, 1506, 1487, 1530, 1524], [1552, 1476, 1562, 1579, 1457, 1598], [17, 389, 400, 369, 83, 1117], [17, 389, 400, 369, 83, 23, 47], [17, 389, 400, 369, 414, 1117], [17, 389, 400, 428, 414], [17, 389, 69, 369, 83, 23, 47], [1046, 1153, 1096, 1090, 1117, 1141, 1110, 1063], [1046, 1153, 501, 1016, 802, 774], [1046, 1153, 501, 1016, 348], [1046, 1153, 348, 1117, 1141], [1046, 1153, 348, 1190, 1173, 334, 1016], [1046, 1153, 348, 1190, 1173, 334, 1141], [23, 47, 1598, 369, 83, 69], [23, 1447, 400, 369, 83], [23, 1447, 400, 1476], [23, 1447, 1598, 1457, 1476], [23, 1447, 1598, 69, 369, 83], [1562, 1440, 1447, 1457, 1579, 1620, 1598], [1562, 1476, 1447, 1457, 1579, 1598], [1562, 1476, 1447, 1457, 1487], [1063, 1153, 358, 1141, 1117, 1110], [1063, 1153, 358, 1141, 1173], [47, 369, 83, 89, 69], [69, 1440, 1635, 83, 89, 369, 358], [69, 1440, 1635, 83, 89, 1620, 1646], [69, 1440, 1635, 83, 1447, 358, 369], [69, 1440, 1635, 83, 1447, 1598, 369], [69, 1440, 1635, 83, 1447, 1598, 1620], [69, 1440, 1635, 1579, 1620, 1598, 1447], [69, 389, 358, 369, 83], [1096, 1110, 1117, 389, 1141], [1096, 1110, 1117, 389, 414], [1110, 400, 389, 369, 1117, 414], [1110, 400, 389, 369, 1117, 358, 1141], [1110, 400, 389, 428, 414], [1110, 400, 439, 428, 414], [1110, 1153, 358, 369, 1141, 1117], [603, 579, 656, 620, 687, 1376], [603, 579, 656, 620, 687, 701, 670], [603, 579, 1390, 1376, 1665, 1369, 1689, 1699], [603, 579, 1390, 1376, 1665, 1411, 1689, 1699], [603, 579, 1390, 1376, 1665, 1411, 558], [603, 579, 1390, 1376, 620, 1369], [603, 579, 1390, 1376, 620, 687], [603, 579, 1390, 1376, 687, 1411, 558], [603, 579, 1390, 713, 558, 735, 687, 1411], [603, 579, 1390, 713, 558, 735, 687, 701], [603, 579, 1390, 701, 620, 687], [603, 645, 620, 656, 687, 670, 639], [603, 639, 620, 1376, 656, 687], [603, 639, 620, 1376, 1369], [1117, 369, 1153, 348, 1141, 358], [1117, 369, 389, 358, 83, 1141, 400], [1117, 369, 389, 358, 83, 1141, 348], [1141, 358, 369, 348, 103, 89, 83], [1141, 358, 369, 348, 103, 89, 334], [1141, 358, 369, 348, 103, 1153, 334], [1141, 358, 1173, 1153, 348, 334, 103], [1141, 1190, 1153, 103, 348, 1173, 334], [142, 1714, 177, 148, 1689, 158, 314], [142, 1714, 177, 148, 1689, 158, 1699], [142, 1714, 177, 300, 314], [142, 123, 89, 103, 1689, 148], [142, 123, 89, 103, 348, 334], [142, 123, 314, 177, 148, 1689, 158], [142, 123, 314, 177, 300], [142, 123, 314, 300, 334], [142, 123, 314, 103, 1689, 148], [142, 123, 314, 103, 348, 334], [142, 123, 1699, 177, 1689, 148, 158], [148, 1689, 1665, 1376, 1699, 158], [148, 1689, 1665, 1376, 1699, 1390], [148, 1689, 1665, 123, 1699, 158], [148, 1689, 1665, 123, 103, 89, 1646], [148, 1689, 1665, 1390, 1646, 103], [148, 1689, 1714, 314, 1390], [148, 1689, 1714, 1699, 1376, 158], [148, 1689, 1714, 1699, 1376, 1390], [148, 1689, 314, 1390, 103], [1173, 992, 1190, 300, 1016, 1207], [1173, 334, 314, 123, 300], [1173, 334, 314, 123, 348, 103], [1173, 334, 314, 1190, 1016, 1153, 348], [1173, 334, 314, 1190, 1016, 300, 1207], [1173, 334, 314, 1190, 103, 1153, 348], [1173, 334, 358, 103, 348, 123], [158, 1699, 196, 177, 1714, 1733], [158, 1699, 1733, 1714, 1376], [1699, 1376, 1733, 1369, 1714, 1358], [1699, 1376, 1390, 1369, 1689, 1714], [1699, 1376, 1390, 1369, 1358, 1714], [1699, 177, 1358, 1714, 196, 1733], [1699, 123, 1665, 1689, 1411], [177, 1714, 290, 314, 300], [177, 1714, 290, 212, 300], [177, 1714, 290, 212, 1757, 196, 1733], [177, 1714, 1358, 196, 1757, 212, 1733], [1714, 1733, 290, 1274, 212, 1757], [1714, 1733, 1358, 1376, 1369, 1346], [1714, 1733, 1358, 1757, 1369, 1346], [1714, 1733, 1358, 1757, 1346, 1274], [1714, 1733, 1358, 1757, 1773, 212, 1274], [1714, 1733, 1358, 1757, 1773, 212, 196], [1207, 1218, 992, 972, 948, 1234], [1207, 1218, 992, 972, 300, 1016, 1190], [1207, 1218, 992, 972, 300, 1234], [1207, 1218, 1016, 314, 300, 1190], [1207, 1218, 290, 1250, 1234, 1274, 276], [1207, 1218, 290, 1250, 1234, 972], [1207, 1218, 290, 300, 1234, 972], [1207, 1218, 290, 300, 1234, 276], [1207, 1218, 290, 300, 1190, 314], [1207, 1218, 290, 300, 1190, 972], [1207, 1218, 948, 1250, 1234, 1274], [1207, 1218, 948, 1250, 1234, 972], [1207, 754, 992, 972, 1016, 1190], [1207, 754, 992, 972, 948], [701, 579, 713, 558, 534, 735, 754], [701, 579, 713, 558, 534, 735, 1390], [1218, 1346, 1274, 1284], [1218, 1284, 290, 1250, 264, 1234, 1274, 276], [1218, 937, 992, 948, 972, 1234], [1218, 937, 992, 948, 972, 735], [196, 1733, 228, 1757, 212, 290], [196, 1733, 228, 1757, 212, 1773], [1733, 1757, 1369, 1346, 1332, 1308, 1358], [1733, 1757, 1284, 1274, 242, 290, 212, 228], [1733, 1757, 1284, 1274, 242, 1308, 1346, 1332], [1733, 1757, 1284, 1274, 242, 1308, 1773, 212, 228], [1733, 1757, 1284, 1274, 242, 1308, 1773, 1332], [1733, 1757, 1284, 1274, 1358, 1308, 1346, 1332], [1733, 1757, 1284, 1274, 1358, 1308, 1773, 212], [1733, 1757, 1284, 1274, 1358, 1308, 1773, 1332], [1234, 257, 290, 1250, 264, 1274, 1284, 276], [1234, 925, 992, 937, 948, 972], [212, 1284, 1757, 257, 228, 242, 1274, 290, 264, 276], [212, 1284, 1757, 257, 228, 242, 1274, 1308, 1773], [212, 1284, 1757, 257, 228, 242, 1787, 1308, 1773], [212, 300, 276, 290], [1250, 290, 257, 1284, 228, 264, 242, 1274, 276], [764, 808, 802, 774, 1016], [764, 808, 802, 774, 859], [764, 808, 802, 774, 485], [764, 754, 802, 1016, 901, 992], [764, 754, 802, 1016, 774, 992], [764, 754, 802, 1016, 774, 520, 501], [764, 754, 901, 992, 1016, 972], [764, 754, 534, 992, 1016, 972], [764, 754, 534, 992, 1016, 774], [764, 754, 534, 992, 735, 972], [764, 754, 534, 520, 558, 713, 735], [764, 754, 534, 520, 774, 1016, 501], [764, 754, 534, 972, 558, 735], [764, 859, 901, 802], [764, 485, 802, 520, 501, 774], [774, 465, 501, 485, 1447], [774, 802, 1153, 520, 1016, 501], [774, 802, 823, 808, 859], [774, 534, 520, 501, 1016, 1153], [774, 534, 520, 501, 1447], [774, 1447, 485, 520, 501], [802, 835, 870, 808, 859, 895, 823], [802, 901, 870, 859, 895], [808, 439, 485], [314, 103, 1411, 123, 1689], [314, 103, 1411, 123, 348, 334], [314, 103, 1411, 1390, 1689], [870, 908, 901, 895], [895, 992, 901, 908, 925], [901, 992, 972, 937, 948, 754], [901, 992, 972, 937, 948, 908, 925], [400, 369, 1447, 83, 358], [400, 465, 454, 439, 428, 414], [400, 465, 454, 439, 1476], [400, 465, 1447, 1476], [1430, 1153, 348, 520, 534, 501], [1430, 1153, 348, 520, 534, 1190], [1430, 1153, 348, 501, 369, 358], [1430, 1153, 348, 103, 334, 369, 358], [1430, 1153, 348, 103, 334, 1190], [1430, 1153, 348, 103, 534, 1190], [1430, 1411, 579, 1390, 1689, 1665], [1430, 1411, 579, 1390, 558, 1665], [1430, 1411, 579, 1390, 558, 713, 534, 735], [1430, 1411, 103, 1635, 89, 348, 1440], [1430, 1411, 103, 1635, 89, 348, 123], [1430, 1411, 103, 1635, 89, 1646, 1440, 1620], [1430, 1411, 103, 1635, 89, 1646, 1665, 1689, 123], [1430, 1411, 103, 1635, 89, 1646, 1665, 1620], [1430, 1411, 103, 1635, 1390, 1665, 1689, 1646], [1430, 1411, 103, 334, 89, 123, 348], [1430, 1411, 103, 534, 1440, 1620], [1430, 1411, 103, 534, 1440, 348], [1430, 1411, 103, 534, 1390], [1430, 1411, 520, 534, 1440, 1620], [1430, 1411, 520, 534, 1440, 558], [1430, 1411, 520, 534, 1440, 348], [1430, 1411, 520, 534, 713, 558, 735], [1430, 1190, 754, 520, 534], [1430, 1447, 1440, 1635, 83, 369, 348, 358], [1430, 1447, 1440, 1635, 83, 369, 1598], [1430, 1447, 1440, 1635, 83, 1620, 1598], [1430, 1447, 1440, 1635, 1579, 1620, 1598], [1430, 1447, 1440, 501, 520, 1620, 1579], [1430, 1447, 1440, 501, 520, 1620, 534], [1430, 1447, 1440, 501, 520, 348, 534], [1430, 1447, 1440, 501, 83, 369, 348, 358], [1430, 1447, 1440, 501, 83, 369, 1598], [1430, 1447, 1440, 501, 83, 1620, 1598], [1430, 1447, 1440, 501, 1579, 1598, 1620], [1430, 358, 348, 103, 89, 1635, 1440, 369, 83], [1430, 358, 348, 103, 89, 1635, 123], [1430, 358, 348, 103, 89, 334, 369], [1430, 358, 348, 103, 89, 334, 123], [1430, 754, 534, 520, 713, 558, 735], [1430, 754, 534, 520, 501], [1430, 754, 534, 579, 713, 558, 735], [1430, 83, 1440, 1635, 103, 89, 1620, 1646], [937, 992, 754, 948, 972, 735], [1457, 1506, 1476, 454, 465, 1487], [1457, 454, 485, 465, 1476, 1487], [1457, 1447, 501, 465, 1476, 485], [1457, 1447, 501, 1579, 1440, 520, 1620], [1457, 1447, 501, 1579, 1440, 520, 485], [1457, 1447, 501, 1579, 1440, 1598, 1620], [1457, 1447, 501, 1579, 1476, 485], [1457, 1447, 501, 1579, 1476, 1598], [1457, 1447, 1487, 465, 1476, 485], [439, 1476, 485, 465, 454, 1487], [972, 754, 534, 1190, 992, 1016], [1016, 1153, 348, 501, 520, 534], [1016, 1153, 348, 1190, 520, 534], [1016, 754, 1190, 520, 534]]\n",
      "numero de cliques 248\n"
     ]
    }
   ],
   "source": [
    "print('cliques:',cl)\n",
    "print('numero de cliques',len(cl))"
   ]
  },
  {
   "cell_type": "code",
   "execution_count": 169,
   "metadata": {},
   "outputs": [
    {
     "data": {
      "text/plain": [
       "6     100\n",
       "7      70\n",
       "5      44\n",
       "8      20\n",
       "9       6\n",
       "4       6\n",
       "10      1\n",
       "3       1\n",
       "Name: 1, dtype: int64"
      ]
     },
     "execution_count": 169,
     "metadata": {},
     "output_type": "execute_result"
    }
   ],
   "source": [
    "#analisis de numero de n-cliques\n",
    "a = pd.Series(cl)\n",
    "num_elementos = []\n",
    "for i in a:\n",
    "    num_elementos.append(len(i))\n",
    "\n",
    "b = pd.Series(num_elementos)\n",
    "pd.concat([a,b],1)[1].value_counts()"
   ]
  },
  {
   "cell_type": "code",
   "execution_count": 176,
   "metadata": {},
   "outputs": [
    {
     "data": {
      "text/plain": [
       "[frozenset({212, 228, 242, 257, 1274, 1284, 1308, 1733, 1757, 1773, 1787}),\n",
       " frozenset({212, 228, 242, 257, 264, 276, 290, 1250, 1274, 1284, 1757}),\n",
       " frozenset({89, 103, 123, 1411, 1430, 1635, 1646, 1665, 1689}),\n",
       " frozenset({83, 89, 103, 348, 358, 369, 1430, 1440, 1635})]"
      ]
     },
     "execution_count": 176,
     "metadata": {},
     "output_type": "execute_result"
    }
   ],
   "source": [
    "from networkx.algorithms import community as comm\n",
    "a = list(comm.k_clique_communities(red,9))\n",
    "a"
   ]
  },
  {
   "cell_type": "code",
   "execution_count": 177,
   "metadata": {},
   "outputs": [],
   "source": [
    "nx.write_gexf(red,'prueba.gexf')"
   ]
  },
  {
   "cell_type": "code",
   "execution_count": null,
   "metadata": {},
   "outputs": [],
   "source": []
  },
  {
   "cell_type": "code",
   "execution_count": null,
   "metadata": {},
   "outputs": [],
   "source": []
  },
  {
   "cell_type": "code",
   "execution_count": null,
   "metadata": {},
   "outputs": [],
   "source": []
  },
  {
   "cell_type": "code",
   "execution_count": null,
   "metadata": {},
   "outputs": [],
   "source": []
  },
  {
   "cell_type": "code",
   "execution_count": null,
   "metadata": {},
   "outputs": [],
   "source": []
  },
  {
   "cell_type": "code",
   "execution_count": null,
   "metadata": {},
   "outputs": [],
   "source": []
  },
  {
   "cell_type": "markdown",
   "metadata": {},
   "source": [
    "# Error 1\n",
    "este codigo siguiente era para generar cliques si coincidian en distancia pero no es adecuado dado que primero hay que generar los cliques y posterior filtrar por distancias."
   ]
  },
  {
   "cell_type": "code",
   "execution_count": 302,
   "metadata": {},
   "outputs": [],
   "source": [
    "#el umbral donde formamos los cliques es tomando encuenta dos factores\n",
    "#1. que el numero de miembros en el clique sea entre 3 y 9, en el articulo lo fijaron en 7 \n",
    "#2. que la distancia este en el intervalo 6 a 12, en el articulo lo fijaron en 10\n",
    "\n",
    "def gen_cliques_internos(df_ca):\n",
    "    #intervalos de distancia posible para formar el clique\n",
    "    #d_inf,d_sup = 3,9\n",
    "    # donde se guardaran los posibles cliques\n",
    "    clique_grande = []\n",
    "    #se calcula la distancia euclidiana entre cada atomo de carbon alfalfa\n",
    "    for v,i in zip(df_ca.vector,df_ca.atom_number):\n",
    "        #clique del atomo a obervarsh\n",
    "        clique = []\n",
    "        for av,j in zip(df_ca.vector,df_ca.atom_number):\n",
    "            if v == av: #si es el mismo atomo no calcular\n",
    "                continue\n",
    "            distancia = pdist([v,av],metric='euclidean').item()\n",
    "            if distancia <= 10: #(d_inf <= distancia) and (distancia <= d_sup) :\n",
    "    #             print(pdist([v,av],metric='euclidean'),i,j)\n",
    "                clique = clique + [j]\n",
    "                #print(clique)\n",
    "        clique_grande.append(clique)\n",
    "\n",
    "    df_ca['cliques'] = clique_grande\n",
    "    return(df_ca)"
   ]
  },
  {
   "cell_type": "code",
   "execution_count": 303,
   "metadata": {},
   "outputs": [],
   "source": [
    "df_cat1 = gen_cliques_internos(df_ca1)"
   ]
  },
  {
   "cell_type": "code",
   "execution_count": 304,
   "metadata": {},
   "outputs": [],
   "source": [
    "#se busca saber si un valor esta en otro conjunto y formar los cliques\n",
    "for i in range(df_cat1.shape[0]):\n",
    "    for j in range(df_cat1.shape[0]):\n",
    "        if i == j: continue #no repetidos\n",
    "        if df_cat1.cliques.values[i] in df_cat1.cliques.values[j]:\n",
    "            print(set(df_cat1.cliques.values[i]))"
   ]
  },
  {
   "cell_type": "code",
   "execution_count": 305,
   "metadata": {},
   "outputs": [],
   "source": [
    "df_cat1.set_index('atom_number',inplace=True)"
   ]
  },
  {
   "cell_type": "code",
   "execution_count": 306,
   "metadata": {},
   "outputs": [],
   "source": [
    "#se genero una red de adyacencias \n",
    "#para saber quien conectaba con quien respetando la distancia desde el filtro pasado\n",
    "lista_enlaces = []\n",
    "for i in range(df_cat1.shape[0]):\n",
    "    lista_enlaces = lista_enlaces + [list(df_cat1.index.isin(df_cat1.cliques.values.take(i))*1)]"
   ]
  },
  {
   "cell_type": "code",
   "execution_count": 307,
   "metadata": {},
   "outputs": [],
   "source": [
    "#se grafico en gephi para ver si estaba bien hecha.\n",
    "red_adyacencias = pd.DataFrame(index=df_cat1.index,columns=df_cat1.index,data=lista_enlaces)\n",
    "red_adyacencias.to_csv('red_adyacencias.csv')"
   ]
  }
 ],
 "metadata": {
  "kernelspec": {
   "display_name": "Python 3",
   "language": "python",
   "name": "python3"
  },
  "language_info": {
   "codemirror_mode": {
    "name": "ipython",
    "version": 3
   },
   "file_extension": ".py",
   "mimetype": "text/x-python",
   "name": "python",
   "nbconvert_exporter": "python",
   "pygments_lexer": "ipython3",
   "version": "3.6.5"
  }
 },
 "nbformat": 4,
 "nbformat_minor": 2
}
