{
 "cells": [
  {
   "cell_type": "markdown",
   "metadata": {},
   "source": [
    "# Analisis de RMSD de diversas proteinas\n",
    "Con el fin de encontrar el mejor filtro para no hacer comparaciones inecesarias se proponen dos filtros:\n",
    "1. Analizar el RMSD de comparacion de proteinas y en cuales las que solo se agruparon con un solo clique cual es el rmsd promedio y y obtener un corte para reducir el numero de iteraciones.\n",
    "\n",
    "2. Generar una esfera promedio con los puntos del clique y obtener la diferencia de los centros entre cada uno de los puntos para saber la distancia minima que estaran separados antes de rotarlos.\n",
    "\n",
    "de 2 seria obteniendo la distancia promedio del origen a cada punto y calculando la diferencia entre cada candidato. y esa diferencia de distancias tiene que estar entre un cierto rango para ser un candidato despues del RMSD"
   ]
  },
  {
   "cell_type": "code",
   "execution_count": 1,
   "metadata": {},
   "outputs": [],
   "source": [
    "# librerias que utilizaras\n",
    "import numpy as np\n",
    "# por si no te lee las tools o functions creadas\n",
    "import sys\n",
    "# herramientas para leer pdbs\n",
    "import read_pdb_tools as rpt\n",
    "# calculo de distancia\n",
    "from scipy.spatial.distance import pdist, squareform\n",
    "# libreria de tablas\n",
    "import pandas as pd\n",
    "# funciones de click generadas en pandas\n",
    "import funciones_CLICK as fc\n",
    "# iteradores\n",
    "import itertools as it\n",
    "# cuenta tiempo de ejecucion\n",
    "import datetime\n",
    "\n",
    "#distancia\n",
    "from scipy.spatial import distance    \n",
    "    \n",
    "import multiprocessing\n",
    "from functools import partial\n",
    "\n",
    "import cufflinks as cf\n",
    "import plotly\n",
    "import plotly.plotly as py\n",
    "import plotly.graph_objs as go\n",
    "import matplotlib.pyplot as plt\n",
    "import seaborn as sns\n",
    "\n",
    "%matplotlib inline"
   ]
  },
  {
   "cell_type": "markdown",
   "metadata": {},
   "source": [
    "## Proteinas 1xxa vs 1tig"
   ]
  },
  {
   "cell_type": "code",
   "execution_count": 2,
   "metadata": {},
   "outputs": [],
   "source": [
    "# assert( len(sys.argv) > 1)\n",
    "# lectura de archivo\n",
    "file1 = '1xxa.pdb' # sys.argv[1]\n",
    "file2 = '1tig.pdb' # sys.argv[2]\n",
    "\n",
    "# numero de cliques, preguntar en el software para generalizarlo...\n",
    "num_cliques = 3\n",
    "\n",
    "# se define la estructura\n",
    "pdb1 = rpt.PdbStruct(\"first\")\n",
    "pdb2 = rpt.PdbStruct(\"second\")\n",
    "\n",
    "# se lee el pdb y se agrega al objeto\n",
    "pdb1.AddPdbData(\"%s\" % file1)\n",
    "pdb2.AddPdbData(\"%s\" % file2)\n",
    "\n",
    "# se obtienen los residuos que perteneces a la cadena de interes por default chain = 'A'\n",
    "pdb11 = pdb1.GetResChain()\n",
    "pdb22 = pdb2.GetResChain()\n",
    "\n",
    "ss1 = pdb1.Get_SS(file1)\n",
    "ss2 = pdb1.Get_SS(file2)"
   ]
  },
  {
   "cell_type": "code",
   "execution_count": 3,
   "metadata": {},
   "outputs": [],
   "source": [
    "# se crea atributo a cada residuo\n",
    "for i, j in zip(pdb11, ss1.structure.values):\n",
    "    setattr(i, 'structure', j)\n",
    "for i, j in zip(pdb22, ss2.structure.values):\n",
    "    setattr(i, 'structure', j)"
   ]
  },
  {
   "cell_type": "code",
   "execution_count": 4,
   "metadata": {},
   "outputs": [],
   "source": [
    "def get_df_distancias(ref):\n",
    "    \"\"\"Funcion para obtener el dataframe de distancias de cada proteina\"\"\"\n",
    "    # se generan listas con coordenadas y numero de atomo\n",
    "    coord = [res.GetAtom('CA').coord for res in ref]\n",
    "    index = [res.resi for res in ref]\n",
    "\n",
    "    # calcula distancia y regresa dataframe\n",
    "    distancias = []\n",
    "    # se calcula la distancia euclidiana entre cada atomo de carbon alfalfa\n",
    "    for v in coord:\n",
    "        distancia_un_atomo = []\n",
    "        for av in coord:\n",
    "            distancia = pdist(np.array([v, av]), metric='euclidean').item()\n",
    "            distancia_un_atomo.append(distancia)\n",
    "        distancias.append(distancia_un_atomo)\n",
    "\n",
    "    # se genera la matriz de adyacencias para la red\n",
    "    df_da = pd.DataFrame(index=index, columns=index, data=distancias)\n",
    "    return(df_da, index)\n",
    "\n",
    "\n",
    "df_distancias1, index1 = get_df_distancias(pdb11)\n",
    "df_distancias2, index2 = get_df_distancias(pdb22)"
   ]
  },
  {
   "cell_type": "code",
   "execution_count": 5,
   "metadata": {},
   "outputs": [
    {
     "name": "stdout",
     "output_type": "stream",
     "text": [
      "numero de cliques maximos encontrados: 158\n",
      "numero de 3-cliques posibles: 1787\n",
      "****************************************************************************************************\n",
      "numero de cliques maximos encontrados: 246\n",
      "numero de 3-cliques posibles: 2102\n",
      "****************************************************************************************************\n"
     ]
    }
   ],
   "source": [
    "# se generan cliques, tte devuleve dataframe con cliques de 3 y la lista de cliques sin partir\n",
    "df_cliques1, cliques1 = fc.gen_3_cliques(df_distancias1, dth=10, k=num_cliques)\n",
    "print('**'*50)\n",
    "df_cliques2, cliques2 = fc.gen_3_cliques(df_distancias2, dth=10, k=num_cliques)\n",
    "print('**'*50)"
   ]
  },
  {
   "cell_type": "code",
   "execution_count": 6,
   "metadata": {},
   "outputs": [],
   "source": [
    "def get_df_ca(list_of_residues):\n",
    "    \"\"\"Genera dataframe con la informacion necesaria para las siguientes funciones\n",
    "    FALTA DOCUMENTAR ESTA COSA!!!!\"\"\"\n",
    "    #crear df_ca\n",
    "    atom_number = []\n",
    "    atom_name = []\n",
    "    residue_name = []\n",
    "    residue_number = []\n",
    "    coord = []\n",
    "    for res in list_of_residues:\n",
    "        for atom in res.atoms:\n",
    "            atom_number.append(atom.atom_number)\n",
    "            atom_name.append(atom.name)\n",
    "            residue_name.append(res.resn)\n",
    "            residue_number.append(res.resi)\n",
    "            coord.append(atom.coord)\n",
    "\n",
    "    df_atoms = pd.DataFrame(columns=['atom_number', 'atom_name', 'residue_name',\n",
    "                                   'residue_number', 'vector'])\n",
    "    df_atoms.atom_number = atom_number\n",
    "    df_atoms.atom_name = atom_name\n",
    "    df_atoms.residue_name = residue_name\n",
    "    df_atoms.residue_number = residue_number\n",
    "    df_atoms.vector = coord\n",
    "\n",
    "    return(df_atoms)\n",
    "\n",
    "\n",
    "# CREAR DF_atomos_CA #\n",
    "df_atoms1 = get_df_ca(pdb11)\n",
    "df_atoms2 = get_df_ca(pdb22)"
   ]
  },
  {
   "cell_type": "code",
   "execution_count": 7,
   "metadata": {},
   "outputs": [],
   "source": [
    "# se le pega la estructura secundaria al dataframe de los cliques\n",
    "# esto va a cambiar por que lo tiene que obtener del objeto residuo\n",
    "# ya se crea en ss1 y no cuesta reevaluar si es mejor desde el residuo\n",
    "# checar que es mas rapido si desde residuo o desde dataframe ss\n",
    "df_cliques1 = fc.paste_SS(ss1, df_cliques1, num_cliques = num_cliques)\n",
    "df_cliques2 = fc.paste_SS(ss2, df_cliques2, num_cliques = num_cliques)"
   ]
  },
  {
   "cell_type": "code",
   "execution_count": 8,
   "metadata": {},
   "outputs": [],
   "source": [
    "# comparacion SSM #aqui se obtienen los candidatos posibles pasando el filtro de SS\n",
    "candidatos_ss = fc.compare_SS(df_cliques1,df_cliques2, num_cliques=num_cliques)"
   ]
  },
  {
   "cell_type": "code",
   "execution_count": 9,
   "metadata": {},
   "outputs": [],
   "source": [
    "# get coords of cliques\n",
    "df_cliques1 = fc.get_coords_clique(df_atoms1, df_cliques1, num_cliques)\n",
    "df_cliques2 = fc.get_coords_clique(df_atoms2, df_cliques2, num_cliques)"
   ]
  },
  {
   "cell_type": "code",
   "execution_count": 10,
   "metadata": {},
   "outputs": [],
   "source": [
    "# baricentro clique\n",
    "df_cliques1 = fc.baricenter_clique(df_cliques1, num_cliques)\n",
    "df_cliques2 = fc.baricenter_clique(df_cliques2, num_cliques)"
   ]
  },
  {
   "cell_type": "code",
   "execution_count": 11,
   "metadata": {},
   "outputs": [],
   "source": [
    "# vectores gorro\n",
    "df_cliques1 = fc.center_vectors(df_cliques1, num_cliques)\n",
    "df_cliques2 = fc.center_vectors(df_cliques2, num_cliques)"
   ]
  },
  {
   "cell_type": "code",
   "execution_count": 12,
   "metadata": {},
   "outputs": [],
   "source": [
    "idx_rmsd1, idx_rmsd2 = 3*num_cliques, 4*num_cliques+3\n",
    "# print(list(range(idx_rmsd1,idx_rmsd2)))\n",
    "# se pasan a numpy arrays para mayor rapidez\n",
    "array_df_cliques1 = df_cliques1.values[:, range(idx_rmsd1, idx_rmsd2)] #del 9 al 15\n",
    "array_df_cliques2 = df_cliques2.values[:, range(idx_rmsd1, idx_rmsd2)]"
   ]
  },
  {
   "cell_type": "code",
   "execution_count": 13,
   "metadata": {},
   "outputs": [
    {
     "name": "stdout",
     "output_type": "stream",
     "text": [
      "1705808\n"
     ]
    }
   ],
   "source": [
    "#calculo del RMSD\n",
    "print(len(candidatos_ss))"
   ]
  },
  {
   "cell_type": "code",
   "execution_count": 14,
   "metadata": {},
   "outputs": [],
   "source": [
    "restriccion_rmsd = 0.15\n",
    "if num_cliques == 4:\n",
    "    restriccion_rmsd = 0.30\n",
    "if num_cliques == 5:\n",
    "    restriccion_rmsd = 0.60\n",
    "if num_cliques == 7:\n",
    "    restriccion_rmsd = 1.50\n",
    "if num_cliques == 8:\n",
    "    restriccion_rmsd = 1.80"
   ]
  },
  {
   "cell_type": "code",
   "execution_count": 15,
   "metadata": {},
   "outputs": [
    {
     "name": "stdout",
     "output_type": "stream",
     "text": [
      "numero de candidatos: 1705808\n",
      "CPU times: user 10.5 s, sys: 308 ms, total: 10.8 s\n",
      "Wall time: 1min 24s\n"
     ]
    },
    {
     "name": "stderr",
     "output_type": "stream",
     "text": [
      "Process ForkPoolWorker-3:\n",
      "Process ForkPoolWorker-1:\n",
      "Process ForkPoolWorker-4:\n",
      "Process ForkPoolWorker-2:\n",
      "Traceback (most recent call last):\n",
      "Traceback (most recent call last):\n",
      "  File \"/home/serch/anaconda3/lib/python3.7/multiprocessing/process.py\", line 297, in _bootstrap\n",
      "    self.run()\n",
      "  File \"/home/serch/anaconda3/lib/python3.7/multiprocessing/process.py\", line 99, in run\n",
      "    self._target(*self._args, **self._kwargs)\n",
      "  File \"/home/serch/anaconda3/lib/python3.7/multiprocessing/pool.py\", line 110, in worker\n",
      "    task = get()\n",
      "Traceback (most recent call last):\n",
      "  File \"/home/serch/anaconda3/lib/python3.7/multiprocessing/process.py\", line 297, in _bootstrap\n",
      "    self.run()\n",
      "  File \"/home/serch/anaconda3/lib/python3.7/multiprocessing/process.py\", line 297, in _bootstrap\n",
      "    self.run()\n",
      "  File \"/home/serch/anaconda3/lib/python3.7/multiprocessing/process.py\", line 99, in run\n",
      "    self._target(*self._args, **self._kwargs)\n",
      "  File \"/home/serch/anaconda3/lib/python3.7/multiprocessing/queues.py\", line 351, in get\n",
      "    with self._rlock:\n",
      "  File \"/home/serch/anaconda3/lib/python3.7/multiprocessing/synchronize.py\", line 96, in __enter__\n",
      "    return self._semlock.__enter__()\n",
      "  File \"/home/serch/anaconda3/lib/python3.7/multiprocessing/process.py\", line 99, in run\n",
      "    self._target(*self._args, **self._kwargs)\n",
      "KeyboardInterrupt\n",
      "Process ForkPoolWorker-5:\n",
      "Process ForkPoolWorker-6:\n",
      "  File \"/home/serch/anaconda3/lib/python3.7/multiprocessing/pool.py\", line 110, in worker\n",
      "    task = get()\n",
      "Traceback (most recent call last):\n",
      "  File \"/home/serch/anaconda3/lib/python3.7/multiprocessing/pool.py\", line 110, in worker\n",
      "    task = get()\n",
      "Traceback (most recent call last):\n",
      "  File \"/home/serch/anaconda3/lib/python3.7/multiprocessing/queues.py\", line 351, in get\n",
      "    with self._rlock:\n",
      "  File \"/home/serch/anaconda3/lib/python3.7/multiprocessing/synchronize.py\", line 96, in __enter__\n",
      "    return self._semlock.__enter__()\n",
      "Process ForkPoolWorker-7:\n",
      "  File \"/home/serch/anaconda3/lib/python3.7/multiprocessing/process.py\", line 297, in _bootstrap\n",
      "    self.run()\n",
      "  File \"/home/serch/anaconda3/lib/python3.7/multiprocessing/queues.py\", line 351, in get\n",
      "    with self._rlock:\n",
      "KeyboardInterrupt\n",
      "  File \"/home/serch/anaconda3/lib/python3.7/multiprocessing/process.py\", line 99, in run\n",
      "    self._target(*self._args, **self._kwargs)\n",
      "Process ForkPoolWorker-8:\n",
      "  File \"/home/serch/anaconda3/lib/python3.7/multiprocessing/synchronize.py\", line 96, in __enter__\n",
      "    return self._semlock.__enter__()\n",
      "  File \"/home/serch/anaconda3/lib/python3.7/multiprocessing/process.py\", line 297, in _bootstrap\n",
      "    self.run()\n",
      "Traceback (most recent call last):\n",
      "Traceback (most recent call last):\n",
      "  File \"/home/serch/anaconda3/lib/python3.7/multiprocessing/pool.py\", line 110, in worker\n",
      "    task = get()\n",
      "KeyboardInterrupt\n",
      "  File \"/home/serch/anaconda3/lib/python3.7/multiprocessing/process.py\", line 99, in run\n",
      "    self._target(*self._args, **self._kwargs)\n",
      "  File \"/home/serch/anaconda3/lib/python3.7/multiprocessing/process.py\", line 297, in _bootstrap\n",
      "    self.run()\n",
      "  File \"/home/serch/anaconda3/lib/python3.7/multiprocessing/queues.py\", line 351, in get\n",
      "    with self._rlock:\n",
      "  File \"/home/serch/anaconda3/lib/python3.7/multiprocessing/process.py\", line 297, in _bootstrap\n",
      "    self.run()\n",
      "  File \"/home/serch/anaconda3/lib/python3.7/multiprocessing/process.py\", line 99, in run\n",
      "    self._target(*self._args, **self._kwargs)\n",
      "  File \"/home/serch/anaconda3/lib/python3.7/multiprocessing/pool.py\", line 110, in worker\n",
      "    task = get()\n",
      "  File \"/home/serch/anaconda3/lib/python3.7/multiprocessing/process.py\", line 99, in run\n",
      "    self._target(*self._args, **self._kwargs)\n",
      "Traceback (most recent call last):\n",
      "  File \"/home/serch/anaconda3/lib/python3.7/multiprocessing/pool.py\", line 110, in worker\n",
      "    task = get()\n",
      "  File \"/home/serch/anaconda3/lib/python3.7/multiprocessing/queues.py\", line 351, in get\n",
      "    with self._rlock:\n",
      "  File \"/home/serch/anaconda3/lib/python3.7/multiprocessing/synchronize.py\", line 96, in __enter__\n",
      "    return self._semlock.__enter__()\n",
      "KeyboardInterrupt\n",
      "  File \"/home/serch/anaconda3/lib/python3.7/multiprocessing/pool.py\", line 110, in worker\n",
      "    task = get()\n",
      "  File \"/home/serch/anaconda3/lib/python3.7/multiprocessing/process.py\", line 297, in _bootstrap\n",
      "    self.run()\n",
      "  File \"/home/serch/anaconda3/lib/python3.7/multiprocessing/queues.py\", line 351, in get\n",
      "    with self._rlock:\n",
      "  File \"/home/serch/anaconda3/lib/python3.7/multiprocessing/synchronize.py\", line 96, in __enter__\n",
      "    return self._semlock.__enter__()\n",
      "  File \"/home/serch/anaconda3/lib/python3.7/multiprocessing/queues.py\", line 351, in get\n",
      "    with self._rlock:\n",
      "  File \"/home/serch/anaconda3/lib/python3.7/multiprocessing/synchronize.py\", line 96, in __enter__\n",
      "    return self._semlock.__enter__()\n",
      "KeyboardInterrupt\n",
      "  File \"/home/serch/anaconda3/lib/python3.7/multiprocessing/process.py\", line 99, in run\n",
      "    self._target(*self._args, **self._kwargs)\n",
      "KeyboardInterrupt\n",
      "  File \"/home/serch/anaconda3/lib/python3.7/multiprocessing/synchronize.py\", line 96, in __enter__\n",
      "    return self._semlock.__enter__()\n",
      "  File \"/home/serch/anaconda3/lib/python3.7/multiprocessing/pool.py\", line 110, in worker\n",
      "    task = get()\n",
      "  File \"/home/serch/anaconda3/lib/python3.7/multiprocessing/queues.py\", line 352, in get\n",
      "    res = self._reader.recv_bytes()\n",
      "KeyboardInterrupt\n",
      "  File \"/home/serch/anaconda3/lib/python3.7/multiprocessing/connection.py\", line 216, in recv_bytes\n",
      "    buf = self._recv_bytes(maxlength)\n",
      "  File \"/home/serch/anaconda3/lib/python3.7/multiprocessing/connection.py\", line 407, in _recv_bytes\n",
      "    buf = self._recv(4)\n",
      "  File \"/home/serch/anaconda3/lib/python3.7/multiprocessing/connection.py\", line 379, in _recv\n",
      "    chunk = read(handle, remaining)\n",
      "KeyboardInterrupt\n"
     ]
    }
   ],
   "source": [
    "%%time\n",
    "p = multiprocessing.Pool()\n",
    "rmsd_1 = p.map(partial(fc.calculate_rmsd_rot_trans_m,  \n",
    "                    array_cliques1 = array_df_cliques1, \n",
    "                    array_cliques2 = array_df_cliques2, \n",
    "                    num_cliques = num_cliques), candidatos_ss)\n",
    "\n",
    "print('numero de candidatos:', len(rmsd_1))"
   ]
  },
  {
   "cell_type": "markdown",
   "metadata": {},
   "source": [
    "### Analisis de RMSD para saber donde esta el minimo"
   ]
  },
  {
   "cell_type": "code",
   "execution_count": 16,
   "metadata": {},
   "outputs": [
    {
     "data": {
      "text/plain": [
       "6907"
      ]
     },
     "execution_count": 16,
     "metadata": {},
     "output_type": "execute_result"
    }
   ],
   "source": [
    "rmsd_candidatos = pd.DataFrame(rmsd_1)\n",
    "rmsd_candidatos = rmsd_candidatos[rmsd_candidatos[0] <= restriccion_rmsd]\n",
    "rmsd_candidatos.columns = ['rmsd','index_candidatos']\n",
    "rmsd_candidatos.rmsd.count()"
   ]
  },
  {
   "cell_type": "code",
   "execution_count": 17,
   "metadata": {},
   "outputs": [],
   "source": [
    "serie_rmsd = rmsd_candidatos.rmsd\n",
    "q5 = serie_rmsd.quantile(0.05)\n",
    "q10 = serie_rmsd.quantile(0.1)\n",
    "q20 = serie_rmsd.quantile(0.2)\n",
    "\n",
    "q5count = serie_rmsd[serie_rmsd <=q5].count()\n",
    "q10count = serie_rmsd[serie_rmsd <=q10].count()\n",
    "q20count = serie_rmsd[serie_rmsd <=q20].count()\n"
   ]
  },
  {
   "cell_type": "code",
   "execution_count": 18,
   "metadata": {},
   "outputs": [
    {
     "data": {
      "image/png": "[encoded data removed]",
      "text/plain": [
       "<Figure size 720x360 with 1 Axes>"
      ]
     },
     "metadata": {
      "needs_background": "light"
     },
     "output_type": "display_data"
    }
   ],
   "source": [
    "serie_rmsd.hist(bins=70,figsize = (10,5))\n",
    "plt.title('''Distribucion de rmsd de candidatos despues de comparacion \n",
    "          para encontrar corte optimo de las proteinas 1xxa y 1tig''', color='w',fontsize= 20)\n",
    "plt.vlines(q5,0,300)\n",
    "plt.text(q5-0.005,310,'Q5', fontsize=20)\n",
    "plt.text(q5-0.004, 200,q5count, fontsize=16,rotation=90)\n",
    "plt.vlines(q10,0,300, color = 'b')\n",
    "plt.text(q10-0.005,310,'Q10',color = 'b',fontsize=20)\n",
    "plt.text(q10-0.004, 200,q10count, fontsize=16,rotation=90, color='b')\n",
    "plt.vlines(q20,0,300, color ='g')\n",
    "plt.text(q20-0.005,310,'Q20',color = 'g',fontsize=20)\n",
    "plt.text(q20-0.004, 200,q20count, fontsize=16,rotation=90,color='g')\n",
    "plt.xlabel('RMSD', color='w')\n",
    "plt.savefig('distribucion_rmsd.jpg')"
   ]
  },
  {
   "cell_type": "code",
   "execution_count": 19,
   "metadata": {},
   "outputs": [
    {
     "data": {
      "text/html": [
       "<div>\n",
       "<style scoped>\n",
       "    .dataframe tbody tr th:only-of-type {\n",
       "        vertical-align: middle;\n",
       "    }\n",
       "\n",
       "    .dataframe tbody tr th {\n",
       "        vertical-align: top;\n",
       "    }\n",
       "\n",
       "    .dataframe thead th {\n",
       "        text-align: right;\n",
       "    }\n",
       "</style>\n",
       "<table border=\"1\" class=\"dataframe\">\n",
       "  <thead>\n",
       "    <tr style=\"text-align: right;\">\n",
       "      <th></th>\n",
       "      <th>rmsd</th>\n",
       "    </tr>\n",
       "  </thead>\n",
       "  <tbody>\n",
       "    <tr>\n",
       "      <th>count</th>\n",
       "      <td>6907.00000</td>\n",
       "    </tr>\n",
       "    <tr>\n",
       "      <th>mean</th>\n",
       "      <td>0.11314</td>\n",
       "    </tr>\n",
       "    <tr>\n",
       "      <th>std</th>\n",
       "      <td>0.03040</td>\n",
       "    </tr>\n",
       "    <tr>\n",
       "      <th>min</th>\n",
       "      <td>0.00648</td>\n",
       "    </tr>\n",
       "    <tr>\n",
       "      <th>25%</th>\n",
       "      <td>0.09610</td>\n",
       "    </tr>\n",
       "    <tr>\n",
       "      <th>50%</th>\n",
       "      <td>0.12134</td>\n",
       "    </tr>\n",
       "    <tr>\n",
       "      <th>75%</th>\n",
       "      <td>0.13724</td>\n",
       "    </tr>\n",
       "    <tr>\n",
       "      <th>max</th>\n",
       "      <td>0.15000</td>\n",
       "    </tr>\n",
       "  </tbody>\n",
       "</table>\n",
       "</div>"
      ],
      "text/plain": [
       "            rmsd\n",
       "count 6907.00000\n",
       "mean  0.11314   \n",
       "std   0.03040   \n",
       "min   0.00648   \n",
       "25%   0.09610   \n",
       "50%   0.12134   \n",
       "75%   0.13724   \n",
       "max   0.15000   "
      ]
     },
     "execution_count": 19,
     "metadata": {},
     "output_type": "execute_result"
    }
   ],
   "source": [
    "rmsd_candidatos.describe()"
   ]
  },
  {
   "cell_type": "code",
   "execution_count": 20,
   "metadata": {},
   "outputs": [],
   "source": [
    "rmsd_candidatos['cand1'] = rmsd_candidatos.index_candidatos.str[0]\n",
    "rmsd_candidatos['cand2'] = rmsd_candidatos.index_candidatos.str[1]"
   ]
  },
  {
   "cell_type": "code",
   "execution_count": 21,
   "metadata": {},
   "outputs": [],
   "source": [
    "agrupado = rmsd_candidatos.groupby('cand1').count()\n",
    "agrupado_a = agrupado.index[agrupado.rmsd < 3]"
   ]
  },
  {
   "cell_type": "code",
   "execution_count": 22,
   "metadata": {},
   "outputs": [
    {
     "data": {
      "text/plain": [
       "count   408.00000\n",
       "mean    0.11885  \n",
       "std     0.02672  \n",
       "min     0.03645  \n",
       "25%     0.10664  \n",
       "50%     0.12557  \n",
       "75%     0.13924  \n",
       "max     0.14995  \n",
       "Name: rmsd, dtype: float64"
      ]
     },
     "execution_count": 22,
     "metadata": {},
     "output_type": "execute_result"
    }
   ],
   "source": [
    "rmsd_candidatos[rmsd_candidatos.cand1.isin(agrupado_a)].rmsd.describe()"
   ]
  },
  {
   "cell_type": "code",
   "execution_count": 23,
   "metadata": {},
   "outputs": [
    {
     "data": {
      "text/plain": [
       "<matplotlib.axes._subplots.AxesSubplot at 0x7f911f5decc0>"
      ]
     },
     "execution_count": 23,
     "metadata": {},
     "output_type": "execute_result"
    },
    {
     "data": {
      "image/png": "[encoded data removed]",
      "text/plain": [
       "<Figure size 432x288 with 1 Axes>"
      ]
     },
     "metadata": {
      "needs_background": "light"
     },
     "output_type": "display_data"
    }
   ],
   "source": [
    "rmsd_candidatos[rmsd_candidatos.cand1.isin(agrupado_a)].rmsd.hist(bins=50)"
   ]
  },
  {
   "cell_type": "code",
   "execution_count": 24,
   "metadata": {},
   "outputs": [],
   "source": [
    "candidatos_rmsd = rmsd_candidatos[rmsd_candidatos.cand1.isin(agrupado_a)]"
   ]
  },
  {
   "cell_type": "code",
   "execution_count": 25,
   "metadata": {},
   "outputs": [
    {
     "data": {
      "text/plain": [
       "Text(0.5,0,'RMSD')"
      ]
     },
     "execution_count": 25,
     "metadata": {},
     "output_type": "execute_result"
    },
    {
     "data": {
      "image/png": "[encoded data removed]",
      "text/plain": [
       "<Figure size 720x360 with 1 Axes>"
      ]
     },
     "metadata": {
      "needs_background": "light"
     },
     "output_type": "display_data"
    }
   ],
   "source": [
    "serie_rmsd.hist(bins=70,figsize = (10,5),alpha=0.2)\n",
    "candidatos_rmsd.rmsd.hist(bins=100)\n",
    "plt.title(\"\"\"Comparacion de histogramas entre el general y los \n",
    "                candidatos que solo se acoplan con a lo mas 2 candidatos\"\"\", color='w', fontsize = 18)\n",
    "plt.ylim(0,20)\n",
    "plt.xlabel('RMSD', fontsize = 16, color= 'w')"
   ]
  },
  {
   "cell_type": "markdown",
   "metadata": {},
   "source": [
    "## Analisis de distancia promedio minima (Esfera promedio)\n",
    "\n",
    "Obtener el rango de la diferencia de distancia sea adecuado para encontrar cnadidatos"
   ]
  },
  {
   "cell_type": "code",
   "execution_count": 26,
   "metadata": {},
   "outputs": [
    {
     "name": "stdout",
     "output_type": "stream",
     "text": [
      "1705808\n"
     ]
    }
   ],
   "source": [
    "from scipy.spatial import distance\n",
    "a = (0,0,0)\n",
    "\n",
    "df_cliques1['distancia_promedio'] = [np.mean([distance.euclidean(a, i[0]),distance.euclidean(a, i[1]),distance.euclidean(a, i[2])]) for i in df_cliques1.vectores_gorro]\n",
    "df_cliques2['distancia_promedio'] = [np.mean([distance.euclidean(a, i[0]),distance.euclidean(a, i[1]),distance.euclidean(a, i[2])]) for i in df_cliques2.vectores_gorro]\n",
    "\n",
    "array_dist_promedio1 = df_cliques1.values[:, 15] #del 9 al 15\n",
    "array_dist_promedio2 = df_cliques2.values[:, 15]\n",
    "\n",
    "diff_distancia = [array_dist_promedio1[i] - array_dist_promedio2[j] for i,j in candidatos_ss]\n",
    "print(len(diff_distancia))"
   ]
  },
  {
   "cell_type": "code",
   "execution_count": 27,
   "metadata": {},
   "outputs": [
    {
     "data": {
      "text/plain": [
       "<matplotlib.axes._subplots.AxesSubplot at 0x7f91257f8668>"
      ]
     },
     "execution_count": 27,
     "metadata": {},
     "output_type": "execute_result"
    },
    {
     "data": {
      "image/png": "[encoded data removed]",
      "text/plain": [
       "<Figure size 432x288 with 1 Axes>"
      ]
     },
     "metadata": {
      "needs_background": "light"
     },
     "output_type": "display_data"
    }
   ],
   "source": [
    "f1 = pd.DataFrame(rmsd_1)\n",
    "f1['diff_distance'] = diff_distancia\n",
    "f1.columns = ['rmsd','candidatos','diff_distancia']\n",
    "f1['cumple'] = np.where(f1.rmsd <= restriccion_rmsd,1,0)\n",
    "f1.groupby('cumple').diff_distancia.mean().plot.bar(rot = 0,title='Distancia promedio entre los que cumplen y los que no')\n"
   ]
  },
  {
   "cell_type": "code",
   "execution_count": 28,
   "metadata": {},
   "outputs": [
    {
     "data": {
      "text/html": [
       "<div>\n",
       "<style scoped>\n",
       "    .dataframe tbody tr th:only-of-type {\n",
       "        vertical-align: middle;\n",
       "    }\n",
       "\n",
       "    .dataframe tbody tr th {\n",
       "        vertical-align: top;\n",
       "    }\n",
       "\n",
       "    .dataframe thead th {\n",
       "        text-align: right;\n",
       "    }\n",
       "</style>\n",
       "<table border=\"1\" class=\"dataframe\">\n",
       "  <thead>\n",
       "    <tr style=\"text-align: right;\">\n",
       "      <th>cumple</th>\n",
       "      <th>0</th>\n",
       "      <th>1</th>\n",
       "    </tr>\n",
       "  </thead>\n",
       "  <tbody>\n",
       "    <tr>\n",
       "      <th>count</th>\n",
       "      <td>1698901.00000</td>\n",
       "      <td>6907.00000</td>\n",
       "    </tr>\n",
       "    <tr>\n",
       "      <th>mean</th>\n",
       "      <td>0.85053</td>\n",
       "      <td>-0.00603</td>\n",
       "    </tr>\n",
       "    <tr>\n",
       "      <th>std</th>\n",
       "      <td>2.53168</td>\n",
       "      <td>0.18670</td>\n",
       "    </tr>\n",
       "    <tr>\n",
       "      <th>min</th>\n",
       "      <td>-6.59739</td>\n",
       "      <td>-0.43448</td>\n",
       "    </tr>\n",
       "    <tr>\n",
       "      <th>25%</th>\n",
       "      <td>-0.99927</td>\n",
       "      <td>-0.13911</td>\n",
       "    </tr>\n",
       "    <tr>\n",
       "      <th>50%</th>\n",
       "      <td>0.56545</td>\n",
       "      <td>-0.00890</td>\n",
       "    </tr>\n",
       "    <tr>\n",
       "      <th>75%</th>\n",
       "      <td>2.78687</td>\n",
       "      <td>0.12369</td>\n",
       "    </tr>\n",
       "    <tr>\n",
       "      <th>max</th>\n",
       "      <td>9.48316</td>\n",
       "      <td>0.43953</td>\n",
       "    </tr>\n",
       "  </tbody>\n",
       "</table>\n",
       "</div>"
      ],
      "text/plain": [
       "cumple             0          1\n",
       "count  1698901.00000 6907.00000\n",
       "mean   0.85053       -0.00603  \n",
       "std    2.53168       0.18670   \n",
       "min    -6.59739      -0.43448  \n",
       "25%    -0.99927      -0.13911  \n",
       "50%    0.56545       -0.00890  \n",
       "75%    2.78687       0.12369   \n",
       "max    9.48316       0.43953   "
      ]
     },
     "execution_count": 28,
     "metadata": {},
     "output_type": "execute_result"
    }
   ],
   "source": [
    "f1.groupby('cumple').diff_distancia.describe().T"
   ]
  },
  {
   "cell_type": "code",
   "execution_count": 29,
   "metadata": {},
   "outputs": [
    {
     "data": {
      "text/plain": [
       "<matplotlib.axes._subplots.AxesSubplot at 0x7f911fd49ef0>"
      ]
     },
     "execution_count": 29,
     "metadata": {},
     "output_type": "execute_result"
    },
    {
     "data": {
      "image/png": "[encoded data removed]",
      "text/plain": [
       "<Figure size 432x288 with 1 Axes>"
      ]
     },
     "metadata": {
      "needs_background": "light"
     },
     "output_type": "display_data"
    }
   ],
   "source": [
    "sns.boxplot(x=\"cumple\", y=\"diff_distancia\",data=f1)"
   ]
  },
  {
   "cell_type": "code",
   "execution_count": 30,
   "metadata": {},
   "outputs": [
    {
     "data": {
      "text/plain": [
       "cumple\n",
       "0    273733\n",
       "1    6907  \n",
       "Name: rmsd, dtype: int64"
      ]
     },
     "execution_count": 30,
     "metadata": {},
     "output_type": "execute_result"
    }
   ],
   "source": [
    "limit = 0.5\n",
    "f1[(f1.diff_distancia > -limit) & (f1.diff_distancia < limit)].groupby('cumple').rmsd.count()"
   ]
  },
  {
   "cell_type": "markdown",
   "metadata": {},
   "source": [
    "--------------------"
   ]
  },
  {
   "cell_type": "markdown",
   "metadata": {},
   "source": [
    "## Proteinas 1phr vs 1tig"
   ]
  },
  {
   "cell_type": "code",
   "execution_count": 31,
   "metadata": {},
   "outputs": [],
   "source": [
    "# assert( len(sys.argv) > 1)\n",
    "# lectura de archivo\n",
    "file1 = '1phr.pdb' # sys.argv[1]\n",
    "file2 = '1tig.pdb' # sys.argv[2]\n",
    "\n",
    "# numero de cliques, preguntar en el software para generalizarlo...\n",
    "num_cliques = 3\n",
    "\n",
    "# se define la estructura\n",
    "pdb1 = rpt.PdbStruct(\"first\")\n",
    "pdb2 = rpt.PdbStruct(\"second\")\n",
    "\n",
    "# se lee el pdb y se agrega al objeto\n",
    "pdb1.AddPdbData(\"%s\" % file1)\n",
    "pdb2.AddPdbData(\"%s\" % file2)\n",
    "\n",
    "# se obtienen los residuos que perteneces a la cadena de interes por default chain = 'A'\n",
    "pdb11 = pdb1.GetResChain()\n",
    "pdb22 = pdb2.GetResChain()\n",
    "\n",
    "ss1 = pdb1.Get_SS(file1)\n",
    "ss2 = pdb1.Get_SS(file2)"
   ]
  },
  {
   "cell_type": "code",
   "execution_count": 32,
   "metadata": {},
   "outputs": [],
   "source": [
    "# se crea atributo a cada residuo\n",
    "for i, j in zip(pdb11, ss1.structure.values):\n",
    "    setattr(i, 'structure', j)\n",
    "for i, j in zip(pdb22, ss2.structure.values):\n",
    "    setattr(i, 'structure', j)"
   ]
  },
  {
   "cell_type": "code",
   "execution_count": 33,
   "metadata": {},
   "outputs": [],
   "source": [
    "def get_df_distancias(ref):\n",
    "    \"\"\"Funcion para obtener el dataframe de distancias de cada proteina\"\"\"\n",
    "    # se generan listas con coordenadas y numero de atomo\n",
    "    coord = [res.GetAtom('CA').coord for res in ref]\n",
    "    index = [res.resi for res in ref]\n",
    "\n",
    "    # calcula distancia y regresa dataframe\n",
    "    distancias = []\n",
    "    # se calcula la distancia euclidiana entre cada atomo de carbon alfalfa\n",
    "    for v in coord:\n",
    "        distancia_un_atomo = []\n",
    "        for av in coord:\n",
    "            distancia = pdist(np.array([v, av]), metric='euclidean').item()\n",
    "            distancia_un_atomo.append(distancia)\n",
    "        distancias.append(distancia_un_atomo)\n",
    "\n",
    "    # se genera la matriz de adyacencias para la red\n",
    "    df_da = pd.DataFrame(index=index, columns=index, data=distancias)\n",
    "    return(df_da, index)\n",
    "\n",
    "\n",
    "df_distancias1, index1 = get_df_distancias(pdb11)\n",
    "df_distancias2, index2 = get_df_distancias(pdb22)"
   ]
  },
  {
   "cell_type": "code",
   "execution_count": 34,
   "metadata": {},
   "outputs": [
    {
     "name": "stdout",
     "output_type": "stream",
     "text": [
      "numero de cliques maximos encontrados: 419\n",
      "numero de 3-cliques posibles: 4480\n",
      "****************************************************************************************************\n",
      "numero de cliques maximos encontrados: 246\n",
      "numero de 3-cliques posibles: 2102\n",
      "****************************************************************************************************\n"
     ]
    }
   ],
   "source": [
    "# se generan cliques, tte devuleve dataframe con cliques de 3 y la lista de cliques sin partir\n",
    "df_cliques1, cliques1 = fc.gen_3_cliques(df_distancias1, dth=10, k=num_cliques)\n",
    "print('**'*50)\n",
    "df_cliques2, cliques2 = fc.gen_3_cliques(df_distancias2, dth=10, k=num_cliques)\n",
    "print('**'*50)"
   ]
  },
  {
   "cell_type": "code",
   "execution_count": 35,
   "metadata": {},
   "outputs": [],
   "source": [
    "def get_df_ca(list_of_residues):\n",
    "    \"\"\"Genera dataframe con la informacion necesaria para las siguientes funciones\n",
    "    FALTA DOCUMENTAR ESTA COSA!!!!\"\"\"\n",
    "    #crear df_ca\n",
    "    atom_number = []\n",
    "    atom_name = []\n",
    "    residue_name = []\n",
    "    residue_number = []\n",
    "    coord = []\n",
    "    for res in list_of_residues:\n",
    "        for atom in res.atoms:\n",
    "            atom_number.append(atom.atom_number)\n",
    "            atom_name.append(atom.name)\n",
    "            residue_name.append(res.resn)\n",
    "            residue_number.append(res.resi)\n",
    "            coord.append(atom.coord)\n",
    "\n",
    "    df_atoms = pd.DataFrame(columns=['atom_number', 'atom_name', 'residue_name',\n",
    "                                   'residue_number', 'vector'])\n",
    "    df_atoms.atom_number = atom_number\n",
    "    df_atoms.atom_name = atom_name\n",
    "    df_atoms.residue_name = residue_name\n",
    "    df_atoms.residue_number = residue_number\n",
    "    df_atoms.vector = coord\n",
    "\n",
    "    return(df_atoms)\n",
    "\n",
    "\n",
    "# CREAR DF_atomos_CA #\n",
    "df_atoms1 = get_df_ca(pdb11)\n",
    "df_atoms2 = get_df_ca(pdb22)"
   ]
  },
  {
   "cell_type": "code",
   "execution_count": 36,
   "metadata": {},
   "outputs": [],
   "source": [
    "# se le pega la estructura secundaria al dataframe de los cliques\n",
    "# esto va a cambiar por que lo tiene que obtener del objeto residuo\n",
    "# ya se crea en ss1 y no cuesta reevaluar si es mejor desde el residuo\n",
    "# checar que es mas rapido si desde residuo o desde dataframe ss\n",
    "df_cliques1 = fc.paste_SS(ss1, df_cliques1, num_cliques = num_cliques)\n",
    "df_cliques2 = fc.paste_SS(ss2, df_cliques2, num_cliques = num_cliques)"
   ]
  },
  {
   "cell_type": "code",
   "execution_count": 37,
   "metadata": {},
   "outputs": [],
   "source": [
    "# comparacion SSM #aqui se obtienen los candidatos posibles pasando el filtro de SS\n",
    "candidatos_ss = fc.compare_SS(df_cliques1,df_cliques2, num_cliques=num_cliques)"
   ]
  },
  {
   "cell_type": "code",
   "execution_count": 38,
   "metadata": {},
   "outputs": [],
   "source": [
    "# get coords of cliques\n",
    "df_cliques1 = fc.get_coords_clique(df_atoms1, df_cliques1, num_cliques)\n",
    "df_cliques2 = fc.get_coords_clique(df_atoms2, df_cliques2, num_cliques)"
   ]
  },
  {
   "cell_type": "code",
   "execution_count": 39,
   "metadata": {},
   "outputs": [],
   "source": [
    "# baricentro clique\n",
    "df_cliques1 = fc.baricenter_clique(df_cliques1, num_cliques)\n",
    "df_cliques2 = fc.baricenter_clique(df_cliques2, num_cliques)"
   ]
  },
  {
   "cell_type": "code",
   "execution_count": 40,
   "metadata": {},
   "outputs": [],
   "source": [
    "# vectores gorro\n",
    "df_cliques1 = fc.center_vectors(df_cliques1, num_cliques)\n",
    "df_cliques2 = fc.center_vectors(df_cliques2, num_cliques)"
   ]
  },
  {
   "cell_type": "code",
   "execution_count": 41,
   "metadata": {},
   "outputs": [],
   "source": [
    "idx_rmsd1, idx_rmsd2 = 3*num_cliques, 4*num_cliques+3\n",
    "# print(list(range(idx_rmsd1,idx_rmsd2)))\n",
    "# se pasan a numpy arrays para mayor rapidez\n",
    "array_df_cliques1 = df_cliques1.values[:, range(idx_rmsd1, idx_rmsd2)] #del 9 al 15\n",
    "array_df_cliques2 = df_cliques2.values[:, range(idx_rmsd1, idx_rmsd2)]"
   ]
  },
  {
   "cell_type": "code",
   "execution_count": 42,
   "metadata": {},
   "outputs": [
    {
     "name": "stdout",
     "output_type": "stream",
     "text": [
      "4409669\n"
     ]
    }
   ],
   "source": [
    "#calculo del RMSD\n",
    "print(len(candidatos_ss))"
   ]
  },
  {
   "cell_type": "code",
   "execution_count": 43,
   "metadata": {},
   "outputs": [],
   "source": [
    "restriccion_rmsd = 0.15\n",
    "if num_cliques == 4:\n",
    "    restriccion_rmsd = 0.30\n",
    "if num_cliques == 5:\n",
    "    restriccion_rmsd = 0.60\n",
    "if num_cliques == 7:\n",
    "    restriccion_rmsd = 1.50\n",
    "if num_cliques == 8:\n",
    "    restriccion_rmsd = 1.80"
   ]
  },
  {
   "cell_type": "code",
   "execution_count": 44,
   "metadata": {},
   "outputs": [
    {
     "name": "stdout",
     "output_type": "stream",
     "text": [
      "numero de candidatos: 4409669\n",
      "CPU times: user 18.6 s, sys: 745 ms, total: 19.4 s\n",
      "Wall time: 3min 47s\n"
     ]
    },
    {
     "name": "stderr",
     "output_type": "stream",
     "text": [
      "Process ForkPoolWorker-10:\n",
      "Process ForkPoolWorker-15:\n",
      "Process ForkPoolWorker-14:\n",
      "Process ForkPoolWorker-13:\n",
      "Process ForkPoolWorker-12:\n",
      "Process ForkPoolWorker-11:\n",
      "Process ForkPoolWorker-9:\n",
      "Traceback (most recent call last):\n",
      "Traceback (most recent call last):\n",
      "Traceback (most recent call last):\n",
      "  File \"/home/serch/anaconda3/lib/python3.7/multiprocessing/process.py\", line 297, in _bootstrap\n",
      "    self.run()\n",
      "Traceback (most recent call last):\n",
      "Traceback (most recent call last):\n",
      "  File \"/home/serch/anaconda3/lib/python3.7/multiprocessing/process.py\", line 99, in run\n",
      "    self._target(*self._args, **self._kwargs)\n",
      "Traceback (most recent call last):\n",
      "  File \"/home/serch/anaconda3/lib/python3.7/multiprocessing/process.py\", line 297, in _bootstrap\n",
      "    self.run()\n",
      "  File \"/home/serch/anaconda3/lib/python3.7/multiprocessing/process.py\", line 297, in _bootstrap\n",
      "    self.run()\n",
      "  File \"/home/serch/anaconda3/lib/python3.7/multiprocessing/process.py\", line 99, in run\n",
      "    self._target(*self._args, **self._kwargs)\n",
      "  File \"/home/serch/anaconda3/lib/python3.7/multiprocessing/process.py\", line 297, in _bootstrap\n",
      "    self.run()\n",
      "  File \"/home/serch/anaconda3/lib/python3.7/multiprocessing/pool.py\", line 110, in worker\n",
      "    task = get()\n",
      "  File \"/home/serch/anaconda3/lib/python3.7/multiprocessing/process.py\", line 99, in run\n",
      "    self._target(*self._args, **self._kwargs)\n",
      "  File \"/home/serch/anaconda3/lib/python3.7/multiprocessing/pool.py\", line 110, in worker\n",
      "    task = get()\n",
      "  File \"/home/serch/anaconda3/lib/python3.7/multiprocessing/pool.py\", line 110, in worker\n",
      "    task = get()\n",
      "  File \"/home/serch/anaconda3/lib/python3.7/multiprocessing/process.py\", line 297, in _bootstrap\n",
      "    self.run()\n",
      "  File \"/home/serch/anaconda3/lib/python3.7/multiprocessing/queues.py\", line 351, in get\n",
      "    with self._rlock:\n",
      "  File \"/home/serch/anaconda3/lib/python3.7/multiprocessing/process.py\", line 99, in run\n",
      "    self._target(*self._args, **self._kwargs)\n",
      "  File \"/home/serch/anaconda3/lib/python3.7/multiprocessing/process.py\", line 297, in _bootstrap\n",
      "    self.run()\n",
      "  File \"/home/serch/anaconda3/lib/python3.7/multiprocessing/queues.py\", line 351, in get\n",
      "    with self._rlock:\n",
      "  File \"/home/serch/anaconda3/lib/python3.7/multiprocessing/process.py\", line 99, in run\n",
      "    self._target(*self._args, **self._kwargs)\n",
      "  File \"/home/serch/anaconda3/lib/python3.7/multiprocessing/queues.py\", line 351, in get\n",
      "    with self._rlock:\n",
      "  File \"/home/serch/anaconda3/lib/python3.7/multiprocessing/synchronize.py\", line 96, in __enter__\n",
      "    return self._semlock.__enter__()\n",
      "  File \"/home/serch/anaconda3/lib/python3.7/multiprocessing/pool.py\", line 110, in worker\n",
      "    task = get()\n",
      "  File \"/home/serch/anaconda3/lib/python3.7/multiprocessing/process.py\", line 99, in run\n",
      "    self._target(*self._args, **self._kwargs)\n",
      "  File \"/home/serch/anaconda3/lib/python3.7/multiprocessing/queues.py\", line 351, in get\n",
      "    with self._rlock:\n",
      "  File \"/home/serch/anaconda3/lib/python3.7/multiprocessing/synchronize.py\", line 96, in __enter__\n",
      "    return self._semlock.__enter__()\n",
      "KeyboardInterrupt\n",
      "  File \"/home/serch/anaconda3/lib/python3.7/multiprocessing/pool.py\", line 110, in worker\n",
      "    task = get()\n",
      "  File \"/home/serch/anaconda3/lib/python3.7/multiprocessing/queues.py\", line 351, in get\n",
      "    with self._rlock:\n",
      "KeyboardInterrupt\n",
      "  File \"/home/serch/anaconda3/lib/python3.7/multiprocessing/synchronize.py\", line 96, in __enter__\n",
      "    return self._semlock.__enter__()\n",
      "  File \"/home/serch/anaconda3/lib/python3.7/multiprocessing/pool.py\", line 110, in worker\n",
      "    task = get()\n",
      "  File \"/home/serch/anaconda3/lib/python3.7/multiprocessing/synchronize.py\", line 96, in __enter__\n",
      "    return self._semlock.__enter__()\n",
      "KeyboardInterrupt\n",
      "KeyboardInterrupt\n",
      "  File \"/home/serch/anaconda3/lib/python3.7/multiprocessing/queues.py\", line 351, in get\n",
      "    with self._rlock:\n",
      "  File \"/home/serch/anaconda3/lib/python3.7/multiprocessing/synchronize.py\", line 96, in __enter__\n",
      "    return self._semlock.__enter__()\n",
      "KeyboardInterrupt\n",
      "  File \"/home/serch/anaconda3/lib/python3.7/multiprocessing/synchronize.py\", line 96, in __enter__\n",
      "    return self._semlock.__enter__()\n",
      "Traceback (most recent call last):\n",
      "  File \"/home/serch/anaconda3/lib/python3.7/multiprocessing/process.py\", line 297, in _bootstrap\n",
      "    self.run()\n",
      "  File \"/home/serch/anaconda3/lib/python3.7/multiprocessing/process.py\", line 99, in run\n",
      "    self._target(*self._args, **self._kwargs)\n",
      "  File \"/home/serch/anaconda3/lib/python3.7/multiprocessing/pool.py\", line 110, in worker\n",
      "    task = get()\n",
      "KeyboardInterrupt\n",
      "  File \"/home/serch/anaconda3/lib/python3.7/multiprocessing/queues.py\", line 352, in get\n",
      "    res = self._reader.recv_bytes()\n",
      "  File \"/home/serch/anaconda3/lib/python3.7/multiprocessing/connection.py\", line 216, in recv_bytes\n",
      "    buf = self._recv_bytes(maxlength)\n",
      "  File \"/home/serch/anaconda3/lib/python3.7/multiprocessing/connection.py\", line 407, in _recv_bytes\n",
      "    buf = self._recv(4)\n",
      "  File \"/home/serch/anaconda3/lib/python3.7/multiprocessing/connection.py\", line 379, in _recv\n",
      "    chunk = read(handle, remaining)\n",
      "KeyboardInterrupt\n"
     ]
    }
   ],
   "source": [
    "%%time\n",
    "p = multiprocessing.Pool(multiprocessing.cpu_count() -1)\n",
    "rmsd_1 = p.map(partial(fc.calculate_rmsd_rot_trans_m,  \n",
    "                    array_cliques1 = array_df_cliques1, \n",
    "                    array_cliques2 = array_df_cliques2, \n",
    "                    num_cliques = num_cliques), candidatos_ss)\n",
    "\n",
    "print('numero de candidatos:', len(rmsd_1))"
   ]
  },
  {
   "cell_type": "markdown",
   "metadata": {},
   "source": [
    "### Analisis de RMSD para saber donde esta el minimo"
   ]
  },
  {
   "cell_type": "code",
   "execution_count": 45,
   "metadata": {},
   "outputs": [
    {
     "data": {
      "text/plain": [
       "17822"
      ]
     },
     "execution_count": 45,
     "metadata": {},
     "output_type": "execute_result"
    }
   ],
   "source": [
    "rmsd_candidatos = pd.DataFrame(rmsd_1)\n",
    "rmsd_candidatos = rmsd_candidatos[rmsd_candidatos[0] <= restriccion_rmsd]\n",
    "rmsd_candidatos.columns = ['rmsd','index_candidatos']\n",
    "rmsd_candidatos.rmsd.count()"
   ]
  },
  {
   "cell_type": "code",
   "execution_count": 46,
   "metadata": {},
   "outputs": [],
   "source": [
    "serie_rmsd = rmsd_candidatos.rmsd\n",
    "q5 = serie_rmsd.quantile(0.05)\n",
    "q10 = serie_rmsd.quantile(0.1)\n",
    "q20 = serie_rmsd.quantile(0.2)\n",
    "\n",
    "q5count = serie_rmsd[serie_rmsd <=q5].count()\n",
    "q10count = serie_rmsd[serie_rmsd <=q10].count()\n",
    "q20count = serie_rmsd[serie_rmsd <=q20].count()\n"
   ]
  },
  {
   "cell_type": "code",
   "execution_count": 52,
   "metadata": {},
   "outputs": [
    {
     "data": {
      "image/png": "[encoded data removed]",
      "text/plain": [
       "<Figure size 720x360 with 1 Axes>"
      ]
     },
     "metadata": {
      "needs_background": "light"
     },
     "output_type": "display_data"
    }
   ],
   "source": [
    "serie_rmsd.hist(bins=70,figsize = (10,5))\n",
    "plt.title('''Distribucion de rmsd de candidatos despues de comparacion \n",
    "          para encontrar corte optimo de las proteinas 1phr y 1tig''', color='w',fontsize= 20)\n",
    "plt.vlines(q5,0,300)\n",
    "plt.text(q5-0.005,310,'Q5', fontsize=20)\n",
    "plt.text(q5-0.004, 200,q5count, fontsize=16,rotation=90)\n",
    "plt.vlines(q10,0,300, color = 'b')\n",
    "plt.text(q10-0.005,310,'Q10',color = 'b',fontsize=20)\n",
    "plt.text(q10-0.004, 200,q10count, fontsize=16,rotation=90, color='b')\n",
    "plt.vlines(q20,0,300, color ='g')\n",
    "plt.text(q20-0.005,310,'Q20',color = 'g',fontsize=20)\n",
    "plt.text(q20-0.004, 200,q20count, fontsize=16,rotation=90,color='g')\n",
    "plt.xlabel('RMSD', color='w')\n",
    "plt.savefig('distribucion_rmsd.jpg')"
   ]
  },
  {
   "cell_type": "code",
   "execution_count": 53,
   "metadata": {},
   "outputs": [
    {
     "data": {
      "text/html": [
       "<div>\n",
       "<style scoped>\n",
       "    .dataframe tbody tr th:only-of-type {\n",
       "        vertical-align: middle;\n",
       "    }\n",
       "\n",
       "    .dataframe tbody tr th {\n",
       "        vertical-align: top;\n",
       "    }\n",
       "\n",
       "    .dataframe thead th {\n",
       "        text-align: right;\n",
       "    }\n",
       "</style>\n",
       "<table border=\"1\" class=\"dataframe\">\n",
       "  <thead>\n",
       "    <tr style=\"text-align: right;\">\n",
       "      <th></th>\n",
       "      <th>rmsd</th>\n",
       "      <th>cand1</th>\n",
       "      <th>cand2</th>\n",
       "    </tr>\n",
       "  </thead>\n",
       "  <tbody>\n",
       "    <tr>\n",
       "      <th>count</th>\n",
       "      <td>17822.00000</td>\n",
       "      <td>17822.00000</td>\n",
       "      <td>17822.00000</td>\n",
       "    </tr>\n",
       "    <tr>\n",
       "      <th>mean</th>\n",
       "      <td>0.11156</td>\n",
       "      <td>2839.96521</td>\n",
       "      <td>1146.20548</td>\n",
       "    </tr>\n",
       "    <tr>\n",
       "      <th>std</th>\n",
       "      <td>0.03191</td>\n",
       "      <td>1091.26215</td>\n",
       "      <td>686.60583</td>\n",
       "    </tr>\n",
       "    <tr>\n",
       "      <th>min</th>\n",
       "      <td>0.00186</td>\n",
       "      <td>3.00000</td>\n",
       "      <td>0.00000</td>\n",
       "    </tr>\n",
       "    <tr>\n",
       "      <th>25%</th>\n",
       "      <td>0.09284</td>\n",
       "      <td>2134.00000</td>\n",
       "      <td>659.00000</td>\n",
       "    </tr>\n",
       "    <tr>\n",
       "      <th>50%</th>\n",
       "      <td>0.12048</td>\n",
       "      <td>2909.00000</td>\n",
       "      <td>1384.00000</td>\n",
       "    </tr>\n",
       "    <tr>\n",
       "      <th>75%</th>\n",
       "      <td>0.13703</td>\n",
       "      <td>3776.00000</td>\n",
       "      <td>1803.00000</td>\n",
       "    </tr>\n",
       "    <tr>\n",
       "      <th>max</th>\n",
       "      <td>0.15000</td>\n",
       "      <td>4479.00000</td>\n",
       "      <td>2100.00000</td>\n",
       "    </tr>\n",
       "  </tbody>\n",
       "</table>\n",
       "</div>"
      ],
      "text/plain": [
       "             rmsd       cand1       cand2\n",
       "count 17822.00000 17822.00000 17822.00000\n",
       "mean  0.11156     2839.96521  1146.20548 \n",
       "std   0.03191     1091.26215  686.60583  \n",
       "min   0.00186     3.00000     0.00000    \n",
       "25%   0.09284     2134.00000  659.00000  \n",
       "50%   0.12048     2909.00000  1384.00000 \n",
       "75%   0.13703     3776.00000  1803.00000 \n",
       "max   0.15000     4479.00000  2100.00000 "
      ]
     },
     "execution_count": 53,
     "metadata": {},
     "output_type": "execute_result"
    }
   ],
   "source": [
    "rmsd_candidatos.describe()"
   ]
  },
  {
   "cell_type": "code",
   "execution_count": 54,
   "metadata": {},
   "outputs": [],
   "source": [
    "rmsd_candidatos['cand1'] = rmsd_candidatos.index_candidatos.str[0]\n",
    "rmsd_candidatos['cand2'] = rmsd_candidatos.index_candidatos.str[1]"
   ]
  },
  {
   "cell_type": "code",
   "execution_count": 55,
   "metadata": {},
   "outputs": [],
   "source": [
    "agrupado = rmsd_candidatos.groupby('cand1').count()\n",
    "agrupado_a = agrupado.index[agrupado.rmsd < 3]"
   ]
  },
  {
   "cell_type": "code",
   "execution_count": 56,
   "metadata": {},
   "outputs": [
    {
     "data": {
      "text/plain": [
       "count   797.00000\n",
       "mean    0.11963  \n",
       "std     0.02570  \n",
       "min     0.02684  \n",
       "25%     0.10456  \n",
       "50%     0.12618  \n",
       "75%     0.14042  \n",
       "max     0.15000  \n",
       "Name: rmsd, dtype: float64"
      ]
     },
     "execution_count": 56,
     "metadata": {},
     "output_type": "execute_result"
    }
   ],
   "source": [
    "rmsd_candidatos[rmsd_candidatos.cand1.isin(agrupado_a)].rmsd.describe()"
   ]
  },
  {
   "cell_type": "code",
   "execution_count": 57,
   "metadata": {},
   "outputs": [
    {
     "data": {
      "text/plain": [
       "<matplotlib.axes._subplots.AxesSubplot at 0x7f913cfb3d68>"
      ]
     },
     "execution_count": 57,
     "metadata": {},
     "output_type": "execute_result"
    },
    {
     "data": {
      "image/png": "[encoded data removed]",
      "text/plain": [
       "<Figure size 432x288 with 1 Axes>"
      ]
     },
     "metadata": {
      "needs_background": "light"
     },
     "output_type": "display_data"
    }
   ],
   "source": [
    "rmsd_candidatos[rmsd_candidatos.cand1.isin(agrupado_a)].rmsd.hist(bins=50)"
   ]
  },
  {
   "cell_type": "code",
   "execution_count": 58,
   "metadata": {},
   "outputs": [],
   "source": [
    "candidatos_rmsd = rmsd_candidatos[rmsd_candidatos.cand1.isin(agrupado_a)]"
   ]
  },
  {
   "cell_type": "code",
   "execution_count": 59,
   "metadata": {},
   "outputs": [
    {
     "data": {
      "text/plain": [
       "Text(0.5,0,'RMSD')"
      ]
     },
     "execution_count": 59,
     "metadata": {},
     "output_type": "execute_result"
    },
    {
     "data": {
      "image/png": "[encoded data removed]",
      "text/plain": [
       "<Figure size 720x360 with 1 Axes>"
      ]
     },
     "metadata": {
      "needs_background": "light"
     },
     "output_type": "display_data"
    }
   ],
   "source": [
    "serie_rmsd.hist(bins=70,figsize = (10,5),alpha=0.2)\n",
    "candidatos_rmsd.rmsd.hist(bins=100)\n",
    "plt.title(\"\"\"Comparacion de histogramas entre el general y los \n",
    "                candidatos que solo se acoplan con a lo mas 2 candidatos\"\"\", color='w', fontsize = 18)\n",
    "plt.ylim(0,20)\n",
    "plt.xlabel('RMSD', fontsize = 16, color= 'w')"
   ]
  },
  {
   "cell_type": "markdown",
   "metadata": {},
   "source": [
    "Distancia"
   ]
  },
  {
   "cell_type": "code",
   "execution_count": 60,
   "metadata": {},
   "outputs": [
    {
     "name": "stdout",
     "output_type": "stream",
     "text": [
      "4409669\n"
     ]
    }
   ],
   "source": [
    "from scipy.spatial import distance\n",
    "a = (0,0,0)\n",
    "\n",
    "df_cliques1['distancia_promedio'] = [np.mean([distance.euclidean(a, i[0]),distance.euclidean(a, i[1]),distance.euclidean(a, i[2])]) for i in df_cliques1.vectores_gorro]\n",
    "df_cliques2['distancia_promedio'] = [np.mean([distance.euclidean(a, i[0]),distance.euclidean(a, i[1]),distance.euclidean(a, i[2])]) for i in df_cliques2.vectores_gorro]\n",
    "\n",
    "array_dist_promedio1 = df_cliques1.values[:, 15] #del 9 al 15\n",
    "array_dist_promedio2 = df_cliques2.values[:, 15]\n",
    "\n",
    "diff_distancia = [array_dist_promedio1[i] - array_dist_promedio2[j] for i,j in candidatos_ss]\n",
    "print(len(diff_distancia))"
   ]
  },
  {
   "cell_type": "code",
   "execution_count": 61,
   "metadata": {},
   "outputs": [
    {
     "data": {
      "text/plain": [
       "<matplotlib.axes._subplots.AxesSubplot at 0x7f913bfcf6a0>"
      ]
     },
     "execution_count": 61,
     "metadata": {},
     "output_type": "execute_result"
    },
    {
     "data": {
      "image/png": "[encoded data removed]",
      "text/plain": [
       "<Figure size 432x288 with 1 Axes>"
      ]
     },
     "metadata": {
      "needs_background": "light"
     },
     "output_type": "display_data"
    }
   ],
   "source": [
    "f1 = pd.DataFrame(rmsd_1)\n",
    "f1['diff_distance'] = diff_distancia\n",
    "f1.columns = ['rmsd','candidatos','diff_distancia']\n",
    "f1['cumple'] = np.where(f1.rmsd <= restriccion_rmsd,1,0)\n",
    "f1.groupby('cumple').diff_distancia.mean().plot.bar(rot = 0,title='Distancia promedio entre los que cumplen y los que no')\n"
   ]
  },
  {
   "cell_type": "code",
   "execution_count": 62,
   "metadata": {},
   "outputs": [
    {
     "data": {
      "text/html": [
       "<div>\n",
       "<style scoped>\n",
       "    .dataframe tbody tr th:only-of-type {\n",
       "        vertical-align: middle;\n",
       "    }\n",
       "\n",
       "    .dataframe tbody tr th {\n",
       "        vertical-align: top;\n",
       "    }\n",
       "\n",
       "    .dataframe thead th {\n",
       "        text-align: right;\n",
       "    }\n",
       "</style>\n",
       "<table border=\"1\" class=\"dataframe\">\n",
       "  <thead>\n",
       "    <tr style=\"text-align: right;\">\n",
       "      <th>cumple</th>\n",
       "      <th>0</th>\n",
       "      <th>1</th>\n",
       "    </tr>\n",
       "  </thead>\n",
       "  <tbody>\n",
       "    <tr>\n",
       "      <th>count</th>\n",
       "      <td>4391847.00000</td>\n",
       "      <td>17822.00000</td>\n",
       "    </tr>\n",
       "    <tr>\n",
       "      <th>mean</th>\n",
       "      <td>2.18070</td>\n",
       "      <td>-0.00144</td>\n",
       "    </tr>\n",
       "    <tr>\n",
       "      <th>std</th>\n",
       "      <td>3.52575</td>\n",
       "      <td>0.18870</td>\n",
       "    </tr>\n",
       "    <tr>\n",
       "      <th>min</th>\n",
       "      <td>-6.59041</td>\n",
       "      <td>-0.44323</td>\n",
       "    </tr>\n",
       "    <tr>\n",
       "      <th>25%</th>\n",
       "      <td>-0.44124</td>\n",
       "      <td>-0.13173</td>\n",
       "    </tr>\n",
       "    <tr>\n",
       "      <th>50%</th>\n",
       "      <td>1.71347</td>\n",
       "      <td>-0.00411</td>\n",
       "    </tr>\n",
       "    <tr>\n",
       "      <th>75%</th>\n",
       "      <td>4.63639</td>\n",
       "      <td>0.13372</td>\n",
       "    </tr>\n",
       "    <tr>\n",
       "      <th>max</th>\n",
       "      <td>13.42837</td>\n",
       "      <td>0.44477</td>\n",
       "    </tr>\n",
       "  </tbody>\n",
       "</table>\n",
       "</div>"
      ],
      "text/plain": [
       "cumple             0           1\n",
       "count  4391847.00000 17822.00000\n",
       "mean   2.18070       -0.00144   \n",
       "std    3.52575       0.18870    \n",
       "min    -6.59041      -0.44323   \n",
       "25%    -0.44124      -0.13173   \n",
       "50%    1.71347       -0.00411   \n",
       "75%    4.63639       0.13372    \n",
       "max    13.42837      0.44477    "
      ]
     },
     "execution_count": 62,
     "metadata": {},
     "output_type": "execute_result"
    }
   ],
   "source": [
    "f1.groupby('cumple').diff_distancia.describe().T"
   ]
  },
  {
   "cell_type": "code",
   "execution_count": 63,
   "metadata": {},
   "outputs": [
    {
     "data": {
      "text/plain": [
       "<matplotlib.axes._subplots.AxesSubplot at 0x7f9127ff2470>"
      ]
     },
     "execution_count": 63,
     "metadata": {},
     "output_type": "execute_result"
    },
    {
     "data": {
      "image/png": "[encoded data removed]",
      "text/plain": [
       "<Figure size 432x288 with 1 Axes>"
      ]
     },
     "metadata": {
      "needs_background": "light"
     },
     "output_type": "display_data"
    }
   ],
   "source": [
    "sns.boxplot(x=\"cumple\", y=\"diff_distancia\",data=f1)"
   ]
  },
  {
   "cell_type": "code",
   "execution_count": 64,
   "metadata": {},
   "outputs": [
    {
     "data": {
      "text/plain": [
       "cumple\n",
       "0    549624\n",
       "1    17822 \n",
       "Name: rmsd, dtype: int64"
      ]
     },
     "execution_count": 64,
     "metadata": {},
     "output_type": "execute_result"
    }
   ],
   "source": [
    "limit = 0.5\n",
    "f1[(f1.diff_distancia > -limit) & (f1.diff_distancia < limit)].groupby('cumple').rmsd.count()"
   ]
  },
  {
   "cell_type": "markdown",
   "metadata": {},
   "source": [
    "-----------"
   ]
  },
  {
   "cell_type": "markdown",
   "metadata": {},
   "source": [
    "## Proteinas 1xxa vs 1phr"
   ]
  },
  {
   "cell_type": "code",
   "execution_count": 65,
   "metadata": {},
   "outputs": [],
   "source": [
    "# assert( len(sys.argv) > 1)\n",
    "# lectura de archivo\n",
    "file1 = '1xxa.pdb' # sys.argv[1]\n",
    "file2 = '1phr.pdb' # sys.argv[2]\n",
    "\n",
    "# numero de cliques, preguntar en el software para generalizarlo...\n",
    "num_cliques = 3\n",
    "\n",
    "# se define la estructura\n",
    "pdb1 = rpt.PdbStruct(\"first\")\n",
    "pdb2 = rpt.PdbStruct(\"second\")\n",
    "\n",
    "# se lee el pdb y se agrega al objeto\n",
    "pdb1.AddPdbData(\"%s\" % file1)\n",
    "pdb2.AddPdbData(\"%s\" % file2)\n",
    "\n",
    "# se obtienen los residuos que perteneces a la cadena de interes por default chain = 'A'\n",
    "pdb11 = pdb1.GetResChain()\n",
    "pdb22 = pdb2.GetResChain()\n",
    "\n",
    "ss1 = pdb1.Get_SS(file1)\n",
    "ss2 = pdb1.Get_SS(file2)"
   ]
  },
  {
   "cell_type": "code",
   "execution_count": 66,
   "metadata": {},
   "outputs": [],
   "source": [
    "# se crea atributo a cada residuo\n",
    "for i, j in zip(pdb11, ss1.structure.values):\n",
    "    setattr(i, 'structure', j)\n",
    "for i, j in zip(pdb22, ss2.structure.values):\n",
    "    setattr(i, 'structure', j)"
   ]
  },
  {
   "cell_type": "code",
   "execution_count": 67,
   "metadata": {},
   "outputs": [],
   "source": [
    "def get_df_distancias(ref):\n",
    "    \"\"\"Funcion para obtener el dataframe de distancias de cada proteina\"\"\"\n",
    "    # se generan listas con coordenadas y numero de atomo\n",
    "    coord = [res.GetAtom('CA').coord for res in ref]\n",
    "    index = [res.resi for res in ref]\n",
    "\n",
    "    # calcula distancia y regresa dataframe\n",
    "    distancias = []\n",
    "    # se calcula la distancia euclidiana entre cada atomo de carbon alfalfa\n",
    "    for v in coord:\n",
    "        distancia_un_atomo = []\n",
    "        for av in coord:\n",
    "            distancia = pdist(np.array([v, av]), metric='euclidean').item()\n",
    "            distancia_un_atomo.append(distancia)\n",
    "        distancias.append(distancia_un_atomo)\n",
    "\n",
    "    # se genera la matriz de adyacencias para la red\n",
    "    df_da = pd.DataFrame(index=index, columns=index, data=distancias)\n",
    "    return(df_da, index)\n",
    "\n",
    "\n",
    "df_distancias1, index1 = get_df_distancias(pdb11)\n",
    "df_distancias2, index2 = get_df_distancias(pdb22)"
   ]
  },
  {
   "cell_type": "code",
   "execution_count": 68,
   "metadata": {},
   "outputs": [
    {
     "name": "stdout",
     "output_type": "stream",
     "text": [
      "numero de cliques maximos encontrados: 158\n",
      "numero de 3-cliques posibles: 1787\n",
      "****************************************************************************************************\n",
      "numero de cliques maximos encontrados: 246\n",
      "numero de 3-cliques posibles: 2102\n",
      "****************************************************************************************************\n"
     ]
    }
   ],
   "source": [
    "# se generan cliques, tte devuleve dataframe con cliques de 3 y la lista de cliques sin partir\n",
    "df_cliques1, cliques1 = fc.gen_3_cliques(df_distancias1, dth=10, k=num_cliques)\n",
    "print('**'*50)\n",
    "df_cliques2, cliques2 = fc.gen_3_cliques(df_distancias2, dth=10, k=num_cliques)\n",
    "print('**'*50)"
   ]
  },
  {
   "cell_type": "code",
   "execution_count": 69,
   "metadata": {},
   "outputs": [],
   "source": [
    "def get_df_ca(list_of_residues):\n",
    "    \"\"\"Genera dataframe con la informacion necesaria para las siguientes funciones\n",
    "    FALTA DOCUMENTAR ESTA COSA!!!!\"\"\"\n",
    "    #crear df_ca\n",
    "    atom_number = []\n",
    "    atom_name = []\n",
    "    residue_name = []\n",
    "    residue_number = []\n",
    "    coord = []\n",
    "    for res in list_of_residues:\n",
    "        for atom in res.atoms:\n",
    "            atom_number.append(atom.atom_number)\n",
    "            atom_name.append(atom.name)\n",
    "            residue_name.append(res.resn)\n",
    "            residue_number.append(res.resi)\n",
    "            coord.append(atom.coord)\n",
    "\n",
    "    df_atoms = pd.DataFrame(columns=['atom_number', 'atom_name', 'residue_name',\n",
    "                                   'residue_number', 'vector'])\n",
    "    df_atoms.atom_number = atom_number\n",
    "    df_atoms.atom_name = atom_name\n",
    "    df_atoms.residue_name = residue_name\n",
    "    df_atoms.residue_number = residue_number\n",
    "    df_atoms.vector = coord\n",
    "\n",
    "    return(df_atoms)\n",
    "\n",
    "\n",
    "# CREAR DF_atomos_CA #\n",
    "df_atoms1 = get_df_ca(pdb11)\n",
    "df_atoms2 = get_df_ca(pdb22)"
   ]
  },
  {
   "cell_type": "code",
   "execution_count": 70,
   "metadata": {},
   "outputs": [],
   "source": [
    "# se le pega la estructura secundaria al dataframe de los cliques\n",
    "# esto va a cambiar por que lo tiene que obtener del objeto residuo\n",
    "# ya se crea en ss1 y no cuesta reevaluar si es mejor desde el residuo\n",
    "# checar que es mas rapido si desde residuo o desde dataframe ss\n",
    "df_cliques1 = fc.paste_SS(ss1, df_cliques1, num_cliques = num_cliques)\n",
    "df_cliques2 = fc.paste_SS(ss2, df_cliques2, num_cliques = num_cliques)"
   ]
  },
  {
   "cell_type": "code",
   "execution_count": 71,
   "metadata": {},
   "outputs": [],
   "source": [
    "# comparacion SSM #aqui se obtienen los candidatos posibles pasando el filtro de SS\n",
    "candidatos_ss = fc.compare_SS(df_cliques1,df_cliques2, num_cliques=num_cliques)"
   ]
  },
  {
   "cell_type": "code",
   "execution_count": 72,
   "metadata": {},
   "outputs": [],
   "source": [
    "# get coords of cliques\n",
    "df_cliques1 = fc.get_coords_clique(df_atoms1, df_cliques1, num_cliques)\n",
    "df_cliques2 = fc.get_coords_clique(df_atoms2, df_cliques2, num_cliques)"
   ]
  },
  {
   "cell_type": "code",
   "execution_count": 73,
   "metadata": {},
   "outputs": [],
   "source": [
    "# baricentro clique\n",
    "df_cliques1 = fc.baricenter_clique(df_cliques1, num_cliques)\n",
    "df_cliques2 = fc.baricenter_clique(df_cliques2, num_cliques)"
   ]
  },
  {
   "cell_type": "code",
   "execution_count": 74,
   "metadata": {},
   "outputs": [],
   "source": [
    "# vectores gorro\n",
    "df_cliques1 = fc.center_vectors(df_cliques1, num_cliques)\n",
    "df_cliques2 = fc.center_vectors(df_cliques2, num_cliques)"
   ]
  },
  {
   "cell_type": "code",
   "execution_count": 75,
   "metadata": {},
   "outputs": [],
   "source": [
    "idx_rmsd1, idx_rmsd2 = 3*num_cliques, 4*num_cliques+3\n",
    "# print(list(range(idx_rmsd1,idx_rmsd2)))\n",
    "# se pasan a numpy arrays para mayor rapidez\n",
    "array_df_cliques1 = df_cliques1.values[:, range(idx_rmsd1, idx_rmsd2)] #del 9 al 15\n",
    "array_df_cliques2 = df_cliques2.values[:, range(idx_rmsd1, idx_rmsd2)]"
   ]
  },
  {
   "cell_type": "code",
   "execution_count": 76,
   "metadata": {},
   "outputs": [
    {
     "name": "stdout",
     "output_type": "stream",
     "text": [
      "1705808\n"
     ]
    }
   ],
   "source": [
    "#calculo del RMSD\n",
    "print(len(candidatos_ss))"
   ]
  },
  {
   "cell_type": "code",
   "execution_count": 77,
   "metadata": {},
   "outputs": [],
   "source": [
    "restriccion_rmsd = 0.15\n",
    "if num_cliques == 4:\n",
    "    restriccion_rmsd = 0.30\n",
    "if num_cliques == 5:\n",
    "    restriccion_rmsd = 0.60\n",
    "if num_cliques == 7:\n",
    "    restriccion_rmsd = 1.50\n",
    "if num_cliques == 8:\n",
    "    restriccion_rmsd = 1.80"
   ]
  },
  {
   "cell_type": "code",
   "execution_count": 78,
   "metadata": {},
   "outputs": [
    {
     "name": "stderr",
     "output_type": "stream",
     "text": [
      "Process ForkPoolWorker-16:\n",
      "Process ForkPoolWorker-21:\n",
      "Process ForkPoolWorker-17:\n",
      "Traceback (most recent call last):\n",
      "Process ForkPoolWorker-18:\n",
      "  File \"/home/serch/anaconda3/lib/python3.7/multiprocessing/process.py\", line 297, in _bootstrap\n",
      "    self.run()\n",
      "  File \"/home/serch/anaconda3/lib/python3.7/multiprocessing/process.py\", line 99, in run\n",
      "    self._target(*self._args, **self._kwargs)\n",
      "  File \"/home/serch/anaconda3/lib/python3.7/multiprocessing/pool.py\", line 121, in worker\n",
      "    result = (True, func(*args, **kwds))\n",
      "  File \"/home/serch/anaconda3/lib/python3.7/multiprocessing/pool.py\", line 44, in mapstar\n",
      "    return list(map(*args))\n",
      "Traceback (most recent call last):\n",
      "  File \"/home/serch/pdbmani/Serch/funciones_CLICK.py\", line 578, in calculate_rmsd_rot_trans_m\n",
      "    array_cliques2[:, 0][res2], dtype=np.float64)) # antes 9 #PROBABLE CAMBIAR\n",
      "  File \"/home/serch/pdbmani/Serch/funciones_CLICK.py\", line 568, in rmsd_between_cliques\n",
      "    rmsd_final = rmsd_i(p12).mean()\n",
      "  File \"/home/serch/anaconda3/lib/python3.7/multiprocessing/process.py\", line 297, in _bootstrap\n",
      "    self.run()\n",
      "  File \"/home/serch/pdbmani/Serch/funciones_CLICK.py\", line 567, in <lambda>\n",
      "    rmsd_i = lambda i: np.sqrt(i) / 3\n",
      "KeyboardInterrupt\n",
      "  File \"/home/serch/anaconda3/lib/python3.7/multiprocessing/process.py\", line 99, in run\n",
      "    self._target(*self._args, **self._kwargs)\n",
      "Traceback (most recent call last):\n",
      "Traceback (most recent call last):\n",
      "  File \"/home/serch/anaconda3/lib/python3.7/multiprocessing/pool.py\", line 121, in worker\n",
      "    result = (True, func(*args, **kwds))\n",
      "  File \"/home/serch/anaconda3/lib/python3.7/multiprocessing/process.py\", line 297, in _bootstrap\n",
      "    self.run()\n",
      "  File \"/home/serch/anaconda3/lib/python3.7/multiprocessing/pool.py\", line 44, in mapstar\n",
      "    return list(map(*args))\n",
      "  File \"/home/serch/pdbmani/Serch/funciones_CLICK.py\", line 573, in calculate_rmsd_rot_trans_m\n",
      "    matriz_rotacion = rotation_matrix(matriz_R)\n",
      "  File \"/home/serch/anaconda3/lib/python3.7/multiprocessing/process.py\", line 297, in _bootstrap\n",
      "    self.run()\n",
      "  File \"/home/serch/pdbmani/Serch/funciones_CLICK.py\", line 535, in rotation_matrix\n",
      "    eignvalues, eigenvectors = np.linalg.eig(matriz_R)\n",
      "  File \"/home/serch/anaconda3/lib/python3.7/multiprocessing/process.py\", line 99, in run\n",
      "    self._target(*self._args, **self._kwargs)\n",
      "Process ForkPoolWorker-19:\n",
      "  File \"/home/serch/anaconda3/lib/python3.7/multiprocessing/process.py\", line 99, in run\n",
      "    self._target(*self._args, **self._kwargs)\n",
      "Traceback (most recent call last):\n",
      "  File \"/home/serch/anaconda3/lib/python3.7/multiprocessing/pool.py\", line 110, in worker\n",
      "    task = get()\n",
      "  File \"/home/serch/anaconda3/lib/python3.7/site-packages/numpy/linalg/linalg.py\", line 1259, in eig\n",
      "    a, wrap = _makearray(a)\n",
      "  File \"/home/serch/anaconda3/lib/python3.7/multiprocessing/pool.py\", line 127, in worker\n",
      "    put((job, i, result))\n",
      "  File \"/home/serch/anaconda3/lib/python3.7/multiprocessing/process.py\", line 297, in _bootstrap\n",
      "    self.run()\n",
      "  File \"/home/serch/anaconda3/lib/python3.7/site-packages/numpy/linalg/linalg.py\", line 109, in _makearray\n",
      "    new = asarray(a)\n",
      "  File \"/home/serch/anaconda3/lib/python3.7/site-packages/numpy/core/numeric.py\", line 501, in asarray\n",
      "    return array(a, dtype, copy=False, order=order)\n",
      "  File \"/home/serch/anaconda3/lib/python3.7/multiprocessing/queues.py\", line 354, in get\n",
      "    return _ForkingPickler.loads(res)\n",
      "KeyboardInterrupt\n",
      "  File \"/home/serch/anaconda3/lib/python3.7/multiprocessing/queues.py\", line 358, in put\n",
      "    obj = _ForkingPickler.dumps(obj)\n",
      "  File \"/home/serch/anaconda3/lib/python3.7/multiprocessing/process.py\", line 99, in run\n",
      "    self._target(*self._args, **self._kwargs)\n",
      "  File \"/home/serch/anaconda3/lib/python3.7/multiprocessing/reduction.py\", line 221, in _rebuild_partial\n",
      "    def _rebuild_partial(func, args, keywords):\n",
      "  File \"/home/serch/anaconda3/lib/python3.7/multiprocessing/pool.py\", line 127, in worker\n",
      "    put((job, i, result))\n",
      "  File \"/home/serch/anaconda3/lib/python3.7/multiprocessing/queues.py\", line 358, in put\n",
      "    obj = _ForkingPickler.dumps(obj)\n",
      "  File \"/home/serch/anaconda3/lib/python3.7/multiprocessing/reduction.py\", line 51, in dumps\n",
      "    cls(buf, protocol).dump(obj)\n",
      "KeyboardInterrupt\n",
      "KeyboardInterrupt\n",
      "  File \"/home/serch/anaconda3/lib/python3.7/multiprocessing/reduction.py\", line 51, in dumps\n",
      "    cls(buf, protocol).dump(obj)\n",
      "KeyboardInterrupt\n",
      "Process ForkPoolWorker-20:\n",
      "Traceback (most recent call last):\n",
      "  File \"/home/serch/anaconda3/lib/python3.7/multiprocessing/process.py\", line 297, in _bootstrap\n",
      "    self.run()\n",
      "  File \"/home/serch/anaconda3/lib/python3.7/multiprocessing/process.py\", line 99, in run\n",
      "    self._target(*self._args, **self._kwargs)\n",
      "  File \"/home/serch/anaconda3/lib/python3.7/multiprocessing/pool.py\", line 127, in worker\n",
      "    put((job, i, result))\n",
      "  File \"/home/serch/anaconda3/lib/python3.7/multiprocessing/queues.py\", line 358, in put\n",
      "    obj = _ForkingPickler.dumps(obj)\n",
      "  File \"/home/serch/anaconda3/lib/python3.7/multiprocessing/reduction.py\", line 51, in dumps\n",
      "    cls(buf, protocol).dump(obj)\n",
      "KeyboardInterrupt\n",
      "Process ForkPoolWorker-22:\n",
      "Traceback (most recent call last):\n",
      "  File \"/home/serch/anaconda3/lib/python3.7/multiprocessing/process.py\", line 297, in _bootstrap\n",
      "    self.run()\n",
      "  File \"/home/serch/anaconda3/lib/python3.7/multiprocessing/process.py\", line 99, in run\n",
      "    self._target(*self._args, **self._kwargs)\n",
      "Process ForkPoolWorker-23:\n",
      "Traceback (most recent call last):\n",
      "  File \"/home/serch/anaconda3/lib/python3.7/multiprocessing/pool.py\", line 127, in worker\n",
      "    put((job, i, result))\n",
      "  File \"/home/serch/anaconda3/lib/python3.7/multiprocessing/queues.py\", line 358, in put\n",
      "    obj = _ForkingPickler.dumps(obj)\n",
      "  File \"/home/serch/anaconda3/lib/python3.7/multiprocessing/reduction.py\", line 51, in dumps\n",
      "    cls(buf, protocol).dump(obj)\n",
      "  File \"/home/serch/anaconda3/lib/python3.7/multiprocessing/process.py\", line 297, in _bootstrap\n",
      "    self.run()\n",
      "KeyboardInterrupt\n",
      "  File \"/home/serch/anaconda3/lib/python3.7/multiprocessing/process.py\", line 99, in run\n",
      "    self._target(*self._args, **self._kwargs)\n",
      "  File \"/home/serch/anaconda3/lib/python3.7/multiprocessing/pool.py\", line 127, in worker\n",
      "    put((job, i, result))\n",
      "  File \"/home/serch/anaconda3/lib/python3.7/multiprocessing/queues.py\", line 358, in put\n",
      "    obj = _ForkingPickler.dumps(obj)\n",
      "  File \"/home/serch/anaconda3/lib/python3.7/multiprocessing/reduction.py\", line 51, in dumps\n",
      "    cls(buf, protocol).dump(obj)\n",
      "KeyboardInterrupt\n"
     ]
    },
    {
     "ename": "KeyboardInterrupt",
     "evalue": "",
     "output_type": "error",
     "traceback": [
      "\u001b[0;31m---------------------------------------------------------------------------\u001b[0m",
      "\u001b[0;31mKeyboardInterrupt\u001b[0m                         Traceback (most recent call last)",
      "\u001b[0;32m<timed exec>\u001b[0m in \u001b[0;36m<module>\u001b[0;34m()\u001b[0m\n",
      "\u001b[0;32m~/anaconda3/lib/python3.7/multiprocessing/pool.py\u001b[0m in \u001b[0;36mmap\u001b[0;34m(self, func, iterable, chunksize)\u001b[0m\n\u001b[1;32m    266\u001b[0m         \u001b[0;32min\u001b[0m \u001b[0ma\u001b[0m \u001b[0mlist\u001b[0m \u001b[0mthat\u001b[0m \u001b[0;32mis\u001b[0m \u001b[0mreturned\u001b[0m\u001b[0;34m.\u001b[0m\u001b[0;34m\u001b[0m\u001b[0m\n\u001b[1;32m    267\u001b[0m         '''\n\u001b[0;32m--> 268\u001b[0;31m         \u001b[0;32mreturn\u001b[0m \u001b[0mself\u001b[0m\u001b[0;34m.\u001b[0m\u001b[0m_map_async\u001b[0m\u001b[0;34m(\u001b[0m\u001b[0mfunc\u001b[0m\u001b[0;34m,\u001b[0m \u001b[0miterable\u001b[0m\u001b[0;34m,\u001b[0m \u001b[0mmapstar\u001b[0m\u001b[0;34m,\u001b[0m \u001b[0mchunksize\u001b[0m\u001b[0;34m)\u001b[0m\u001b[0;34m.\u001b[0m\u001b[0mget\u001b[0m\u001b[0;34m(\u001b[0m\u001b[0;34m)\u001b[0m\u001b[0;34m\u001b[0m\u001b[0m\n\u001b[0m\u001b[1;32m    269\u001b[0m \u001b[0;34m\u001b[0m\u001b[0m\n\u001b[1;32m    270\u001b[0m     \u001b[0;32mdef\u001b[0m \u001b[0mstarmap\u001b[0m\u001b[0;34m(\u001b[0m\u001b[0mself\u001b[0m\u001b[0;34m,\u001b[0m \u001b[0mfunc\u001b[0m\u001b[0;34m,\u001b[0m \u001b[0miterable\u001b[0m\u001b[0;34m,\u001b[0m \u001b[0mchunksize\u001b[0m\u001b[0;34m=\u001b[0m\u001b[0;32mNone\u001b[0m\u001b[0;34m)\u001b[0m\u001b[0;34m:\u001b[0m\u001b[0;34m\u001b[0m\u001b[0m\n",
      "\u001b[0;32m~/anaconda3/lib/python3.7/multiprocessing/pool.py\u001b[0m in \u001b[0;36mget\u001b[0;34m(self, timeout)\u001b[0m\n\u001b[1;32m    649\u001b[0m \u001b[0;34m\u001b[0m\u001b[0m\n\u001b[1;32m    650\u001b[0m     \u001b[0;32mdef\u001b[0m \u001b[0mget\u001b[0m\u001b[0;34m(\u001b[0m\u001b[0mself\u001b[0m\u001b[0;34m,\u001b[0m \u001b[0mtimeout\u001b[0m\u001b[0;34m=\u001b[0m\u001b[0;32mNone\u001b[0m\u001b[0;34m)\u001b[0m\u001b[0;34m:\u001b[0m\u001b[0;34m\u001b[0m\u001b[0m\n\u001b[0;32m--> 651\u001b[0;31m         \u001b[0mself\u001b[0m\u001b[0;34m.\u001b[0m\u001b[0mwait\u001b[0m\u001b[0;34m(\u001b[0m\u001b[0mtimeout\u001b[0m\u001b[0;34m)\u001b[0m\u001b[0;34m\u001b[0m\u001b[0m\n\u001b[0m\u001b[1;32m    652\u001b[0m         \u001b[0;32mif\u001b[0m \u001b[0;32mnot\u001b[0m \u001b[0mself\u001b[0m\u001b[0;34m.\u001b[0m\u001b[0mready\u001b[0m\u001b[0;34m(\u001b[0m\u001b[0;34m)\u001b[0m\u001b[0;34m:\u001b[0m\u001b[0;34m\u001b[0m\u001b[0m\n\u001b[1;32m    653\u001b[0m             \u001b[0;32mraise\u001b[0m \u001b[0mTimeoutError\u001b[0m\u001b[0;34m\u001b[0m\u001b[0m\n",
      "\u001b[0;32m~/anaconda3/lib/python3.7/multiprocessing/pool.py\u001b[0m in \u001b[0;36mwait\u001b[0;34m(self, timeout)\u001b[0m\n\u001b[1;32m    646\u001b[0m \u001b[0;34m\u001b[0m\u001b[0m\n\u001b[1;32m    647\u001b[0m     \u001b[0;32mdef\u001b[0m \u001b[0mwait\u001b[0m\u001b[0;34m(\u001b[0m\u001b[0mself\u001b[0m\u001b[0;34m,\u001b[0m \u001b[0mtimeout\u001b[0m\u001b[0;34m=\u001b[0m\u001b[0;32mNone\u001b[0m\u001b[0;34m)\u001b[0m\u001b[0;34m:\u001b[0m\u001b[0;34m\u001b[0m\u001b[0m\n\u001b[0;32m--> 648\u001b[0;31m         \u001b[0mself\u001b[0m\u001b[0;34m.\u001b[0m\u001b[0m_event\u001b[0m\u001b[0;34m.\u001b[0m\u001b[0mwait\u001b[0m\u001b[0;34m(\u001b[0m\u001b[0mtimeout\u001b[0m\u001b[0;34m)\u001b[0m\u001b[0;34m\u001b[0m\u001b[0m\n\u001b[0m\u001b[1;32m    649\u001b[0m \u001b[0;34m\u001b[0m\u001b[0m\n\u001b[1;32m    650\u001b[0m     \u001b[0;32mdef\u001b[0m \u001b[0mget\u001b[0m\u001b[0;34m(\u001b[0m\u001b[0mself\u001b[0m\u001b[0;34m,\u001b[0m \u001b[0mtimeout\u001b[0m\u001b[0;34m=\u001b[0m\u001b[0;32mNone\u001b[0m\u001b[0;34m)\u001b[0m\u001b[0;34m:\u001b[0m\u001b[0;34m\u001b[0m\u001b[0m\n",
      "\u001b[0;32m~/anaconda3/lib/python3.7/threading.py\u001b[0m in \u001b[0;36mwait\u001b[0;34m(self, timeout)\u001b[0m\n\u001b[1;32m    550\u001b[0m             \u001b[0msignaled\u001b[0m \u001b[0;34m=\u001b[0m \u001b[0mself\u001b[0m\u001b[0;34m.\u001b[0m\u001b[0m_flag\u001b[0m\u001b[0;34m\u001b[0m\u001b[0m\n\u001b[1;32m    551\u001b[0m             \u001b[0;32mif\u001b[0m \u001b[0;32mnot\u001b[0m \u001b[0msignaled\u001b[0m\u001b[0;34m:\u001b[0m\u001b[0;34m\u001b[0m\u001b[0m\n\u001b[0;32m--> 552\u001b[0;31m                 \u001b[0msignaled\u001b[0m \u001b[0;34m=\u001b[0m \u001b[0mself\u001b[0m\u001b[0;34m.\u001b[0m\u001b[0m_cond\u001b[0m\u001b[0;34m.\u001b[0m\u001b[0mwait\u001b[0m\u001b[0;34m(\u001b[0m\u001b[0mtimeout\u001b[0m\u001b[0;34m)\u001b[0m\u001b[0;34m\u001b[0m\u001b[0m\n\u001b[0m\u001b[1;32m    553\u001b[0m             \u001b[0;32mreturn\u001b[0m \u001b[0msignaled\u001b[0m\u001b[0;34m\u001b[0m\u001b[0m\n\u001b[1;32m    554\u001b[0m \u001b[0;34m\u001b[0m\u001b[0m\n",
      "\u001b[0;32m~/anaconda3/lib/python3.7/threading.py\u001b[0m in \u001b[0;36mwait\u001b[0;34m(self, timeout)\u001b[0m\n\u001b[1;32m    294\u001b[0m         \u001b[0;32mtry\u001b[0m\u001b[0;34m:\u001b[0m    \u001b[0;31m# restore state no matter what (e.g., KeyboardInterrupt)\u001b[0m\u001b[0;34m\u001b[0m\u001b[0m\n\u001b[1;32m    295\u001b[0m             \u001b[0;32mif\u001b[0m \u001b[0mtimeout\u001b[0m \u001b[0;32mis\u001b[0m \u001b[0;32mNone\u001b[0m\u001b[0;34m:\u001b[0m\u001b[0;34m\u001b[0m\u001b[0m\n\u001b[0;32m--> 296\u001b[0;31m                 \u001b[0mwaiter\u001b[0m\u001b[0;34m.\u001b[0m\u001b[0macquire\u001b[0m\u001b[0;34m(\u001b[0m\u001b[0;34m)\u001b[0m\u001b[0;34m\u001b[0m\u001b[0m\n\u001b[0m\u001b[1;32m    297\u001b[0m                 \u001b[0mgotit\u001b[0m \u001b[0;34m=\u001b[0m \u001b[0;32mTrue\u001b[0m\u001b[0;34m\u001b[0m\u001b[0m\n\u001b[1;32m    298\u001b[0m             \u001b[0;32melse\u001b[0m\u001b[0;34m:\u001b[0m\u001b[0;34m\u001b[0m\u001b[0m\n",
      "\u001b[0;31mKeyboardInterrupt\u001b[0m: "
     ]
    }
   ],
   "source": [
    "%%time\n",
    "p = multiprocessing.Pool()\n",
    "rmsd_1 = p.map(partial(fc.calculate_rmsd_rot_trans_m,  \n",
    "                    array_cliques1 = array_df_cliques1, \n",
    "                    array_cliques2 = array_df_cliques2, \n",
    "                    num_cliques = num_cliques), candidatos_ss)\n",
    "\n",
    "print('numero de candidatos:', len(rmsd_1))"
   ]
  },
  {
   "cell_type": "markdown",
   "metadata": {},
   "source": [
    "### Analisis de RMSD para saber donde esta el minimo"
   ]
  },
  {
   "cell_type": "code",
   "execution_count": 79,
   "metadata": {},
   "outputs": [
    {
     "data": {
      "text/plain": [
       "17822"
      ]
     },
     "execution_count": 79,
     "metadata": {},
     "output_type": "execute_result"
    }
   ],
   "source": [
    "rmsd_candidatos = pd.DataFrame(rmsd_1)\n",
    "rmsd_candidatos = rmsd_candidatos[rmsd_candidatos[0] <= restriccion_rmsd]\n",
    "rmsd_candidatos.columns = ['rmsd','index_candidatos']\n",
    "rmsd_candidatos.rmsd.count()"
   ]
  },
  {
   "cell_type": "code",
   "execution_count": 80,
   "metadata": {},
   "outputs": [],
   "source": [
    "serie_rmsd = rmsd_candidatos.rmsd\n",
    "q5 = serie_rmsd.quantile(0.05)\n",
    "q10 = serie_rmsd.quantile(0.1)\n",
    "q20 = serie_rmsd.quantile(0.2)\n",
    "\n",
    "q5count = serie_rmsd[serie_rmsd <=q5].count()\n",
    "q10count = serie_rmsd[serie_rmsd <=q10].count()\n",
    "q20count = serie_rmsd[serie_rmsd <=q20].count()\n"
   ]
  },
  {
   "cell_type": "code",
   "execution_count": 81,
   "metadata": {},
   "outputs": [
    {
     "data": {
      "image/png": "[encoded data removed]",
      "text/plain": [
       "<Figure size 720x360 with 1 Axes>"
      ]
     },
     "metadata": {
      "needs_background": "light"
     },
     "output_type": "display_data"
    }
   ],
   "source": [
    "serie_rmsd.hist(bins=70,figsize = (10,5))\n",
    "plt.title('''Distribucion de rmsd de candidatos despues de comparacion \n",
    "          para encontrar corte optimo de las proteinas 1xxa y 1tig''', color='w',fontsize= 20)\n",
    "plt.vlines(q5,0,300)\n",
    "plt.text(q5-0.005,310,'Q5', fontsize=20)\n",
    "plt.text(q5-0.004, 200,q5count, fontsize=16,rotation=90)\n",
    "plt.vlines(q10,0,300, color = 'b')\n",
    "plt.text(q10-0.005,310,'Q10',color = 'b',fontsize=20)\n",
    "plt.text(q10-0.004, 200,q10count, fontsize=16,rotation=90, color='b')\n",
    "plt.vlines(q20,0,300, color ='g')\n",
    "plt.text(q20-0.005,310,'Q20',color = 'g',fontsize=20)\n",
    "plt.text(q20-0.004, 200,q20count, fontsize=16,rotation=90,color='g')\n",
    "plt.xlabel('RMSD', color='w')\n",
    "plt.savefig('distribucion_rmsd.jpg')"
   ]
  },
  {
   "cell_type": "code",
   "execution_count": 19,
   "metadata": {},
   "outputs": [
    {
     "data": {
      "text/html": [
       "<div>\n",
       "<style scoped>\n",
       "    .dataframe tbody tr th:only-of-type {\n",
       "        vertical-align: middle;\n",
       "    }\n",
       "\n",
       "    .dataframe tbody tr th {\n",
       "        vertical-align: top;\n",
       "    }\n",
       "\n",
       "    .dataframe thead th {\n",
       "        text-align: right;\n",
       "    }\n",
       "</style>\n",
       "<table border=\"1\" class=\"dataframe\">\n",
       "  <thead>\n",
       "    <tr style=\"text-align: right;\">\n",
       "      <th></th>\n",
       "      <th>rmsd</th>\n",
       "    </tr>\n",
       "  </thead>\n",
       "  <tbody>\n",
       "    <tr>\n",
       "      <th>count</th>\n",
       "      <td>6907.00000</td>\n",
       "    </tr>\n",
       "    <tr>\n",
       "      <th>mean</th>\n",
       "      <td>0.11314</td>\n",
       "    </tr>\n",
       "    <tr>\n",
       "      <th>std</th>\n",
       "      <td>0.03040</td>\n",
       "    </tr>\n",
       "    <tr>\n",
       "      <th>min</th>\n",
       "      <td>0.00648</td>\n",
       "    </tr>\n",
       "    <tr>\n",
       "      <th>25%</th>\n",
       "      <td>0.09610</td>\n",
       "    </tr>\n",
       "    <tr>\n",
       "      <th>50%</th>\n",
       "      <td>0.12134</td>\n",
       "    </tr>\n",
       "    <tr>\n",
       "      <th>75%</th>\n",
       "      <td>0.13724</td>\n",
       "    </tr>\n",
       "    <tr>\n",
       "      <th>max</th>\n",
       "      <td>0.15000</td>\n",
       "    </tr>\n",
       "  </tbody>\n",
       "</table>\n",
       "</div>"
      ],
      "text/plain": [
       "            rmsd\n",
       "count 6907.00000\n",
       "mean  0.11314   \n",
       "std   0.03040   \n",
       "min   0.00648   \n",
       "25%   0.09610   \n",
       "50%   0.12134   \n",
       "75%   0.13724   \n",
       "max   0.15000   "
      ]
     },
     "execution_count": 19,
     "metadata": {},
     "output_type": "execute_result"
    }
   ],
   "source": [
    "rmsd_candidatos.describe()"
   ]
  },
  {
   "cell_type": "code",
   "execution_count": 20,
   "metadata": {},
   "outputs": [],
   "source": [
    "rmsd_candidatos['cand1'] = rmsd_candidatos.index_candidatos.str[0]\n",
    "rmsd_candidatos['cand2'] = rmsd_candidatos.index_candidatos.str[1]"
   ]
  },
  {
   "cell_type": "code",
   "execution_count": 21,
   "metadata": {},
   "outputs": [],
   "source": [
    "agrupado = rmsd_candidatos.groupby('cand1').count()\n",
    "agrupado_a = agrupado.index[agrupado.rmsd < 3]"
   ]
  },
  {
   "cell_type": "code",
   "execution_count": 22,
   "metadata": {},
   "outputs": [
    {
     "data": {
      "text/plain": [
       "count   408.00000\n",
       "mean    0.11885  \n",
       "std     0.02672  \n",
       "min     0.03645  \n",
       "25%     0.10664  \n",
       "50%     0.12557  \n",
       "75%     0.13924  \n",
       "max     0.14995  \n",
       "Name: rmsd, dtype: float64"
      ]
     },
     "execution_count": 22,
     "metadata": {},
     "output_type": "execute_result"
    }
   ],
   "source": [
    "rmsd_candidatos[rmsd_candidatos.cand1.isin(agrupado_a)].rmsd.describe()"
   ]
  },
  {
   "cell_type": "code",
   "execution_count": 23,
   "metadata": {},
   "outputs": [
    {
     "data": {
      "text/plain": [
       "<matplotlib.axes._subplots.AxesSubplot at 0x7f911f5decc0>"
      ]
     },
     "execution_count": 23,
     "metadata": {},
     "output_type": "execute_result"
    },
    {
     "data": {
      "image/png": "[encoded data removed]",
      "text/plain": [
       "<Figure size 432x288 with 1 Axes>"
      ]
     },
     "metadata": {
      "needs_background": "light"
     },
     "output_type": "display_data"
    }
   ],
   "source": [
    "rmsd_candidatos[rmsd_candidatos.cand1.isin(agrupado_a)].rmsd.hist(bins=50)"
   ]
  },
  {
   "cell_type": "code",
   "execution_count": 24,
   "metadata": {},
   "outputs": [],
   "source": [
    "candidatos_rmsd = rmsd_candidatos[rmsd_candidatos.cand1.isin(agrupado_a)]"
   ]
  },
  {
   "cell_type": "code",
   "execution_count": 25,
   "metadata": {},
   "outputs": [
    {
     "data": {
      "text/plain": [
       "Text(0.5,0,'RMSD')"
      ]
     },
     "execution_count": 25,
     "metadata": {},
     "output_type": "execute_result"
    },
    {
     "data": {
      "image/png": "[encoded data removed]",
      "text/plain": [
       "<Figure size 720x360 with 1 Axes>"
      ]
     },
     "metadata": {
      "needs_background": "light"
     },
     "output_type": "display_data"
    }
   ],
   "source": [
    "serie_rmsd.hist(bins=70,figsize = (10,5),alpha=0.2)\n",
    "candidatos_rmsd.rmsd.hist(bins=100)\n",
    "plt.title(\"\"\"Comparacion de histogramas entre el general y los \n",
    "                candidatos que solo se acoplan con a lo mas 2 candidatos\"\"\", color='w', fontsize = 18)\n",
    "plt.ylim(0,20)\n",
    "plt.xlabel('RMSD', fontsize = 16, color= 'w')"
   ]
  },
  {
   "cell_type": "markdown",
   "metadata": {},
   "source": [
    "## Analisis de distancia promedio minima (Esfera promedio)\n",
    "\n",
    "Obtener el rango de la diferencia de distancia sea adecuado para encontrar cnadidatos"
   ]
  },
  {
   "cell_type": "code",
   "execution_count": 26,
   "metadata": {},
   "outputs": [
    {
     "name": "stdout",
     "output_type": "stream",
     "text": [
      "1705808\n"
     ]
    }
   ],
   "source": [
    "from scipy.spatial import distance\n",
    "a = (0,0,0)\n",
    "\n",
    "df_cliques1['distancia_promedio'] = [np.mean([distance.euclidean(a, i[0]),distance.euclidean(a, i[1]),distance.euclidean(a, i[2])]) for i in df_cliques1.vectores_gorro]\n",
    "df_cliques2['distancia_promedio'] = [np.mean([distance.euclidean(a, i[0]),distance.euclidean(a, i[1]),distance.euclidean(a, i[2])]) for i in df_cliques2.vectores_gorro]\n",
    "\n",
    "array_dist_promedio1 = df_cliques1.values[:, 15] #del 9 al 15\n",
    "array_dist_promedio2 = df_cliques2.values[:, 15]\n",
    "\n",
    "diff_distancia = [array_dist_promedio1[i] - array_dist_promedio2[j] for i,j in candidatos_ss]\n",
    "print(len(diff_distancia))"
   ]
  },
  {
   "cell_type": "code",
   "execution_count": 27,
   "metadata": {},
   "outputs": [
    {
     "data": {
      "text/plain": [
       "<matplotlib.axes._subplots.AxesSubplot at 0x7f91257f8668>"
      ]
     },
     "execution_count": 27,
     "metadata": {},
     "output_type": "execute_result"
    },
    {
     "data": {
      "image/png": "[encoded data removed]",
      "text/plain": [
       "<Figure size 432x288 with 1 Axes>"
      ]
     },
     "metadata": {
      "needs_background": "light"
     },
     "output_type": "display_data"
    }
   ],
   "source": [
    "f1 = pd.DataFrame(rmsd_1)\n",
    "f1['diff_distance'] = diff_distancia\n",
    "f1.columns = ['rmsd','candidatos','diff_distancia']\n",
    "f1['cumple'] = np.where(f1.rmsd <= restriccion_rmsd,1,0)\n",
    "f1.groupby('cumple').diff_distancia.mean().plot.bar(rot = 0,title='Distancia promedio entre los que cumplen y los que no')\n"
   ]
  },
  {
   "cell_type": "code",
   "execution_count": 28,
   "metadata": {},
   "outputs": [
    {
     "data": {
      "text/html": [
       "<div>\n",
       "<style scoped>\n",
       "    .dataframe tbody tr th:only-of-type {\n",
       "        vertical-align: middle;\n",
       "    }\n",
       "\n",
       "    .dataframe tbody tr th {\n",
       "        vertical-align: top;\n",
       "    }\n",
       "\n",
       "    .dataframe thead th {\n",
       "        text-align: right;\n",
       "    }\n",
       "</style>\n",
       "<table border=\"1\" class=\"dataframe\">\n",
       "  <thead>\n",
       "    <tr style=\"text-align: right;\">\n",
       "      <th>cumple</th>\n",
       "      <th>0</th>\n",
       "      <th>1</th>\n",
       "    </tr>\n",
       "  </thead>\n",
       "  <tbody>\n",
       "    <tr>\n",
       "      <th>count</th>\n",
       "      <td>1698901.00000</td>\n",
       "      <td>6907.00000</td>\n",
       "    </tr>\n",
       "    <tr>\n",
       "      <th>mean</th>\n",
       "      <td>0.85053</td>\n",
       "      <td>-0.00603</td>\n",
       "    </tr>\n",
       "    <tr>\n",
       "      <th>std</th>\n",
       "      <td>2.53168</td>\n",
       "      <td>0.18670</td>\n",
       "    </tr>\n",
       "    <tr>\n",
       "      <th>min</th>\n",
       "      <td>-6.59739</td>\n",
       "      <td>-0.43448</td>\n",
       "    </tr>\n",
       "    <tr>\n",
       "      <th>25%</th>\n",
       "      <td>-0.99927</td>\n",
       "      <td>-0.13911</td>\n",
       "    </tr>\n",
       "    <tr>\n",
       "      <th>50%</th>\n",
       "      <td>0.56545</td>\n",
       "      <td>-0.00890</td>\n",
       "    </tr>\n",
       "    <tr>\n",
       "      <th>75%</th>\n",
       "      <td>2.78687</td>\n",
       "      <td>0.12369</td>\n",
       "    </tr>\n",
       "    <tr>\n",
       "      <th>max</th>\n",
       "      <td>9.48316</td>\n",
       "      <td>0.43953</td>\n",
       "    </tr>\n",
       "  </tbody>\n",
       "</table>\n",
       "</div>"
      ],
      "text/plain": [
       "cumple             0          1\n",
       "count  1698901.00000 6907.00000\n",
       "mean   0.85053       -0.00603  \n",
       "std    2.53168       0.18670   \n",
       "min    -6.59739      -0.43448  \n",
       "25%    -0.99927      -0.13911  \n",
       "50%    0.56545       -0.00890  \n",
       "75%    2.78687       0.12369   \n",
       "max    9.48316       0.43953   "
      ]
     },
     "execution_count": 28,
     "metadata": {},
     "output_type": "execute_result"
    }
   ],
   "source": [
    "f1.groupby('cumple').diff_distancia.describe().T"
   ]
  },
  {
   "cell_type": "code",
   "execution_count": 29,
   "metadata": {},
   "outputs": [
    {
     "data": {
      "text/plain": [
       "<matplotlib.axes._subplots.AxesSubplot at 0x7f911fd49ef0>"
      ]
     },
     "execution_count": 29,
     "metadata": {},
     "output_type": "execute_result"
    },
    {
     "data": {
      "image/png": "[encoded data removed]",
      "text/plain": [
       "<Figure size 432x288 with 1 Axes>"
      ]
     },
     "metadata": {
      "needs_background": "light"
     },
     "output_type": "display_data"
    }
   ],
   "source": [
    "sns.boxplot(x=\"cumple\", y=\"diff_distancia\",data=f1)"
   ]
  },
  {
   "cell_type": "code",
   "execution_count": 30,
   "metadata": {},
   "outputs": [
    {
     "data": {
      "text/plain": [
       "cumple\n",
       "0    273733\n",
       "1    6907  \n",
       "Name: rmsd, dtype: int64"
      ]
     },
     "execution_count": 30,
     "metadata": {},
     "output_type": "execute_result"
    }
   ],
   "source": [
    "limit = 0.5\n",
    "f1[(f1.diff_distancia > -limit) & (f1.diff_distancia < limit)].groupby('cumple').rmsd.count()"
   ]
  },
  {
   "cell_type": "markdown",
   "metadata": {},
   "source": [
    "--------------------"
   ]
  },
  {
   "cell_type": "markdown",
   "metadata": {},
   "source": [
    "# CHECK DE proteinas compatibles"
   ]
  },
  {
   "cell_type": "code",
   "execution_count": 2,
   "metadata": {},
   "outputs": [
    {
     "data": {
      "text/plain": [
       "'/home/serch/pdbmani/Serch'"
      ]
     },
     "execution_count": 2,
     "metadata": {},
     "output_type": "execute_result"
    }
   ],
   "source": [
    "import os\n",
    "os.getcwd()"
   ]
  },
  {
   "cell_type": "code",
   "execution_count": 57,
   "metadata": {},
   "outputs": [
    {
     "data": {
      "text/html": [
       "<div>\n",
       "<style scoped>\n",
       "    .dataframe tbody tr th:only-of-type {\n",
       "        vertical-align: middle;\n",
       "    }\n",
       "\n",
       "    .dataframe tbody tr th {\n",
       "        vertical-align: top;\n",
       "    }\n",
       "\n",
       "    .dataframe thead th {\n",
       "        text-align: right;\n",
       "    }\n",
       "</style>\n",
       "<table border=\"1\" class=\"dataframe\">\n",
       "  <thead>\n",
       "    <tr style=\"text-align: right;\">\n",
       "      <th></th>\n",
       "      <th>1</th>\n",
       "      <th>2</th>\n",
       "      <th>3</th>\n",
       "    </tr>\n",
       "  </thead>\n",
       "  <tbody>\n",
       "    <tr>\n",
       "      <th>209005</th>\n",
       "      <td>21250</td>\n",
       "      <td>1</td>\n",
       "      <td>5U9M:D</td>\n",
       "    </tr>\n",
       "    <tr>\n",
       "      <th>209006</th>\n",
       "      <td>21250</td>\n",
       "      <td>2</td>\n",
       "      <td>1QUP:B</td>\n",
       "    </tr>\n",
       "    <tr>\n",
       "      <th>209007</th>\n",
       "      <td>21250</td>\n",
       "      <td>3</td>\n",
       "      <td>1EJ8:A</td>\n",
       "    </tr>\n",
       "    <tr>\n",
       "      <th>209008</th>\n",
       "      <td>21250</td>\n",
       "      <td>4</td>\n",
       "      <td>1QUP:A</td>\n",
       "    </tr>\n",
       "    <tr>\n",
       "      <th>209009</th>\n",
       "      <td>21250</td>\n",
       "      <td>5</td>\n",
       "      <td>1JK9:B</td>\n",
       "    </tr>\n",
       "    <tr>\n",
       "      <th>209010</th>\n",
       "      <td>21250</td>\n",
       "      <td>6</td>\n",
       "      <td>5U9M:B</td>\n",
       "    </tr>\n",
       "    <tr>\n",
       "      <th>209011</th>\n",
       "      <td>21250</td>\n",
       "      <td>7</td>\n",
       "      <td>1JK9:D</td>\n",
       "    </tr>\n",
       "  </tbody>\n",
       "</table>\n",
       "</div>"
      ],
      "text/plain": [
       "            1  2       3\n",
       "209005  21250  1  5U9M:D\n",
       "209006  21250  2  1QUP:B\n",
       "209007  21250  3  1EJ8:A\n",
       "209008  21250  4  1QUP:A\n",
       "209009  21250  5  1JK9:B\n",
       "209010  21250  6  5U9M:B\n",
       "209011  21250  7  1JK9:D"
      ]
     },
     "execution_count": 57,
     "metadata": {},
     "output_type": "execute_result"
    }
   ],
   "source": [
    "cluster = pd.read_csv('/home/serch/Descargas/clusters95.txt', sep='\\t', names=[1,2,3])\n",
    "cluster[cluster[1] == 21250]"
   ]
  },
  {
   "cell_type": "markdown",
   "metadata": {},
   "source": [
    "# Prueba de cuanto tiempo se tarda por cada 1M de candidatos"
   ]
  },
  {
   "cell_type": "code",
   "execution_count": 77,
   "metadata": {},
   "outputs": [
    {
     "name": "stdout",
     "output_type": "stream",
     "text": [
      "CPU times: user 8.59 s, sys: 240 ms, total: 8.83 s\n",
      "Wall time: 49.5 s\n"
     ]
    }
   ],
   "source": [
    "%%time\n",
    "p = multiprocessing.Pool(multiprocessing.cpu_count()-1)\n",
    "rmsd_1 = p.map(partial(fc.calculate_rmsd_rot_trans_m,  \n",
    "                    array_cliques1 = array_df_cliques1, \n",
    "                    array_cliques2 = array_df_cliques2, \n",
    "                    num_cliques = num_cliques), candidatos_ss[:int(1e6)])"
   ]
  },
  {
   "cell_type": "markdown",
   "metadata": {},
   "source": [
    "__Por cada Millon de candidatos el tiempo de computo estimado es de 45 segundos__"
   ]
  },
  {
   "cell_type": "code",
   "execution_count": 17,
   "metadata": {},
   "outputs": [
    {
     "name": "stdout",
     "output_type": "stream",
     "text": [
      "51.2 s ± 1.11 s per loop (mean ± std. dev. of 7 runs, 1 loop each)\n"
     ]
    }
   ],
   "source": [
    "%%timeit\n",
    "p = multiprocessing.Pool(multiprocessing.cpu_count()-1)\n",
    "rmsd_1 = p.map(partial(fc.calculate_rmsd_rot_trans_m,  \n",
    "                    array_cliques1 = array_df_cliques1, \n",
    "                    array_cliques2 = array_df_cliques2, \n",
    "                    num_cliques = num_cliques), candidatos_ss[:int(1e6)])"
   ]
  },
  {
   "cell_type": "markdown",
   "metadata": {},
   "source": [
    "----------"
   ]
  },
  {
   "cell_type": "markdown",
   "metadata": {},
   "source": [
    "# Muestreo de proteinas para obtener el rango de distancia donde funciona el filtro"
   ]
  },
  {
   "cell_type": "code",
   "execution_count": 111,
   "metadata": {},
   "outputs": [],
   "source": [
    "# assert( len(sys.argv) > 1)\n",
    "# lectura de archivo\n",
    "file1 = 'pdbs/1xxa.pdb' # sys.argv[1]\n",
    "file2 = 'pdbs/1tig.pdb' # sys.argv[2]\n",
    "\n",
    "# numero de cliques, preguntar en el software para generalizarlo...\n",
    "num_cliques = 4\n",
    "\n",
    "# se define la estructura\n",
    "pdb1 = rpt.PdbStruct(\"first\")\n",
    "pdb2 = rpt.PdbStruct(\"second\")\n",
    "\n",
    "# se lee el pdb y se agrega al objeto\n",
    "pdb1.AddPdbData(\"%s\" % file1)\n",
    "pdb2.AddPdbData(\"%s\" % file2)\n",
    "\n",
    "# se obtienen los residuos que perteneces a la cadena de interes por default chain = 'A'\n",
    "pdb11 = pdb1.GetResChain()\n",
    "pdb22 = pdb2.GetResChain()\n",
    "\n",
    "ss1 = pdb1.Get_SS(file1)\n",
    "ss2 = pdb1.Get_SS(file2)"
   ]
  },
  {
   "cell_type": "code",
   "execution_count": 112,
   "metadata": {},
   "outputs": [],
   "source": [
    "# se crea atributo a cada residuo\n",
    "for i, j in zip(pdb11, ss1.structure.values):\n",
    "    setattr(i, 'structure', j)\n",
    "for i, j in zip(pdb22, ss2.structure.values):\n",
    "    setattr(i, 'structure', j)"
   ]
  },
  {
   "cell_type": "code",
   "execution_count": 113,
   "metadata": {},
   "outputs": [],
   "source": [
    "def get_df_distancias(ref):\n",
    "    \"\"\"Funcion para obtener el dataframe de distancias de cada proteina\"\"\"\n",
    "    # se generan listas con coordenadas y numero de atomo\n",
    "    coord = [res.GetAtom('CA').coord for res in ref]\n",
    "    index = [res.resi for res in ref]\n",
    "\n",
    "    # calcula distancia y regresa dataframe\n",
    "    distancias = []\n",
    "    # se calcula la distancia euclidiana entre cada atomo de carbon alfalfa\n",
    "    for v in coord:\n",
    "        distancia_un_atomo = []\n",
    "        for av in coord:\n",
    "            distancia = pdist(np.array([v, av]), metric='euclidean').item()\n",
    "            distancia_un_atomo.append(distancia)\n",
    "        distancias.append(distancia_un_atomo)\n",
    "\n",
    "    # se genera la matriz de adyacencias para la red\n",
    "    df_da = pd.DataFrame(index=index, columns=index, data=distancias)\n",
    "    return(df_da, index)\n",
    "\n",
    "\n",
    "df_distancias1, index1 = get_df_distancias(pdb11)\n",
    "df_distancias2, index2 = get_df_distancias(pdb22)"
   ]
  },
  {
   "cell_type": "code",
   "execution_count": 114,
   "metadata": {},
   "outputs": [
    {
     "name": "stdout",
     "output_type": "stream",
     "text": [
      "numero de cliques maximos encontrados: 158\n",
      "numero de 4-cliques posibles: 2989\n",
      "****************************************************************************************************\n",
      "numero de cliques maximos encontrados: 246\n",
      "numero de 4-cliques posibles: 3106\n",
      "****************************************************************************************************\n"
     ]
    }
   ],
   "source": [
    "# se generan cliques, tte devuleve dataframe con cliques de 3 y la lista de cliques sin partir\n",
    "df_cliques1, cliques1 = fc.gen_3_cliques(df_distancias1, dth=10, k=num_cliques)\n",
    "print('**'*50)\n",
    "df_cliques2, cliques2 = fc.gen_3_cliques(df_distancias2, dth=10, k=num_cliques)\n",
    "print('**'*50)"
   ]
  },
  {
   "cell_type": "code",
   "execution_count": 115,
   "metadata": {},
   "outputs": [],
   "source": [
    "def get_df_ca(list_of_residues):\n",
    "    \"\"\"Genera dataframe con la informacion necesaria para las siguientes funciones\n",
    "    FALTA DOCUMENTAR ESTA COSA!!!!\"\"\"\n",
    "    #crear df_ca\n",
    "    atom_number = []\n",
    "    atom_name = []\n",
    "    residue_name = []\n",
    "    residue_number = []\n",
    "    coord = []\n",
    "    for res in list_of_residues:\n",
    "        for atom in res.atoms:\n",
    "            atom_number.append(atom.atom_number)\n",
    "            atom_name.append(atom.name)\n",
    "            residue_name.append(res.resn)\n",
    "            residue_number.append(res.resi)\n",
    "            coord.append(atom.coord)\n",
    "\n",
    "    df_atoms = pd.DataFrame(columns=['atom_number', 'atom_name', 'residue_name',\n",
    "                                   'residue_number', 'vector'])\n",
    "    df_atoms.atom_number = atom_number\n",
    "    df_atoms.atom_name = atom_name\n",
    "    df_atoms.residue_name = residue_name\n",
    "    df_atoms.residue_number = residue_number\n",
    "    df_atoms.vector = coord\n",
    "\n",
    "    return(df_atoms)\n",
    "\n",
    "\n",
    "# CREAR DF_atomos_CA #\n",
    "df_atoms1 = get_df_ca(pdb11)\n",
    "df_atoms2 = get_df_ca(pdb22)"
   ]
  },
  {
   "cell_type": "code",
   "execution_count": 116,
   "metadata": {},
   "outputs": [],
   "source": [
    "# se le pega la estructura secundaria al dataframe de los cliques\n",
    "# esto va a cambiar por que lo tiene que obtener del objeto residuo\n",
    "# ya se crea en ss1 y no cuesta reevaluar si es mejor desde el residuo\n",
    "# checar que es mas rapido si desde residuo o desde dataframe ss\n",
    "df_cliques1 = fc.paste_SS(ss1, df_cliques1, num_cliques = num_cliques)\n",
    "df_cliques2 = fc.paste_SS(ss2, df_cliques2, num_cliques = num_cliques)"
   ]
  },
  {
   "cell_type": "code",
   "execution_count": 117,
   "metadata": {},
   "outputs": [],
   "source": [
    "# comparacion SSM #aqui se obtienen los candidatos posibles pasando el filtro de SS\n",
    "candidatos_ss = fc.compare_SS(df_cliques1,df_cliques2, num_cliques=num_cliques)"
   ]
  },
  {
   "cell_type": "code",
   "execution_count": 118,
   "metadata": {},
   "outputs": [],
   "source": [
    "# get coords of cliques\n",
    "df_cliques1 = fc.get_coords_clique(df_atoms1, df_cliques1, num_cliques)\n",
    "df_cliques2 = fc.get_coords_clique(df_atoms2, df_cliques2, num_cliques)"
   ]
  },
  {
   "cell_type": "code",
   "execution_count": 119,
   "metadata": {},
   "outputs": [],
   "source": [
    "# baricentro clique\n",
    "df_cliques1 = fc.baricenter_clique(df_cliques1, num_cliques)\n",
    "df_cliques2 = fc.baricenter_clique(df_cliques2, num_cliques)"
   ]
  },
  {
   "cell_type": "code",
   "execution_count": 120,
   "metadata": {},
   "outputs": [],
   "source": [
    "# vectores gorro\n",
    "df_cliques1 = fc.center_vectors(df_cliques1, num_cliques)\n",
    "df_cliques2 = fc.center_vectors(df_cliques2, num_cliques)"
   ]
  },
  {
   "cell_type": "code",
   "execution_count": 121,
   "metadata": {},
   "outputs": [],
   "source": [
    "idx_rmsd1, idx_rmsd2 = 3*num_cliques, 4*num_cliques+3\n",
    "# print(list(range(idx_rmsd1,idx_rmsd2)))\n",
    "# se pasan a numpy arrays para mayor rapidez\n",
    "array_df_cliques1 = df_cliques1.values[:, range(idx_rmsd1, idx_rmsd2)] #del 9 al 15\n",
    "array_df_cliques2 = df_cliques2.values[:, range(idx_rmsd1, idx_rmsd2)]"
   ]
  },
  {
   "cell_type": "code",
   "execution_count": 122,
   "metadata": {},
   "outputs": [
    {
     "name": "stdout",
     "output_type": "stream",
     "text": [
      "3364628\n"
     ]
    }
   ],
   "source": [
    "#calculo del RMSD\n",
    "print(len(candidatos_ss))"
   ]
  },
  {
   "cell_type": "code",
   "execution_count": 147,
   "metadata": {},
   "outputs": [],
   "source": [
    "#def get_distance(num_cliques):\n",
    "a = (0,0,0)\n",
    "dist = distance.euclidean\n",
    "if num_cliques == 3:\n",
    "    df_cliques1['distancia_promedio'] = [np.mean(\n",
    "    [dist(a, i[0]),dist(a, i[1]),dist(a, i[2])]) for i in df_cliques1.vectores_gorro]\n",
    "    df_cliques2['distancia_promedio'] = [np.mean(\n",
    "    [dist(a, i[0]),dist(a, i[1]),dist(a, i[2])]) for i in df_cliques2.vectores_gorro]\n",
    "    \n",
    "elif num_cliques == 4:\n",
    "    df_cliques1['distancia_promedio'] = [np.mean(\n",
    "    [dist(a, i[0]),dist(a, i[1]),dist(a, i[2]),dist(a, i[3])]) for i in df_cliques1.vectores_gorro]\n",
    "    df_cliques2['distancia_promedio'] = [np.mean(\n",
    "    [dist(a, i[0]),dist(a, i[1]),dist(a, i[2]),dist(a, i[3])]) for i in df_cliques2.vectores_gorro]\n",
    "    \n",
    "elif num_cliques == 5:\n",
    "    df_cliques1['distancia_promedio'] = [np.mean(\n",
    "    [dist(a, i[0]),dist(a, i[1]),dist(a, i[2]),dist(a, i[3]),dist(a, i[4])]) for i in df_cliques1.vectores_gorro]\n",
    "    df_cliques2['distancia_promedio'] = [np.mean(\n",
    "    [dist(a, i[0]),dist(a, i[1]),dist(a, i[2]),dist(a, i[3]),dist(a, i[4])]) for i in df_cliques2.vectores_gorro]\n",
    "    \n",
    "elif num_cliques == 6:\n",
    "    df_cliques1['distancia_promedio'] = [np.mean(\n",
    "    [dist(a, i[0]),dist(a, i[1]),dist(a, i[2]),dist(a, i[3]),dist(a, i[4]),dist(a, i[5])]) for i in df_cliques1.vectores_gorro]\n",
    "    df_cliques2['distancia_promedio'] = [np.mean(\n",
    "    [dist(a, i[0]),dist(a, i[1]),dist(a, i[2]),dist(a, i[3]),dist(a, i[4]),dist(a, i[5])]) for i in df_cliques2.vectores_gorro]\n",
    "    \n",
    "elif num_cliques == 7:\n",
    "    df_cliques1['distancia_promedio'] = [np.mean(\n",
    "    [dist(a, i[0]),dist(a, i[1]),dist(a, i[2]),dist(a, i[3]),dist(a, i[4]),dist(a, i[5]),dist(a, i[6])]) for i in df_cliques1.vectores_gorro]\n",
    "    df_cliques2['distancia_promedio'] = [np.mean(\n",
    "    [dist(a, i[0]),dist(a, i[1]),dist(a, i[2]),dist(a, i[3]),dist(a, i[4]),dist(a, i[5]),dist(a, i[6])]) for i in df_cliques2.vectores_gorro]\n",
    "    \n",
    "elif num_cliques == 8:\n",
    "    df_cliques1['distancia_promedio'] = [np.mean(\n",
    "    [dist(a, i[0]),dist(a, i[1]),dist(a, i[2]),dist(a, i[3]),dist(a, i[4]),dist(a, i[5]),dist(a, i[6]),dist(a, i[7])]) for i in df_cliques1.vectores_gorro]\n",
    "    df_cliques2['distancia_promedio'] = [np.mean(\n",
    "    [dist(a, i[0]),dist(a, i[1]),dist(a, i[2]),dist(a, i[3]),dist(a, i[4]),dist(a, i[5]),dist(a, i[6]),dist(a, i[7])]) for i in df_cliques2.vectores_gorro]\n",
    "\n",
    "else:\n",
    "    print('laregatis')\n",
    "    exit()\n",
    "\n",
    "array_dist_promedio1 = df_cliques1.values[:, -1] #del 9 al 15\n",
    "array_dist_promedio2 = df_cliques2.values[:, -1]\n",
    "\n",
    "diff_distancia = [array_dist_promedio1[i] - array_dist_promedio2[j] for i,j in candidatos_ss]"
   ]
  },
  {
   "cell_type": "code",
   "execution_count": null,
   "metadata": {},
   "outputs": [],
   "source": []
  },
  {
   "cell_type": "code",
   "execution_count": 148,
   "metadata": {},
   "outputs": [],
   "source": [
    "### Esto es lo que quieres probar... tardara 2 hrs para este analisis :(\n",
    "# candidatos_filter_dist = [(i, j) for i, j in candidatos_ss if (\n",
    "#         array_dist_promedio1[i] - array_dist_promedio2[j] >= -0.5) & (\n",
    "#         array_dist_promedio1[i] - array_dist_promedio2[j] <= 0.5)]\n",
    "\n",
    "# print(len(candidatos_ss))\n",
    "# print(len(candidatos_filter_dist))"
   ]
  },
  {
   "cell_type": "code",
   "execution_count": 149,
   "metadata": {},
   "outputs": [],
   "source": [
    "restriccion_rmsd = 0.15\n",
    "if num_cliques == 4:\n",
    "    restriccion_rmsd = 0.30\n",
    "if num_cliques == 5:\n",
    "    restriccion_rmsd = 0.60\n",
    "if num_cliques == 7:\n",
    "    restriccion_rmsd = 1.50\n",
    "if num_cliques == 8:\n",
    "    restriccion_rmsd = 1.80"
   ]
  },
  {
   "cell_type": "code",
   "execution_count": 150,
   "metadata": {},
   "outputs": [
    {
     "name": "stdout",
     "output_type": "stream",
     "text": [
      "numero de candidatos: 3364628\n",
      "CPU times: user 19.3 s, sys: 507 ms, total: 19.8 s\n",
      "Wall time: 3min 13s\n"
     ]
    }
   ],
   "source": [
    "%%time\n",
    "p = multiprocessing.Pool(multiprocessing.cpu_count()-1)\n",
    "rmsd_1 = p.map(partial(fc.calculate_rmsd_rot_trans_m,  \n",
    "                    array_cliques1 = array_df_cliques1, \n",
    "                    array_cliques2 = array_df_cliques2, \n",
    "                    num_cliques = num_cliques), candidatos_ss)\n",
    "\n",
    "print('numero de candidatos:', len(rmsd_1))"
   ]
  },
  {
   "cell_type": "code",
   "execution_count": 151,
   "metadata": {},
   "outputs": [],
   "source": [
    "f1 = pd.DataFrame(rmsd_1)\n",
    "f1.columns = ['rmsd','candidatos']\n",
    "f1['cumple'] = np.where(f1.rmsd <= restriccion_rmsd,1,0)\n",
    "f1['diff_distancia'] = diff_distancia"
   ]
  },
  {
   "cell_type": "code",
   "execution_count": 154,
   "metadata": {},
   "outputs": [
    {
     "data": {
      "text/html": [
       "<div>\n",
       "<style scoped>\n",
       "    .dataframe tbody tr th:only-of-type {\n",
       "        vertical-align: middle;\n",
       "    }\n",
       "\n",
       "    .dataframe tbody tr th {\n",
       "        vertical-align: top;\n",
       "    }\n",
       "\n",
       "    .dataframe thead th {\n",
       "        text-align: right;\n",
       "    }\n",
       "</style>\n",
       "<table border=\"1\" class=\"dataframe\">\n",
       "  <thead>\n",
       "    <tr style=\"text-align: right;\">\n",
       "      <th>cumple</th>\n",
       "      <th>0</th>\n",
       "      <th>1</th>\n",
       "    </tr>\n",
       "  </thead>\n",
       "  <tbody>\n",
       "    <tr>\n",
       "      <th>count</th>\n",
       "      <td>3356489.00000</td>\n",
       "      <td>8139.00000</td>\n",
       "    </tr>\n",
       "    <tr>\n",
       "      <th>mean</th>\n",
       "      <td>1.02894</td>\n",
       "      <td>-0.03682</td>\n",
       "    </tr>\n",
       "    <tr>\n",
       "      <th>std</th>\n",
       "      <td>2.31307</td>\n",
       "      <td>0.30946</td>\n",
       "    </tr>\n",
       "    <tr>\n",
       "      <th>min</th>\n",
       "      <td>-6.90033</td>\n",
       "      <td>-0.88488</td>\n",
       "    </tr>\n",
       "    <tr>\n",
       "      <th>25%</th>\n",
       "      <td>-0.72364</td>\n",
       "      <td>-0.26170</td>\n",
       "    </tr>\n",
       "    <tr>\n",
       "      <th>50%</th>\n",
       "      <td>0.85558</td>\n",
       "      <td>-0.03744</td>\n",
       "    </tr>\n",
       "    <tr>\n",
       "      <th>75%</th>\n",
       "      <td>2.81990</td>\n",
       "      <td>0.18430</td>\n",
       "    </tr>\n",
       "    <tr>\n",
       "      <th>max</th>\n",
       "      <td>9.93865</td>\n",
       "      <td>0.81540</td>\n",
       "    </tr>\n",
       "  </tbody>\n",
       "</table>\n",
       "</div>"
      ],
      "text/plain": [
       "cumple             0          1\n",
       "count  3356489.00000 8139.00000\n",
       "mean   1.02894       -0.03682  \n",
       "std    2.31307       0.30946   \n",
       "min    -6.90033      -0.88488  \n",
       "25%    -0.72364      -0.26170  \n",
       "50%    0.85558       -0.03744  \n",
       "75%    2.81990       0.18430   \n",
       "max    9.93865       0.81540   "
      ]
     },
     "execution_count": 154,
     "metadata": {},
     "output_type": "execute_result"
    }
   ],
   "source": [
    "f1.groupby('cumple').diff_distancia.describe().T"
   ]
  },
  {
   "cell_type": "code",
   "execution_count": null,
   "metadata": {},
   "outputs": [],
   "source": []
  }
 ],
 "metadata": {
  "kernelspec": {
   "display_name": "Python 3",
   "language": "python",
   "name": "python3"
  },
  "language_info": {
   "codemirror_mode": {
    "name": "ipython",
    "version": 3
   },
   "file_extension": ".py",
   "mimetype": "text/x-python",
   "name": "python",
   "nbconvert_exporter": "python",
   "pygments_lexer": "ipython3",
   "version": "3.7.0"
  }
 },
 "nbformat": 4,
 "nbformat_minor": 2
}
