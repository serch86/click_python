{
 "cells": [
  {
   "cell_type": "markdown",
   "metadata": {},
   "source": [
    "# Analisis para saber si se van a alinear o se pueden alinear adecuadamente los candidatos"
   ]
  },
  {
   "cell_type": "code",
   "execution_count": 1,
   "metadata": {},
   "outputs": [],
   "source": [
    "import pandas as pd\n",
    "import numpy as np\n",
    "import matplotlib.pyplot as plt\n",
    "import sys\n",
    "sys.path.append('../')\n",
    "sys.path.append('../math_tricks/')\n",
    "import funciones_CLICK as fc\n",
    "%matplotlib inline"
   ]
  },
  {
   "cell_type": "code",
   "execution_count": 2,
   "metadata": {},
   "outputs": [],
   "source": [
    "new_df_cliques1 = pd.read_pickle('../clique1.pkl')\n",
    "new_df_cliques2 = pd.read_pickle('../clique2.pkl')\n",
    "\n",
    "candidatos = pd.read_csv('../candidatos.csv')\n",
    "\n",
    "# max_clique1 = pd.read_csv('../clique1_maximal.csv')\n",
    "# max_clique2 = pd.read_csv('../clique2_maximal.csv')\n",
    "\n",
    "df_atoms1 = pd.read_pickle('../clique1_df_atributos.pkl')\n",
    "df_atoms2 = pd.read_pickle('../clique2_df_atributos.pkl')\n",
    "\n",
    "rmsd = pd.read_pickle(\"../rmsd_picke.pkl\").reset_index(drop=True)\n",
    "# rmsd.columns = ['rmsd','candidatos','matriz_de_rotacion']"
   ]
  },
  {
   "cell_type": "code",
   "execution_count": 3,
   "metadata": {},
   "outputs": [
    {
     "name": "stdout",
     "output_type": "stream",
     "text": [
      "CPU times: user 151 ms, sys: 16.3 ms, total: 167 ms\n",
      "Wall time: 166 ms\n"
     ]
    }
   ],
   "source": [
    "%%time\n",
    "lista_vectores_gorro = []\n",
    "for i,bari in enumerate(new_df_cliques1.baricentro_clique.values):\n",
    "    lista_pre_vectores = []\n",
    "#     if i < 5:\n",
    "    for coord in df_atoms1.vector.values:\n",
    "#             print(bari,coord)\n",
    "        lista_pre_vectores.append(coord - bari)\n",
    "#             print('aa'*20)\n",
    "    lista_vectores_gorro.append(lista_pre_vectores)"
   ]
  },
  {
   "cell_type": "code",
   "execution_count": 4,
   "metadata": {},
   "outputs": [],
   "source": [
    "vectores_gorro_proteina_1 = pd.DataFrame(lista_vectores_gorro)"
   ]
  },
  {
   "cell_type": "code",
   "execution_count": 5,
   "metadata": {},
   "outputs": [
    {
     "name": "stdout",
     "output_type": "stream",
     "text": [
      "CPU times: user 144 ms, sys: 23.9 ms, total: 168 ms\n",
      "Wall time: 166 ms\n"
     ]
    }
   ],
   "source": [
    "%%time\n",
    "lista_vectores_gorro = []\n",
    "for i,bari in enumerate(new_df_cliques2.baricentro_clique.values):\n",
    "    lista_pre_vectores = []\n",
    "#     if i < 5:\n",
    "    for coord in df_atoms2.vector.values:\n",
    "#             print(bari,coord)\n",
    "        lista_pre_vectores.append(coord - bari)\n",
    "#             print('aa'*20)\n",
    "    lista_vectores_gorro.append(lista_pre_vectores)"
   ]
  },
  {
   "cell_type": "code",
   "execution_count": 6,
   "metadata": {},
   "outputs": [],
   "source": [
    "vectores_gorro_proteina_2 = pd.DataFrame(lista_vectores_gorro)"
   ]
  },
  {
   "cell_type": "code",
   "execution_count": 7,
   "metadata": {},
   "outputs": [
    {
     "name": "stdout",
     "output_type": "stream",
     "text": [
      "1.202217064689433\n",
      "1.2783052485104345\n"
     ]
    },
    {
     "data": {
      "image/png": "[encoded data removed]",
      "text/plain": [
       "<Figure size 432x288 with 1 Axes>"
      ]
     },
     "metadata": {
      "needs_background": "light"
     },
     "output_type": "display_data"
    }
   ],
   "source": [
    "rmsd.rmsd.hist(bins=50)\n",
    "print(rmsd.rmsd.mean())\n",
    "print(rmsd.rmsd.median())"
   ]
  },
  {
   "cell_type": "markdown",
   "metadata": {},
   "source": [
    "# Alineamiento de uno"
   ]
  },
  {
   "cell_type": "code",
   "execution_count": 148,
   "metadata": {},
   "outputs": [
    {
     "data": {
      "text/plain": [
       "rmsd                 0.00622                                                                                                                                                                                                 \n",
       "candidatos            (291, 182)                                                                                                                                                                                             \n",
       "matriz_rotacion       [[-0.9983009414423969, -0.048634907300823496, 0.032091682833166615], [0.029008789788845985, 0.06282036211591413, 0.9976031737212007], [-0.0505343490134265, 0.9968391283930752, -0.061302786839779855]]\n",
       "candidato_clique_1    291                                                                                                                                                                                                    \n",
       "candidato_clique_2    182                                                                                                                                                                                                    \n",
       "Name: 16194, dtype: object"
      ]
     },
     "execution_count": 148,
     "metadata": {},
     "output_type": "execute_result"
    }
   ],
   "source": [
    "# candidato que obtuve menor RMSD\n",
    "rmsd.iloc[rmsd.rmsd.idxmin()]"
   ]
  },
  {
   "cell_type": "code",
   "execution_count": 12,
   "metadata": {},
   "outputs": [
    {
     "data": {
      "text/plain": [
       "0   145.00000\n",
       "1   146.00000\n",
       "2   147.00000\n",
       "3   148.00000\n",
       "4   149.00000\n",
       "Name: 130, dtype: object"
      ]
     },
     "execution_count": 12,
     "metadata": {},
     "output_type": "execute_result"
    }
   ],
   "source": [
    "# Atributos del clique 1 de la proteina 1\n",
    "new_df_cliques1.iloc[rmsd.iloc[rmsd.rmsd.idxmin()].candidato_clique_1].head()"
   ]
  },
  {
   "cell_type": "code",
   "execution_count": 13,
   "metadata": {},
   "outputs": [
    {
     "data": {
      "text/plain": [
       "0   100.00000\n",
       "1   101.00000\n",
       "2   102.00000\n",
       "3   103.00000\n",
       "4   104.00000\n",
       "Name: 246, dtype: object"
      ]
     },
     "execution_count": 13,
     "metadata": {},
     "output_type": "execute_result"
    }
   ],
   "source": [
    "# Atributos del clique 2 de la proteina 2\n",
    "new_df_cliques2.iloc[rmsd.iloc[rmsd.rmsd.idxmin()].candidato_clique_2].head()"
   ]
  },
  {
   "cell_type": "code",
   "execution_count": 14,
   "metadata": {},
   "outputs": [
    {
     "data": {
      "text/plain": [
       "0    [9.193000000000001, -4.62828571428571, 6.91714285714286]  \n",
       "1    [9.755000000000003, -5.12828571428571, 5.674142857142858] \n",
       "2    [8.824000000000002, -4.712285714285713, 4.53914285714286] \n",
       "3    [7.602, -4.7542857142857144, 4.67914285714286]            \n",
       "4    [9.905000000000001, -6.659285714285716, 5.738142857142858]\n",
       "Name: 130, dtype: object"
      ]
     },
     "execution_count": 14,
     "metadata": {},
     "output_type": "execute_result"
    }
   ],
   "source": [
    "# vectores gorro de la proteina 1\n",
    "vectores_gorro_proteina_1.iloc[130].head()"
   ]
  },
  {
   "cell_type": "code",
   "execution_count": 15,
   "metadata": {},
   "outputs": [
    {
     "data": {
      "text/plain": [
       "0    [17.24214285714286, -7.589142857142856, 23.395142857142854] \n",
       "1    [16.450142857142858, -7.487142857142856, 24.685142857142857]\n",
       "2    [15.287142857142857, -6.498142857142856, 24.476142857142854]\n",
       "3    [14.202142857142857, -6.630142857142856, 25.042142857142856]\n",
       "4    [17.363142857142858, -7.030142857142856, 25.865142857142857]\n",
       "Name: 246, dtype: object"
      ]
     },
     "execution_count": 15,
     "metadata": {},
     "output_type": "execute_result"
    }
   ],
   "source": [
    "# vectores gorro de la proteina 2\n",
    "vectores_gorro_proteina_2.iloc[246].head()"
   ]
  },
  {
   "cell_type": "code",
   "execution_count": 16,
   "metadata": {},
   "outputs": [
    {
     "data": {
      "text/plain": [
       "(532, 5)"
      ]
     },
     "execution_count": 16,
     "metadata": {},
     "output_type": "execute_result"
    }
   ],
   "source": [
    "# proteina 1\n",
    "df_atoms1.shape"
   ]
  },
  {
   "cell_type": "code",
   "execution_count": 17,
   "metadata": {},
   "outputs": [
    {
     "data": {
      "text/plain": [
       "(878, 5)"
      ]
     },
     "execution_count": 17,
     "metadata": {},
     "output_type": "execute_result"
    }
   ],
   "source": [
    "# proteina 2\n",
    "df_atoms2.shape"
   ]
  },
  {
   "cell_type": "code",
   "execution_count": 149,
   "metadata": {},
   "outputs": [],
   "source": [
    "def rotation_vectors(vector_gorro, matriz_rotacion):\n",
    "    \"\"\"obtencion de vector rotado,\n",
    "    utilizando la matriz de rotacion\n",
    "    y los vectores gorro a rotar y trasladar\"\"\"\n",
    "\n",
    "    coord_rotado_trasladado = [np.matmul(\n",
    "        matriz_rotacion, i.reshape(3, 1)).T[0] for i in vector_gorro]\n",
    "    return (coord_rotado_trasladado)"
   ]
  },
  {
   "cell_type": "code",
   "execution_count": 19,
   "metadata": {},
   "outputs": [],
   "source": [
    "# se obtiene la matriz de rotacion del menor rmsd\n",
    "# se aplica a todos los vectores gorro de la proteina 1 que ya se le quito el baricentro del candidato 1\n",
    "matriz_rotacion = rmsd.iloc[rmsd.rmsd.idxmin()].matriz_rotacion\n",
    "vector_gorro = vectores_gorro_proteina_1.iloc[130].values\n",
    "#se obtienen coordendas rotadas\n",
    "coord_vectores_rotados = [np.matmul(matriz_rotacion, i.reshape(3, 1)).T[0] for i in vector_gorro]"
   ]
  },
  {
   "cell_type": "code",
   "execution_count": 20,
   "metadata": {},
   "outputs": [],
   "source": [
    "# las coordenadas anteriores se le suma el baricentro del candidato seleccionado de la proteina 2\n",
    "baricentro_proteina_2 = new_df_cliques2.iloc[rmsd.iloc[rmsd.rmsd.idxmin()].candidato_clique_2].baricentro_clique\n",
    "vector_rotado_trasladado_a_clique2 = coord_vectores_rotados + baricentro_proteina_2 #nuevas coordendas proteina 1"
   ]
  },
  {
   "cell_type": "code",
   "execution_count": 21,
   "metadata": {},
   "outputs": [],
   "source": [
    "df_atoms2['x'] = [i[0] for i in df_atoms2.vector]\n",
    "df_atoms2['y'] = [i[1] for i in df_atoms2.vector]\n",
    "df_atoms2['z'] = [i[2] for i in df_atoms2.vector]"
   ]
  },
  {
   "cell_type": "code",
   "execution_count": 22,
   "metadata": {},
   "outputs": [],
   "source": [
    "new_df_atom1 = pd.concat([df_atoms1,pd.DataFrame(vector_rotado_trasladado_a_clique2,columns=['x','y','z'])],1)\n",
    "new_df_atom1.head()\n",
    "new_df_atom1[['atom_name','x','y','z']].to_csv('1xxa_rot_tras.xyz',sep=' ',header=False,index=False)"
   ]
  },
  {
   "cell_type": "code",
   "execution_count": 23,
   "metadata": {},
   "outputs": [],
   "source": [
    "df_atoms2.head()\n",
    "df_atoms2[['atom_name','x','y','z']].to_csv('1tig.xyz',sep=' ',header=False,index=False)"
   ]
  },
  {
   "cell_type": "code",
   "execution_count": 24,
   "metadata": {},
   "outputs": [],
   "source": [
    "# np.array(rmsd['2'].values[0].split('\\n')[0][3:-1].split(), dtype=float) for i in rmsd['2'].shape[0]"
   ]
  },
  {
   "cell_type": "code",
   "execution_count": 38,
   "metadata": {},
   "outputs": [],
   "source": [
    "new_df_atom1['new_vector'] = [ [new_df_atom1.iloc[i]['x'],new_df_atom1.iloc[i]['y'],new_df_atom1.iloc[i]['z']] for i in range(new_df_atom1.shape[0])]\n",
    "# new_df_atom1"
   ]
  },
  {
   "cell_type": "code",
   "execution_count": 66,
   "metadata": {},
   "outputs": [
    {
     "data": {
      "text/html": [
       "<div>\n",
       "<style scoped>\n",
       "    .dataframe tbody tr th:only-of-type {\n",
       "        vertical-align: middle;\n",
       "    }\n",
       "\n",
       "    .dataframe tbody tr th {\n",
       "        vertical-align: top;\n",
       "    }\n",
       "\n",
       "    .dataframe thead th {\n",
       "        text-align: right;\n",
       "    }\n",
       "</style>\n",
       "<table border=\"1\" class=\"dataframe\">\n",
       "  <thead>\n",
       "    <tr style=\"text-align: right;\">\n",
       "      <th></th>\n",
       "      <th>atom_number</th>\n",
       "      <th>atom_name</th>\n",
       "      <th>residue_name</th>\n",
       "      <th>residue_number</th>\n",
       "      <th>vector</th>\n",
       "      <th>x</th>\n",
       "      <th>y</th>\n",
       "      <th>z</th>\n",
       "      <th>new_vector</th>\n",
       "    </tr>\n",
       "  </thead>\n",
       "  <tbody>\n",
       "    <tr>\n",
       "      <th>0</th>\n",
       "      <td>1</td>\n",
       "      <td>N</td>\n",
       "      <td>LEU</td>\n",
       "      <td>82</td>\n",
       "      <td>[28.39, 57.093, 26.056]</td>\n",
       "      <td>-3.91110</td>\n",
       "      <td>15.90738</td>\n",
       "      <td>-5.00935</td>\n",
       "      <td>[-3.9110999059406693, 15.9073833727848, -5.009353798739884]</td>\n",
       "    </tr>\n",
       "    <tr>\n",
       "      <th>1</th>\n",
       "      <td>2</td>\n",
       "      <td>CA</td>\n",
       "      <td>LEU</td>\n",
       "      <td>82</td>\n",
       "      <td>[28.952, 56.593, 24.813]</td>\n",
       "      <td>-4.46911</td>\n",
       "      <td>14.64106</td>\n",
       "      <td>-5.45202</td>\n",
       "      <td>[-4.469109275578163, 14.641064575452297, -5.45202212482516]</td>\n",
       "    </tr>\n",
       "  </tbody>\n",
       "</table>\n",
       "</div>"
      ],
      "text/plain": [
       "   atom_number atom_name residue_name  residue_number  \\\n",
       "0  1            N         LEU          82               \n",
       "1  2            CA        LEU          82               \n",
       "\n",
       "                     vector        x        y        z  \\\n",
       "0  [28.39, 57.093, 26.056]  -3.91110 15.90738 -5.00935   \n",
       "1  [28.952, 56.593, 24.813] -4.46911 14.64106 -5.45202   \n",
       "\n",
       "                                                    new_vector  \n",
       "0  [-3.9110999059406693, 15.9073833727848, -5.009353798739884]  \n",
       "1  [-4.469109275578163, 14.641064575452297, -5.45202212482516]  "
      ]
     },
     "execution_count": 66,
     "metadata": {},
     "output_type": "execute_result"
    }
   ],
   "source": [
    "new_df_atom1.head(2)"
   ]
  },
  {
   "cell_type": "code",
   "execution_count": 57,
   "metadata": {},
   "outputs": [
    {
     "data": {
      "text/plain": [
       "array([[1, 'N', 'LEU', 82, array([28.39 , 57.093, 26.056]),\n",
       "        -3.9110999059406693, 15.9073833727848, -5.009353798739884,\n",
       "        list([-3.9110999059406693, 15.9073833727848, -5.009353798739884])],\n",
       "       [2, 'CA', 'LEU', 82, array([28.952, 56.593, 24.813]),\n",
       "        -4.469109275578163, 14.641064575452297, -5.45202212482516,\n",
       "        list([-4.469109275578163, 14.641064575452297, -5.45202212482516])],\n",
       "       [3, 'C', 'LEU', 82, array([28.021, 57.009, 23.678]),\n",
       "        -3.587702162886438, 13.523696036021487, -4.901884824883872,\n",
       "        list([-3.587702162886438, 13.523696036021487, -4.901884824883872])],\n",
       "       [4, 'O', 'LEU', 82, array([26.799, 56.967, 23.818]),\n",
       "        -2.3626579707891118, 13.639845339059011, -4.881291942314586,\n",
       "        list([-2.3626579707891118, 13.639845339059011, -4.881291942314586])],\n",
       "       [5, 'CB', 'LEU', 82, array([29.102, 55.062, 24.877]),\n",
       "        -4.5288788222748595, 14.596736701663716, -6.989884160540027,\n",
       "        list([-4.5288788222748595, 14.596736701663716, -6.989884160540027])]],\n",
       "      dtype=object)"
      ]
     },
     "execution_count": 57,
     "metadata": {},
     "output_type": "execute_result"
    }
   ],
   "source": [
    "new_df_atom1.head().values"
   ]
  },
  {
   "cell_type": "code",
   "execution_count": 114,
   "metadata": {},
   "outputs": [],
   "source": [
    "import read_pdb_tools as rpt\n",
    "file1 = '../pdbs/1xxa.pdb'\n",
    "pdb1 = rpt.PdbStruct(file1)\n",
    "pdb1.AddPdbData(\"%s\" % file1)\n",
    "pdb11 = pdb1.GetResChain()"
   ]
  },
  {
   "cell_type": "code",
   "execution_count": 115,
   "metadata": {},
   "outputs": [
    {
     "name": "stdout",
     "output_type": "stream",
     "text": [
      "CPU times: user 598 ms, sys: 7.18 ms, total: 605 ms\n",
      "Wall time: 598 ms\n"
     ]
    }
   ],
   "source": [
    "%%time\n",
    "for i in pdb11:\n",
    "    mask = np.where(i.resi == new_df_atom1.residue_number,True,False)\n",
    "    for j in new_df_atom1[mask].atom_name:\n",
    "#         print(i.GetAtom(j).coord)\n",
    "#         print(type(i.GetAtom(j).coord))\n",
    "        mask_2 = np.where(new_df_atom1[mask].atom_name == j,True,False)\n",
    "        i.GetAtom(j).UpDateValue('coord', new_df_atom1[mask][mask_2].new_vector.values[0])\n",
    "#         print(i.GetAtom(j).coord)\n",
    "#         print(type(i.GetAtom(j).coord))\n",
    "#         print('//////'*23)"
   ]
  },
  {
   "cell_type": "code",
   "execution_count": 133,
   "metadata": {},
   "outputs": [],
   "source": [
    "pdb1.pdbdata = pdb11"
   ]
  },
  {
   "cell_type": "code",
   "execution_count": 138,
   "metadata": {},
   "outputs": [],
   "source": [
    "pdb1.WriteToFile()"
   ]
  },
  {
   "cell_type": "code",
   "execution_count": 137,
   "metadata": {},
   "outputs": [
    {
     "data": {
      "text/plain": [
       "'../pdbs/1xxa.pdb'"
      ]
     },
     "execution_count": 137,
     "metadata": {},
     "output_type": "execute_result"
    }
   ],
   "source": [
    "pdb1.name"
   ]
  },
  {
   "cell_type": "code",
   "execution_count": 140,
   "metadata": {},
   "outputs": [
    {
     "data": {
      "text/html": [
       "<div>\n",
       "<style scoped>\n",
       "    .dataframe tbody tr th:only-of-type {\n",
       "        vertical-align: middle;\n",
       "    }\n",
       "\n",
       "    .dataframe tbody tr th {\n",
       "        vertical-align: top;\n",
       "    }\n",
       "\n",
       "    .dataframe thead th {\n",
       "        text-align: right;\n",
       "    }\n",
       "</style>\n",
       "<table border=\"1\" class=\"dataframe\">\n",
       "  <thead>\n",
       "    <tr style=\"text-align: right;\">\n",
       "      <th></th>\n",
       "      <th>atom_number</th>\n",
       "      <th>atom_name</th>\n",
       "      <th>residue_name</th>\n",
       "      <th>residue_number</th>\n",
       "      <th>vector</th>\n",
       "      <th>x</th>\n",
       "      <th>y</th>\n",
       "      <th>z</th>\n",
       "      <th>new_vector</th>\n",
       "    </tr>\n",
       "  </thead>\n",
       "  <tbody>\n",
       "    <tr>\n",
       "      <th>0</th>\n",
       "      <td>1</td>\n",
       "      <td>N</td>\n",
       "      <td>LEU</td>\n",
       "      <td>82</td>\n",
       "      <td>[28.39, 57.093, 26.056]</td>\n",
       "      <td>-3.91110</td>\n",
       "      <td>15.90738</td>\n",
       "      <td>-5.00935</td>\n",
       "      <td>[-3.9110999059406693, 15.9073833727848, -5.009353798739884]</td>\n",
       "    </tr>\n",
       "    <tr>\n",
       "      <th>1</th>\n",
       "      <td>2</td>\n",
       "      <td>CA</td>\n",
       "      <td>LEU</td>\n",
       "      <td>82</td>\n",
       "      <td>[28.952, 56.593, 24.813]</td>\n",
       "      <td>-4.46911</td>\n",
       "      <td>14.64106</td>\n",
       "      <td>-5.45202</td>\n",
       "      <td>[-4.469109275578163, 14.641064575452297, -5.45202212482516]</td>\n",
       "    </tr>\n",
       "    <tr>\n",
       "      <th>2</th>\n",
       "      <td>3</td>\n",
       "      <td>C</td>\n",
       "      <td>LEU</td>\n",
       "      <td>82</td>\n",
       "      <td>[28.021, 57.009, 23.678]</td>\n",
       "      <td>-3.58770</td>\n",
       "      <td>13.52370</td>\n",
       "      <td>-4.90188</td>\n",
       "      <td>[-3.587702162886438, 13.523696036021487, -4.901884824883872]</td>\n",
       "    </tr>\n",
       "    <tr>\n",
       "      <th>3</th>\n",
       "      <td>4</td>\n",
       "      <td>O</td>\n",
       "      <td>LEU</td>\n",
       "      <td>82</td>\n",
       "      <td>[26.799, 56.967, 23.818]</td>\n",
       "      <td>-2.36266</td>\n",
       "      <td>13.63985</td>\n",
       "      <td>-4.88129</td>\n",
       "      <td>[-2.3626579707891118, 13.639845339059011, -4.881291942314586]</td>\n",
       "    </tr>\n",
       "    <tr>\n",
       "      <th>4</th>\n",
       "      <td>5</td>\n",
       "      <td>CB</td>\n",
       "      <td>LEU</td>\n",
       "      <td>82</td>\n",
       "      <td>[29.102, 55.062, 24.877]</td>\n",
       "      <td>-4.52888</td>\n",
       "      <td>14.59674</td>\n",
       "      <td>-6.98988</td>\n",
       "      <td>[-4.5288788222748595, 14.596736701663716, -6.989884160540027]</td>\n",
       "    </tr>\n",
       "  </tbody>\n",
       "</table>\n",
       "</div>"
      ],
      "text/plain": [
       "   atom_number atom_name residue_name  residue_number  \\\n",
       "0  1            N         LEU          82               \n",
       "1  2            CA        LEU          82               \n",
       "2  3            C         LEU          82               \n",
       "3  4            O         LEU          82               \n",
       "4  5            CB        LEU          82               \n",
       "\n",
       "                     vector        x        y        z  \\\n",
       "0  [28.39, 57.093, 26.056]  -3.91110 15.90738 -5.00935   \n",
       "1  [28.952, 56.593, 24.813] -4.46911 14.64106 -5.45202   \n",
       "2  [28.021, 57.009, 23.678] -3.58770 13.52370 -4.90188   \n",
       "3  [26.799, 56.967, 23.818] -2.36266 13.63985 -4.88129   \n",
       "4  [29.102, 55.062, 24.877] -4.52888 14.59674 -6.98988   \n",
       "\n",
       "                                                      new_vector  \n",
       "0  [-3.9110999059406693, 15.9073833727848, -5.009353798739884]    \n",
       "1  [-4.469109275578163, 14.641064575452297, -5.45202212482516]    \n",
       "2  [-3.587702162886438, 13.523696036021487, -4.901884824883872]   \n",
       "3  [-2.3626579707891118, 13.639845339059011, -4.881291942314586]  \n",
       "4  [-4.5288788222748595, 14.596736701663716, -6.989884160540027]  "
      ]
     },
     "execution_count": 140,
     "metadata": {},
     "output_type": "execute_result"
    }
   ],
   "source": [
    "new_df_atom1.head()"
   ]
  },
  {
   "cell_type": "markdown",
   "metadata": {},
   "source": [
    "# Alineacion para encontrar la mejor rotacion y traslacion"
   ]
  },
  {
   "cell_type": "code",
   "execution_count": 8,
   "metadata": {},
   "outputs": [
    {
     "data": {
      "text/html": [
       "<div>\n",
       "<style scoped>\n",
       "    .dataframe tbody tr th:only-of-type {\n",
       "        vertical-align: middle;\n",
       "    }\n",
       "\n",
       "    .dataframe tbody tr th {\n",
       "        vertical-align: top;\n",
       "    }\n",
       "\n",
       "    .dataframe thead th {\n",
       "        text-align: right;\n",
       "    }\n",
       "</style>\n",
       "<table border=\"1\" class=\"dataframe\">\n",
       "  <thead>\n",
       "    <tr style=\"text-align: right;\">\n",
       "      <th></th>\n",
       "      <th>rmsd</th>\n",
       "      <th>candidatos</th>\n",
       "      <th>matriz_rotacion</th>\n",
       "      <th>candidato_clique_1</th>\n",
       "      <th>candidato_clique_2</th>\n",
       "    </tr>\n",
       "  </thead>\n",
       "  <tbody>\n",
       "    <tr>\n",
       "      <th>0</th>\n",
       "      <td>0.87722</td>\n",
       "      <td>(0, 3)</td>\n",
       "      <td>[[0.9902255543193158, 0.06766960727567999, -0.12195973033817026], [0.11799993335847718, -0.8726440226294933, 0.4738865111990545], [-0.07435971557502699, -0.48364577328885233, -0.8720994201806519]]</td>\n",
       "      <td>0</td>\n",
       "      <td>3</td>\n",
       "    </tr>\n",
       "    <tr>\n",
       "      <th>1</th>\n",
       "      <td>1.49252</td>\n",
       "      <td>(0, 9)</td>\n",
       "      <td>[[0.9778807534206321, 0.10725537846324722, -0.17957036470476515], [0.18201213135121963, -0.8593526331707438, 0.4778960513579237], [-0.10305734389398521, -0.5000093355660616, -0.8598661804119886]]</td>\n",
       "      <td>0</td>\n",
       "      <td>9</td>\n",
       "    </tr>\n",
       "    <tr>\n",
       "      <th>2</th>\n",
       "      <td>1.37337</td>\n",
       "      <td>(0, 25)</td>\n",
       "      <td>[[0.9908696071898031, 0.13034921740106853, -0.034445653868878615], [0.1343179747779692, -0.9322846716352544, 0.33586302667231893], [0.01166632757428184, -0.3374231357759496, -0.9412807892675037]]</td>\n",
       "      <td>0</td>\n",
       "      <td>25</td>\n",
       "    </tr>\n",
       "    <tr>\n",
       "      <th>3</th>\n",
       "      <td>1.02102</td>\n",
       "      <td>(0, 70)</td>\n",
       "      <td>[[0.9941266764346254, 0.020490882613830516, -0.10626511624588879], [0.06630236203350325, -0.891377355418752, 0.4483864483182453], [-0.08553448421440506, -0.45279855783381023, -0.8875006017089778]]</td>\n",
       "      <td>0</td>\n",
       "      <td>70</td>\n",
       "    </tr>\n",
       "    <tr>\n",
       "      <th>4</th>\n",
       "      <td>1.47566</td>\n",
       "      <td>(0, 79)</td>\n",
       "      <td>[[0.7800929752740995, 0.49586367869011766, -0.38154182219503413], [-0.5255995160804386, 0.8501921597708153, 0.030305777671014666], [0.33941140025640265, 0.17689687283878155, 0.9238546410317199]]</td>\n",
       "      <td>0</td>\n",
       "      <td>79</td>\n",
       "    </tr>\n",
       "  </tbody>\n",
       "</table>\n",
       "</div>"
      ],
      "text/plain": [
       "     rmsd candidatos  \\\n",
       "0 0.87722  (0, 3)      \n",
       "1 1.49252  (0, 9)      \n",
       "2 1.37337  (0, 25)     \n",
       "3 1.02102  (0, 70)     \n",
       "4 1.47566  (0, 79)     \n",
       "\n",
       "                                                                                                                                                                                        matriz_rotacion  \\\n",
       "0  [[0.9902255543193158, 0.06766960727567999, -0.12195973033817026], [0.11799993335847718, -0.8726440226294933, 0.4738865111990545], [-0.07435971557502699, -0.48364577328885233, -0.8720994201806519]]   \n",
       "1  [[0.9778807534206321, 0.10725537846324722, -0.17957036470476515], [0.18201213135121963, -0.8593526331707438, 0.4778960513579237], [-0.10305734389398521, -0.5000093355660616, -0.8598661804119886]]    \n",
       "2  [[0.9908696071898031, 0.13034921740106853, -0.034445653868878615], [0.1343179747779692, -0.9322846716352544, 0.33586302667231893], [0.01166632757428184, -0.3374231357759496, -0.9412807892675037]]    \n",
       "3  [[0.9941266764346254, 0.020490882613830516, -0.10626511624588879], [0.06630236203350325, -0.891377355418752, 0.4483864483182453], [-0.08553448421440506, -0.45279855783381023, -0.8875006017089778]]   \n",
       "4  [[0.7800929752740995, 0.49586367869011766, -0.38154182219503413], [-0.5255995160804386, 0.8501921597708153, 0.030305777671014666], [0.33941140025640265, 0.17689687283878155, 0.9238546410317199]]     \n",
       "\n",
       "   candidato_clique_1  candidato_clique_2  \n",
       "0  0                   3                   \n",
       "1  0                   9                   \n",
       "2  0                   25                  \n",
       "3  0                   70                  \n",
       "4  0                   79                  "
      ]
     },
     "execution_count": 8,
     "metadata": {},
     "output_type": "execute_result"
    }
   ],
   "source": [
    "#Se Prueban todos los candidatos\n",
    "rmsd_prueba = rmsd.head()\n",
    "rmsd_prueba"
   ]
  },
  {
   "cell_type": "code",
   "execution_count": 57,
   "metadata": {},
   "outputs": [
    {
     "name": "stdout",
     "output_type": "stream",
     "text": [
      "CPU times: user 55.3 s, sys: 5.61 ms, total: 55.3 s\n",
      "Wall time: 55.3 s\n"
     ]
    }
   ],
   "source": [
    "%%time\n",
    "#para cada candidato\n",
    "candidato = []\n",
    "protein_to_compare = [i for i in df_atoms2.vector.values]\n",
    "\n",
    "for idx in range(rmsd.shape[0]):\n",
    "    #tomas la matriz de rotacion y se la aplicas a los vectores gorro correspondientes\n",
    "    matriz_rotacion = rmsd.iloc[idx].matriz_rotacion\n",
    "    \n",
    "    vector_gorro = vectores_gorro_proteina_1.iloc[rmsd.iloc[idx].candidato_clique_1].values\n",
    "    \n",
    "    coord_vectores_rotados = [np.matmul(matriz_rotacion, i.reshape(3, 1)).T[0] for i in vector_gorro]\n",
    "    \n",
    "    baricentro_proteina_2 = new_df_cliques2.iloc[rmsd.iloc[idx].candidato_clique_2].baricentro_clique\n",
    "    \n",
    "    protein_trasladado_rotado = coord_vectores_rotados + baricentro_proteina_2 #nuevas coordendas proteina 1\n",
    "    #RMSD\n",
    "    p12 = np.sum((protein_to_compare - protein_trasladado_rotado) ** 2, 1)\n",
    "    rmsd_i = lambda i: np.sqrt(i) / 3\n",
    "    candidato.append([np.where(rmsd_i(p12) <= 3.5,1,0).mean(), idx])"
   ]
  },
  {
   "cell_type": "code",
   "execution_count": 63,
   "metadata": {},
   "outputs": [],
   "source": [
    "df_so = pd.DataFrame(candidato,columns=['SO','index'])"
   ]
  },
  {
   "cell_type": "code",
   "execution_count": 91,
   "metadata": {},
   "outputs": [
    {
     "data": {
      "text/plain": [
       "15211"
      ]
     },
     "execution_count": 91,
     "metadata": {},
     "output_type": "execute_result"
    }
   ],
   "source": [
    "df_so[df_so.SO == df_so.SO.quantile(0.90)].index[np.random.randint(0,3000)]"
   ]
  },
  {
   "cell_type": "code",
   "execution_count": 92,
   "metadata": {},
   "outputs": [],
   "source": [
    "idx = 15211\n",
    "matriz_rotacion = rmsd.iloc[idx].matriz_rotacion\n",
    "    \n",
    "vector_gorro = vectores_gorro_proteina_1.iloc[rmsd.iloc[idx].candidato_clique_1].values\n",
    "\n",
    "coord_vectores_rotados = [np.matmul(matriz_rotacion, i.reshape(3, 1)).T[0] for i in vector_gorro]\n",
    "\n",
    "baricentro_proteina_2 = new_df_cliques2.iloc[rmsd.iloc[idx].candidato_clique_2].baricentro_clique\n",
    "\n",
    "protein_trasladado_rotado = coord_vectores_rotados + baricentro_proteina_2 #nuevas coordendas proteina 1"
   ]
  },
  {
   "cell_type": "code",
   "execution_count": 93,
   "metadata": {},
   "outputs": [],
   "source": [
    "import read_pdb_tools as rpt\n",
    "file1 = '../pdbs/1xxa.pdb'\n",
    "pdb1 = rpt.PdbStruct(file1)\n",
    "pdb1.AddPdbData(\"%s\" % file1)\n",
    "pdb11 = pdb1.GetResChain()"
   ]
  },
  {
   "cell_type": "code",
   "execution_count": null,
   "metadata": {},
   "outputs": [],
   "source": [
    "%%time\n",
    "for i in pdb11:\n",
    "    mask = np.where(i.resi == new_df_atom1.residue_number,True,False)\n",
    "    for j in new_df_atom1[mask].atom_name:\n",
    "#         print(i.GetAtom(j).coord)\n",
    "#         print(type(i.GetAtom(j).coord))\n",
    "        mask_2 = np.where(new_df_atom1[mask].atom_name == j,True,False)\n",
    "        i.GetAtom(j).UpDateValue('coord', new_df_atom1[mask][mask_2].new_vector.values[0])\n",
    "#         print(i.GetAtom(j).coord)\n",
    "#         print(type(i.GetAtom(j).coord))\n",
    "#         print('//////'*23)"
   ]
  }
 ],
 "metadata": {
  "kernelspec": {
   "display_name": "Python 3",
   "language": "python",
   "name": "python3"
  },
  "language_info": {
   "codemirror_mode": {
    "name": "ipython",
    "version": 3
   },
   "file_extension": ".py",
   "mimetype": "text/x-python",
   "name": "python",
   "nbconvert_exporter": "python",
   "pygments_lexer": "ipython3",
   "version": "3.6.6"
  }
 },
 "nbformat": 4,
 "nbformat_minor": 2
}
