{
 "cells": [
  {
   "cell_type": "markdown",
   "metadata": {},
   "source": [
    "# Algoritmo de desarrollo orientado a objetos y numpy\n",
    "Se busca probar las funciones y scripts para obtener una mayor rapidez de ejecucion.\n",
    "Se generan los algoritmos necesarios para el desarrollo del algoritmo que compare ambas estructuras\n",
    "Basandose en la estructura como esta en start_oo.py"
   ]
  },
  {
   "cell_type": "code",
   "execution_count": 1,
   "metadata": {},
   "outputs": [],
   "source": [
    "# librerias que utilizaras\n",
    "import numpy as np\n",
    "# por si no te lee las tools o functions creadas\n",
    "import sys\n",
    "# herramientas para leer pdbs\n",
    "import read_pdb_tools as rpt\n",
    "# calculo de distancia\n",
    "from scipy.spatial.distance import pdist, squareform\n",
    "# libreria de tablas\n",
    "import pandas as pd\n",
    "# funciones de click generadas en pandas\n",
    "import funciones_CLICK as fc\n",
    "# iteradores\n",
    "import itertools as it\n",
    "# cuenta tiempo de ejecucion\n",
    "import datetime\n",
    "#distancia\n",
    "from scipy.spatial import distance\n",
    "#multiprocesamiento\n",
    "import multiprocessing\n",
    "from functools import partial"
   ]
  },
  {
   "cell_type": "code",
   "execution_count": 2,
   "metadata": {},
   "outputs": [],
   "source": [
    "tiempo =  datetime.datetime.now()"
   ]
  },
  {
   "cell_type": "code",
   "execution_count": 3,
   "metadata": {},
   "outputs": [],
   "source": [
    "# assert( len(sys.argv) > 1)\n",
    "# lectura de archivo\n",
    "file1 = 'pdbs/1xxa.pdb' # sys.argv[1]\n",
    "file2 = 'pdbs/1tig.pdb' # sys.argv[2]\n",
    "\n",
    "# numero de cliques, preguntar en el software para generalizarlo...\n",
    "num_cliques = 3\n",
    "\n",
    "# se define la estructura\n",
    "pdb1 = rpt.PdbStruct(\"first\")\n",
    "pdb2 = rpt.PdbStruct(\"second\")\n",
    "\n",
    "# se lee el pdb y se agrega al objeto\n",
    "pdb1.AddPdbData(\"%s\" % file1)\n",
    "pdb2.AddPdbData(\"%s\" % file2)\n",
    "\n",
    "# se obtienen los residuos que perteneces a la cadena de interes por default chain = 'A'\n",
    "pdb11 = pdb1.GetResChain()\n",
    "pdb22 = pdb2.GetResChain()\n",
    "# se pega a la tabla la estructura secundaria\n",
    "ss1 = pdb1.Get_SS(file1)\n",
    "ss2 = pdb1.Get_SS(file2)"
   ]
  },
  {
   "cell_type": "code",
   "execution_count": 4,
   "metadata": {},
   "outputs": [],
   "source": [
    "# se crea atributo a cada residuo de la estructura secundaria\n",
    "for i, j in zip(pdb11, ss1.structure.values):\n",
    "    setattr(i, 'structure', j)\n",
    "for i, j in zip(pdb22, ss2.structure.values):\n",
    "    setattr(i, 'structure', j)"
   ]
  },
  {
   "cell_type": "code",
   "execution_count": 5,
   "metadata": {},
   "outputs": [],
   "source": [
    "def get_df_distancias(ref):\n",
    "    \"\"\"Funcion para obtener el dataframe de distancias de cada proteina\"\"\"\n",
    "    # se generan listas con coordenadas y numero de atomo\n",
    "    coord = [res.GetAtom('CA').coord for res in ref]\n",
    "    index = [res.resi for res in ref]\n",
    "\n",
    "    # calcula distancia y regresa dataframe\n",
    "    distancias = []\n",
    "    # se calcula la distancia euclidiana entre cada atomo de carbon alfalfa\n",
    "    for v in coord:\n",
    "        distancia_un_atomo = []\n",
    "        for av in coord:\n",
    "            distancia = pdist(np.array([v, av]), metric='euclidean').item()\n",
    "            distancia_un_atomo.append(distancia)\n",
    "        distancias.append(distancia_un_atomo)\n",
    "\n",
    "    # se genera la matriz de adyacencias para la red\n",
    "    df_da = pd.DataFrame(index=index, columns=index, data=distancias)\n",
    "    return(df_da, index)\n",
    "\n",
    "\n",
    "df_distancias1, index1 = get_df_distancias(pdb11)\n",
    "df_distancias2, index2 = get_df_distancias(pdb22)"
   ]
  },
  {
   "cell_type": "code",
   "execution_count": 6,
   "metadata": {},
   "outputs": [
    {
     "name": "stdout",
     "output_type": "stream",
     "text": [
      "numero de cliques maximos encontrados: 158\n",
      "numero de 3-cliques posibles: 1787\n",
      "****************************************************************************************************\n",
      "numero de cliques maximos encontrados: 246\n",
      "numero de 3-cliques posibles: 2102\n",
      "****************************************************************************************************\n"
     ]
    }
   ],
   "source": [
    "# se generan cliques, tte devuleve dataframe con cliques de 3 y la lista de cliques sin partir\n",
    "df_cliques1, cliques1 = fc.gen_3_cliques(df_distancias1, dth=10, k=num_cliques)\n",
    "print('**'*50)\n",
    "df_cliques2, cliques2 = fc.gen_3_cliques(df_distancias2, dth=10, k=num_cliques)\n",
    "print('**'*50)"
   ]
  },
  {
   "cell_type": "code",
   "execution_count": 7,
   "metadata": {},
   "outputs": [],
   "source": [
    "def get_df_ca(list_of_residues):\n",
    "    \"\"\"Genera dataframe con la informacion necesaria para las siguientes funciones\n",
    "    FALTA DOCUMENTAR ESTA COSA!!!!\"\"\"\n",
    "    #crear df_ca\n",
    "    atom_number = []\n",
    "    atom_name = []\n",
    "    residue_name = []\n",
    "    residue_number = []\n",
    "    coord = []\n",
    "    for res in list_of_residues:\n",
    "        for atom in res.atoms:\n",
    "            atom_number.append(atom.atom_number)\n",
    "            atom_name.append(atom.name)\n",
    "            residue_name.append(res.resn)\n",
    "            residue_number.append(res.resi)\n",
    "            coord.append(atom.coord)\n",
    "\n",
    "    df_atoms = pd.DataFrame(columns=['atom_number', 'atom_name', 'residue_name',\n",
    "                                   'residue_number', 'vector'])\n",
    "    df_atoms.atom_number = atom_number\n",
    "    df_atoms.atom_name = atom_name\n",
    "    df_atoms.residue_name = residue_name\n",
    "    df_atoms.residue_number = residue_number\n",
    "    df_atoms.vector = coord\n",
    "\n",
    "    return(df_atoms)\n",
    "\n",
    "\n",
    "# CREAR DF_atomos_CA #\n",
    "df_atoms1 = get_df_ca(pdb11)\n",
    "df_atoms2 = get_df_ca(pdb22)"
   ]
  },
  {
   "cell_type": "code",
   "execution_count": 8,
   "metadata": {},
   "outputs": [],
   "source": [
    "# se le pega la estructura secundaria al dataframe de los cliques\n",
    "# esto va a cambiar por que lo tiene que obtener del objeto residuo\n",
    "# ya se crea en ss1 y no cuesta reevaluar si es mejor desde el residuo\n",
    "# checar que es mas rapido si desde residuo o desde dataframe ss\n",
    "df_cliques1 = fc.paste_SS(ss1, df_cliques1, num_cliques = num_cliques)\n",
    "df_cliques2 = fc.paste_SS(ss2, df_cliques2, num_cliques = num_cliques)"
   ]
  },
  {
   "cell_type": "code",
   "execution_count": 9,
   "metadata": {},
   "outputs": [],
   "source": [
    "# comparacion SSM #aqui se obtienen los candidatos posibles pasando el filtro de SS\n",
    "candidatos_ss = fc.compare_SS(df_cliques1,df_cliques2, num_cliques=num_cliques)"
   ]
  },
  {
   "cell_type": "code",
   "execution_count": 10,
   "metadata": {},
   "outputs": [],
   "source": [
    "# get coords of cliques\n",
    "df_cliques1 = fc.get_coords_clique(df_atoms1, df_cliques1, num_cliques)\n",
    "df_cliques2 = fc.get_coords_clique(df_atoms2, df_cliques2, num_cliques)"
   ]
  },
  {
   "cell_type": "code",
   "execution_count": 11,
   "metadata": {},
   "outputs": [],
   "source": [
    "# baricentro clique\n",
    "df_cliques1 = fc.baricenter_clique(df_cliques1, num_cliques)\n",
    "df_cliques2 = fc.baricenter_clique(df_cliques2, num_cliques)"
   ]
  },
  {
   "cell_type": "code",
   "execution_count": 12,
   "metadata": {},
   "outputs": [],
   "source": [
    "# vectores gorro\n",
    "df_cliques1 = fc.center_vectors(df_cliques1, num_cliques)\n",
    "df_cliques2 = fc.center_vectors(df_cliques2, num_cliques)"
   ]
  },
  {
   "cell_type": "code",
   "execution_count": 13,
   "metadata": {},
   "outputs": [
    {
     "name": "stdout",
     "output_type": "stream",
     "text": [
      "0 0\n",
      "1 1\n",
      "2 2\n",
      "3 ss_0\n",
      "4 ss_1\n",
      "5 ss_2\n",
      "6 coord_clique_0\n",
      "7 coord_clique_1\n",
      "8 coord_clique_2\n",
      "9 matriz_coordenadas\n",
      "10 baricentro_clique\n",
      "11 vec_gorro_0\n",
      "12 vec_gorro_1\n",
      "13 vec_gorro_2\n",
      "14 vectores_gorro\n"
     ]
    }
   ],
   "source": [
    "for i,j in enumerate(df_cliques1.columns):\n",
    "    print(i,j)"
   ]
  },
  {
   "cell_type": "code",
   "execution_count": 14,
   "metadata": {},
   "outputs": [],
   "source": [
    "idx_rmsd1, idx_rmsd2 = 3*num_cliques, 4*num_cliques+3\n",
    "# print(list(range(idx_rmsd1,idx_rmsd2)))\n",
    "# se pasan a numpy arrays para mayor rapidez\n",
    "array_df_cliques1 = df_cliques1.values[:, range(idx_rmsd1, idx_rmsd2)] #del 9 al 15\n",
    "array_df_cliques2 = df_cliques2.values[:, range(idx_rmsd1, idx_rmsd2)]"
   ]
  },
  {
   "cell_type": "code",
   "execution_count": 15,
   "metadata": {},
   "outputs": [
    {
     "name": "stdout",
     "output_type": "stream",
     "text": [
      "1705808\n"
     ]
    }
   ],
   "source": [
    "#calculo del RMSD\n",
    "print(len(candidatos_ss))"
   ]
  },
  {
   "cell_type": "markdown",
   "metadata": {},
   "source": [
    "# Codigo que restringe candidatos"
   ]
  },
  {
   "cell_type": "code",
   "execution_count": 16,
   "metadata": {},
   "outputs": [],
   "source": [
    "df_cliques1 = fc.get_distancia_promedio(num_cliques, df_cliques1)\n",
    "df_cliques2 = fc.get_distancia_promedio(num_cliques, df_cliques2)\n",
    "\n",
    "array_dist_promedio1 = df_cliques1.values[:, -1]  # el ultimo valor de distancia.\n",
    "array_dist_promedio2 = df_cliques2.values[:, -1]"
   ]
  },
  {
   "cell_type": "code",
   "execution_count": 17,
   "metadata": {},
   "outputs": [
    {
     "name": "stdout",
     "output_type": "stream",
     "text": [
      "1705808\n",
      "253993\n"
     ]
    }
   ],
   "source": [
    "limite_distancia_minima = 0.45\n",
    "if num_cliques == 4:\n",
    "    limite_distancia_minima = 0.9\n",
    "if num_cliques == 5:\n",
    "    limite_distancia_minima = 1.8\n",
    "if num_cliques == 6:\n",
    "    limite_distancia_minima = 3.6\n",
    "if num_cliques == 7:\n",
    "    limite_distancia_minima = 4.5\n",
    "if num_cliques == 8:\n",
    "    limite_distancia_minima = 8.0\n",
    "\n",
    "candidatos_filter_dist = [(i, j) for i, j in candidatos_ss if (\n",
    "        array_dist_promedio1[i] - array_dist_promedio2[j] >= -limite_distancia_minima) & (\n",
    "        array_dist_promedio1[i] - array_dist_promedio2[j] <= limite_distancia_minima)]\n",
    "\n",
    "print(len(candidatos_ss))\n",
    "print(len(candidatos_filter_dist))"
   ]
  },
  {
   "cell_type": "code",
   "execution_count": 18,
   "metadata": {},
   "outputs": [],
   "source": [
    "restriccion_rmsd = 0.15\n",
    "if num_cliques == 4:\n",
    "    restriccion_rmsd = 0.30\n",
    "if num_cliques == 5:\n",
    "    restriccion_rmsd = 0.60\n",
    "if num_cliques == 6:\n",
    "    restriccion_rmsd = 0.90\n",
    "if num_cliques == 7:\n",
    "    restriccion_rmsd = 1.50\n",
    "if num_cliques == 8:\n",
    "    restriccion_rmsd = 1.80"
   ]
  },
  {
   "cell_type": "markdown",
   "metadata": {},
   "source": [
    "# Haciendo MUltiprocessing"
   ]
  },
  {
   "cell_type": "code",
   "execution_count": 19,
   "metadata": {},
   "outputs": [],
   "source": [
    "p = multiprocessing.Pool(multiprocessing.cpu_count()-1)"
   ]
  },
  {
   "cell_type": "code",
   "execution_count": 20,
   "metadata": {},
   "outputs": [
    {
     "name": "stdout",
     "output_type": "stream",
     "text": [
      "CPU times: user 7.03 s, sys: 93.2 ms, total: 7.12 s\n",
      "Wall time: 13.8 s\n"
     ]
    }
   ],
   "source": [
    "%%time\n",
    "rmsd_1 = p.map(partial(fc.calculate_rmsd_rot_trans_m,  \n",
    "                    array_cliques1 = array_df_cliques1, \n",
    "                    array_cliques2 = array_df_cliques2, \n",
    "                    num_cliques = num_cliques), candidatos_filter_dist)\n",
    "\n",
    "p.close()\n",
    "p.join()"
   ]
  },
  {
   "cell_type": "code",
   "execution_count": 21,
   "metadata": {},
   "outputs": [
    {
     "data": {
      "text/plain": [
       "253993"
      ]
     },
     "execution_count": 21,
     "metadata": {},
     "output_type": "execute_result"
    }
   ],
   "source": [
    "len(rmsd_1)"
   ]
  },
  {
   "cell_type": "code",
   "execution_count": 22,
   "metadata": {},
   "outputs": [
    {
     "data": {
      "text/plain": [
       "(253993, 5)"
      ]
     },
     "execution_count": 22,
     "metadata": {},
     "output_type": "execute_result"
    }
   ],
   "source": [
    "f1 = pd.DataFrame(rmsd_1)\n",
    "f1.columns = ['rmsd','candidatos']\n",
    "f1['cumple'] = np.where(f1.rmsd <= restriccion_rmsd,1,0)\n",
    "f1['candidato_clique_1'] = f1.candidatos.str.get(0)\n",
    "f1['candidato_clique_2'] = f1.candidatos.str.get(1)\n",
    "f1.shape"
   ]
  },
  {
   "cell_type": "code",
   "execution_count": 23,
   "metadata": {},
   "outputs": [
    {
     "name": "stdout",
     "output_type": "stream",
     "text": [
      "6907\n"
     ]
    }
   ],
   "source": [
    "print(f1[f1.cumple==1].cumple.sum())\n",
    "f1 = f1[f1.cumple==1]"
   ]
  },
  {
   "cell_type": "markdown",
   "metadata": {},
   "source": [
    "# Probando la generacion de una nueva tabla con cliques_4 si se empieza con cliques_3"
   ]
  },
  {
   "cell_type": "code",
   "execution_count": 24,
   "metadata": {},
   "outputs": [
    {
     "data": {
      "text/html": [
       "<div>\n",
       "<style scoped>\n",
       "    .dataframe tbody tr th:only-of-type {\n",
       "        vertical-align: middle;\n",
       "    }\n",
       "\n",
       "    .dataframe tbody tr th {\n",
       "        vertical-align: top;\n",
       "    }\n",
       "\n",
       "    .dataframe thead th {\n",
       "        text-align: right;\n",
       "    }\n",
       "</style>\n",
       "<table border=\"1\" class=\"dataframe\">\n",
       "  <thead>\n",
       "    <tr style=\"text-align: right;\">\n",
       "      <th></th>\n",
       "      <th>rmsd</th>\n",
       "      <th>candidatos</th>\n",
       "      <th>cumple</th>\n",
       "      <th>candidato_clique_1</th>\n",
       "      <th>candidato_clique_2</th>\n",
       "    </tr>\n",
       "  </thead>\n",
       "  <tbody>\n",
       "    <tr>\n",
       "      <th>123</th>\n",
       "      <td>0.14247</td>\n",
       "      <td>(10, 616)</td>\n",
       "      <td>1</td>\n",
       "      <td>10</td>\n",
       "      <td>616</td>\n",
       "    </tr>\n",
       "    <tr>\n",
       "      <th>166</th>\n",
       "      <td>0.14225</td>\n",
       "      <td>(10, 1085)</td>\n",
       "      <td>1</td>\n",
       "      <td>10</td>\n",
       "      <td>1085</td>\n",
       "    </tr>\n",
       "    <tr>\n",
       "      <th>273</th>\n",
       "      <td>0.14233</td>\n",
       "      <td>(10, 1403)</td>\n",
       "      <td>1</td>\n",
       "      <td>10</td>\n",
       "      <td>1403</td>\n",
       "    </tr>\n",
       "    <tr>\n",
       "      <th>291</th>\n",
       "      <td>0.14044</td>\n",
       "      <td>(10, 1456)</td>\n",
       "      <td>1</td>\n",
       "      <td>10</td>\n",
       "      <td>1456</td>\n",
       "    </tr>\n",
       "    <tr>\n",
       "      <th>308</th>\n",
       "      <td>0.11607</td>\n",
       "      <td>(10, 1664)</td>\n",
       "      <td>1</td>\n",
       "      <td>10</td>\n",
       "      <td>1664</td>\n",
       "    </tr>\n",
       "  </tbody>\n",
       "</table>\n",
       "</div>"
      ],
      "text/plain": [
       "       rmsd  candidatos  cumple  candidato_clique_1  candidato_clique_2\n",
       "123 0.14247  (10, 616)   1       10                  616               \n",
       "166 0.14225  (10, 1085)  1       10                  1085              \n",
       "273 0.14233  (10, 1403)  1       10                  1403              \n",
       "291 0.14044  (10, 1456)  1       10                  1456              \n",
       "308 0.11607  (10, 1664)  1       10                  1664              "
      ]
     },
     "execution_count": 24,
     "metadata": {},
     "output_type": "execute_result"
    }
   ],
   "source": [
    "candidatos_df = f1\n",
    "candidatos_df.sort_values(['candidato_clique_1','candidato_clique_2']).head()"
   ]
  },
  {
   "cell_type": "code",
   "execution_count": 25,
   "metadata": {},
   "outputs": [],
   "source": [
    "def get_cliques_4(df_cliques,col,cliques):\n",
    "    set_clique = [df_cliques.iloc[i, [0,1,2]].values for i in candidatos_df[col].unique()] #conjunto de candidatos unicos\n",
    "    lista_chidi = [] # aqui se guardara la lista de numero de residuo\n",
    "    for muestra in set_clique: # este va a cambiar cada iteracion\n",
    "        for i in cliques:\n",
    "            if set(muestra).issubset(i):       # si esta en un clique maximal\n",
    "                no_estan_en_clique = set(i).difference(set(muestra)) #obten los elementos que no estan en ese clique que si estan en el clique maximal\n",
    "                for j in no_estan_en_clique: \n",
    "                    muestra_falsa = muestra.copy() #se genera una copia para no borrar el orginal\n",
    "                    muestra_falsa = np.append(muestra_falsa,j) #se apila un elemento de los que no estan\n",
    "                    if set(muestra_falsa) not in lista_chidi:\n",
    "                        lista_chidi.append(set(muestra_falsa)) #si no esta en la lista pasa\n",
    "\n",
    "    return(pd.DataFrame(lista_chidi))"
   ]
  },
  {
   "cell_type": "code",
   "execution_count": 26,
   "metadata": {},
   "outputs": [],
   "source": [
    "new_df_cliques1 = get_cliques_4(df_cliques1, 'candidato_clique_1',cliques1)\n",
    "new_df_cliques2 = get_cliques_4(df_cliques2, 'candidato_clique_2',cliques2)\n",
    "num_cliques = num_cliques + 1"
   ]
  },
  {
   "cell_type": "markdown",
   "metadata": {},
   "source": [
    "# VA DE NUEZ EL CALCULO"
   ]
  },
  {
   "cell_type": "code",
   "execution_count": 27,
   "metadata": {},
   "outputs": [],
   "source": [
    "# se le pega la estructura secundaria al dataframe de los cliques\n",
    "# esto va a cambiar por que lo tiene que obtener del objeto residuo\n",
    "# ya se crea en ss1 y no cuesta reevaluar si es mejor desde el residuo\n",
    "# checar que es mas rapido si desde residuo o desde dataframe ss\n",
    "new_df_cliques1 = fc.paste_SS(ss1, new_df_cliques1, num_cliques = num_cliques)\n",
    "new_df_cliques2 = fc.paste_SS(ss2, new_df_cliques2, num_cliques = num_cliques)"
   ]
  },
  {
   "cell_type": "code",
   "execution_count": 28,
   "metadata": {},
   "outputs": [],
   "source": [
    "# comparacion SSM #aqui se obtienen los candidatos posibles pasando el filtro de SS\n",
    "candidatos_ss = fc.compare_SS(new_df_cliques1,new_df_cliques2, num_cliques=num_cliques)"
   ]
  },
  {
   "cell_type": "code",
   "execution_count": 29,
   "metadata": {},
   "outputs": [],
   "source": [
    "# get coords of cliques\n",
    "df_cliques1 = fc.get_coords_clique(df_atoms1, new_df_cliques1, num_cliques)\n",
    "df_cliques2 = fc.get_coords_clique(df_atoms2, new_df_cliques2, num_cliques)"
   ]
  },
  {
   "cell_type": "code",
   "execution_count": 30,
   "metadata": {},
   "outputs": [],
   "source": [
    "# baricentro clique\n",
    "df_cliques1 = fc.baricenter_clique(df_cliques1, num_cliques)\n",
    "df_cliques2 = fc.baricenter_clique(df_cliques2, num_cliques)"
   ]
  },
  {
   "cell_type": "code",
   "execution_count": 31,
   "metadata": {},
   "outputs": [],
   "source": [
    "# vectores gorro\n",
    "df_cliques1 = fc.center_vectors(df_cliques1, num_cliques)\n",
    "df_cliques2 = fc.center_vectors(df_cliques2, num_cliques)"
   ]
  },
  {
   "cell_type": "code",
   "execution_count": 32,
   "metadata": {},
   "outputs": [],
   "source": [
    "idx_rmsd1, idx_rmsd2 = 3*num_cliques, 4*num_cliques+3\n",
    "# print(list(range(idx_rmsd1,idx_rmsd2)))\n",
    "# se pasan a numpy arrays para mayor rapidez\n",
    "array_df_cliques1 = df_cliques1.values[:, range(idx_rmsd1, idx_rmsd2)] #del 9 al 15\n",
    "array_df_cliques2 = df_cliques2.values[:, range(idx_rmsd1, idx_rmsd2)]"
   ]
  },
  {
   "cell_type": "code",
   "execution_count": 33,
   "metadata": {},
   "outputs": [
    {
     "name": "stdout",
     "output_type": "stream",
     "text": [
      "2434300\n"
     ]
    }
   ],
   "source": [
    "#calculo del RMSD\n",
    "print(len(candidatos_ss))"
   ]
  },
  {
   "cell_type": "markdown",
   "metadata": {},
   "source": [
    "# Codigo que restringe candidatos"
   ]
  },
  {
   "cell_type": "code",
   "execution_count": 34,
   "metadata": {},
   "outputs": [],
   "source": [
    "df_cliques1 = fc.get_distancia_promedio(num_cliques, df_cliques1)\n",
    "df_cliques2 = fc.get_distancia_promedio(num_cliques, df_cliques2)\n",
    "\n",
    "array_dist_promedio1 = df_cliques1.values[:, -1]  # el ultimo valor de distancia.\n",
    "array_dist_promedio2 = df_cliques2.values[:, -1]"
   ]
  },
  {
   "cell_type": "code",
   "execution_count": 35,
   "metadata": {},
   "outputs": [],
   "source": [
    "limite_distancia_minima = 0.45\n",
    "if num_cliques == 4:\n",
    "    limite_distancia_minima = 0.9\n",
    "if num_cliques == 5:\n",
    "    limite_distancia_minima = 1.8\n",
    "if num_cliques == 6:\n",
    "    limite_distancia_minima = 3.6\n",
    "if num_cliques == 7:\n",
    "    limite_distancia_minima = 4.5\n",
    "if num_cliques == 8:\n",
    "    limite_distancia_minima = 8.0"
   ]
  },
  {
   "cell_type": "code",
   "execution_count": 36,
   "metadata": {},
   "outputs": [
    {
     "name": "stdout",
     "output_type": "stream",
     "text": [
      "num candidatos filtro SS 2434300\n",
      "num candidatos filtro distancia y ss 869504\n"
     ]
    }
   ],
   "source": [
    "#filtro por distancia minima\n",
    "candidatos_filter_dist = [(i, j) for i, j in candidatos_ss if (\n",
    "        array_dist_promedio1[i] - array_dist_promedio2[j] >= -limite_distancia_minima) & (\n",
    "        array_dist_promedio1[i] - array_dist_promedio2[j] <= limite_distancia_minima)]\n",
    "\n",
    "print('num candidatos filtro SS', len(candidatos_ss))\n",
    "print('num candidatos filtro distancia y ss', len(candidatos_filter_dist))"
   ]
  },
  {
   "cell_type": "markdown",
   "metadata": {},
   "source": [
    "# Haciendo MUltiprocessing"
   ]
  },
  {
   "cell_type": "code",
   "execution_count": 38,
   "metadata": {},
   "outputs": [],
   "source": [
    "p = multiprocessing.Pool(multiprocessing.cpu_count()-1)\n",
    "restriccion_rmsd = 0.15\n",
    "if num_cliques == 4:\n",
    "    restriccion_rmsd = 0.30\n",
    "if num_cliques == 5:\n",
    "    restriccion_rmsd = 0.60\n",
    "if num_cliques == 6:\n",
    "    restriccion_rmsd = 0.90\n",
    "if num_cliques == 7:\n",
    "    restriccion_rmsd = 1.50\n",
    "if num_cliques == 8:\n",
    "    restriccion_rmsd = 1.80"
   ]
  },
  {
   "cell_type": "code",
   "execution_count": 39,
   "metadata": {},
   "outputs": [
    {
     "name": "stdout",
     "output_type": "stream",
     "text": [
      "CPU times: user 13.6 s, sys: 562 ms, total: 14.2 s\n",
      "Wall time: 51.4 s\n"
     ]
    }
   ],
   "source": [
    "%%time\n",
    "rmsd_1 = p.map(partial(fc.calculate_rmsd_rot_trans_m,  \n",
    "                    array_cliques1 = array_df_cliques1, \n",
    "                    array_cliques2 = array_df_cliques2, \n",
    "                    num_cliques = num_cliques), candidatos_filter_dist)\n",
    "\n",
    "p.close()\n",
    "p.join()"
   ]
  },
  {
   "cell_type": "code",
   "execution_count": 40,
   "metadata": {},
   "outputs": [
    {
     "data": {
      "text/plain": [
       "869504"
      ]
     },
     "execution_count": 40,
     "metadata": {},
     "output_type": "execute_result"
    }
   ],
   "source": [
    "len(rmsd_1)"
   ]
  },
  {
   "cell_type": "code",
   "execution_count": 41,
   "metadata": {},
   "outputs": [
    {
     "data": {
      "text/plain": [
       "(869504, 5)"
      ]
     },
     "execution_count": 41,
     "metadata": {},
     "output_type": "execute_result"
    }
   ],
   "source": [
    "f1 = pd.DataFrame(rmsd_1)\n",
    "f1.columns = ['rmsd','candidatos']\n",
    "f1['cumple'] = np.where(f1.rmsd <= restriccion_rmsd,1,0)\n",
    "f1['candidato_clique_1'] = f1.candidatos.str.get(0)\n",
    "f1['candidato_clique_2'] = f1.candidatos.str.get(1)\n",
    "f1.shape"
   ]
  },
  {
   "cell_type": "code",
   "execution_count": 42,
   "metadata": {},
   "outputs": [
    {
     "name": "stdout",
     "output_type": "stream",
     "text": [
      "3578\n"
     ]
    }
   ],
   "source": [
    "print(f1[f1.cumple==1].cumple.sum())\n",
    "f1 = f1[f1.cumple==1]"
   ]
  },
  {
   "cell_type": "markdown",
   "metadata": {},
   "source": [
    "# Probando la generacion de una nueva tabla con cliques_5 si se empieza con cliques_4"
   ]
  },
  {
   "cell_type": "code",
   "execution_count": 43,
   "metadata": {},
   "outputs": [
    {
     "data": {
      "text/html": [
       "<div>\n",
       "<style scoped>\n",
       "    .dataframe tbody tr th:only-of-type {\n",
       "        vertical-align: middle;\n",
       "    }\n",
       "\n",
       "    .dataframe tbody tr th {\n",
       "        vertical-align: top;\n",
       "    }\n",
       "\n",
       "    .dataframe thead th {\n",
       "        text-align: right;\n",
       "    }\n",
       "</style>\n",
       "<table border=\"1\" class=\"dataframe\">\n",
       "  <thead>\n",
       "    <tr style=\"text-align: right;\">\n",
       "      <th></th>\n",
       "      <th>rmsd</th>\n",
       "      <th>candidatos</th>\n",
       "      <th>cumple</th>\n",
       "      <th>candidato_clique_1</th>\n",
       "      <th>candidato_clique_2</th>\n",
       "    </tr>\n",
       "  </thead>\n",
       "  <tbody>\n",
       "    <tr>\n",
       "      <th>7</th>\n",
       "      <td>0.29109</td>\n",
       "      <td>(0, 10)</td>\n",
       "      <td>1</td>\n",
       "      <td>0</td>\n",
       "      <td>10</td>\n",
       "    </tr>\n",
       "    <tr>\n",
       "      <th>42</th>\n",
       "      <td>0.29299</td>\n",
       "      <td>(0, 57)</td>\n",
       "      <td>1</td>\n",
       "      <td>0</td>\n",
       "      <td>57</td>\n",
       "    </tr>\n",
       "    <tr>\n",
       "      <th>416</th>\n",
       "      <td>0.27244</td>\n",
       "      <td>(0, 1035)</td>\n",
       "      <td>1</td>\n",
       "      <td>0</td>\n",
       "      <td>1035</td>\n",
       "    </tr>\n",
       "    <tr>\n",
       "      <th>664</th>\n",
       "      <td>0.29610</td>\n",
       "      <td>(1, 86)</td>\n",
       "      <td>1</td>\n",
       "      <td>1</td>\n",
       "      <td>86</td>\n",
       "    </tr>\n",
       "    <tr>\n",
       "      <th>736</th>\n",
       "      <td>0.28929</td>\n",
       "      <td>(1, 191)</td>\n",
       "      <td>1</td>\n",
       "      <td>1</td>\n",
       "      <td>191</td>\n",
       "    </tr>\n",
       "  </tbody>\n",
       "</table>\n",
       "</div>"
      ],
      "text/plain": [
       "       rmsd candidatos  cumple  candidato_clique_1  candidato_clique_2\n",
       "7   0.29109  (0, 10)    1       0                   10                \n",
       "42  0.29299  (0, 57)    1       0                   57                \n",
       "416 0.27244  (0, 1035)  1       0                   1035              \n",
       "664 0.29610  (1, 86)    1       1                   86                \n",
       "736 0.28929  (1, 191)   1       1                   191               "
      ]
     },
     "execution_count": 43,
     "metadata": {},
     "output_type": "execute_result"
    }
   ],
   "source": [
    "candidatos_df = f1\n",
    "candidatos_df.sort_values(['candidato_clique_1','candidato_clique_2']).head()"
   ]
  },
  {
   "cell_type": "code",
   "execution_count": 44,
   "metadata": {},
   "outputs": [],
   "source": [
    "def get_cliques_5(df_cliques,col,cliques):\n",
    "    set_clique = [df_cliques.iloc[i, [0,1,2,3]].values for i in candidatos_df[col].unique()] #conjunto de candidatos unicos\n",
    "    lista_chidi = [] # aqui se guardara la lista de numero de residuo\n",
    "    for muestra in set_clique: # este va a cambiar cada iteracion\n",
    "        for i in cliques:\n",
    "            if set(muestra).issubset(i):       # si esta en un clique maximal\n",
    "                no_estan_en_clique = set(i).difference(set(muestra)) #obten los elementos que no estan en ese clique que si estan en el clique maximal\n",
    "                for j in no_estan_en_clique: \n",
    "                    muestra_falsa = muestra.copy() #se genera una copia para no borrar el orginal\n",
    "                    muestra_falsa = np.append(muestra_falsa,j) #se apila un elemento de los que no estan\n",
    "                    if set(muestra_falsa) not in lista_chidi:\n",
    "                        lista_chidi.append(set(muestra_falsa)) #si no esta en la lista pasa\n",
    "\n",
    "    return(pd.DataFrame(lista_chidi))"
   ]
  },
  {
   "cell_type": "code",
   "execution_count": 45,
   "metadata": {},
   "outputs": [],
   "source": [
    "new_df_cliques1 = get_cliques_5(df_cliques1, 'candidato_clique_1',cliques1)\n",
    "new_df_cliques2 = get_cliques_5(df_cliques2, 'candidato_clique_2',cliques2)\n",
    "num_cliques = num_cliques + 1"
   ]
  },
  {
   "cell_type": "markdown",
   "metadata": {},
   "source": [
    "# VA DE NUEZ EL CALCULO"
   ]
  },
  {
   "cell_type": "code",
   "execution_count": 46,
   "metadata": {},
   "outputs": [],
   "source": [
    "# se le pega la estructura secundaria al dataframe de los cliques\n",
    "# esto va a cambiar por que lo tiene que obtener del objeto residuo\n",
    "# ya se crea en ss1 y no cuesta reevaluar si es mejor desde el residuo\n",
    "# checar que es mas rapido si desde residuo o desde dataframe ss\n",
    "new_df_cliques1 = fc.paste_SS(ss1, new_df_cliques1, num_cliques = num_cliques)\n",
    "new_df_cliques2 = fc.paste_SS(ss2, new_df_cliques2, num_cliques = num_cliques)"
   ]
  },
  {
   "cell_type": "code",
   "execution_count": 47,
   "metadata": {},
   "outputs": [],
   "source": [
    "# comparacion SSM #aqui se obtienen los candidatos posibles pasando el filtro de SS\n",
    "candidatos_ss = fc.compare_SS(new_df_cliques1,new_df_cliques2, num_cliques=num_cliques)"
   ]
  },
  {
   "cell_type": "code",
   "execution_count": 48,
   "metadata": {},
   "outputs": [],
   "source": [
    "# get coords of cliques\n",
    "df_cliques1 = fc.get_coords_clique(df_atoms1, new_df_cliques1, num_cliques)\n",
    "df_cliques2 = fc.get_coords_clique(df_atoms2, new_df_cliques2, num_cliques)"
   ]
  },
  {
   "cell_type": "code",
   "execution_count": 49,
   "metadata": {},
   "outputs": [],
   "source": [
    "# baricentro clique\n",
    "df_cliques1 = fc.baricenter_clique(df_cliques1, num_cliques)\n",
    "df_cliques2 = fc.baricenter_clique(df_cliques2, num_cliques)"
   ]
  },
  {
   "cell_type": "code",
   "execution_count": 50,
   "metadata": {},
   "outputs": [],
   "source": [
    "# vectores gorro\n",
    "df_cliques1 = fc.center_vectors(df_cliques1, num_cliques)\n",
    "df_cliques2 = fc.center_vectors(df_cliques2, num_cliques)"
   ]
  },
  {
   "cell_type": "code",
   "execution_count": 51,
   "metadata": {},
   "outputs": [],
   "source": [
    "idx_rmsd1, idx_rmsd2 = 3*num_cliques, 4*num_cliques+3\n",
    "# print(list(range(idx_rmsd1,idx_rmsd2)))\n",
    "# se pasan a numpy arrays para mayor rapidez\n",
    "array_df_cliques1 = df_cliques1.values[:, range(idx_rmsd1, idx_rmsd2)] #del 9 al 15\n",
    "array_df_cliques2 = df_cliques2.values[:, range(idx_rmsd1, idx_rmsd2)]"
   ]
  },
  {
   "cell_type": "code",
   "execution_count": 52,
   "metadata": {},
   "outputs": [
    {
     "name": "stdout",
     "output_type": "stream",
     "text": [
      "1185342\n"
     ]
    }
   ],
   "source": [
    "#calculo del RMSD\n",
    "print(len(candidatos_ss))"
   ]
  },
  {
   "cell_type": "markdown",
   "metadata": {},
   "source": [
    "# Codigo que restringe candidatos"
   ]
  },
  {
   "cell_type": "code",
   "execution_count": 53,
   "metadata": {},
   "outputs": [],
   "source": [
    "df_cliques1 = fc.get_distancia_promedio(num_cliques, df_cliques1)\n",
    "df_cliques2 = fc.get_distancia_promedio(num_cliques, df_cliques2)\n",
    "\n",
    "array_dist_promedio1 = df_cliques1.values[:, -1]  # el ultimo valor de distancia.\n",
    "array_dist_promedio2 = df_cliques2.values[:, -1]"
   ]
  },
  {
   "cell_type": "code",
   "execution_count": 54,
   "metadata": {},
   "outputs": [],
   "source": [
    "limite_distancia_minima = 0.45\n",
    "if num_cliques == 4:\n",
    "    limite_distancia_minima = 0.9\n",
    "if num_cliques == 5:\n",
    "    limite_distancia_minima = 1.8\n",
    "if num_cliques == 6:\n",
    "    limite_distancia_minima = 3.6\n",
    "if num_cliques == 7:\n",
    "    limite_distancia_minima = 4.5\n",
    "if num_cliques == 8:\n",
    "    limite_distancia_minima = 8.0"
   ]
  },
  {
   "cell_type": "code",
   "execution_count": 55,
   "metadata": {},
   "outputs": [
    {
     "name": "stdout",
     "output_type": "stream",
     "text": [
      "num candidatos filtro SS 1185342\n",
      "num candidatos filtro distancia y ss 900886\n"
     ]
    }
   ],
   "source": [
    "#filtro por distancia minima\n",
    "candidatos_filter_dist = [(i, j) for i, j in candidatos_ss if (\n",
    "        array_dist_promedio1[i] - array_dist_promedio2[j] >= -limite_distancia_minima) & (\n",
    "        array_dist_promedio1[i] - array_dist_promedio2[j] <= limite_distancia_minima)]\n",
    "\n",
    "print('num candidatos filtro SS', len(candidatos_ss))\n",
    "print('num candidatos filtro distancia y ss', len(candidatos_filter_dist))"
   ]
  },
  {
   "cell_type": "markdown",
   "metadata": {},
   "source": [
    "# Haciendo MUltiprocessing"
   ]
  },
  {
   "cell_type": "code",
   "execution_count": 56,
   "metadata": {},
   "outputs": [],
   "source": [
    "p = multiprocessing.Pool(multiprocessing.cpu_count()-1)\n",
    "restriccion_rmsd = 0.15\n",
    "if num_cliques == 4:\n",
    "    restriccion_rmsd = 0.30\n",
    "if num_cliques == 5:\n",
    "    restriccion_rmsd = 0.60\n",
    "if num_cliques == 6:\n",
    "    restriccion_rmsd = 0.90\n",
    "if num_cliques == 7:\n",
    "    restriccion_rmsd = 1.50\n",
    "if num_cliques == 8:\n",
    "    restriccion_rmsd = 1.80"
   ]
  },
  {
   "cell_type": "code",
   "execution_count": 57,
   "metadata": {},
   "outputs": [
    {
     "name": "stdout",
     "output_type": "stream",
     "text": [
      "CPU times: user 11.9 s, sys: 264 ms, total: 12.1 s\n",
      "Wall time: 57.2 s\n"
     ]
    }
   ],
   "source": [
    "%%time\n",
    "rmsd_1 = p.map(partial(fc.calculate_rmsd_rot_trans_m,  \n",
    "                    array_cliques1 = array_df_cliques1, \n",
    "                    array_cliques2 = array_df_cliques2, \n",
    "                    num_cliques = num_cliques), candidatos_filter_dist)\n",
    "\n",
    "p.close()\n",
    "p.join()"
   ]
  },
  {
   "cell_type": "code",
   "execution_count": 58,
   "metadata": {},
   "outputs": [
    {
     "data": {
      "text/plain": [
       "900886"
      ]
     },
     "execution_count": 58,
     "metadata": {},
     "output_type": "execute_result"
    }
   ],
   "source": [
    "len(rmsd_1)"
   ]
  },
  {
   "cell_type": "code",
   "execution_count": 59,
   "metadata": {},
   "outputs": [
    {
     "data": {
      "text/plain": [
       "(900886, 5)"
      ]
     },
     "execution_count": 59,
     "metadata": {},
     "output_type": "execute_result"
    }
   ],
   "source": [
    "f1 = pd.DataFrame(rmsd_1)\n",
    "f1.columns = ['rmsd','candidatos']\n",
    "f1['cumple'] = np.where(f1.rmsd <= restriccion_rmsd,1,0)\n",
    "f1['candidato_clique_1'] = f1.candidatos.str.get(0)\n",
    "f1['candidato_clique_2'] = f1.candidatos.str.get(1)\n",
    "f1.shape"
   ]
  },
  {
   "cell_type": "code",
   "execution_count": 60,
   "metadata": {},
   "outputs": [
    {
     "name": "stdout",
     "output_type": "stream",
     "text": [
      "43075\n"
     ]
    }
   ],
   "source": [
    "print(f1[f1.cumple==1].cumple.sum())\n",
    "f1 = f1[f1.cumple==1]"
   ]
  },
  {
   "cell_type": "markdown",
   "metadata": {},
   "source": [
    "# Probando la generacion de una nueva tabla con cliques_6 si se empieza con cliques_5"
   ]
  },
  {
   "cell_type": "code",
   "execution_count": 61,
   "metadata": {},
   "outputs": [
    {
     "data": {
      "text/html": [
       "<div>\n",
       "<style scoped>\n",
       "    .dataframe tbody tr th:only-of-type {\n",
       "        vertical-align: middle;\n",
       "    }\n",
       "\n",
       "    .dataframe tbody tr th {\n",
       "        vertical-align: top;\n",
       "    }\n",
       "\n",
       "    .dataframe thead th {\n",
       "        text-align: right;\n",
       "    }\n",
       "</style>\n",
       "<table border=\"1\" class=\"dataframe\">\n",
       "  <thead>\n",
       "    <tr style=\"text-align: right;\">\n",
       "      <th></th>\n",
       "      <th>rmsd</th>\n",
       "      <th>candidatos</th>\n",
       "      <th>cumple</th>\n",
       "      <th>candidato_clique_1</th>\n",
       "      <th>candidato_clique_2</th>\n",
       "    </tr>\n",
       "  </thead>\n",
       "  <tbody>\n",
       "    <tr>\n",
       "      <th>0</th>\n",
       "      <td>0.33304</td>\n",
       "      <td>(0, 0)</td>\n",
       "      <td>1</td>\n",
       "      <td>0</td>\n",
       "      <td>0</td>\n",
       "    </tr>\n",
       "    <tr>\n",
       "      <th>1</th>\n",
       "      <td>0.37599</td>\n",
       "      <td>(0, 1)</td>\n",
       "      <td>1</td>\n",
       "      <td>0</td>\n",
       "      <td>1</td>\n",
       "    </tr>\n",
       "    <tr>\n",
       "      <th>3</th>\n",
       "      <td>0.49367</td>\n",
       "      <td>(0, 3)</td>\n",
       "      <td>1</td>\n",
       "      <td>0</td>\n",
       "      <td>3</td>\n",
       "    </tr>\n",
       "    <tr>\n",
       "      <th>13</th>\n",
       "      <td>0.55671</td>\n",
       "      <td>(0, 14)</td>\n",
       "      <td>1</td>\n",
       "      <td>0</td>\n",
       "      <td>14</td>\n",
       "    </tr>\n",
       "    <tr>\n",
       "      <th>18</th>\n",
       "      <td>0.45587</td>\n",
       "      <td>(0, 19)</td>\n",
       "      <td>1</td>\n",
       "      <td>0</td>\n",
       "      <td>19</td>\n",
       "    </tr>\n",
       "  </tbody>\n",
       "</table>\n",
       "</div>"
      ],
      "text/plain": [
       "      rmsd candidatos  cumple  candidato_clique_1  candidato_clique_2\n",
       "0  0.33304  (0, 0)     1       0                   0                 \n",
       "1  0.37599  (0, 1)     1       0                   1                 \n",
       "3  0.49367  (0, 3)     1       0                   3                 \n",
       "13 0.55671  (0, 14)    1       0                   14                \n",
       "18 0.45587  (0, 19)    1       0                   19                "
      ]
     },
     "execution_count": 61,
     "metadata": {},
     "output_type": "execute_result"
    }
   ],
   "source": [
    "candidatos_df = f1\n",
    "candidatos_df.sort_values(['candidato_clique_1','candidato_clique_2']).head()"
   ]
  },
  {
   "cell_type": "code",
   "execution_count": 62,
   "metadata": {},
   "outputs": [],
   "source": [
    "def get_cliques_6(df_cliques,col,cliques):\n",
    "    set_clique = [df_cliques.iloc[i, [0,1,2,3,4]].values for i in candidatos_df[col].unique()] #conjunto de candidatos unicos\n",
    "    lista_chidi = [] # aqui se guardara la lista de numero de residuo\n",
    "    for muestra in set_clique: # este va a cambiar cada iteracion\n",
    "        for i in cliques:\n",
    "            if set(muestra).issubset(i):       # si esta en un clique maximal\n",
    "                no_estan_en_clique = set(i).difference(set(muestra)) #obten los elementos que no estan en ese clique que si estan en el clique maximal\n",
    "                for j in no_estan_en_clique: \n",
    "                    muestra_falsa = muestra.copy() #se genera una copia para no borrar el orginal\n",
    "                    muestra_falsa = np.append(muestra_falsa,j) #se apila un elemento de los que no estan\n",
    "                    if set(muestra_falsa) not in lista_chidi:\n",
    "                        lista_chidi.append(set(muestra_falsa)) #si no esta en la lista pasa\n",
    "\n",
    "    return(pd.DataFrame(lista_chidi))"
   ]
  },
  {
   "cell_type": "code",
   "execution_count": 63,
   "metadata": {},
   "outputs": [],
   "source": [
    "new_df_cliques1 = get_cliques_6(df_cliques1, 'candidato_clique_1',cliques1)\n",
    "new_df_cliques2 = get_cliques_6(df_cliques2, 'candidato_clique_2',cliques2)\n",
    "num_cliques = num_cliques + 1"
   ]
  },
  {
   "cell_type": "markdown",
   "metadata": {},
   "source": [
    "# VA DE NUEZ EL CALCULO"
   ]
  },
  {
   "cell_type": "code",
   "execution_count": 64,
   "metadata": {},
   "outputs": [],
   "source": [
    "# se le pega la estructura secundaria al dataframe de los cliques\n",
    "# esto va a cambiar por que lo tiene que obtener del objeto residuo\n",
    "# ya se crea en ss1 y no cuesta reevaluar si es mejor desde el residuo\n",
    "# checar que es mas rapido si desde residuo o desde dataframe ss\n",
    "new_df_cliques1 = fc.paste_SS(ss1, new_df_cliques1, num_cliques = num_cliques)\n",
    "new_df_cliques2 = fc.paste_SS(ss2, new_df_cliques2, num_cliques = num_cliques)"
   ]
  },
  {
   "cell_type": "code",
   "execution_count": 65,
   "metadata": {},
   "outputs": [],
   "source": [
    "# comparacion SSM #aqui se obtienen los candidatos posibles pasando el filtro de SS\n",
    "candidatos_ss = fc.compare_SS(new_df_cliques1,new_df_cliques2, num_cliques=num_cliques)"
   ]
  },
  {
   "cell_type": "code",
   "execution_count": 66,
   "metadata": {},
   "outputs": [],
   "source": [
    "# get coords of cliques\n",
    "df_cliques1 = fc.get_coords_clique(df_atoms1, new_df_cliques1, num_cliques)\n",
    "df_cliques2 = fc.get_coords_clique(df_atoms2, new_df_cliques2, num_cliques)"
   ]
  },
  {
   "cell_type": "code",
   "execution_count": 67,
   "metadata": {},
   "outputs": [],
   "source": [
    "# baricentro clique\n",
    "df_cliques1 = fc.baricenter_clique(df_cliques1, num_cliques)\n",
    "df_cliques2 = fc.baricenter_clique(df_cliques2, num_cliques)"
   ]
  },
  {
   "cell_type": "code",
   "execution_count": 68,
   "metadata": {},
   "outputs": [],
   "source": [
    "# vectores gorro\n",
    "df_cliques1 = fc.center_vectors(df_cliques1, num_cliques)\n",
    "df_cliques2 = fc.center_vectors(df_cliques2, num_cliques)"
   ]
  },
  {
   "cell_type": "code",
   "execution_count": 69,
   "metadata": {},
   "outputs": [],
   "source": [
    "idx_rmsd1, idx_rmsd2 = 3*num_cliques, 4*num_cliques+3\n",
    "# print(list(range(idx_rmsd1,idx_rmsd2)))\n",
    "# se pasan a numpy arrays para mayor rapidez\n",
    "array_df_cliques1 = df_cliques1.values[:, range(idx_rmsd1, idx_rmsd2)] #del 9 al 15\n",
    "array_df_cliques2 = df_cliques2.values[:, range(idx_rmsd1, idx_rmsd2)]"
   ]
  },
  {
   "cell_type": "code",
   "execution_count": 70,
   "metadata": {},
   "outputs": [
    {
     "name": "stdout",
     "output_type": "stream",
     "text": [
      "337448\n"
     ]
    }
   ],
   "source": [
    "#calculo del RMSD\n",
    "print(len(candidatos_ss))"
   ]
  },
  {
   "cell_type": "markdown",
   "metadata": {},
   "source": [
    "# Codigo que restringe candidatos"
   ]
  },
  {
   "cell_type": "code",
   "execution_count": 71,
   "metadata": {},
   "outputs": [],
   "source": [
    "df_cliques1 = fc.get_distancia_promedio(num_cliques, df_cliques1)\n",
    "df_cliques2 = fc.get_distancia_promedio(num_cliques, df_cliques2)\n",
    "\n",
    "array_dist_promedio1 = df_cliques1.values[:, -1]  # el ultimo valor de distancia.\n",
    "array_dist_promedio2 = df_cliques2.values[:, -1]"
   ]
  },
  {
   "cell_type": "code",
   "execution_count": 72,
   "metadata": {},
   "outputs": [],
   "source": [
    "limite_distancia_minima = 0.45\n",
    "if num_cliques == 4:\n",
    "    limite_distancia_minima = 0.9\n",
    "if num_cliques == 5:\n",
    "    limite_distancia_minima = 1.8\n",
    "if num_cliques == 6:\n",
    "    limite_distancia_minima = 3.6\n",
    "if num_cliques == 7:\n",
    "    limite_distancia_minima = 4.5\n",
    "if num_cliques == 8:\n",
    "    limite_distancia_minima = 8.0"
   ]
  },
  {
   "cell_type": "code",
   "execution_count": 73,
   "metadata": {},
   "outputs": [
    {
     "name": "stdout",
     "output_type": "stream",
     "text": [
      "num candidatos filtro SS 337448\n",
      "num candidatos filtro distancia y ss 332695\n"
     ]
    }
   ],
   "source": [
    "#filtro por distancia minima\n",
    "candidatos_filter_dist = [(i, j) for i, j in candidatos_ss if (\n",
    "        array_dist_promedio1[i] - array_dist_promedio2[j] >= -limite_distancia_minima) & (\n",
    "        array_dist_promedio1[i] - array_dist_promedio2[j] <= limite_distancia_minima)]\n",
    "\n",
    "print('num candidatos filtro SS', len(candidatos_ss))\n",
    "print('num candidatos filtro distancia y ss', len(candidatos_filter_dist))"
   ]
  },
  {
   "cell_type": "markdown",
   "metadata": {},
   "source": [
    "# Haciendo MUltiprocessing"
   ]
  },
  {
   "cell_type": "code",
   "execution_count": 74,
   "metadata": {},
   "outputs": [],
   "source": [
    "p = multiprocessing.Pool(multiprocessing.cpu_count()-1)\n",
    "restriccion_rmsd = 0.15\n",
    "if num_cliques == 4:\n",
    "    restriccion_rmsd = 0.30\n",
    "if num_cliques == 5:\n",
    "    restriccion_rmsd = 0.60\n",
    "if num_cliques == 6:\n",
    "    restriccion_rmsd = 0.90\n",
    "if num_cliques == 7:\n",
    "    restriccion_rmsd = 1.50\n",
    "if num_cliques == 8:\n",
    "    restriccion_rmsd = 1.80"
   ]
  },
  {
   "cell_type": "code",
   "execution_count": 75,
   "metadata": {},
   "outputs": [
    {
     "name": "stdout",
     "output_type": "stream",
     "text": [
      "CPU times: user 8.21 s, sys: 188 ms, total: 8.4 s\n",
      "Wall time: 24.8 s\n"
     ]
    }
   ],
   "source": [
    "%%time\n",
    "rmsd_1 = p.map(partial(fc.calculate_rmsd_rot_trans_m,  \n",
    "                    array_cliques1 = array_df_cliques1, \n",
    "                    array_cliques2 = array_df_cliques2, \n",
    "                    num_cliques = num_cliques), candidatos_filter_dist)\n",
    "\n",
    "p.close()\n",
    "p.join()"
   ]
  },
  {
   "cell_type": "code",
   "execution_count": 76,
   "metadata": {},
   "outputs": [
    {
     "data": {
      "text/plain": [
       "332695"
      ]
     },
     "execution_count": 76,
     "metadata": {},
     "output_type": "execute_result"
    }
   ],
   "source": [
    "len(rmsd_1)"
   ]
  },
  {
   "cell_type": "code",
   "execution_count": 77,
   "metadata": {},
   "outputs": [
    {
     "data": {
      "text/plain": [
       "(332695, 5)"
      ]
     },
     "execution_count": 77,
     "metadata": {},
     "output_type": "execute_result"
    }
   ],
   "source": [
    "f1 = pd.DataFrame(rmsd_1)\n",
    "f1.columns = ['rmsd','candidatos']\n",
    "f1['cumple'] = np.where(f1.rmsd <= restriccion_rmsd,1,0)\n",
    "f1['candidato_clique_1'] = f1.candidatos.str.get(0)\n",
    "f1['candidato_clique_2'] = f1.candidatos.str.get(1)\n",
    "f1.shape"
   ]
  },
  {
   "cell_type": "code",
   "execution_count": 78,
   "metadata": {},
   "outputs": [
    {
     "name": "stdout",
     "output_type": "stream",
     "text": [
      "26876\n"
     ]
    }
   ],
   "source": [
    "print(f1[f1.cumple==1].cumple.sum())\n",
    "f1 = f1[f1.cumple==1]"
   ]
  },
  {
   "cell_type": "markdown",
   "metadata": {},
   "source": [
    "# Probando la generacion de una nueva tabla con cliques_7 si se empieza con cliques_6"
   ]
  },
  {
   "cell_type": "code",
   "execution_count": 80,
   "metadata": {},
   "outputs": [
    {
     "data": {
      "text/html": [
       "<div>\n",
       "<style scoped>\n",
       "    .dataframe tbody tr th:only-of-type {\n",
       "        vertical-align: middle;\n",
       "    }\n",
       "\n",
       "    .dataframe tbody tr th {\n",
       "        vertical-align: top;\n",
       "    }\n",
       "\n",
       "    .dataframe thead th {\n",
       "        text-align: right;\n",
       "    }\n",
       "</style>\n",
       "<table border=\"1\" class=\"dataframe\">\n",
       "  <thead>\n",
       "    <tr style=\"text-align: right;\">\n",
       "      <th></th>\n",
       "      <th>rmsd</th>\n",
       "      <th>candidatos</th>\n",
       "      <th>cumple</th>\n",
       "      <th>candidato_clique_1</th>\n",
       "      <th>candidato_clique_2</th>\n",
       "    </tr>\n",
       "  </thead>\n",
       "  <tbody>\n",
       "    <tr>\n",
       "      <th>1</th>\n",
       "      <td>0.88576</td>\n",
       "      <td>(0, 1)</td>\n",
       "      <td>1</td>\n",
       "      <td>0</td>\n",
       "      <td>1</td>\n",
       "    </tr>\n",
       "    <tr>\n",
       "      <th>3</th>\n",
       "      <td>0.88959</td>\n",
       "      <td>(0, 3)</td>\n",
       "      <td>1</td>\n",
       "      <td>0</td>\n",
       "      <td>3</td>\n",
       "    </tr>\n",
       "    <tr>\n",
       "      <th>30</th>\n",
       "      <td>0.78204</td>\n",
       "      <td>(0, 32)</td>\n",
       "      <td>1</td>\n",
       "      <td>0</td>\n",
       "      <td>32</td>\n",
       "    </tr>\n",
       "    <tr>\n",
       "      <th>73</th>\n",
       "      <td>0.85510</td>\n",
       "      <td>(0, 102)</td>\n",
       "      <td>1</td>\n",
       "      <td>0</td>\n",
       "      <td>102</td>\n",
       "    </tr>\n",
       "    <tr>\n",
       "      <th>434</th>\n",
       "      <td>0.46614</td>\n",
       "      <td>(2, 0)</td>\n",
       "      <td>1</td>\n",
       "      <td>2</td>\n",
       "      <td>0</td>\n",
       "    </tr>\n",
       "  </tbody>\n",
       "</table>\n",
       "</div>"
      ],
      "text/plain": [
       "       rmsd candidatos  cumple  candidato_clique_1  candidato_clique_2\n",
       "1   0.88576  (0, 1)     1       0                   1                 \n",
       "3   0.88959  (0, 3)     1       0                   3                 \n",
       "30  0.78204  (0, 32)    1       0                   32                \n",
       "73  0.85510  (0, 102)   1       0                   102               \n",
       "434 0.46614  (2, 0)     1       2                   0                 "
      ]
     },
     "execution_count": 80,
     "metadata": {},
     "output_type": "execute_result"
    }
   ],
   "source": [
    "candidatos_df = f1\n",
    "candidatos_df.sort_values(['candidato_clique_1','candidato_clique_2']).head()"
   ]
  },
  {
   "cell_type": "code",
   "execution_count": 81,
   "metadata": {},
   "outputs": [],
   "source": [
    "def get_cliques_7(df_cliques,col,cliques):\n",
    "    set_clique = [df_cliques.iloc[i, [0,1,2,3,4,5]].values for i in candidatos_df[col].unique()] #conjunto de candidatos unicos\n",
    "    lista_chidi = [] # aqui se guardara la lista de numero de residuo\n",
    "    for muestra in set_clique: # este va a cambiar cada iteracion\n",
    "        for i in cliques:\n",
    "            if set(muestra).issubset(i):       # si esta en un clique maximal\n",
    "                no_estan_en_clique = set(i).difference(set(muestra)) #obten los elementos que no estan en ese clique que si estan en el clique maximal\n",
    "                for j in no_estan_en_clique: \n",
    "                    muestra_falsa = muestra.copy() #se genera una copia para no borrar el orginal\n",
    "                    muestra_falsa = np.append(muestra_falsa,j) #se apila un elemento de los que no estan\n",
    "                    if set(muestra_falsa) not in lista_chidi:\n",
    "                        lista_chidi.append(set(muestra_falsa)) #si no esta en la lista pasa\n",
    "\n",
    "    return(pd.DataFrame(lista_chidi))"
   ]
  },
  {
   "cell_type": "code",
   "execution_count": 82,
   "metadata": {},
   "outputs": [],
   "source": [
    "new_df_cliques1 = get_cliques_7(df_cliques1, 'candidato_clique_1',cliques1)\n",
    "new_df_cliques2 = get_cliques_7(df_cliques2, 'candidato_clique_2',cliques2)\n",
    "num_cliques = num_cliques + 1"
   ]
  },
  {
   "cell_type": "markdown",
   "metadata": {},
   "source": [
    "# VA DE NUEZ EL CALCULO"
   ]
  },
  {
   "cell_type": "code",
   "execution_count": 83,
   "metadata": {},
   "outputs": [],
   "source": [
    "# se le pega la estructura secundaria al dataframe de los cliques\n",
    "# esto va a cambiar por que lo tiene que obtener del objeto residuo\n",
    "# ya se crea en ss1 y no cuesta reevaluar si es mejor desde el residuo\n",
    "# checar que es mas rapido si desde residuo o desde dataframe ss\n",
    "new_df_cliques1 = fc.paste_SS(ss1, new_df_cliques1, num_cliques = num_cliques)\n",
    "new_df_cliques2 = fc.paste_SS(ss2, new_df_cliques2, num_cliques = num_cliques)"
   ]
  },
  {
   "cell_type": "code",
   "execution_count": 84,
   "metadata": {},
   "outputs": [],
   "source": [
    "# comparacion SSM #aqui se obtienen los candidatos posibles pasando el filtro de SS\n",
    "candidatos_ss = fc.compare_SS(new_df_cliques1,new_df_cliques2, num_cliques=num_cliques)"
   ]
  },
  {
   "cell_type": "code",
   "execution_count": 85,
   "metadata": {},
   "outputs": [],
   "source": [
    "# get coords of cliques\n",
    "df_cliques1 = fc.get_coords_clique(df_atoms1, new_df_cliques1, num_cliques)\n",
    "df_cliques2 = fc.get_coords_clique(df_atoms2, new_df_cliques2, num_cliques)"
   ]
  },
  {
   "cell_type": "code",
   "execution_count": 86,
   "metadata": {},
   "outputs": [],
   "source": [
    "# baricentro clique\n",
    "df_cliques1 = fc.baricenter_clique(df_cliques1, num_cliques)\n",
    "df_cliques2 = fc.baricenter_clique(df_cliques2, num_cliques)"
   ]
  },
  {
   "cell_type": "code",
   "execution_count": 87,
   "metadata": {},
   "outputs": [],
   "source": [
    "# vectores gorro\n",
    "df_cliques1 = fc.center_vectors(df_cliques1, num_cliques)\n",
    "df_cliques2 = fc.center_vectors(df_cliques2, num_cliques)"
   ]
  },
  {
   "cell_type": "code",
   "execution_count": 88,
   "metadata": {},
   "outputs": [],
   "source": [
    "idx_rmsd1, idx_rmsd2 = 3*num_cliques, 4*num_cliques+3\n",
    "# print(list(range(idx_rmsd1,idx_rmsd2)))\n",
    "# se pasan a numpy arrays para mayor rapidez\n",
    "array_df_cliques1 = df_cliques1.values[:, range(idx_rmsd1, idx_rmsd2)] #del 9 al 15\n",
    "array_df_cliques2 = df_cliques2.values[:, range(idx_rmsd1, idx_rmsd2)]"
   ]
  },
  {
   "cell_type": "code",
   "execution_count": 89,
   "metadata": {},
   "outputs": [
    {
     "name": "stdout",
     "output_type": "stream",
     "text": [
      "28023\n"
     ]
    }
   ],
   "source": [
    "#calculo del RMSD\n",
    "print(len(candidatos_ss))"
   ]
  },
  {
   "cell_type": "markdown",
   "metadata": {},
   "source": [
    "# Codigo que restringe candidatos"
   ]
  },
  {
   "cell_type": "code",
   "execution_count": 90,
   "metadata": {},
   "outputs": [],
   "source": [
    "df_cliques1 = fc.get_distancia_promedio(num_cliques, df_cliques1)\n",
    "df_cliques2 = fc.get_distancia_promedio(num_cliques, df_cliques2)\n",
    "\n",
    "array_dist_promedio1 = df_cliques1.values[:, -1]  # el ultimo valor de distancia.\n",
    "array_dist_promedio2 = df_cliques2.values[:, -1]"
   ]
  },
  {
   "cell_type": "code",
   "execution_count": 91,
   "metadata": {},
   "outputs": [],
   "source": [
    "limite_distancia_minima = 0.45\n",
    "if num_cliques == 4:\n",
    "    limite_distancia_minima = 0.9\n",
    "if num_cliques == 5:\n",
    "    limite_distancia_minima = 1.8\n",
    "if num_cliques == 6:\n",
    "    limite_distancia_minima = 3.6\n",
    "if num_cliques == 7:\n",
    "    limite_distancia_minima = 4.5\n",
    "if num_cliques == 8:\n",
    "    limite_distancia_minima = 8.0"
   ]
  },
  {
   "cell_type": "code",
   "execution_count": 92,
   "metadata": {},
   "outputs": [
    {
     "name": "stdout",
     "output_type": "stream",
     "text": [
      "num candidatos filtro SS 28023\n",
      "num candidatos filtro distancia y ss 28010\n"
     ]
    }
   ],
   "source": [
    "#filtro por distancia minima\n",
    "candidatos_filter_dist = [(i, j) for i, j in candidatos_ss if (\n",
    "        array_dist_promedio1[i] - array_dist_promedio2[j] >= -limite_distancia_minima) & (\n",
    "        array_dist_promedio1[i] - array_dist_promedio2[j] <= limite_distancia_minima)]\n",
    "\n",
    "print('num candidatos filtro SS', len(candidatos_ss))\n",
    "print('num candidatos filtro distancia y ss', len(candidatos_filter_dist))"
   ]
  },
  {
   "cell_type": "markdown",
   "metadata": {},
   "source": [
    "# Haciendo MUltiprocessing"
   ]
  },
  {
   "cell_type": "code",
   "execution_count": 93,
   "metadata": {},
   "outputs": [],
   "source": [
    "p = multiprocessing.Pool(multiprocessing.cpu_count()-1)\n",
    "restriccion_rmsd = 0.15\n",
    "if num_cliques == 4:\n",
    "    restriccion_rmsd = 0.30\n",
    "if num_cliques == 5:\n",
    "    restriccion_rmsd = 0.60\n",
    "if num_cliques == 6:\n",
    "    restriccion_rmsd = 0.90\n",
    "if num_cliques == 7:\n",
    "    restriccion_rmsd = 1.50\n",
    "if num_cliques == 8:\n",
    "    restriccion_rmsd = 1.80"
   ]
  },
  {
   "cell_type": "code",
   "execution_count": 94,
   "metadata": {},
   "outputs": [
    {
     "name": "stdout",
     "output_type": "stream",
     "text": [
      "CPU times: user 2.37 s, sys: 55.9 ms, total: 2.43 s\n",
      "Wall time: 2.97 s\n"
     ]
    }
   ],
   "source": [
    "%%time\n",
    "rmsd_1 = p.map(partial(fc.calculate_rmsd_rot_trans_m,  \n",
    "                    array_cliques1 = array_df_cliques1, \n",
    "                    array_cliques2 = array_df_cliques2, \n",
    "                    num_cliques = num_cliques), candidatos_filter_dist)\n",
    "\n",
    "p.close()\n",
    "p.join()"
   ]
  },
  {
   "cell_type": "code",
   "execution_count": 95,
   "metadata": {},
   "outputs": [
    {
     "data": {
      "text/plain": [
       "28010"
      ]
     },
     "execution_count": 95,
     "metadata": {},
     "output_type": "execute_result"
    }
   ],
   "source": [
    "len(rmsd_1)"
   ]
  },
  {
   "cell_type": "code",
   "execution_count": 96,
   "metadata": {},
   "outputs": [
    {
     "data": {
      "text/plain": [
       "(28010, 5)"
      ]
     },
     "execution_count": 96,
     "metadata": {},
     "output_type": "execute_result"
    }
   ],
   "source": [
    "f1 = pd.DataFrame(rmsd_1)\n",
    "f1.columns = ['rmsd','candidatos']\n",
    "f1['cumple'] = np.where(f1.rmsd <= restriccion_rmsd,1,0)\n",
    "f1['candidato_clique_1'] = f1.candidatos.str.get(0)\n",
    "f1['candidato_clique_2'] = f1.candidatos.str.get(1)\n",
    "f1.shape"
   ]
  },
  {
   "cell_type": "code",
   "execution_count": 97,
   "metadata": {},
   "outputs": [
    {
     "name": "stdout",
     "output_type": "stream",
     "text": [
      "12114\n"
     ]
    }
   ],
   "source": [
    "print(f1[f1.cumple==1].cumple.sum())\n",
    "f1 = f1[f1.cumple==1]"
   ]
  },
  {
   "cell_type": "code",
   "execution_count": 99,
   "metadata": {},
   "outputs": [],
   "source": [
    "ahora = datetime.datetime.now()"
   ]
  },
  {
   "cell_type": "code",
   "execution_count": 101,
   "metadata": {},
   "outputs": [
    {
     "name": "stdout",
     "output_type": "stream",
     "text": [
      "0:04:32.441614\n"
     ]
    }
   ],
   "source": [
    "print(ahora - tiempo)"
   ]
  },
  {
   "cell_type": "code",
   "execution_count": null,
   "metadata": {},
   "outputs": [],
   "source": []
  }
 ],
 "metadata": {
  "kernelspec": {
   "display_name": "Python 3",
   "language": "python",
   "name": "python3"
  },
  "language_info": {
   "codemirror_mode": {
    "name": "ipython",
    "version": 3
   },
   "file_extension": ".py",
   "mimetype": "text/x-python",
   "name": "python",
   "nbconvert_exporter": "python",
   "pygments_lexer": "ipython3",
   "version": "3.7.0"
  }
 },
 "nbformat": 4,
 "nbformat_minor": 2
}
