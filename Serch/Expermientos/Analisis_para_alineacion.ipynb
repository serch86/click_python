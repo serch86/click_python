{
 "cells": [
  {
   "cell_type": "markdown",
   "metadata": {},
   "source": [
    "# Analisis para saber si se van a alinear o se pueden alinear adecuadamente los candidatos"
   ]
  },
  {
   "cell_type": "code",
   "execution_count": 1,
   "metadata": {},
   "outputs": [],
   "source": [
    "import pandas as pd\n",
    "import numpy as np\n",
    "import matplotlib.pyplot as plt\n",
    "import sys\n",
    "sys.path.append('../')\n",
    "sys.path.append('../math_tricks/')\n",
    "import funciones_CLICK as fc\n",
    "%matplotlib inline"
   ]
  },
  {
   "cell_type": "code",
   "execution_count": 2,
   "metadata": {},
   "outputs": [],
   "source": [
    "new_df_cliques1 = pd.read_pickle('../clique1.pkl')\n",
    "new_df_cliques2 = pd.read_pickle('../clique2.pkl')\n",
    "\n",
    "candidatos = pd.read_csv('../candidatos.csv')\n",
    "\n",
    "# max_clique1 = pd.read_csv('../clique1_maximal.csv')\n",
    "# max_clique2 = pd.read_csv('../clique2_maximal.csv')\n",
    "\n",
    "df_atoms1 = pd.read_pickle('../clique1_df_atributos.pkl')\n",
    "df_atoms2 = pd.read_pickle('../clique2_df_atributos.pkl')\n",
    "\n",
    "rmsd = pd.read_pickle(\"../rmsd_picke.pkl\").reset_index(drop=True)\n",
    "# rmsd.columns = ['rmsd','candidatos','matriz_de_rotacion']"
   ]
  },
  {
   "cell_type": "code",
   "execution_count": 3,
   "metadata": {},
   "outputs": [
    {
     "name": "stdout",
     "output_type": "stream",
     "text": [
      "CPU times: user 151 ms, sys: 16.3 ms, total: 167 ms\n",
      "Wall time: 166 ms\n"
     ]
    }
   ],
   "source": [
    "%%time\n",
    "lista_vectores_gorro = []\n",
    "for i,bari in enumerate(new_df_cliques1.baricentro_clique.values):\n",
    "    lista_pre_vectores = []\n",
    "#     if i < 5:\n",
    "    for coord in df_atoms1.vector.values:\n",
    "#             print(bari,coord)\n",
    "        lista_pre_vectores.append(coord - bari)\n",
    "#             print('aa'*20)\n",
    "    lista_vectores_gorro.append(lista_pre_vectores)"
   ]
  },
  {
   "cell_type": "code",
   "execution_count": 4,
   "metadata": {},
   "outputs": [],
   "source": [
    "vectores_gorro_proteina_1 = pd.DataFrame(lista_vectores_gorro)"
   ]
  },
  {
   "cell_type": "code",
   "execution_count": 5,
   "metadata": {},
   "outputs": [
    {
     "name": "stdout",
     "output_type": "stream",
     "text": [
      "CPU times: user 144 ms, sys: 23.9 ms, total: 168 ms\n",
      "Wall time: 166 ms\n"
     ]
    }
   ],
   "source": [
    "%%time\n",
    "lista_vectores_gorro = []\n",
    "for i,bari in enumerate(new_df_cliques2.baricentro_clique.values):\n",
    "    lista_pre_vectores = []\n",
    "#     if i < 5:\n",
    "    for coord in df_atoms2.vector.values:\n",
    "#             print(bari,coord)\n",
    "        lista_pre_vectores.append(coord - bari)\n",
    "#             print('aa'*20)\n",
    "    lista_vectores_gorro.append(lista_pre_vectores)"
   ]
  },
  {
   "cell_type": "code",
   "execution_count": 6,
   "metadata": {},
   "outputs": [],
   "source": [
    "vectores_gorro_proteina_2 = pd.DataFrame(lista_vectores_gorro)"
   ]
  },
  {
   "cell_type": "code",
   "execution_count": 7,
   "metadata": {},
   "outputs": [
    {
     "name": "stdout",
     "output_type": "stream",
     "text": [
      "1.202217064689433\n",
      "1.2783052485104345\n"
     ]
    },
    {
     "data": {
      "image/png": "[encoded data removed]",
      "text/plain": [
       "<Figure size 432x288 with 1 Axes>"
      ]
     },
     "metadata": {
      "needs_background": "light"
     },
     "output_type": "display_data"
    }
   ],
   "source": [
    "rmsd.rmsd.hist(bins=50)\n",
    "print(rmsd.rmsd.mean())\n",
    "print(rmsd.rmsd.median())"
   ]
  },
  {
   "cell_type": "markdown",
   "metadata": {},
   "source": [
    "# Alineamiento de uno"
   ]
  },
  {
   "cell_type": "code",
   "execution_count": 148,
   "metadata": {},
   "outputs": [
    {
     "data": {
      "text/plain": [
       "rmsd                 0.00622                                                                                                                                                                                                 \n",
       "candidatos            (291, 182)                                                                                                                                                                                             \n",
       "matriz_rotacion       [[-0.9983009414423969, -0.048634907300823496, 0.032091682833166615], [0.029008789788845985, 0.06282036211591413, 0.9976031737212007], [-0.0505343490134265, 0.9968391283930752, -0.061302786839779855]]\n",
       "candidato_clique_1    291                                                                                                                                                                                                    \n",
       "candidato_clique_2    182                                                                                                                                                                                                    \n",
       "Name: 16194, dtype: object"
      ]
     },
     "execution_count": 148,
     "metadata": {},
     "output_type": "execute_result"
    }
   ],
   "source": [
    "# candidato que obtuve menor RMSD\n",
    "rmsd.iloc[rmsd.rmsd.idxmin()]"
   ]
  },
  {
   "cell_type": "code",
   "execution_count": 12,
   "metadata": {},
   "outputs": [
    {
     "data": {
      "text/plain": [
       "0   145.00000\n",
       "1   146.00000\n",
       "2   147.00000\n",
       "3   148.00000\n",
       "4   149.00000\n",
       "Name: 130, dtype: object"
      ]
     },
     "execution_count": 12,
     "metadata": {},
     "output_type": "execute_result"
    }
   ],
   "source": [
    "# Atributos del clique 1 de la proteina 1\n",
    "new_df_cliques1.iloc[rmsd.iloc[rmsd.rmsd.idxmin()].candidato_clique_1].head()"
   ]
  },
  {
   "cell_type": "code",
   "execution_count": 13,
   "metadata": {},
   "outputs": [
    {
     "data": {
      "text/plain": [
       "0   100.00000\n",
       "1   101.00000\n",
       "2   102.00000\n",
       "3   103.00000\n",
       "4   104.00000\n",
       "Name: 246, dtype: object"
      ]
     },
     "execution_count": 13,
     "metadata": {},
     "output_type": "execute_result"
    }
   ],
   "source": [
    "# Atributos del clique 2 de la proteina 2\n",
    "new_df_cliques2.iloc[rmsd.iloc[rmsd.rmsd.idxmin()].candidato_clique_2].head()"
   ]
  },
  {
   "cell_type": "code",
   "execution_count": 14,
   "metadata": {},
   "outputs": [
    {
     "data": {
      "text/plain": [
       "0    [9.193000000000001, -4.62828571428571, 6.91714285714286]  \n",
       "1    [9.755000000000003, -5.12828571428571, 5.674142857142858] \n",
       "2    [8.824000000000002, -4.712285714285713, 4.53914285714286] \n",
       "3    [7.602, -4.7542857142857144, 4.67914285714286]            \n",
       "4    [9.905000000000001, -6.659285714285716, 5.738142857142858]\n",
       "Name: 130, dtype: object"
      ]
     },
     "execution_count": 14,
     "metadata": {},
     "output_type": "execute_result"
    }
   ],
   "source": [
    "# vectores gorro de la proteina 1\n",
    "vectores_gorro_proteina_1.iloc[130].head()"
   ]
  },
  {
   "cell_type": "code",
   "execution_count": 15,
   "metadata": {},
   "outputs": [
    {
     "data": {
      "text/plain": [
       "0    [17.24214285714286, -7.589142857142856, 23.395142857142854] \n",
       "1    [16.450142857142858, -7.487142857142856, 24.685142857142857]\n",
       "2    [15.287142857142857, -6.498142857142856, 24.476142857142854]\n",
       "3    [14.202142857142857, -6.630142857142856, 25.042142857142856]\n",
       "4    [17.363142857142858, -7.030142857142856, 25.865142857142857]\n",
       "Name: 246, dtype: object"
      ]
     },
     "execution_count": 15,
     "metadata": {},
     "output_type": "execute_result"
    }
   ],
   "source": [
    "# vectores gorro de la proteina 2\n",
    "vectores_gorro_proteina_2.iloc[246].head()"
   ]
  },
  {
   "cell_type": "code",
   "execution_count": 16,
   "metadata": {},
   "outputs": [
    {
     "data": {
      "text/plain": [
       "(532, 5)"
      ]
     },
     "execution_count": 16,
     "metadata": {},
     "output_type": "execute_result"
    }
   ],
   "source": [
    "# proteina 1\n",
    "df_atoms1.shape"
   ]
  },
  {
   "cell_type": "code",
   "execution_count": 17,
   "metadata": {},
   "outputs": [
    {
     "data": {
      "text/plain": [
       "(878, 5)"
      ]
     },
     "execution_count": 17,
     "metadata": {},
     "output_type": "execute_result"
    }
   ],
   "source": [
    "# proteina 2\n",
    "df_atoms2.shape"
   ]
  },
  {
   "cell_type": "code",
   "execution_count": 149,
   "metadata": {},
   "outputs": [],
   "source": [
    "def rotation_vectors(vector_gorro, matriz_rotacion):\n",
    "    \"\"\"obtencion de vector rotado,\n",
    "    utilizando la matriz de rotacion\n",
    "    y los vectores gorro a rotar y trasladar\"\"\"\n",
    "\n",
    "    coord_rotado_trasladado = [np.matmul(\n",
    "        matriz_rotacion, i.reshape(3, 1)).T[0] for i in vector_gorro]\n",
    "    return (coord_rotado_trasladado)"
   ]
  },
  {
   "cell_type": "code",
   "execution_count": 19,
   "metadata": {},
   "outputs": [],
   "source": [
    "# se obtiene la matriz de rotacion del menor rmsd\n",
    "# se aplica a todos los vectores gorro de la proteina 1 que ya se le quito el baricentro del candidato 1\n",
    "matriz_rotacion = rmsd.iloc[rmsd.rmsd.idxmin()].matriz_rotacion\n",
    "vector_gorro = vectores_gorro_proteina_1.iloc[130].values\n",
    "#se obtienen coordendas rotadas\n",
    "coord_vectores_rotados = [np.matmul(matriz_rotacion, i.reshape(3, 1)).T[0] for i in vector_gorro]"
   ]
  },
  {
   "cell_type": "code",
   "execution_count": 20,
   "metadata": {},
   "outputs": [],
   "source": [
    "# las coordenadas anteriores se le suma el baricentro del candidato seleccionado de la proteina 2\n",
    "baricentro_proteina_2 = new_df_cliques2.iloc[rmsd.iloc[rmsd.rmsd.idxmin()].candidato_clique_2].baricentro_clique\n",
    "vector_rotado_trasladado_a_clique2 = coord_vectores_rotados + baricentro_proteina_2 #nuevas coordendas proteina 1"
   ]
  },
  {
   "cell_type": "code",
   "execution_count": 21,
   "metadata": {},
   "outputs": [],
   "source": [
    "df_atoms2['x'] = [i[0] for i in df_atoms2.vector]\n",
    "df_atoms2['y'] = [i[1] for i in df_atoms2.vector]\n",
    "df_atoms2['z'] = [i[2] for i in df_atoms2.vector]"
   ]
  },
  {
   "cell_type": "code",
   "execution_count": 22,
   "metadata": {},
   "outputs": [],
   "source": [
    "new_df_atom1 = pd.concat([df_atoms1,pd.DataFrame(vector_rotado_trasladado_a_clique2,columns=['x','y','z'])],1)\n",
    "new_df_atom1.head()\n",
    "new_df_atom1[['atom_name','x','y','z']].to_csv('1xxa_rot_tras.xyz',sep=' ',header=False,index=False)"
   ]
  },
  {
   "cell_type": "code",
   "execution_count": 23,
   "metadata": {},
   "outputs": [],
   "source": [
    "df_atoms2.head()\n",
    "df_atoms2[['atom_name','x','y','z']].to_csv('1tig.xyz',sep=' ',header=False,index=False)"
   ]
  },
  {
   "cell_type": "code",
   "execution_count": 24,
   "metadata": {},
   "outputs": [],
   "source": [
    "# np.array(rmsd['2'].values[0].split('\\n')[0][3:-1].split(), dtype=float) for i in rmsd['2'].shape[0]"
   ]
  },
  {
   "cell_type": "code",
   "execution_count": 38,
   "metadata": {},
   "outputs": [],
   "source": [
    "new_df_atom1['new_vector'] = [ [new_df_atom1.iloc[i]['x'],new_df_atom1.iloc[i]['y'],new_df_atom1.iloc[i]['z']] for i in range(new_df_atom1.shape[0])]\n",
    "# new_df_atom1"
   ]
  },
  {
   "cell_type": "code",
   "execution_count": 66,
   "metadata": {},
   "outputs": [
    {
     "data": {
      "text/html": [
       "<div>\n",
       "<style scoped>\n",
       "    .dataframe tbody tr th:only-of-type {\n",
       "        vertical-align: middle;\n",
       "    }\n",
       "\n",
       "    .dataframe tbody tr th {\n",
       "        vertical-align: top;\n",
       "    }\n",
       "\n",
       "    .dataframe thead th {\n",
       "        text-align: right;\n",
       "    }\n",
       "</style>\n",
       "<table border=\"1\" class=\"dataframe\">\n",
       "  <thead>\n",
       "    <tr style=\"text-align: right;\">\n",
       "      <th></th>\n",
       "      <th>atom_number</th>\n",
       "      <th>atom_name</th>\n",
       "      <th>residue_name</th>\n",
       "      <th>residue_number</th>\n",
       "      <th>vector</th>\n",
       "      <th>x</th>\n",
       "      <th>y</th>\n",
       "      <th>z</th>\n",
       "      <th>new_vector</th>\n",
       "    </tr>\n",
       "  </thead>\n",
       "  <tbody>\n",
       "    <tr>\n",
       "      <th>0</th>\n",
       "      <td>1</td>\n",
       "      <td>N</td>\n",
       "      <td>LEU</td>\n",
       "      <td>82</td>\n",
       "      <td>[28.39, 57.093, 26.056]</td>\n",
       "      <td>-3.91110</td>\n",
       "      <td>15.90738</td>\n",
       "      <td>-5.00935</td>\n",
       "      <td>[-3.9110999059406693, 15.9073833727848, -5.009353798739884]</td>\n",
       "    </tr>\n",
       "    <tr>\n",
       "      <th>1</th>\n",
       "      <td>2</td>\n",
       "      <td>CA</td>\n",
       "      <td>LEU</td>\n",
       "      <td>82</td>\n",
       "      <td>[28.952, 56.593, 24.813]</td>\n",
       "      <td>-4.46911</td>\n",
       "      <td>14.64106</td>\n",
       "      <td>-5.45202</td>\n",
       "      <td>[-4.469109275578163, 14.641064575452297, -5.45202212482516]</td>\n",
       "    </tr>\n",
       "  </tbody>\n",
       "</table>\n",
       "</div>"
      ],
      "text/plain": [
       "   atom_number atom_name residue_name  residue_number  \\\n",
       "0  1            N         LEU          82               \n",
       "1  2            CA        LEU          82               \n",
       "\n",
       "                     vector        x        y        z  \\\n",
       "0  [28.39, 57.093, 26.056]  -3.91110 15.90738 -5.00935   \n",
       "1  [28.952, 56.593, 24.813] -4.46911 14.64106 -5.45202   \n",
       "\n",
       "                                                    new_vector  \n",
       "0  [-3.9110999059406693, 15.9073833727848, -5.009353798739884]  \n",
       "1  [-4.469109275578163, 14.641064575452297, -5.45202212482516]  "
      ]
     },
     "execution_count": 66,
     "metadata": {},
     "output_type": "execute_result"
    }
   ],
   "source": [
    "new_df_atom1.head(2)"
   ]
  },
  {
   "cell_type": "code",
   "execution_count": 57,
   "metadata": {},
   "outputs": [
    {
     "data": {
      "text/plain": [
       "array([[1, 'N', 'LEU', 82, array([28.39 , 57.093, 26.056]),\n",
       "        -3.9110999059406693, 15.9073833727848, -5.009353798739884,\n",
       "        list([-3.9110999059406693, 15.9073833727848, -5.009353798739884])],\n",
       "       [2, 'CA', 'LEU', 82, array([28.952, 56.593, 24.813]),\n",
       "        -4.469109275578163, 14.641064575452297, -5.45202212482516,\n",
       "        list([-4.469109275578163, 14.641064575452297, -5.45202212482516])],\n",
       "       [3, 'C', 'LEU', 82, array([28.021, 57.009, 23.678]),\n",
       "        -3.587702162886438, 13.523696036021487, -4.901884824883872,\n",
       "        list([-3.587702162886438, 13.523696036021487, -4.901884824883872])],\n",
       "       [4, 'O', 'LEU', 82, array([26.799, 56.967, 23.818]),\n",
       "        -2.3626579707891118, 13.639845339059011, -4.881291942314586,\n",
       "        list([-2.3626579707891118, 13.639845339059011, -4.881291942314586])],\n",
       "       [5, 'CB', 'LEU', 82, array([29.102, 55.062, 24.877]),\n",
       "        -4.5288788222748595, 14.596736701663716, -6.989884160540027,\n",
       "        list([-4.5288788222748595, 14.596736701663716, -6.989884160540027])]],\n",
       "      dtype=object)"
      ]
     },
     "execution_count": 57,
     "metadata": {},
     "output_type": "execute_result"
    }
   ],
   "source": [
    "new_df_atom1.head().values"
   ]
  },
  {
   "cell_type": "code",
   "execution_count": 114,
   "metadata": {},
   "outputs": [],
   "source": [
    "import read_pdb_tools as rpt\n",
    "file1 = '../pdbs/1xxa.pdb'\n",
    "pdb1 = rpt.PdbStruct(file1)\n",
    "pdb1.AddPdbData(\"%s\" % file1)\n",
    "pdb11 = pdb1.GetResChain()"
   ]
  },
  {
   "cell_type": "code",
   "execution_count": 115,
   "metadata": {},
   "outputs": [
    {
     "name": "stdout",
     "output_type": "stream",
     "text": [
      "CPU times: user 598 ms, sys: 7.18 ms, total: 605 ms\n",
      "Wall time: 598 ms\n"
     ]
    }
   ],
   "source": [
    "%%time\n",
    "for i in pdb11:\n",
    "    mask = np.where(i.resi == new_df_atom1.residue_number,True,False)\n",
    "    for j in new_df_atom1[mask].atom_name:\n",
    "#         print(i.GetAtom(j).coord)\n",
    "#         print(type(i.GetAtom(j).coord))\n",
    "        mask_2 = np.where(new_df_atom1[mask].atom_name == j,True,False)\n",
    "        i.GetAtom(j).UpDateValue('coord', new_df_atom1[mask][mask_2].new_vector.values[0])\n",
    "#         print(i.GetAtom(j).coord)\n",
    "#         print(type(i.GetAtom(j).coord))\n",
    "#         print('//////'*23)"
   ]
  },
  {
   "cell_type": "code",
   "execution_count": 133,
   "metadata": {},
   "outputs": [],
   "source": [
    "pdb1.pdbdata = pdb11"
   ]
  },
  {
   "cell_type": "code",
   "execution_count": 138,
   "metadata": {},
   "outputs": [],
   "source": [
    "pdb1.WriteToFile()"
   ]
  },
  {
   "cell_type": "code",
   "execution_count": 137,
   "metadata": {},
   "outputs": [
    {
     "data": {
      "text/plain": [
       "'../pdbs/1xxa.pdb'"
      ]
     },
     "execution_count": 137,
     "metadata": {},
     "output_type": "execute_result"
    }
   ],
   "source": [
    "pdb1.name"
   ]
  },
  {
   "cell_type": "code",
   "execution_count": 140,
   "metadata": {},
   "outputs": [
    {
     "data": {
      "text/html": [
       "<div>\n",
       "<style scoped>\n",
       "    .dataframe tbody tr th:only-of-type {\n",
       "        vertical-align: middle;\n",
       "    }\n",
       "\n",
       "    .dataframe tbody tr th {\n",
       "        vertical-align: top;\n",
       "    }\n",
       "\n",
       "    .dataframe thead th {\n",
       "        text-align: right;\n",
       "    }\n",
       "</style>\n",
       "<table border=\"1\" class=\"dataframe\">\n",
       "  <thead>\n",
       "    <tr style=\"text-align: right;\">\n",
       "      <th></th>\n",
       "      <th>atom_number</th>\n",
       "      <th>atom_name</th>\n",
       "      <th>residue_name</th>\n",
       "      <th>residue_number</th>\n",
       "      <th>vector</th>\n",
       "      <th>x</th>\n",
       "      <th>y</th>\n",
       "      <th>z</th>\n",
       "      <th>new_vector</th>\n",
       "    </tr>\n",
       "  </thead>\n",
       "  <tbody>\n",
       "    <tr>\n",
       "      <th>0</th>\n",
       "      <td>1</td>\n",
       "      <td>N</td>\n",
       "      <td>LEU</td>\n",
       "      <td>82</td>\n",
       "      <td>[28.39, 57.093, 26.056]</td>\n",
       "      <td>-3.91110</td>\n",
       "      <td>15.90738</td>\n",
       "      <td>-5.00935</td>\n",
       "      <td>[-3.9110999059406693, 15.9073833727848, -5.009353798739884]</td>\n",
       "    </tr>\n",
       "    <tr>\n",
       "      <th>1</th>\n",
       "      <td>2</td>\n",
       "      <td>CA</td>\n",
       "      <td>LEU</td>\n",
       "      <td>82</td>\n",
       "      <td>[28.952, 56.593, 24.813]</td>\n",
       "      <td>-4.46911</td>\n",
       "      <td>14.64106</td>\n",
       "      <td>-5.45202</td>\n",
       "      <td>[-4.469109275578163, 14.641064575452297, -5.45202212482516]</td>\n",
       "    </tr>\n",
       "    <tr>\n",
       "      <th>2</th>\n",
       "      <td>3</td>\n",
       "      <td>C</td>\n",
       "      <td>LEU</td>\n",
       "      <td>82</td>\n",
       "      <td>[28.021, 57.009, 23.678]</td>\n",
       "      <td>-3.58770</td>\n",
       "      <td>13.52370</td>\n",
       "      <td>-4.90188</td>\n",
       "      <td>[-3.587702162886438, 13.523696036021487, -4.901884824883872]</td>\n",
       "    </tr>\n",
       "    <tr>\n",
       "      <th>3</th>\n",
       "      <td>4</td>\n",
       "      <td>O</td>\n",
       "      <td>LEU</td>\n",
       "      <td>82</td>\n",
       "      <td>[26.799, 56.967, 23.818]</td>\n",
       "      <td>-2.36266</td>\n",
       "      <td>13.63985</td>\n",
       "      <td>-4.88129</td>\n",
       "      <td>[-2.3626579707891118, 13.639845339059011, -4.881291942314586]</td>\n",
       "    </tr>\n",
       "    <tr>\n",
       "      <th>4</th>\n",
       "      <td>5</td>\n",
       "      <td>CB</td>\n",
       "      <td>LEU</td>\n",
       "      <td>82</td>\n",
       "      <td>[29.102, 55.062, 24.877]</td>\n",
       "      <td>-4.52888</td>\n",
       "      <td>14.59674</td>\n",
       "      <td>-6.98988</td>\n",
       "      <td>[-4.5288788222748595, 14.596736701663716, -6.989884160540027]</td>\n",
       "    </tr>\n",
       "  </tbody>\n",
       "</table>\n",
       "</div>"
      ],
      "text/plain": [
       "   atom_number atom_name residue_name  residue_number  \\\n",
       "0  1            N         LEU          82               \n",
       "1  2            CA        LEU          82               \n",
       "2  3            C         LEU          82               \n",
       "3  4            O         LEU          82               \n",
       "4  5            CB        LEU          82               \n",
       "\n",
       "                     vector        x        y        z  \\\n",
       "0  [28.39, 57.093, 26.056]  -3.91110 15.90738 -5.00935   \n",
       "1  [28.952, 56.593, 24.813] -4.46911 14.64106 -5.45202   \n",
       "2  [28.021, 57.009, 23.678] -3.58770 13.52370 -4.90188   \n",
       "3  [26.799, 56.967, 23.818] -2.36266 13.63985 -4.88129   \n",
       "4  [29.102, 55.062, 24.877] -4.52888 14.59674 -6.98988   \n",
       "\n",
       "                                                      new_vector  \n",
       "0  [-3.9110999059406693, 15.9073833727848, -5.009353798739884]    \n",
       "1  [-4.469109275578163, 14.641064575452297, -5.45202212482516]    \n",
       "2  [-3.587702162886438, 13.523696036021487, -4.901884824883872]   \n",
       "3  [-2.3626579707891118, 13.639845339059011, -4.881291942314586]  \n",
       "4  [-4.5288788222748595, 14.596736701663716, -6.989884160540027]  "
      ]
     },
     "execution_count": 140,
     "metadata": {},
     "output_type": "execute_result"
    }
   ],
   "source": [
    "new_df_atom1.head()"
   ]
  },
  {
   "cell_type": "markdown",
   "metadata": {},
   "source": [
    "# Alineacion para encontrar la mejor rotacion y traslacion"
   ]
  },
  {
   "cell_type": "code",
   "execution_count": 2,
   "metadata": {},
   "outputs": [],
   "source": [
    "new_df_cliques1 = pd.read_pickle('../clique1.pkl')\n",
    "new_df_cliques2 = pd.read_pickle('../clique2.pkl')\n",
    "\n",
    "candidatos = pd.read_csv('../candidatos.csv')\n",
    "\n",
    "df_atoms1 = pd.read_pickle('../clique1_df_atributos.pkl')\n",
    "df_atoms2 = pd.read_pickle('../clique2_df_atributos.pkl')\n",
    "\n",
    "rmsd = pd.read_pickle(\"../rmsd_picke.pkl\").reset_index(drop=True)"
   ]
  },
  {
   "cell_type": "code",
   "execution_count": 3,
   "metadata": {},
   "outputs": [
    {
     "name": "stdout",
     "output_type": "stream",
     "text": [
      "CPU times: user 193 ms, sys: 79 µs, total: 193 ms\n",
      "Wall time: 192 ms\n"
     ]
    }
   ],
   "source": [
    "%%time\n",
    "lista_vectores_gorro = []\n",
    "for i,bari in enumerate(new_df_cliques1.baricentro_clique.values):\n",
    "    lista_pre_vectores = []\n",
    "#     if i < 5:\n",
    "    for coord in df_atoms1.vector.values:\n",
    "#             print(bari,coord)\n",
    "        lista_pre_vectores.append(coord - bari)\n",
    "#             print('aa'*20)\n",
    "    lista_vectores_gorro.append(lista_pre_vectores)"
   ]
  },
  {
   "cell_type": "code",
   "execution_count": 4,
   "metadata": {},
   "outputs": [],
   "source": [
    "vectores_gorro_proteina_1 = pd.DataFrame(lista_vectores_gorro)"
   ]
  },
  {
   "cell_type": "code",
   "execution_count": 5,
   "metadata": {},
   "outputs": [
    {
     "name": "stdout",
     "output_type": "stream",
     "text": [
      "CPU times: user 183 ms, sys: 4.22 ms, total: 187 ms\n",
      "Wall time: 186 ms\n"
     ]
    }
   ],
   "source": [
    "%%time\n",
    "lista_vectores_gorro = []\n",
    "for i,bari in enumerate(new_df_cliques2.baricentro_clique.values):\n",
    "    lista_pre_vectores = []\n",
    "#     if i < 5:\n",
    "    for coord in df_atoms2.vector.values:\n",
    "#             print(bari,coord)\n",
    "        lista_pre_vectores.append(coord - bari)\n",
    "#             print('aa'*20)\n",
    "    lista_vectores_gorro.append(lista_pre_vectores)"
   ]
  },
  {
   "cell_type": "code",
   "execution_count": 6,
   "metadata": {},
   "outputs": [],
   "source": [
    "vectores_gorro_proteina_2 = pd.DataFrame(lista_vectores_gorro)"
   ]
  },
  {
   "cell_type": "code",
   "execution_count": 7,
   "metadata": {},
   "outputs": [
    {
     "name": "stdout",
     "output_type": "stream",
     "text": [
      "CPU times: user 1min 7s, sys: 35.9 ms, total: 1min 7s\n",
      "Wall time: 1min 7s\n"
     ]
    }
   ],
   "source": [
    "%%time\n",
    "#para cada candidato\n",
    "candidato = []\n",
    "protein_to_compare = [i for i in df_atoms2.vector.values]\n",
    "\n",
    "for idx in range(rmsd.shape[0]):\n",
    "    #tomas la matriz de rotacion y se la aplicas a los vectores gorro correspondientes\n",
    "    matriz_rotacion = rmsd.iloc[idx].matriz_rotacion\n",
    "    \n",
    "    vector_gorro = vectores_gorro_proteina_1.iloc[rmsd.iloc[idx].candidato_clique_1].values\n",
    "    \n",
    "    coord_vectores_rotados = [np.matmul(matriz_rotacion, i.reshape(3, 1)).T[0] for i in vector_gorro]\n",
    "    \n",
    "    baricentro_proteina_2 = new_df_cliques2.iloc[rmsd.iloc[idx].candidato_clique_2].baricentro_clique\n",
    "    \n",
    "    protein_trasladado_rotado = coord_vectores_rotados + baricentro_proteina_2 #nuevas coordendas proteina 1\n",
    "    #RMSD\n",
    "    p12 = np.sum((protein_to_compare - protein_trasladado_rotado) ** 2, 1)\n",
    "    rmsd_i = lambda i: np.sqrt(i) / 3\n",
    "    candidato.append([np.where(rmsd_i(p12) <= 3.5,1,0).mean(), idx])"
   ]
  },
  {
   "cell_type": "code",
   "execution_count": 8,
   "metadata": {},
   "outputs": [],
   "source": [
    "df_so = pd.DataFrame(candidato,columns=['SO','index'])"
   ]
  },
  {
   "cell_type": "code",
   "execution_count": 9,
   "metadata": {},
   "outputs": [
    {
     "data": {
      "text/plain": [
       "<matplotlib.axes._subplots.AxesSubplot at 0x7f289b067be0>"
      ]
     },
     "execution_count": 9,
     "metadata": {},
     "output_type": "execute_result"
    },
    {
     "data": {
      "image/png": "[encoded data removed]",
      "text/plain": [
       "<Figure size 432x288 with 1 Axes>"
      ]
     },
     "metadata": {
      "needs_background": "light"
     },
     "output_type": "display_data"
    }
   ],
   "source": [
    "df_so.SO.hist(bins=100)"
   ]
  },
  {
   "cell_type": "code",
   "execution_count": 10,
   "metadata": {},
   "outputs": [],
   "source": [
    "numero = df_so[df_so.SO == df_so.SO.quantile(0.90)].index[np.random.randint(df_so[df_so.SO == df_so.SO.quantile(0.90)].shape[0])]"
   ]
  },
  {
   "cell_type": "code",
   "execution_count": 15,
   "metadata": {},
   "outputs": [],
   "source": [
    "idx = 30401\n",
    "matriz_rotacion = rmsd.iloc[idx].matriz_rotacion\n",
    "    \n",
    "vector_gorro = vectores_gorro_proteina_1.iloc[rmsd.iloc[idx].candidato_clique_1].values\n",
    "\n",
    "coord_vectores_rotados = [np.matmul(matriz_rotacion, i.reshape(3, 1)).T[0] for i in vector_gorro]\n",
    "\n",
    "baricentro_proteina_2 = new_df_cliques2.iloc[rmsd.iloc[idx].candidato_clique_2].baricentro_clique\n",
    "\n",
    "protein_trasladado_rotado = coord_vectores_rotados + baricentro_proteina_2 #nuevas coordendas proteina 1"
   ]
  },
  {
   "cell_type": "code",
   "execution_count": 16,
   "metadata": {},
   "outputs": [],
   "source": [
    "new_df_atom1 = pd.concat([df_atoms1,pd.DataFrame(protein_trasladado_rotado,columns=['x','y','z'])],1)\n",
    "new_df_atom1['new_vector'] = [ [new_df_atom1.iloc[i]['x'],new_df_atom1.iloc[i]['y'],new_df_atom1.iloc[i]['z']] for i in range(new_df_atom1.shape[0])]"
   ]
  },
  {
   "cell_type": "code",
   "execution_count": 17,
   "metadata": {},
   "outputs": [],
   "source": [
    "import read_pdb_tools as rpt\n",
    "file1 = '../pdbs/1xxa_prueba.pdb'\n",
    "pdb1 = rpt.PdbStruct(file1)\n",
    "pdb1.AddPdbData(\"%s\" % file1)\n",
    "pdb11 = pdb1.GetResChain()"
   ]
  },
  {
   "cell_type": "code",
   "execution_count": 18,
   "metadata": {},
   "outputs": [
    {
     "name": "stdout",
     "output_type": "stream",
     "text": [
      "CPU times: user 583 ms, sys: 4.02 ms, total: 587 ms\n",
      "Wall time: 584 ms\n"
     ]
    }
   ],
   "source": [
    "%%time\n",
    "for i in pdb11:\n",
    "    mask = np.where(i.resi == new_df_atom1.residue_number,True,False)\n",
    "    for j in new_df_atom1[mask].atom_name:\n",
    "        mask_2 = np.where(new_df_atom1[mask].atom_name == j,True,False)\n",
    "        i.GetAtom(j).UpDateValue('coord', new_df_atom1[mask][mask_2].new_vector.values[0])"
   ]
  },
  {
   "cell_type": "code",
   "execution_count": 19,
   "metadata": {},
   "outputs": [],
   "source": [
    "pdb1.pdbdata = pdb11"
   ]
  },
  {
   "cell_type": "code",
   "execution_count": 20,
   "metadata": {},
   "outputs": [],
   "source": [
    "pdb1.WriteToFile()"
   ]
  },
  {
   "cell_type": "markdown",
   "metadata": {},
   "source": [
    "# ANalisis match cliques"
   ]
  },
  {
   "cell_type": "code",
   "execution_count": 20,
   "metadata": {},
   "outputs": [
    {
     "data": {
      "text/plain": [
       "0   115.00000\n",
       "1   116.00000\n",
       "2   117.00000\n",
       "3   118.00000\n",
       "4   120.00000\n",
       "5   121.00000\n",
       "6   122.00000\n",
       "Name: 354, dtype: object"
      ]
     },
     "execution_count": 20,
     "metadata": {},
     "output_type": "execute_result"
    }
   ],
   "source": [
    "new_df_cliques1.iloc[354][0:7]"
   ]
  },
  {
   "cell_type": "code",
   "execution_count": 60,
   "metadata": {},
   "outputs": [
    {
     "data": {
      "text/plain": [
       "0   135.00000\n",
       "1   136.00000\n",
       "2   137.00000\n",
       "3   139.00000\n",
       "4   120.00000\n",
       "5   121.00000\n",
       "6   122.00000\n",
       "Name: 119, dtype: object"
      ]
     },
     "execution_count": 60,
     "metadata": {},
     "output_type": "execute_result"
    }
   ],
   "source": [
    "new_df_cliques2.iloc[119][0:7]"
   ]
  },
  {
   "cell_type": "code",
   "execution_count": 59,
   "metadata": {},
   "outputs": [
    {
     "data": {
      "text/html": [
       "<div>\n",
       "<style scoped>\n",
       "    .dataframe tbody tr th:only-of-type {\n",
       "        vertical-align: middle;\n",
       "    }\n",
       "\n",
       "    .dataframe tbody tr th {\n",
       "        vertical-align: top;\n",
       "    }\n",
       "\n",
       "    .dataframe thead th {\n",
       "        text-align: right;\n",
       "    }\n",
       "</style>\n",
       "<table border=\"1\" class=\"dataframe\">\n",
       "  <thead>\n",
       "    <tr style=\"text-align: right;\">\n",
       "      <th></th>\n",
       "      <th>rmsd</th>\n",
       "      <th>candidatos</th>\n",
       "      <th>matriz_rotacion</th>\n",
       "      <th>candidato_clique_1</th>\n",
       "      <th>candidato_clique_2</th>\n",
       "    </tr>\n",
       "  </thead>\n",
       "  <tbody>\n",
       "    <tr>\n",
       "      <th>0</th>\n",
       "      <td>0.86520</td>\n",
       "      <td>(0, 3)</td>\n",
       "      <td>[[0.9950548850895354, 0.08611442877773165, -0.04949829103854832], [0.052015813303643466, -0.8763209363292067, -0.47891123573942534], [-0.08461755625053442, 0.47396827078127063, -0.8764667406506651]]</td>\n",
       "      <td>0</td>\n",
       "      <td>3</td>\n",
       "    </tr>\n",
       "    <tr>\n",
       "      <th>1</th>\n",
       "      <td>1.25015</td>\n",
       "      <td>(0, 4)</td>\n",
       "      <td>[[-0.9573254954488533, -0.1880884474379996, -0.21943252198334295], [-0.24021924540211956, 0.09569022292322943, 0.9659907325514767], [-0.16069415017991068, 0.9774794714863659, -0.13678915498200434]]</td>\n",
       "      <td>0</td>\n",
       "      <td>4</td>\n",
       "    </tr>\n",
       "    <tr>\n",
       "      <th>2</th>\n",
       "      <td>1.07473</td>\n",
       "      <td>(0, 13)</td>\n",
       "      <td>[[0.9576922179434058, 0.21631909386441256, 0.18982008671455147], [0.2784346504972642, -0.863275225759657, -0.42098697128542995], [0.07279945805503445, 0.45602843575734675, -0.8869826969493828]]</td>\n",
       "      <td>0</td>\n",
       "      <td>13</td>\n",
       "    </tr>\n",
       "    <tr>\n",
       "      <th>3</th>\n",
       "      <td>1.29940</td>\n",
       "      <td>(0, 102)</td>\n",
       "      <td>[[0.7215636635843963, 0.45546980004194604, -0.5214337356217124], [-0.4172826470205694, 0.8870748442043459, 0.19741685154854993], [0.5524681636892491, 0.07513642278938328, 0.8301406182570781]]</td>\n",
       "      <td>0</td>\n",
       "      <td>102</td>\n",
       "    </tr>\n",
       "    <tr>\n",
       "      <th>4</th>\n",
       "      <td>1.37764</td>\n",
       "      <td>(0, 103)</td>\n",
       "      <td>[[0.7228806004745626, 0.43970263095638584, -0.5330152284762301], [-0.41664024985249215, 0.8927632702511646, 0.17141950149647045], [0.5512300242733411, 0.09815976579270097, 0.828559062903263]]</td>\n",
       "      <td>0</td>\n",
       "      <td>103</td>\n",
       "    </tr>\n",
       "    <tr>\n",
       "      <th>5</th>\n",
       "      <td>1.36834</td>\n",
       "      <td>(0, 104)</td>\n",
       "      <td>[[0.7229601795860776, 0.4629281428802265, -0.5128607152651986], [-0.42944114372762326, 0.8826004268545802, 0.1913028765858575], [0.5412105715955456, 0.08193913012460899, 0.8368853542437251]]</td>\n",
       "      <td>0</td>\n",
       "      <td>104</td>\n",
       "    </tr>\n",
       "    <tr>\n",
       "      <th>6</th>\n",
       "      <td>1.46832</td>\n",
       "      <td>(0, 119)</td>\n",
       "      <td>[[0.8683986628063316, 0.31670668608602387, -0.3815503078554441], [-0.29384232415178574, 0.9484788848976669, 0.11850946561501194], [0.399425150651849, 0.009202167771103727, 0.9167196240591016]]</td>\n",
       "      <td>0</td>\n",
       "      <td>119</td>\n",
       "    </tr>\n",
       "    <tr>\n",
       "      <th>7</th>\n",
       "      <td>0.84438</td>\n",
       "      <td>(1, 1)</td>\n",
       "      <td>[[0.9700890969304428, 0.1952650342201006, -0.1442175801617167], [0.1441234765482975, -0.9413519826033823, -0.3050981290606581], [-0.1953345016230123, 0.275187229463332, -0.94133757027752]]</td>\n",
       "      <td>1</td>\n",
       "      <td>1</td>\n",
       "    </tr>\n",
       "    <tr>\n",
       "      <th>8</th>\n",
       "      <td>1.36425</td>\n",
       "      <td>(1, 5)</td>\n",
       "      <td>[[0.9944023876010669, 0.05316553614323488, -0.09130891139368552], [0.010892756860249615, -0.911161611984035, -0.4119051646855602], [-0.10509633381465316, 0.4086048734575462, -0.9066404017059143]]</td>\n",
       "      <td>1</td>\n",
       "      <td>5</td>\n",
       "    </tr>\n",
       "  </tbody>\n",
       "</table>\n",
       "</div>"
      ],
      "text/plain": [
       "     rmsd candidatos  \\\n",
       "0 0.86520  (0, 3)      \n",
       "1 1.25015  (0, 4)      \n",
       "2 1.07473  (0, 13)     \n",
       "3 1.29940  (0, 102)    \n",
       "4 1.37764  (0, 103)    \n",
       "5 1.36834  (0, 104)    \n",
       "6 1.46832  (0, 119)    \n",
       "7 0.84438  (1, 1)      \n",
       "8 1.36425  (1, 5)      \n",
       "\n",
       "                                                                                                                                                                                          matriz_rotacion  \\\n",
       "0  [[0.9950548850895354, 0.08611442877773165, -0.04949829103854832], [0.052015813303643466, -0.8763209363292067, -0.47891123573942534], [-0.08461755625053442, 0.47396827078127063, -0.8764667406506651]]   \n",
       "1  [[-0.9573254954488533, -0.1880884474379996, -0.21943252198334295], [-0.24021924540211956, 0.09569022292322943, 0.9659907325514767], [-0.16069415017991068, 0.9774794714863659, -0.13678915498200434]]    \n",
       "2  [[0.9576922179434058, 0.21631909386441256, 0.18982008671455147], [0.2784346504972642, -0.863275225759657, -0.42098697128542995], [0.07279945805503445, 0.45602843575734675, -0.8869826969493828]]        \n",
       "3  [[0.7215636635843963, 0.45546980004194604, -0.5214337356217124], [-0.4172826470205694, 0.8870748442043459, 0.19741685154854993], [0.5524681636892491, 0.07513642278938328, 0.8301406182570781]]          \n",
       "4  [[0.7228806004745626, 0.43970263095638584, -0.5330152284762301], [-0.41664024985249215, 0.8927632702511646, 0.17141950149647045], [0.5512300242733411, 0.09815976579270097, 0.828559062903263]]          \n",
       "5  [[0.7229601795860776, 0.4629281428802265, -0.5128607152651986], [-0.42944114372762326, 0.8826004268545802, 0.1913028765858575], [0.5412105715955456, 0.08193913012460899, 0.8368853542437251]]           \n",
       "6  [[0.8683986628063316, 0.31670668608602387, -0.3815503078554441], [-0.29384232415178574, 0.9484788848976669, 0.11850946561501194], [0.399425150651849, 0.009202167771103727, 0.9167196240591016]]         \n",
       "7  [[0.9700890969304428, 0.1952650342201006, -0.1442175801617167], [0.1441234765482975, -0.9413519826033823, -0.3050981290606581], [-0.1953345016230123, 0.275187229463332, -0.94133757027752]]             \n",
       "8  [[0.9944023876010669, 0.05316553614323488, -0.09130891139368552], [0.010892756860249615, -0.911161611984035, -0.4119051646855602], [-0.10509633381465316, 0.4086048734575462, -0.9066404017059143]]      \n",
       "\n",
       "   candidato_clique_1  candidato_clique_2  \n",
       "0  0                   3                   \n",
       "1  0                   4                   \n",
       "2  0                   13                  \n",
       "3  0                   102                 \n",
       "4  0                   103                 \n",
       "5  0                   104                 \n",
       "6  0                   119                 \n",
       "7  1                   1                   \n",
       "8  1                   5                   "
      ]
     },
     "execution_count": 59,
     "metadata": {},
     "output_type": "execute_result"
    }
   ],
   "source": [
    "rmsd.head(9)"
   ]
  },
  {
   "cell_type": "code",
   "execution_count": 35,
   "metadata": {},
   "outputs": [
    {
     "data": {
      "text/plain": [
       "<matplotlib.axes._subplots.AxesSubplot at 0x7f2889d6edd8>"
      ]
     },
     "execution_count": 35,
     "metadata": {},
     "output_type": "execute_result"
    },
    {
     "data": {
      "image/png": "[encoded data removed]",
      "text/plain": [
       "<Figure size 432x288 with 1 Axes>"
      ]
     },
     "metadata": {
      "needs_background": "light"
     },
     "output_type": "display_data"
    }
   ],
   "source": [
    "idx_1 = rmsd.candidato_clique_1.value_counts().head(10).index\n",
    "rmsd.candidato_clique_1.value_counts().head(10).plot.barh(color='navy')"
   ]
  },
  {
   "cell_type": "code",
   "execution_count": 36,
   "metadata": {},
   "outputs": [
    {
     "data": {
      "text/plain": [
       "<matplotlib.axes._subplots.AxesSubplot at 0x7f2889d617f0>"
      ]
     },
     "execution_count": 36,
     "metadata": {},
     "output_type": "execute_result"
    },
    {
     "data": {
      "image/png": "[encoded data removed]",
      "text/plain": [
       "<Figure size 432x288 with 1 Axes>"
      ]
     },
     "metadata": {
      "needs_background": "light"
     },
     "output_type": "display_data"
    }
   ],
   "source": [
    "idx_2 = rmsd.candidato_clique_2.value_counts().head(10).index\n",
    "rmsd.candidato_clique_2.value_counts().head(10).plot.barh(color='orange')"
   ]
  },
  {
   "cell_type": "code",
   "execution_count": 70,
   "metadata": {},
   "outputs": [
    {
     "data": {
      "text/html": [
       "<div>\n",
       "<style scoped>\n",
       "    .dataframe tbody tr th:only-of-type {\n",
       "        vertical-align: middle;\n",
       "    }\n",
       "\n",
       "    .dataframe tbody tr th {\n",
       "        vertical-align: top;\n",
       "    }\n",
       "\n",
       "    .dataframe thead th {\n",
       "        text-align: right;\n",
       "    }\n",
       "</style>\n",
       "<table border=\"1\" class=\"dataframe\">\n",
       "  <thead>\n",
       "    <tr style=\"text-align: right;\">\n",
       "      <th></th>\n",
       "      <th>0</th>\n",
       "      <th>1</th>\n",
       "      <th>2</th>\n",
       "      <th>3</th>\n",
       "      <th>4</th>\n",
       "      <th>5</th>\n",
       "      <th>6</th>\n",
       "    </tr>\n",
       "  </thead>\n",
       "  <tbody>\n",
       "    <tr>\n",
       "      <th>353</th>\n",
       "      <td>136.00000</td>\n",
       "      <td>116.00000</td>\n",
       "      <td>117.00000</td>\n",
       "      <td>118.00000</td>\n",
       "      <td>119.00000</td>\n",
       "      <td>120.00000</td>\n",
       "      <td>122.00000</td>\n",
       "    </tr>\n",
       "    <tr>\n",
       "      <th>352</th>\n",
       "      <td>136.00000</td>\n",
       "      <td>116.00000</td>\n",
       "      <td>117.00000</td>\n",
       "      <td>118.00000</td>\n",
       "      <td>119.00000</td>\n",
       "      <td>120.00000</td>\n",
       "      <td>121.00000</td>\n",
       "    </tr>\n",
       "    <tr>\n",
       "      <th>322</th>\n",
       "      <td>135.00000</td>\n",
       "      <td>136.00000</td>\n",
       "      <td>116.00000</td>\n",
       "      <td>117.00000</td>\n",
       "      <td>119.00000</td>\n",
       "      <td>120.00000</td>\n",
       "      <td>122.00000</td>\n",
       "    </tr>\n",
       "    <tr>\n",
       "      <th>328</th>\n",
       "      <td>135.00000</td>\n",
       "      <td>136.00000</td>\n",
       "      <td>116.00000</td>\n",
       "      <td>117.00000</td>\n",
       "      <td>119.00000</td>\n",
       "      <td>120.00000</td>\n",
       "      <td>121.00000</td>\n",
       "    </tr>\n",
       "    <tr>\n",
       "      <th>375</th>\n",
       "      <td>99.00000</td>\n",
       "      <td>101.00000</td>\n",
       "      <td>104.00000</td>\n",
       "      <td>105.00000</td>\n",
       "      <td>108.00000</td>\n",
       "      <td>85.00000</td>\n",
       "      <td>86.00000</td>\n",
       "    </tr>\n",
       "    <tr>\n",
       "      <th>369</th>\n",
       "      <td>99.00000</td>\n",
       "      <td>100.00000</td>\n",
       "      <td>101.00000</td>\n",
       "      <td>104.00000</td>\n",
       "      <td>108.00000</td>\n",
       "      <td>85.00000</td>\n",
       "      <td>86.00000</td>\n",
       "    </tr>\n",
       "    <tr>\n",
       "      <th>371</th>\n",
       "      <td>100.00000</td>\n",
       "      <td>101.00000</td>\n",
       "      <td>104.00000</td>\n",
       "      <td>105.00000</td>\n",
       "      <td>108.00000</td>\n",
       "      <td>85.00000</td>\n",
       "      <td>86.00000</td>\n",
       "    </tr>\n",
       "    <tr>\n",
       "      <th>495</th>\n",
       "      <td>99.00000</td>\n",
       "      <td>100.00000</td>\n",
       "      <td>101.00000</td>\n",
       "      <td>104.00000</td>\n",
       "      <td>105.00000</td>\n",
       "      <td>85.00000</td>\n",
       "      <td>86.00000</td>\n",
       "    </tr>\n",
       "    <tr>\n",
       "      <th>359</th>\n",
       "      <td>115.00000</td>\n",
       "      <td>116.00000</td>\n",
       "      <td>117.00000</td>\n",
       "      <td>118.00000</td>\n",
       "      <td>119.00000</td>\n",
       "      <td>120.00000</td>\n",
       "      <td>121.00000</td>\n",
       "    </tr>\n",
       "    <tr>\n",
       "      <th>362</th>\n",
       "      <td>115.00000</td>\n",
       "      <td>116.00000</td>\n",
       "      <td>117.00000</td>\n",
       "      <td>118.00000</td>\n",
       "      <td>119.00000</td>\n",
       "      <td>120.00000</td>\n",
       "      <td>122.00000</td>\n",
       "    </tr>\n",
       "  </tbody>\n",
       "</table>\n",
       "</div>"
      ],
      "text/plain": [
       "            0         1         2         3         4         5         6\n",
       "353 136.00000 116.00000 117.00000 118.00000 119.00000 120.00000 122.00000\n",
       "352 136.00000 116.00000 117.00000 118.00000 119.00000 120.00000 121.00000\n",
       "322 135.00000 136.00000 116.00000 117.00000 119.00000 120.00000 122.00000\n",
       "328 135.00000 136.00000 116.00000 117.00000 119.00000 120.00000 121.00000\n",
       "375 99.00000  101.00000 104.00000 105.00000 108.00000 85.00000  86.00000 \n",
       "369 99.00000  100.00000 101.00000 104.00000 108.00000 85.00000  86.00000 \n",
       "371 100.00000 101.00000 104.00000 105.00000 108.00000 85.00000  86.00000 \n",
       "495 99.00000  100.00000 101.00000 104.00000 105.00000 85.00000  86.00000 \n",
       "359 115.00000 116.00000 117.00000 118.00000 119.00000 120.00000 121.00000\n",
       "362 115.00000 116.00000 117.00000 118.00000 119.00000 120.00000 122.00000"
      ]
     },
     "execution_count": 70,
     "metadata": {},
     "output_type": "execute_result"
    }
   ],
   "source": [
    "new_df_cliques1.iloc[idx_1,[0,1,2,3,4,5,6]]\n",
    "# .ix[:, [0,1,2,3,4,5,6]]"
   ]
  },
  {
   "cell_type": "code",
   "execution_count": 71,
   "metadata": {},
   "outputs": [
    {
     "data": {
      "text/html": [
       "<div>\n",
       "<style scoped>\n",
       "    .dataframe tbody tr th:only-of-type {\n",
       "        vertical-align: middle;\n",
       "    }\n",
       "\n",
       "    .dataframe tbody tr th {\n",
       "        vertical-align: top;\n",
       "    }\n",
       "\n",
       "    .dataframe thead th {\n",
       "        text-align: right;\n",
       "    }\n",
       "</style>\n",
       "<table border=\"1\" class=\"dataframe\">\n",
       "  <thead>\n",
       "    <tr style=\"text-align: right;\">\n",
       "      <th></th>\n",
       "      <th>0</th>\n",
       "      <th>1</th>\n",
       "      <th>2</th>\n",
       "      <th>3</th>\n",
       "      <th>4</th>\n",
       "      <th>5</th>\n",
       "      <th>6</th>\n",
       "    </tr>\n",
       "  </thead>\n",
       "  <tbody>\n",
       "    <tr>\n",
       "      <th>95</th>\n",
       "      <td>136.00000</td>\n",
       "      <td>116.00000</td>\n",
       "      <td>117.00000</td>\n",
       "      <td>118.00000</td>\n",
       "      <td>119.00000</td>\n",
       "      <td>120.00000</td>\n",
       "      <td>122.00000</td>\n",
       "    </tr>\n",
       "    <tr>\n",
       "      <th>88</th>\n",
       "      <td>136.00000</td>\n",
       "      <td>116.00000</td>\n",
       "      <td>117.00000</td>\n",
       "      <td>118.00000</td>\n",
       "      <td>119.00000</td>\n",
       "      <td>120.00000</td>\n",
       "      <td>121.00000</td>\n",
       "    </tr>\n",
       "    <tr>\n",
       "      <th>148</th>\n",
       "      <td>135.00000</td>\n",
       "      <td>136.00000</td>\n",
       "      <td>116.00000</td>\n",
       "      <td>117.00000</td>\n",
       "      <td>119.00000</td>\n",
       "      <td>120.00000</td>\n",
       "      <td>122.00000</td>\n",
       "    </tr>\n",
       "    <tr>\n",
       "      <th>145</th>\n",
       "      <td>135.00000</td>\n",
       "      <td>136.00000</td>\n",
       "      <td>116.00000</td>\n",
       "      <td>117.00000</td>\n",
       "      <td>119.00000</td>\n",
       "      <td>120.00000</td>\n",
       "      <td>121.00000</td>\n",
       "    </tr>\n",
       "    <tr>\n",
       "      <th>505</th>\n",
       "      <td>99.00000</td>\n",
       "      <td>101.00000</td>\n",
       "      <td>104.00000</td>\n",
       "      <td>105.00000</td>\n",
       "      <td>108.00000</td>\n",
       "      <td>85.00000</td>\n",
       "      <td>86.00000</td>\n",
       "    </tr>\n",
       "    <tr>\n",
       "      <th>288</th>\n",
       "      <td>99.00000</td>\n",
       "      <td>100.00000</td>\n",
       "      <td>101.00000</td>\n",
       "      <td>104.00000</td>\n",
       "      <td>108.00000</td>\n",
       "      <td>85.00000</td>\n",
       "      <td>86.00000</td>\n",
       "    </tr>\n",
       "    <tr>\n",
       "      <th>504</th>\n",
       "      <td>100.00000</td>\n",
       "      <td>101.00000</td>\n",
       "      <td>104.00000</td>\n",
       "      <td>105.00000</td>\n",
       "      <td>108.00000</td>\n",
       "      <td>85.00000</td>\n",
       "      <td>86.00000</td>\n",
       "    </tr>\n",
       "    <tr>\n",
       "      <th>87</th>\n",
       "      <td>115.00000</td>\n",
       "      <td>116.00000</td>\n",
       "      <td>117.00000</td>\n",
       "      <td>118.00000</td>\n",
       "      <td>119.00000</td>\n",
       "      <td>120.00000</td>\n",
       "      <td>121.00000</td>\n",
       "    </tr>\n",
       "    <tr>\n",
       "      <th>94</th>\n",
       "      <td>115.00000</td>\n",
       "      <td>116.00000</td>\n",
       "      <td>117.00000</td>\n",
       "      <td>118.00000</td>\n",
       "      <td>119.00000</td>\n",
       "      <td>120.00000</td>\n",
       "      <td>122.00000</td>\n",
       "    </tr>\n",
       "    <tr>\n",
       "      <th>301</th>\n",
       "      <td>99.00000</td>\n",
       "      <td>100.00000</td>\n",
       "      <td>101.00000</td>\n",
       "      <td>104.00000</td>\n",
       "      <td>105.00000</td>\n",
       "      <td>85.00000</td>\n",
       "      <td>86.00000</td>\n",
       "    </tr>\n",
       "  </tbody>\n",
       "</table>\n",
       "</div>"
      ],
      "text/plain": [
       "            0         1         2         3         4         5         6\n",
       "95  136.00000 116.00000 117.00000 118.00000 119.00000 120.00000 122.00000\n",
       "88  136.00000 116.00000 117.00000 118.00000 119.00000 120.00000 121.00000\n",
       "148 135.00000 136.00000 116.00000 117.00000 119.00000 120.00000 122.00000\n",
       "145 135.00000 136.00000 116.00000 117.00000 119.00000 120.00000 121.00000\n",
       "505 99.00000  101.00000 104.00000 105.00000 108.00000 85.00000  86.00000 \n",
       "288 99.00000  100.00000 101.00000 104.00000 108.00000 85.00000  86.00000 \n",
       "504 100.00000 101.00000 104.00000 105.00000 108.00000 85.00000  86.00000 \n",
       "87  115.00000 116.00000 117.00000 118.00000 119.00000 120.00000 121.00000\n",
       "94  115.00000 116.00000 117.00000 118.00000 119.00000 120.00000 122.00000\n",
       "301 99.00000  100.00000 101.00000 104.00000 105.00000 85.00000  86.00000 "
      ]
     },
     "execution_count": 71,
     "metadata": {},
     "output_type": "execute_result"
    }
   ],
   "source": [
    "new_df_cliques2.iloc[idx_2,[0,1,2,3,4,5,6]]"
   ]
  },
  {
   "cell_type": "code",
   "execution_count": 87,
   "metadata": {},
   "outputs": [],
   "source": [
    "new_df_cliques1['clique_residuos'] = [\n",
    "    [int(new_df_cliques1.iloc[i,0]),int(new_df_cliques1.iloc[i,1]),int(new_df_cliques1.iloc[i,2]),\n",
    " int(new_df_cliques1.iloc[i,3]),int(new_df_cliques1.iloc[i,4]),\n",
    " int(new_df_cliques1.iloc[i,5]),int(new_df_cliques1.iloc[i,6])] for i in range(new_df_cliques1.shape[0])]"
   ]
  },
  {
   "cell_type": "code",
   "execution_count": 88,
   "metadata": {},
   "outputs": [],
   "source": [
    "new_df_cliques2['clique_residuos'] = [\n",
    "    [int(new_df_cliques2.iloc[i,0]),int(new_df_cliques2.iloc[i,1]),int(new_df_cliques2.iloc[i,2]),\n",
    " int(new_df_cliques2.iloc[i,3]),int(new_df_cliques2.iloc[i,4]),\n",
    " int(new_df_cliques2.iloc[i,5]),int(new_df_cliques2.iloc[i,6])] for i in range(new_df_cliques2.shape[0])]"
   ]
  },
  {
   "cell_type": "code",
   "execution_count": 90,
   "metadata": {},
   "outputs": [
    {
     "data": {
      "text/plain": [
       "0    [96, 97, 98, 99, 132, 131, 89] \n",
       "1    [96, 97, 98, 132, 133, 91, 95] \n",
       "2    [96, 97, 98, 131, 132, 133, 95]\n",
       "3    [96, 97, 132, 133, 91, 94, 95] \n",
       "4    [96, 97, 132, 133, 134, 91, 95]\n",
       "Name: clique_residuos, dtype: object"
      ]
     },
     "execution_count": 90,
     "metadata": {},
     "output_type": "execute_result"
    }
   ],
   "source": [
    "new_df_cliques1.clique_residuos.head()"
   ]
  },
  {
   "cell_type": "code",
   "execution_count": 91,
   "metadata": {},
   "outputs": [
    {
     "data": {
      "text/plain": [
       "0    [96, 97, 98, 131, 99, 132, 89] \n",
       "1    [96, 97, 98, 132, 133, 91, 95] \n",
       "2    [96, 97, 98, 133, 145, 91, 95] \n",
       "3    [97, 98, 99, 100, 131, 130, 89]\n",
       "4    [97, 98, 99, 100, 130, 88, 89] \n",
       "Name: clique_residuos, dtype: object"
      ]
     },
     "execution_count": 91,
     "metadata": {},
     "output_type": "execute_result"
    }
   ],
   "source": [
    "new_df_cliques2.clique_residuos.head()"
   ]
  },
  {
   "cell_type": "code",
   "execution_count": null,
   "metadata": {},
   "outputs": [],
   "source": []
  }
 ],
 "metadata": {
  "kernelspec": {
   "display_name": "Python 3",
   "language": "python",
   "name": "python3"
  },
  "language_info": {
   "codemirror_mode": {
    "name": "ipython",
    "version": 3
   },
   "file_extension": ".py",
   "mimetype": "text/x-python",
   "name": "python",
   "nbconvert_exporter": "python",
   "pygments_lexer": "ipython3",
   "version": "3.6.6"
  }
 },
 "nbformat": 4,
 "nbformat_minor": 2
}
