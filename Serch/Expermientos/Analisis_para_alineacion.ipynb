{
 "cells": [
  {
   "cell_type": "markdown",
   "metadata": {},
   "source": [
    "# Analisis para saber si se van a alinear o se pueden alinear adecuadamente los candidatos"
   ]
  },
  {
   "cell_type": "code",
   "execution_count": 152,
   "metadata": {},
   "outputs": [],
   "source": [
    "import pandas as pd\n",
    "import numpy as np\n",
    "import matplotlib.pyplot as plt\n",
    "\n",
    "%matplotlib inline"
   ]
  },
  {
   "cell_type": "code",
   "execution_count": 153,
   "metadata": {},
   "outputs": [],
   "source": [
    "cliques1 = pd.read_csv('../clique1.csv')\n",
    "cliques2 = pd.read_csv('../clique2.csv')\n",
    "\n",
    "candidatos = pd.read_csv('../candi.csv')\n",
    "\n",
    "max_clique1 = pd.read_csv('../clique1_maximal.csv')\n",
    "max_clique2 = pd.read_csv('../clique2_maximal.csv')\n",
    "\n",
    "df_cliques1 = pd.read_csv('../clique1_df_atributos.csv')\n",
    "df_cliques2 = pd.read_csv('../clique2_df_atributos.csv')"
   ]
  },
  {
   "cell_type": "code",
   "execution_count": 154,
   "metadata": {},
   "outputs": [
    {
     "data": {
      "text/plain": [
       "<matplotlib.axes._subplots.AxesSubplot at 0x7f9f3fd8e668>"
      ]
     },
     "execution_count": 154,
     "metadata": {},
     "output_type": "execute_result"
    },
    {
     "data": {
      "image/png": "[encoded data removed]",
      "text/plain": [
       "<Figure size 432x288 with 1 Axes>"
      ]
     },
     "metadata": {
      "needs_background": "light"
     },
     "output_type": "display_data"
    }
   ],
   "source": [
    "max_clique1.numero_elementos.value_counts(sort=False).plot.bar(rot=0)"
   ]
  },
  {
   "cell_type": "code",
   "execution_count": 155,
   "metadata": {},
   "outputs": [],
   "source": [
    "mc_8 = max_clique1[max_clique1.numero_elementos==7].drop('numero_elementos',1)"
   ]
  },
  {
   "cell_type": "code",
   "execution_count": 158,
   "metadata": {},
   "outputs": [
    {
     "data": {
      "text/html": [
       "<div>\n",
       "<style scoped>\n",
       "    .dataframe tbody tr th:only-of-type {\n",
       "        vertical-align: middle;\n",
       "    }\n",
       "\n",
       "    .dataframe tbody tr th {\n",
       "        vertical-align: top;\n",
       "    }\n",
       "\n",
       "    .dataframe thead th {\n",
       "        text-align: right;\n",
       "    }\n",
       "</style>\n",
       "<table border=\"1\" class=\"dataframe\">\n",
       "  <thead>\n",
       "    <tr style=\"text-align: right;\">\n",
       "      <th></th>\n",
       "      <th>0</th>\n",
       "      <th>1</th>\n",
       "      <th>2</th>\n",
       "      <th>3</th>\n",
       "      <th>4</th>\n",
       "      <th>5</th>\n",
       "      <th>6</th>\n",
       "      <th>7</th>\n",
       "      <th>ss_0</th>\n",
       "      <th>ss_1</th>\n",
       "      <th>ss_2</th>\n",
       "      <th>ss_3</th>\n",
       "      <th>ss_4</th>\n",
       "      <th>ss_5</th>\n",
       "      <th>ss_6</th>\n",
       "      <th>ss_7</th>\n",
       "      <th>coord_clique_0</th>\n",
       "      <th>coord_clique_1</th>\n",
       "      <th>coord_clique_2</th>\n",
       "      <th>coord_clique_3</th>\n",
       "      <th>coord_clique_4</th>\n",
       "      <th>coord_clique_5</th>\n",
       "      <th>coord_clique_6</th>\n",
       "      <th>coord_clique_7</th>\n",
       "      <th>matriz_coordenadas</th>\n",
       "      <th>baricentro_clique</th>\n",
       "      <th>vec_gorro_0</th>\n",
       "      <th>vec_gorro_1</th>\n",
       "      <th>vec_gorro_2</th>\n",
       "      <th>vec_gorro_3</th>\n",
       "      <th>vec_gorro_4</th>\n",
       "      <th>vec_gorro_5</th>\n",
       "      <th>vec_gorro_6</th>\n",
       "      <th>vec_gorro_7</th>\n",
       "      <th>vectores_gorro</th>\n",
       "      <th>distancia_promedio</th>\n",
       "    </tr>\n",
       "  </thead>\n",
       "  <tbody>\n",
       "    <tr>\n",
       "      <th>0</th>\n",
       "      <td>98.00000</td>\n",
       "      <td>99.00000</td>\n",
       "      <td>100.00000</td>\n",
       "      <td>130.00000</td>\n",
       "      <td>86.00000</td>\n",
       "      <td>87.00000</td>\n",
       "      <td>88.00000</td>\n",
       "      <td>89.00000</td>\n",
       "      <td>B</td>\n",
       "      <td>B</td>\n",
       "      <td>B</td>\n",
       "      <td>B</td>\n",
       "      <td>B</td>\n",
       "      <td>B</td>\n",
       "      <td>B</td>\n",
       "      <td>B</td>\n",
       "      <td>[21.017 73.308 -0.443]</td>\n",
       "      <td>[21.955 72.489 -0.607]</td>\n",
       "      <td>[20.083 73.458 -1.264]</td>\n",
       "      <td>[20.12  64.847 15.689]</td>\n",
       "      <td>[21.135 69.95   3.091]</td>\n",
       "      <td>[21.783 71.317  2.934]</td>\n",
       "      <td>[22.872 71.546  3.448]</td>\n",
       "      <td>[19.611 70.025  3.301]</td>\n",
       "      <td>[array([21.017, 73.308, -0.443]), array([21.955, 72.489, -0.607]), array([20.083, 73.458, -1.264]), array([20.12 , 64.847, 15.689]), array([21.135, 69.95 ,  3.091]), array([21.783, 71.317,  2.934]), array([22.872, 71.546,  3.448]), array([19.611, 70.025,  3.301])]</td>\n",
       "      <td>[21.072    70.8675    3.268625]</td>\n",
       "      <td>[-0.055     2.4405   -3.711625]</td>\n",
       "      <td>[ 0.883     1.6215   -3.875625]</td>\n",
       "      <td>[-0.989     2.5905   -4.532625]</td>\n",
       "      <td>[-0.952    -6.0205   12.420375]</td>\n",
       "      <td>[ 0.063    -0.9175   -0.177625]</td>\n",
       "      <td>[ 0.711     0.4495   -0.334625]</td>\n",
       "      <td>[1.8      0.6785   0.179375]</td>\n",
       "      <td>[-1.461    -0.8425    0.032375]</td>\n",
       "      <td>[[-0.055     2.4405   -3.711625]\\n [ 0.883     1.6215   -3.875625]\\n [-0.989     2.5905   -4.532625]\\n [-0.952    -6.0205   12.420375]\\n [ 0.063    -0.9175   -0.177625]\\n [ 0.711     0.4495   -0.334625]\\n [ 1.8       0.6785    0.179375]\\n [-1.461    -0.8425    0.032375]]</td>\n",
       "      <td>4.16813</td>\n",
       "    </tr>\n",
       "    <tr>\n",
       "      <th>1</th>\n",
       "      <td>96.00000</td>\n",
       "      <td>97.00000</td>\n",
       "      <td>132.00000</td>\n",
       "      <td>133.00000</td>\n",
       "      <td>134.00000</td>\n",
       "      <td>91.00000</td>\n",
       "      <td>94.00000</td>\n",
       "      <td>95.00000</td>\n",
       "      <td>B</td>\n",
       "      <td>B</td>\n",
       "      <td>B</td>\n",
       "      <td>B</td>\n",
       "      <td>B</td>\n",
       "      <td>B</td>\n",
       "      <td>C</td>\n",
       "      <td>C</td>\n",
       "      <td>[22.136 75.657  3.038]</td>\n",
       "      <td>[21.002 74.191  0.793]</td>\n",
       "      <td>[23.896 66.017 14.309]</td>\n",
       "      <td>[23.193 64.054 15.806]</td>\n",
       "      <td>[24.683 66.92  15.214]</td>\n",
       "      <td>[19.973 71.736  4.932]</td>\n",
       "      <td>[21.684 73.547  2.007]</td>\n",
       "      <td>[21.622 74.538  3.157]</td>\n",
       "      <td>[array([22.136, 75.657,  3.038]), array([21.002, 74.191,  0.793]), array([23.896, 66.017, 14.309]), array([23.193, 64.054, 15.806]), array([24.683, 66.92 , 15.214]), array([19.973, 71.736,  4.932]), array([21.684, 73.547,  2.007]), array([21.622, 74.538,  3.157])]</td>\n",
       "      <td>[22.273625 70.8325    7.407   ]</td>\n",
       "      <td>[-0.137625  4.8245   -4.369   ]</td>\n",
       "      <td>[-1.271625  3.3585   -6.614   ]</td>\n",
       "      <td>[ 1.622375 -4.8155    6.902   ]</td>\n",
       "      <td>[ 0.919375 -6.7785    8.399   ]</td>\n",
       "      <td>[ 2.409375 -3.9125    7.807   ]</td>\n",
       "      <td>[-2.300625  0.9035   -2.475   ]</td>\n",
       "      <td>[-0.589625  2.7145   -5.4     ]</td>\n",
       "      <td>[-0.651625  3.7055   -4.25    ]</td>\n",
       "      <td>[[-0.137625  4.8245   -4.369   ]\\n [-1.271625  3.3585   -6.614   ]\\n [ 1.622375 -4.8155    6.902   ]\\n [ 0.919375 -6.7785    8.399   ]\\n [ 2.409375 -3.9125    7.807   ]\\n [-2.300625  0.9035   -2.475   ]\\n [-0.589625  2.7145   -5.4     ]\\n [-0.651625  3.7055   -4.25    ]]</td>\n",
       "      <td>7.21807</td>\n",
       "    </tr>\n",
       "  </tbody>\n",
       "</table>\n",
       "</div>"
      ],
      "text/plain": [
       "         0        1         2         3         4        5        6        7  \\\n",
       "0 98.00000 99.00000 100.00000 130.00000 86.00000  87.00000 88.00000 89.00000   \n",
       "1 96.00000 97.00000 132.00000 133.00000 134.00000 91.00000 94.00000 95.00000   \n",
       "\n",
       "  ss_0 ss_1 ss_2 ss_3 ss_4 ss_5 ss_6 ss_7          coord_clique_0  \\\n",
       "0  B    B    B    B    B    B    B    B    [21.017 73.308 -0.443]   \n",
       "1  B    B    B    B    B    B    C    C    [22.136 75.657  3.038]   \n",
       "\n",
       "           coord_clique_1          coord_clique_2          coord_clique_3  \\\n",
       "0  [21.955 72.489 -0.607]  [20.083 73.458 -1.264]  [20.12  64.847 15.689]   \n",
       "1  [21.002 74.191  0.793]  [23.896 66.017 14.309]  [23.193 64.054 15.806]   \n",
       "\n",
       "           coord_clique_4          coord_clique_5          coord_clique_6  \\\n",
       "0  [21.135 69.95   3.091]  [21.783 71.317  2.934]  [22.872 71.546  3.448]   \n",
       "1  [24.683 66.92  15.214]  [19.973 71.736  4.932]  [21.684 73.547  2.007]   \n",
       "\n",
       "           coord_clique_7  \\\n",
       "0  [19.611 70.025  3.301]   \n",
       "1  [21.622 74.538  3.157]   \n",
       "\n",
       "                                                                                                                                                                                                                                                         matriz_coordenadas  \\\n",
       "0  [array([21.017, 73.308, -0.443]), array([21.955, 72.489, -0.607]), array([20.083, 73.458, -1.264]), array([20.12 , 64.847, 15.689]), array([21.135, 69.95 ,  3.091]), array([21.783, 71.317,  2.934]), array([22.872, 71.546,  3.448]), array([19.611, 70.025,  3.301])]   \n",
       "1  [array([22.136, 75.657,  3.038]), array([21.002, 74.191,  0.793]), array([23.896, 66.017, 14.309]), array([23.193, 64.054, 15.806]), array([24.683, 66.92 , 15.214]), array([19.973, 71.736,  4.932]), array([21.684, 73.547,  2.007]), array([21.622, 74.538,  3.157])]   \n",
       "\n",
       "                 baricentro_clique                      vec_gorro_0  \\\n",
       "0  [21.072    70.8675    3.268625]  [-0.055     2.4405   -3.711625]   \n",
       "1  [22.273625 70.8325    7.407   ]  [-0.137625  4.8245   -4.369   ]   \n",
       "\n",
       "                       vec_gorro_1                      vec_gorro_2  \\\n",
       "0  [ 0.883     1.6215   -3.875625]  [-0.989     2.5905   -4.532625]   \n",
       "1  [-1.271625  3.3585   -6.614   ]  [ 1.622375 -4.8155    6.902   ]   \n",
       "\n",
       "                       vec_gorro_3                      vec_gorro_4  \\\n",
       "0  [-0.952    -6.0205   12.420375]  [ 0.063    -0.9175   -0.177625]   \n",
       "1  [ 0.919375 -6.7785    8.399   ]  [ 2.409375 -3.9125    7.807   ]   \n",
       "\n",
       "                       vec_gorro_5                      vec_gorro_6  \\\n",
       "0  [ 0.711     0.4495   -0.334625]  [1.8      0.6785   0.179375]      \n",
       "1  [-2.300625  0.9035   -2.475   ]  [-0.589625  2.7145   -5.4     ]   \n",
       "\n",
       "                       vec_gorro_7  \\\n",
       "0  [-1.461    -0.8425    0.032375]   \n",
       "1  [-0.651625  3.7055   -4.25    ]   \n",
       "\n",
       "                                                                                                                                                                                                                                                                    vectores_gorro  \\\n",
       "0  [[-0.055     2.4405   -3.711625]\\n [ 0.883     1.6215   -3.875625]\\n [-0.989     2.5905   -4.532625]\\n [-0.952    -6.0205   12.420375]\\n [ 0.063    -0.9175   -0.177625]\\n [ 0.711     0.4495   -0.334625]\\n [ 1.8       0.6785    0.179375]\\n [-1.461    -0.8425    0.032375]]   \n",
       "1  [[-0.137625  4.8245   -4.369   ]\\n [-1.271625  3.3585   -6.614   ]\\n [ 1.622375 -4.8155    6.902   ]\\n [ 0.919375 -6.7785    8.399   ]\\n [ 2.409375 -3.9125    7.807   ]\\n [-2.300625  0.9035   -2.475   ]\\n [-0.589625  2.7145   -5.4     ]\\n [-0.651625  3.7055   -4.25    ]]   \n",
       "\n",
       "   distancia_promedio  \n",
       "0 4.16813              \n",
       "1 7.21807              "
      ]
     },
     "execution_count": 158,
     "metadata": {},
     "output_type": "execute_result"
    }
   ],
   "source": [
    "cliques1.head(2)"
   ]
  },
  {
   "cell_type": "code",
   "execution_count": 159,
   "metadata": {},
   "outputs": [],
   "source": [
    "import sys\n",
    "sys.path.append('../')\n",
    "sys.path.append('../math_tricks/')\n",
    "import funciones_CLICK as fc"
   ]
  },
  {
   "cell_type": "code",
   "execution_count": 161,
   "metadata": {},
   "outputs": [],
   "source": [
    "rsmd = pd.read_csv('../rmsd.csv')"
   ]
  },
  {
   "cell_type": "code",
   "execution_count": 172,
   "metadata": {},
   "outputs": [
    {
     "name": "stderr",
     "output_type": "stream",
     "text": [
      "/home/serch/anaconda3/lib/python3.7/site-packages/scipy/stats/stats.py:1713: FutureWarning: Using a non-tuple sequence for multidimensional indexing is deprecated; use `arr[tuple(seq)]` instead of `arr[seq]`. In the future this will be interpreted as an array index, `arr[np.array(seq)]`, which will result either in an error or a different result.\n",
      "  return np.add.reduce(sorted[indexer] * weights, axis=axis) / sumval\n"
     ]
    },
    {
     "data": {
      "text/plain": [
       "<matplotlib.axes._subplots.AxesSubplot at 0x7f9f34dcada0>"
      ]
     },
     "execution_count": 172,
     "metadata": {},
     "output_type": "execute_result"
    },
    {
     "data": {
      "image/png": "[encoded data removed]",
      "text/plain": [
       "<Figure size 432x288 with 1 Axes>"
      ]
     },
     "metadata": {
      "needs_background": "light"
     },
     "output_type": "display_data"
    }
   ],
   "source": [
    "import seaborn as sns\n",
    "sns.kdeplot(rsmd['0'],)"
   ]
  },
  {
   "cell_type": "code",
   "execution_count": null,
   "metadata": {},
   "outputs": [],
   "source": []
  }
 ],
 "metadata": {
  "kernelspec": {
   "display_name": "Python 3",
   "language": "python",
   "name": "python3"
  },
  "language_info": {
   "codemirror_mode": {
    "name": "ipython",
    "version": 3
   },
   "file_extension": ".py",
   "mimetype": "text/x-python",
   "name": "python",
   "nbconvert_exporter": "python",
   "pygments_lexer": "ipython3",
   "version": "3.7.0"
  }
 },
 "nbformat": 4,
 "nbformat_minor": 2
}
