{
 "cells": [
  {
   "cell_type": "markdown",
   "metadata": {},
   "source": [
    "# CLICK_SERCH\n",
    "## Generacion de cliques\n",
    "+ Se generan con biopandas para obtener los atomos de $C_\\alpha$ y sus coordenadas.\n",
    "+ Se calcula la distancia y se genera un grafo completo con la distancia entre cada par de atomos.\n",
    "+ Se restringen los enlaces por una distancia dada y se generan los cliques que tengas un numero k de elementos para pertencer al clique.\n",
    "+ Una ves generados los cliques de cada proteina se extraen sus coordenadas para poderlas comparar"
   ]
  },
  {
   "cell_type": "code",
   "execution_count": 4,
   "metadata": {},
   "outputs": [
    {
     "ename": "ModuleNotFoundError",
     "evalue": "No module named 'math_vect_tools'",
     "output_type": "error",
     "traceback": [
      "\u001b[0;31m---------------------------------------------------------------------------\u001b[0m",
      "\u001b[0;31mModuleNotFoundError\u001b[0m                       Traceback (most recent call last)",
      "\u001b[0;32m<ipython-input-4-2823ead00e9c>\u001b[0m in \u001b[0;36m<module>\u001b[0;34m()\u001b[0m\n\u001b[1;32m     36\u001b[0m \u001b[0;32mimport\u001b[0m \u001b[0msys\u001b[0m\u001b[0;34m\u001b[0m\u001b[0m\n\u001b[1;32m     37\u001b[0m \u001b[0msys\u001b[0m\u001b[0;34m.\u001b[0m\u001b[0mpath\u001b[0m\u001b[0;34m.\u001b[0m\u001b[0mappend\u001b[0m\u001b[0;34m(\u001b[0m\u001b[0;34m'math_tricks/'\u001b[0m\u001b[0;34m)\u001b[0m\u001b[0;34m\u001b[0m\u001b[0m\n\u001b[0;32m---> 38\u001b[0;31m \u001b[0;32mimport\u001b[0m \u001b[0mmath_vect_tools\u001b[0m \u001b[0;32mas\u001b[0m \u001b[0mmvt\u001b[0m\u001b[0;34m\u001b[0m\u001b[0m\n\u001b[0m\u001b[1;32m     39\u001b[0m \u001b[0;34m\u001b[0m\u001b[0m\n\u001b[1;32m     40\u001b[0m \u001b[0;31m#Libreria de graficacion interactiva\u001b[0m\u001b[0;34m\u001b[0m\u001b[0;34m\u001b[0m\u001b[0m\n",
      "\u001b[0;31mModuleNotFoundError\u001b[0m: No module named 'math_vect_tools'"
     ]
    }
   ],
   "source": [
    "#libreria de analisis de datos y una caracterizacion para su facil lectura.\n",
    "import pandas as pd\n",
    "pd.set_option('display.float_format', lambda x: '%.5f' % x)\n",
    "pd.set_option('max_rows', 100)\n",
    "pd.set_option('max_columns', 40)\n",
    "pd.set_option('display.max_colwidth', -1)\n",
    "#libreria de generacion de rede y cliques\n",
    "import networkx as nx,community\n",
    "\n",
    "#libreria de visualizacion de datos y un formato dado\n",
    "import matplotlib.pyplot as plt\n",
    "plt.style.use('ggplot')\n",
    "font = {'family' : 'sans',\n",
    "        'weight' : 'bold',\n",
    "        'size'   : 20}\n",
    "plt.rc('font', **font)\n",
    "plt.rcParams['xtick.labelsize'] = 16\n",
    "plt.rcParams['axes.labelsize'] = 18\n",
    "plt.rcParams['ytick.labelsize'] = 16\n",
    "plt.rcParams[u'figure.figsize'] = (16,8)\n",
    "\n",
    "#mas librerias que voy obteniendo\n",
    "import biopandas.pdb as bp\n",
    "biop = bp.PandasPdb() #libreria de lectura de pdbs\n",
    "\n",
    "#libreria de calculo de distancia euclidiana\n",
    "from scipy.spatial.distance import pdist, squareform\n",
    "\n",
    "#libreria de mate\n",
    "import numpy as np\n",
    "\n",
    "#libreria de iteraciones\n",
    "import itertools as it\n",
    "\n",
    "#Libreria de MA para RMSD\n",
    "import sys\n",
    "sys.path.append('math_tricks/')\n",
    "import math_vect_tools as mvt\n",
    "\n",
    "#Libreria de graficacion interactiva\n",
    "import plotly.plotly as py\n",
    "import plotly.graph_objs as go"
   ]
  },
  {
   "cell_type": "code",
   "execution_count": 190,
   "metadata": {},
   "outputs": [],
   "source": [
    "# generar mismos resultados que el algoritmo click\n",
    "path1 ='1phr.pdb'\n",
    "path2 ='1tig.pdb'\n",
    "\n",
    "#funcion de lectura con biopandas\n",
    "def read_biopdb(path):\n",
    "        df = biop.read_pdb(path)\n",
    "        df_atom = df.df['ATOM']\n",
    "        #OJO AQUI ESTA ADECUADO AL PDB   para elegir solo un frame en trj_0 y trj_0_A [:1805]\n",
    "        df_ca = df_atom[df_atom.atom_name == 'CA'][[\n",
    "        'atom_number','atom_name','residue_name','residue_number',\n",
    "        'x_coord','y_coord','z_coord']]\n",
    "        columna_vector = []\n",
    "        for i in zip(df_ca.x_coord.tolist(),df_ca.y_coord.tolist(),df_ca.z_coord.tolist()):\n",
    "            columna_vector.append(list(i))\n",
    "            \n",
    "        df_ca['vector'] = columna_vector\n",
    "        return(df_ca)"
   ]
  },
  {
   "cell_type": "code",
   "execution_count": 191,
   "metadata": {},
   "outputs": [],
   "source": [
    "df_ca1 = read_biopdb(path1)\n",
    "df_ca2 = read_biopdb(path2)"
   ]
  },
  {
   "cell_type": "code",
   "execution_count": 192,
   "metadata": {},
   "outputs": [],
   "source": [
    "# #se calcula la distancia entre cada par de nodos.\n",
    "# # def distancia_entre_atomos(df_ca):\n",
    "# distancias = []\n",
    "# #se calcula la distancia euclidiana entre cada atomo de carbon alfalfa\n",
    "# for v,i in zip(df_ca1.vector,df_ca1.atom_number):\n",
    "#     distancia_un_atomo = []\n",
    "#     for av,j in zip(df_ca1.vector,df_ca1.atom_number):\n",
    "#         distancia = pdist([v,av],metric='euclidean').item()\n",
    "#         distancia_un_atomo.append(distancia)\n",
    "#     distancias.append(distancia_un_atomo)\n",
    "    \n",
    "# pd.DataFrame(index=df_ca1.atom_number,\n",
    "#                                       columns=df_ca1.atom_number,\n",
    "#                                       data=distancias)"
   ]
  },
  {
   "cell_type": "code",
   "execution_count": 193,
   "metadata": {},
   "outputs": [],
   "source": [
    "#se calcula la distancia entre cada par de nodos.\n",
    "def distancia_entre_atomos(df_ca):\n",
    "    distancias = []\n",
    "    #se calcula la distancia euclidiana entre cada atomo de carbon alfalfa\n",
    "    for v,i in zip(df_ca.vector,df_ca.atom_number):\n",
    "        distancia_un_atomo = []\n",
    "        for av,j in zip(df_ca.vector,df_ca.atom_number):\n",
    "            distancia = pdist([v,av],metric='euclidean').item()\n",
    "            distancia_un_atomo.append(distancia)\n",
    "        distancias.append(distancia_un_atomo)\n",
    "    #se genera la matriz de adyacencias para la red\n",
    "    df_da = pd.DataFrame(index=df_ca.atom_number,columns=df_ca.atom_number,data=distancias)\n",
    "    return(df_da)"
   ]
  },
  {
   "cell_type": "code",
   "execution_count": 194,
   "metadata": {},
   "outputs": [],
   "source": [
    "#generacion de matriz de adyacencias\n",
    "df_da1 = distancia_entre_atomos(df_ca1)\n",
    "df_da2 = distancia_entre_atomos(df_ca2)"
   ]
  },
  {
   "cell_type": "code",
   "execution_count": 195,
   "metadata": {},
   "outputs": [],
   "source": [
    "def gen_3_cliques(df_da, dth = 10, k=3):\n",
    "    \"\"\"Genera n-cliques de dataframe de distancias, tomando en cuenta los enlaces menores o iguales\n",
    "    a dth y forma los k-cliques que elijas \n",
    "    valores por default:\n",
    "    dth=10, k=3\n",
    "    Te devuelve un df con los valores de los cliques y \n",
    "    un resumen de como es la red antes y despues del filtro\"\"\"\n",
    "    #red de distancias completa\n",
    "    red = nx.from_pandas_adjacency(df_da)\n",
    "    print(\"red antes de filtros:\",nx.info(red))\n",
    "\n",
    "    #filtro de distancias\n",
    "    edgesstrong = [(u,v) for (u,v,d) in red.edges(data=True) if d[\"weight\"] <= dth]\n",
    "\n",
    "    red = nx.Graph(edgesstrong)\n",
    "    print(\"==\"*20)\n",
    "    print(\"red despues de filtros:\",nx.info(red))\n",
    "\n",
    "    n_cliques = [clq for clq in nx.find_cliques(red) if len(clq) >=k]\n",
    "    print('numero de cliques maximos encontrados:',len(n_cliques))\n",
    "\n",
    "    lista_cliques = []\n",
    "    for i,v in enumerate(n_cliques):\n",
    "        a = list(it.combinations(v,k))\n",
    "        for j in a:\n",
    "            if set(j) not in lista_cliques:\n",
    "                #recuerda que para comparar elementos utiliza set, y apilalos como set\n",
    "                lista_cliques.append(set(j))\n",
    "\n",
    "    df_lc = pd.DataFrame(lista_cliques)            \n",
    "    print(\"numero de %s-cliques posibles:\" % (k), df_lc.shape[0])\n",
    "    return(df_lc)"
   ]
  },
  {
   "cell_type": "code",
   "execution_count": 196,
   "metadata": {},
   "outputs": [
    {
     "name": "stdout",
     "output_type": "stream",
     "text": [
      "red antes de filtros: Name: \n",
      "Type: Graph\n",
      "Number of nodes: 154\n",
      "Number of edges: 11781\n",
      "Average degree: 153.0000\n",
      "========================================\n",
      "red despues de filtros: Name: \n",
      "Type: Graph\n",
      "Number of nodes: 154\n",
      "Number of edges: 1378\n",
      "Average degree:  17.8961\n",
      "numero de cliques maximos encontrados: 419\n",
      "numero de 3-cliques posibles: 4480\n",
      "----------------------------------------------------------------------------------------------------\n",
      "red antes de filtros: Name: \n",
      "Type: Graph\n",
      "Number of nodes: 88\n",
      "Number of edges: 3828\n",
      "Average degree:  87.0000\n",
      "========================================\n",
      "red despues de filtros: Name: \n",
      "Type: Graph\n",
      "Number of nodes: 88\n",
      "Number of edges: 709\n",
      "Average degree:  16.1136\n",
      "numero de cliques maximos encontrados: 246\n",
      "numero de 3-cliques posibles: 2102\n"
     ]
    }
   ],
   "source": [
    "df_lc1 = gen_3_cliques(df_da1)\n",
    "print('--'*50)\n",
    "df_lc2 = gen_3_cliques(df_da2)"
   ]
  },
  {
   "cell_type": "code",
   "execution_count": 197,
   "metadata": {},
   "outputs": [],
   "source": [
    "# #red de distancias completa\n",
    "# red = nx.from_pandas_adjacency(df_da1)\n",
    "# print(nx.info(red))\n",
    "\n",
    "\n",
    "# #filtro de distancias\n",
    "# edgesstrong = [(u,v) for (u,v,d) in red.edges(data=True) if d[\"weight\"] <= 10]\n",
    "\n",
    "# red = nx.Graph(edgesstrong)\n",
    "# print(\"==\"*20)\n",
    "# print(nx.info(red))\n",
    "\n",
    "# cliques3 = [clq for clq in nx.find_cliques(red) if len(clq) >=3]\n",
    "# print('numero de cliques maximos encontrados:',len(cliques3))\n",
    "\n",
    "# lista_cliques = []\n",
    "# for i,v in enumerate(cliques3):\n",
    "#     a = list(it.combinations(v,3))\n",
    "#     for j in a:\n",
    "#         if set(j) not in lista_cliques:\n",
    "#             #recuerda que para comparar elementos utiliza set, y apilalos como set\n",
    "#             lista_cliques.append(set(j))\n",
    "\n",
    "# print(\"numero de 3-cliques posibles:\",pd.DataFrame(lista_cliques).shape[0])"
   ]
  },
  {
   "cell_type": "code",
   "execution_count": 198,
   "metadata": {},
   "outputs": [],
   "source": [
    "###CHECK DE NUMERO DE CLIQUES CORRECTO####\n",
    "#se genera la matriz de adyacencias para la red\n",
    "# distancias_adyacenctes = pd.DataFrame(index=df_ca1.atom_number,\n",
    "#                                       columns=df_ca1.atom_number,\n",
    "#                                       data=distancias)\n",
    "\n",
    "# #red de distancias completa\n",
    "# red = nx.from_pandas_adjacency(distancias_adyacenctes)\n",
    "# print(nx.info(red))\n",
    "\n",
    "# print(\"==\"*20)\n",
    "# print(nx.info(red))\n",
    "# cliques3 = [clq for clq in nx.find_cliques(red) if len(clq) >=3]\n",
    "# print('numero de cliques maximos encontrados:',len(cliques3))\n",
    "\n",
    "# lista_cliques = []\n",
    "# for i,v in enumerate(cliques3):\n",
    "#     a = list(it.combinations(v,3))\n",
    "#     for j in a:\n",
    "#         #if set(j) not in lista_cliques:\n",
    "#             #recuerda que para comparar elementos utiliza set, y apilalos como set\n",
    "#         lista_cliques.append(set(j))\n",
    "\n",
    "# print(\"numero de 3-cliques posibles:\",pd.DataFrame(lista_cliques).shape[0])\n",
    "###CHECK DE NUMERO DE CLIQUES CORRECTO####"
   ]
  },
  {
   "cell_type": "code",
   "execution_count": 199,
   "metadata": {},
   "outputs": [],
   "source": [
    "def get_coord_clique(df_ca,df_lc):\n",
    "    lista_matriz_coordendas = []\n",
    "    for i in df_lc.index:\n",
    "        mat_dist = [df_ca[df_ca.atom_number==df_lc.iloc[i,0]].vector.values[0],\n",
    "                df_ca[df_ca.atom_number==df_lc.iloc[i,1]].vector.values[0],\n",
    "                df_ca[df_ca.atom_number==df_lc.iloc[i,2]].vector.values[0]]\n",
    "        lista_matriz_coordendas.append(mat_dist)\n",
    "\n",
    "    df_lc['matriz_coordenadas'] = lista_matriz_coordendas\n",
    "    return(df_lc)"
   ]
  },
  {
   "cell_type": "code",
   "execution_count": 200,
   "metadata": {},
   "outputs": [],
   "source": [
    "df_lc1 = get_coord_clique(df_ca1,df_lc1)\n",
    "df_lc2 = get_coord_clique(df_ca2,df_lc2)"
   ]
  },
  {
   "cell_type": "code",
   "execution_count": 201,
   "metadata": {},
   "outputs": [
    {
     "data": {
      "text/html": [
       "<div>\n",
       "<style scoped>\n",
       "    .dataframe tbody tr th:only-of-type {\n",
       "        vertical-align: middle;\n",
       "    }\n",
       "\n",
       "    .dataframe tbody tr th {\n",
       "        vertical-align: top;\n",
       "    }\n",
       "\n",
       "    .dataframe thead th {\n",
       "        text-align: right;\n",
       "    }\n",
       "</style>\n",
       "<table border=\"1\" class=\"dataframe\">\n",
       "  <thead>\n",
       "    <tr style=\"text-align: right;\">\n",
       "      <th></th>\n",
       "      <th>0</th>\n",
       "      <th>1</th>\n",
       "      <th>2</th>\n",
       "      <th>matriz_coordenadas</th>\n",
       "    </tr>\n",
       "  </thead>\n",
       "  <tbody>\n",
       "    <tr>\n",
       "      <th>0</th>\n",
       "      <td>121</td>\n",
       "      <td>514</td>\n",
       "      <td>431</td>\n",
       "      <td>[[4.736, 31.117, 32.112], [-4.239, 29.134, 31.826], [3.035, 22.538, 32.072]]</td>\n",
       "    </tr>\n",
       "    <tr>\n",
       "      <th>1</th>\n",
       "      <td>121</td>\n",
       "      <td>514</td>\n",
       "      <td>507</td>\n",
       "      <td>[[4.736, 31.117, 32.112], [-4.239, 29.134, 31.826], [-1.742, 27.922, 34.428]]</td>\n",
       "    </tr>\n",
       "    <tr>\n",
       "      <th>2</th>\n",
       "      <td>121</td>\n",
       "      <td>514</td>\n",
       "      <td>393</td>\n",
       "      <td>[[4.736, 31.117, 32.112], [-4.239, 29.134, 31.826], [2.754, 26.983, 27.546]]</td>\n",
       "    </tr>\n",
       "    <tr>\n",
       "      <th>3</th>\n",
       "      <td>121</td>\n",
       "      <td>514</td>\n",
       "      <td>387</td>\n",
       "      <td>[[4.736, 31.117, 32.112], [-4.239, 29.134, 31.826], [-0.524, 27.693, 25.587]]</td>\n",
       "    </tr>\n",
       "    <tr>\n",
       "      <th>4</th>\n",
       "      <td>514</td>\n",
       "      <td>507</td>\n",
       "      <td>431</td>\n",
       "      <td>[[-4.239, 29.134, 31.826], [-1.742, 27.922, 34.428], [3.035, 22.538, 32.072]]</td>\n",
       "    </tr>\n",
       "  </tbody>\n",
       "</table>\n",
       "</div>"
      ],
      "text/plain": [
       "     0    1    2  \\\n",
       "0  121  514  431   \n",
       "1  121  514  507   \n",
       "2  121  514  393   \n",
       "3  121  514  387   \n",
       "4  514  507  431   \n",
       "\n",
       "                                                              matriz_coordenadas  \n",
       "0  [[4.736, 31.117, 32.112], [-4.239, 29.134, 31.826], [3.035, 22.538, 32.072]]   \n",
       "1  [[4.736, 31.117, 32.112], [-4.239, 29.134, 31.826], [-1.742, 27.922, 34.428]]  \n",
       "2  [[4.736, 31.117, 32.112], [-4.239, 29.134, 31.826], [2.754, 26.983, 27.546]]   \n",
       "3  [[4.736, 31.117, 32.112], [-4.239, 29.134, 31.826], [-0.524, 27.693, 25.587]]  \n",
       "4  [[-4.239, 29.134, 31.826], [-1.742, 27.922, 34.428], [3.035, 22.538, 32.072]]  "
      ]
     },
     "execution_count": 201,
     "metadata": {},
     "output_type": "execute_result"
    }
   ],
   "source": [
    "df_lc1.head()"
   ]
  },
  {
   "cell_type": "markdown",
   "metadata": {},
   "source": [
    "## Comparacion de Cliques\n",
    "The objective is to compute a one to one mapping between amino acid residues of the two structures\n",
    "A and B. To begin with, all possible 3-body cliques $A_3$ and $B_3$, where $A_3$ and $B_3 \u0002 S_3$, are compared to one another (inclusive of all permutations). Equivalent pairs of cliques are deduced according to the relations in Equations (2–4). A pair of $(A_3, B_3)$ is matched if their RMSD on superimposition is smaller than a preset threshold ($RMSD_3=0.15 A˚$). RMSD between cliques is\n",
    "calculated by 3-D least squares fit (39). \n",
    "\n",
    "Additionally, amino acid residue secondary-structure state and side chain solvent accessible area also determines what pair of cliques are matched. Secondary structure provides the general three-dimensional form of local segments of proteins while side-chain solvent accessibility is the degree to which a residue in a protein is accessible to a solvent molecule. For matching of a pair of cliques in our algorithm, the secondary-structure score between two equivalent residues $A_i$ and $B_j$ are compared\n",
    "SSM is an empirically determined secondary-structure match matrix (Table 1), $SS(A_i)$ is the secondary-structure state of amino acid residue $A_i$, and $s$ is a preset threshold for matching secondary-structure elements. \n",
    "\n",
    "The cut-off threshold for comparing secondary structure used in this study was 2, hence $SSM[Ai,Bj]< 2 [Equation (2)]$. This implies that, either residues of regular secondary structures can only match with other residues of the same secondary structure, or with residues in loops.\n",
    "The solvent accessibility score between two residues $A_i$ and $B_j$ from solvent accessibility matrix (Table 2) are matched by using the inequality [Equation (3)]: SAM is an empirical solvent accessibility match matrix (Table 2), $SA(A_i)$ is the side-chain solvent accessibility of amino acid residue $A_i$, and a is a preset threshold for matching solvent accessible area states. The cut-off threshold for solvent accessibility matching is $a=1$, implying that residues categorized in different accessible area\n",
    "classes cannot be matched. However, this criterion is relaxed to allow the matching of two residues in\n",
    "adjacent accessible area classes if their side chain accessible areas are within 10% of each other.\n",
    "Next, $A_3$ and $B_3$ are extended to 4-body cliques $A_4$ and $B_4$, by including one residue, $A_i$ and $B_j$ respectively, subject to the distance threshold criterion [Equation (1)].\n",
    "\n",
    "This new pair $(A_i, B_j)$ and matched residues of $(A_3, B_3)$ are used to superimpose the pair of cliques $A_4=A_3[A_i$ and $B_4=B_3[B_j$. Pairs of four-body cliques, $A_4$ and $B_4$, are matched if their RMSD is smaller than another preset threshold, $RMSD_4=0.30A˚ [Equation (4), n=4]$. \n",
    "\n",
    "Pairs of n body cliques, $A_n=A_n\u00051[A_i and B_n=B_n\u00051[ B_j$ are selected if their RMSD is smaller than a preset threshold RMSDn (Table 3). Every value of n has a different RMSD threshold, RMSDn. See the section on RMSD threshold optimization for details. At every step the secondary structure and accessible area comparisons [Equations (2) and (3)] are also performed.\n",
    "\n",
    "All matched pairs of 4-body cliques $A_4$ and $B_4$ are extended to all possible higher order cliques, $A_n$ and $B_n$, where $A_n, B_n \u0002S_n$ and $n>4$. In this study, cliques are extended to a maximum of seven constituent residues."
   ]
  },
  {
   "cell_type": "markdown",
   "metadata": {},
   "source": [
    "### Pasos para comparar\n",
    "Para obtener el __RMSD__ es necesario primero rotar y trasladar al origen ambos atomos o moleculas para generar su __RMSD__\n",
    "\n",
    "Para obtener C, $\\alpha$, $\\beta$ con:\n",
    "   + $\\Phi$\n",
    "   + $\\Psi$\n",
    "1. Matriz de comparacion de Estructura Secundaria (SSM)\n",
    "2. Solvente Accesible (SAM)"
   ]
  },
  {
   "cell_type": "code",
   "execution_count": 202,
   "metadata": {},
   "outputs": [],
   "source": [
    "# # prueba de baricentro utilizando el centro de un circulo que pasa por los tres puntos\n",
    "# # una ves que tenemos los cliques calculamos su centro geometrico para poder calcular el RMSD\n",
    "# #primero obtenemos el array de cada punto\n",
    "# algo = []\n",
    "# for i in range(df_lc1.shape[0]):\n",
    "#      if i < 3:\n",
    "#         A = np.array(df_lc1.matriz_coordenadas[i][0])\n",
    "#         B = np.array(df_lc1.matriz_coordenadas[i][1])\n",
    "#         C = np.array(df_lc1.matriz_coordenadas[i][2])\n",
    "        \n",
    "#         #calculamos su distancia entre cada punto\n",
    "#         a = np.linalg.norm(C - B)\n",
    "#         b = np.linalg.norm(C - A)\n",
    "#         c = np.linalg.norm(B - A)\n",
    "#         print(a,b,c)\n",
    "#         #se calcula s que es \n",
    "#         s = (a + b + c) / 2\n",
    "        \n",
    "# #         #se calcula el radio R\n",
    "# #         R = a*b*c / 4 / np.sqrt(s * (s - a) * (s - b) * (s - c))\n",
    "\n",
    "#         #se calculan las coordenadas baricentricas\n",
    "#         b1 = a*a * (b*b + c*c - a*a)\n",
    "#         b2 = b*b * (a*a + c*c - b*b)\n",
    "#         b3 = c*c * (a*a + b*b - c*c)\n",
    "\n",
    "#         #se pasa a coordenadas centricas de los puntos\n",
    "#         P = np.column_stack((A, B, C)).dot(np.hstack((b1, b2, b3)))\n",
    "\n",
    "#         P /= b1 + b2 + b3\n",
    "        \n",
    "#         algo.append(P)\n",
    "#         print(P)\n",
    "# #         R = round(R,8)\n",
    "# print(len(algo))"
   ]
  },
  {
   "cell_type": "code",
   "execution_count": 203,
   "metadata": {},
   "outputs": [],
   "source": [
    "#Si esta bien el promedio de los puntos\n",
    "def baricenter_clique(df_lc):\n",
    "    coord_center = []\n",
    "    for i in range(df_lc.shape[0]):\n",
    "        A = np.array(df_lc.matriz_coordenadas[i][0])\n",
    "        B = np.array(df_lc.matriz_coordenadas[i][1])\n",
    "        C = np.array(df_lc.matriz_coordenadas[i][2])\n",
    "\n",
    "        x1 = round((A[0]+B[0]+C[0])/3,5)\n",
    "        y1 = round((A[1]+B[1]+C[1])/3,5)\n",
    "        z1 = round((A[2]+B[2]+C[2])/3,5)\n",
    "\n",
    "        coord_center.append([x1,y1,z1])\n",
    "\n",
    "\n",
    "    df_lc['baricentro_clique'] = coord_center\n",
    "    return df_lc"
   ]
  },
  {
   "cell_type": "code",
   "execution_count": 204,
   "metadata": {},
   "outputs": [
    {
     "data": {
      "text/html": [
       "<div>\n",
       "<style scoped>\n",
       "    .dataframe tbody tr th:only-of-type {\n",
       "        vertical-align: middle;\n",
       "    }\n",
       "\n",
       "    .dataframe tbody tr th {\n",
       "        vertical-align: top;\n",
       "    }\n",
       "\n",
       "    .dataframe thead th {\n",
       "        text-align: right;\n",
       "    }\n",
       "</style>\n",
       "<table border=\"1\" class=\"dataframe\">\n",
       "  <thead>\n",
       "    <tr style=\"text-align: right;\">\n",
       "      <th></th>\n",
       "      <th>0</th>\n",
       "      <th>1</th>\n",
       "      <th>2</th>\n",
       "      <th>matriz_coordenadas</th>\n",
       "      <th>baricentro_clique</th>\n",
       "    </tr>\n",
       "  </thead>\n",
       "  <tbody>\n",
       "    <tr>\n",
       "      <th>0</th>\n",
       "      <td>121</td>\n",
       "      <td>514</td>\n",
       "      <td>431</td>\n",
       "      <td>[[4.736, 31.117, 32.112], [-4.239, 29.134, 31.826], [3.035, 22.538, 32.072]]</td>\n",
       "      <td>[1.17733, 27.59633, 32.00333]</td>\n",
       "    </tr>\n",
       "    <tr>\n",
       "      <th>1</th>\n",
       "      <td>121</td>\n",
       "      <td>514</td>\n",
       "      <td>507</td>\n",
       "      <td>[[4.736, 31.117, 32.112], [-4.239, 29.134, 31.826], [-1.742, 27.922, 34.428]]</td>\n",
       "      <td>[-0.415, 29.391, 32.78867]</td>\n",
       "    </tr>\n",
       "    <tr>\n",
       "      <th>2</th>\n",
       "      <td>121</td>\n",
       "      <td>514</td>\n",
       "      <td>393</td>\n",
       "      <td>[[4.736, 31.117, 32.112], [-4.239, 29.134, 31.826], [2.754, 26.983, 27.546]]</td>\n",
       "      <td>[1.08367, 29.078, 30.49467]</td>\n",
       "    </tr>\n",
       "    <tr>\n",
       "      <th>3</th>\n",
       "      <td>121</td>\n",
       "      <td>514</td>\n",
       "      <td>387</td>\n",
       "      <td>[[4.736, 31.117, 32.112], [-4.239, 29.134, 31.826], [-0.524, 27.693, 25.587]]</td>\n",
       "      <td>[-0.009, 29.31467, 29.84167]</td>\n",
       "    </tr>\n",
       "    <tr>\n",
       "      <th>4</th>\n",
       "      <td>514</td>\n",
       "      <td>507</td>\n",
       "      <td>431</td>\n",
       "      <td>[[-4.239, 29.134, 31.826], [-1.742, 27.922, 34.428], [3.035, 22.538, 32.072]]</td>\n",
       "      <td>[-0.982, 26.53133, 32.77533]</td>\n",
       "    </tr>\n",
       "  </tbody>\n",
       "</table>\n",
       "</div>"
      ],
      "text/plain": [
       "     0    1    2  \\\n",
       "0  121  514  431   \n",
       "1  121  514  507   \n",
       "2  121  514  393   \n",
       "3  121  514  387   \n",
       "4  514  507  431   \n",
       "\n",
       "                                                              matriz_coordenadas  \\\n",
       "0  [[4.736, 31.117, 32.112], [-4.239, 29.134, 31.826], [3.035, 22.538, 32.072]]    \n",
       "1  [[4.736, 31.117, 32.112], [-4.239, 29.134, 31.826], [-1.742, 27.922, 34.428]]   \n",
       "2  [[4.736, 31.117, 32.112], [-4.239, 29.134, 31.826], [2.754, 26.983, 27.546]]    \n",
       "3  [[4.736, 31.117, 32.112], [-4.239, 29.134, 31.826], [-0.524, 27.693, 25.587]]   \n",
       "4  [[-4.239, 29.134, 31.826], [-1.742, 27.922, 34.428], [3.035, 22.538, 32.072]]   \n",
       "\n",
       "               baricentro_clique  \n",
       "0  [1.17733, 27.59633, 32.00333]  \n",
       "1  [-0.415, 29.391, 32.78867]     \n",
       "2  [1.08367, 29.078, 30.49467]    \n",
       "3  [-0.009, 29.31467, 29.84167]   \n",
       "4  [-0.982, 26.53133, 32.77533]   "
      ]
     },
     "execution_count": 204,
     "metadata": {},
     "output_type": "execute_result"
    }
   ],
   "source": [
    "df_lc1 = baricenter_clique(df_lc1)\n",
    "df_lc2 = baricenter_clique(df_lc2)\n",
    "df_lc1.head()"
   ]
  },
  {
   "cell_type": "code",
   "execution_count": 205,
   "metadata": {},
   "outputs": [],
   "source": [
    "# PLOT DE COMO SE VEN LOS ATOMOS AL COMPARAR\n",
    "# trace1 = go.Scatter3d(\n",
    "#     x=np.array(df_lc1.matriz_coordenadas[0])[:,0],\n",
    "#     y=np.array(df_lc1.matriz_coordenadas[0])[:,1],\n",
    "#     z=np.array(df_lc1.matriz_coordenadas[0])[:,2],\n",
    "#     mode='markers+lines',\n",
    "#     marker=dict(\n",
    "#         size=12,\n",
    "#         line=dict(\n",
    "#             color='rgba(0, 0, 153, 0.14)',\n",
    "#             width=0.5\n",
    "#         ),\n",
    "#         opacity=0.8\n",
    "#     )\n",
    "# )\n",
    "\n",
    "# trace2 = go.Scatter3d(\n",
    "#     x=np.array(df_lc2.matriz_coordenadas[0])[:,0],\n",
    "#     y=np.array(df_lc2.matriz_coordenadas[0])[:,1],\n",
    "#     z=np.array(df_lc2.matriz_coordenadas[0])[:,2],\n",
    "#     mode='markers+lines',\n",
    "#     marker=dict(\n",
    "#         color='rgb(102, 102, 0)',\n",
    "#         size=12,\n",
    "#         symbol='circle',\n",
    "#         line=dict(\n",
    "#             color='rgb(204, 204, 0)',\n",
    "#             width=1\n",
    "#         ),\n",
    "#         opacity=0.9\n",
    "#     )\n",
    "# )\n",
    "# data = [trace1,trace2]\n",
    "# layout = go.Layout(\n",
    "#     margin=dict(\n",
    "#         l=0,\n",
    "#         r=0,\n",
    "#         b=0,\n",
    "#         t=0\n",
    "#     )\n",
    "# )\n",
    "# fig = go.Figure(data=data, layout=layout)\n",
    "# py.iplot(fig, filename='simple-3d-scatter')"
   ]
  },
  {
   "cell_type": "code",
   "execution_count": 206,
   "metadata": {},
   "outputs": [],
   "source": [
    "def center_vectors(df_lc):\n",
    "    vectores_centricos = []\n",
    "    for i,val in enumerate(df_lc.baricentro_clique):\n",
    "    #     extraccion de coordenadas de cada atomo\n",
    "        A = np.array(df_lc.matriz_coordenadas[i][0])\n",
    "        B = np.array(df_lc.matriz_coordenadas[i][1])\n",
    "        C = np.array(df_lc.matriz_coordenadas[i][2])\n",
    "        #calculo de vectores DEL CENTRO AL PUNTO COORDENADA\n",
    "        vec_a = np.round(list(A - val),6)\n",
    "        vec_b = np.round(list(B - val),6)\n",
    "        vec_c = np.round(list(C - val),6)\n",
    "    #SE APILAN PARA QUE ESTEN EN EL MISMO CLIQUE CORRESPONDIENTE A CADA UNO.\n",
    "        vectores_centricos.append([vec_a,vec_b,vec_c])\n",
    "\n",
    "    df_lc['vectores_gorro'] = vectores_centricos\n",
    "    return(df_lc)"
   ]
  },
  {
   "cell_type": "code",
   "execution_count": 207,
   "metadata": {},
   "outputs": [],
   "source": [
    "df_lc1 = center_vectors(df_lc1)\n",
    "df_lc2 = center_vectors(df_lc2)"
   ]
  },
  {
   "cell_type": "code",
   "execution_count": 208,
   "metadata": {},
   "outputs": [
    {
     "data": {
      "text/plain": [
       "[array([3.55867, 3.52067, 0.10867]),\n",
       " array([-5.41633,  1.53767, -0.17733]),\n",
       " array([ 1.85767, -5.05833,  0.06867])]"
      ]
     },
     "metadata": {},
     "output_type": "display_data"
    },
    {
     "data": {
      "text/plain": [
       "[array([-1.19667, -0.69   , -2.02333]),\n",
       " array([-0.53567, -0.872  ,  3.06667]),\n",
       " array([ 1.73233,  1.562  , -1.04333])]"
      ]
     },
     "metadata": {},
     "output_type": "display_data"
    }
   ],
   "source": [
    "#vectores centro o x gorro y y gorros\n",
    "display(df_lc1.vectores_gorro[0],df_lc2.vectores_gorro[0])"
   ]
  },
  {
   "cell_type": "code",
   "execution_count": 209,
   "metadata": {},
   "outputs": [],
   "source": [
    "#funcion para obtener los valores de la prerotacion\n",
    "\n",
    "#REVISAR SI ES CON LOS VECTORES GORRO O CON LAS COORDENADAS ORIGINALES\n",
    "#POR AHORA FUNCIONA CON VECTORES GORRO!!!\n",
    "def R_ij(i,j,a1=0,a2=0):\n",
    "    \"\"\"Recuerda que 0-->1,1-->2,2-->2 en los indices de R\n",
    "    a1,a2 corresponden a que atomo quieren que se compare este valor es \n",
    "    para generar las permutaciones y compare sobre todos los a2  de a1[0] y asi >)\"\"\"\n",
    "    # por si me equivoco en los indices xD o podria hacer un\n",
    "    # diccionario de valores para que no tenga fallas\n",
    "    dict_convencion = {1:0,2:1,3:2}\n",
    "    i = dict_convencion.get(i)\n",
    "    j = dict_convencion.get(j)\n",
    "    \n",
    "    values = []\n",
    "    for k in range(3):\n",
    "        atom_value1 = df_lc1.vectores_gorro[a1][k][i]\n",
    "        atom_value2 = df_lc2.vectores_gorro[a2][k][j]\n",
    "        value = atom_value1 * atom_value2\n",
    "        values.append(value)\n",
    "        valor = sum(values)\n",
    "\n",
    "    return(valor)"
   ]
  },
  {
   "cell_type": "code",
   "execution_count": 210,
   "metadata": {},
   "outputs": [],
   "source": [
    "# #funcion para obtener los valores de la prerotacion\n",
    "\n",
    "# #REVISAR SI ES CON LOS VECTORES GORRO O CON LAS COORDENADAS ORIGINALES\n",
    "# def R_ij(i,j,a1=0,a2=0):\n",
    "#     \"\"\"Recuerda que 0-->1,1-->2,2-->2 en los indices de R\n",
    "#     a1,a2 corresponden a que atomo quieren que se compare este valor es \n",
    "#     para generar las permutaciones y compare sobre todos los a2  de a1[0] y asi >)\"\"\"\n",
    "#     # por si me equivoco en los indices xD o podria hacer un\n",
    "#     # diccionario de valores para que no tenga fallas\n",
    "#     dict_convencion = {1:0,2:1,3:2}\n",
    "#     i = dict_convencion.get(i)\n",
    "#     j = dict_convencion.get(j)\n",
    "    \n",
    "#     values = []\n",
    "#     for k in range(3):\n",
    "#         atom_value1 = df_lc1.matriz_coordenadas[a1][k][i]\n",
    "#         atom_value2 = df_lc2.matriz_coordenadas[a2][k][j]\n",
    "#         value = atom_value1 * atom_value2\n",
    "#         values.append(value)\n",
    "#         valor = sum(values)\n",
    "\n",
    "#     return(valor)"
   ]
  },
  {
   "cell_type": "code",
   "execution_count": 211,
   "metadata": {},
   "outputs": [
    {
     "data": {
      "text/plain": [
       "-25.7486233333"
      ]
     },
     "execution_count": 211,
     "metadata": {},
     "output_type": "execute_result"
    }
   ],
   "source": [
    "#hacer check si si queda\n",
    "R_ij(1,3)"
   ]
  },
  {
   "cell_type": "code",
   "execution_count": 212,
   "metadata": {},
   "outputs": [],
   "source": [
    "#se encontro error en un signo en este codigo y se cambia\n",
    "#se genera la matriz gigante de Rs\n",
    "\n",
    "def giant_matrix(i,j):\n",
    "#     i,j = 0,0 #cliques a comparar\n",
    "    #primer renglon\n",
    "    R11R22R33 = (R_ij(1,1,a1=i,a2=j) + R_ij(2,2,a1=i,a2=j) + R_ij(3,3,a1=i,a2=j))\n",
    "    R23_R32 = (R_ij(2,3,a1=i,a2=j) - R_ij(3,2,a1=i,a2=j))\n",
    "    R31_R13 = (R_ij(3,1,a1=i,a2=j) - R_ij(1,3,a1=i,a2=j))\n",
    "    R12_R21 = (R_ij(1,2,a1=i,a2=j) - R_ij(2,1,a1=i,a2=j))\n",
    "    #segundo renglon\n",
    "    R11_R22_R33 = (R_ij(1,1,a1=i,a2=j) - R_ij(2,2,a1=i,a2=j) - R_ij(3,3,a1=i,a2=j))\n",
    "    R12R21 = (R_ij(1,2,a1=i,a2=j) + R_ij(2,1,a1=i,a2=j))\n",
    "    R13R31 = (R_ij(1,3,a1=i,a2=j) + R_ij(3,1,a1=i,a2=j))\n",
    "    #tercer renglon\n",
    "    _R11R22_R33 = (-R_ij(1,1,a1=i,a2=j) + R_ij(2,2,a1=i,a2=j) - R_ij(3,3,a1=i,a2=j))\n",
    "    R23R32 = (R_ij(2,3,a1=i,a2=j) + R_ij(3,2,a1=0,a2=0))\n",
    "    #cuarto renglon\n",
    "    _R11_R22R33 = (-R_ij(1,1,a1=i,a2=j) - R_ij(2,2,a1=i,a2=j) + R_ij(3,3,a1=i,a2=j))\n",
    "\n",
    "    matriz_gigante = np.round([\n",
    "        [R11R22R33, R23_R32 , R31_R13, R12_R21],\n",
    "        [R23_R32, R11_R22_R33, R12R21, R13R31],\n",
    "        [R31_R13, R12R21, _R11R22_R33, R23R32],\n",
    "        [R12_R21, R13R31, R23R32, _R11_R22R33]\n",
    "    ],4)\n",
    "    return(matriz_gigante)"
   ]
  },
  {
   "cell_type": "code",
   "execution_count": 213,
   "metadata": {},
   "outputs": [
    {
     "data": {
      "text/plain": [
       "array([[-10.6456,   2.6826,  25.8325,  18.9687],\n",
       "       [  2.6826,  14.3675,  -8.6302, -25.6647],\n",
       "       [ 25.8325,  -8.6302, -12.6968,   3.0565],\n",
       "       [ 18.9687, -25.6647,   3.0565,   8.975 ]])"
      ]
     },
     "execution_count": 213,
     "metadata": {},
     "output_type": "execute_result"
    }
   ],
   "source": [
    "matriz_gigante = giant_matrix(0,0)\n",
    "matriz_gigante"
   ]
  },
  {
   "cell_type": "code",
   "execution_count": 214,
   "metadata": {},
   "outputs": [
    {
     "name": "stdout",
     "output_type": "stream",
     "text": [
      "eigenvalores: [-44.02542795  44.02554732  10.92420163 -10.924221  ]\n",
      "eigenvector del eigenvalor maximo: [ 0.32924436 -0.61911664  0.27948436  0.65588203]\n",
      "maximo_eigenvalor: 44.02554732086098\n"
     ]
    }
   ],
   "source": [
    "#eigenvectores y eigenvalores\n",
    "eignvalues,eigenvectors = np.linalg.eig(matriz_gigante)\n",
    "print('eigenvalores:', eignvalues)\n",
    "#eigenvector maximo y eigenvalor checar si el vector esta bien la parte del [:,blabla]\n",
    "print('eigenvector del eigenvalor maximo:', eigenvectors[:,np.argmax(eignvalues)])\n",
    "print('maximo_eigenvalor:',max(eignvalues))"
   ]
  },
  {
   "cell_type": "code",
   "execution_count": 215,
   "metadata": {},
   "outputs": [],
   "source": [
    "#comienzo de matriz de rotacion\n",
    "#el quaternion es el eigenvector del mayor eigenvalor\n",
    "def rotation_matrix(matriz_gigante):\n",
    "    eignvalues,eigenvectors = np.linalg.eig(matriz_gigante)\n",
    "    q = eigenvectors[:,np.argmax(eignvalues)]\n",
    "    q0,q1,q2,q3 = q[0],q[1],q[2],q[3]\n",
    "    #matriz de rotacion con eigenvectores\n",
    "    mat_rot = [\n",
    "                [(q0**2+q1**2-q2**2-q3**2), 2*(q1*q2-q0*q3),2*(q1*q3+q0*q2)],\n",
    "                [2*(q1*q2+q0*q3), (q0**2-q1**2+q2**2-q3**2),2*(q2*q3-q0*q1)],\n",
    "                [2*(q1*q3-q0*q2),2*(q2*q3+q0*q1), (q0**2-q1**2-q2**2+q3**2)]\n",
    "              ]\n",
    "    return(mat_rot)\n",
    "\n",
    "mat_rot = rotation_matrix(matriz_gigante)"
   ]
  },
  {
   "cell_type": "code",
   "execution_count": 216,
   "metadata": {},
   "outputs": [],
   "source": [
    "#df_lc1.vectores_gorro[0] vector a rotar ya trasladado\n",
    "def rotation_vectors(vector_gorro):\n",
    "    #mult de cada vector rotado\n",
    "    vec1 = vector_gorro\n",
    "\n",
    "    coord_rot_tras = []\n",
    "    for i in vec1:\n",
    "       coord_rot_tras.append(np.matmul(mat_rot,i.reshape(3,1)).T[0])\n",
    "\n",
    "    x_rot = coord_rot_tras\n",
    "    return(x_rot)\n",
    "\n",
    "#este i tiene que coincidir con el vector rotado en la funcion de giant_matrix ejemplo con 0\n",
    "x_rot = rotation_vectors(df_lc1.vectores_gorro[0])"
   ]
  },
  {
   "cell_type": "markdown",
   "metadata": {},
   "source": [
    "# CHECK DE REGRESAR A VECTORES ORIGINALES"
   ]
  },
  {
   "cell_type": "code",
   "execution_count": 217,
   "metadata": {},
   "outputs": [
    {
     "data": {
      "text/plain": [
       "0                     121                                                                                       \n",
       "1                     514                                                                                       \n",
       "2                     431                                                                                       \n",
       "matriz_coordenadas    [[4.736, 31.117, 32.112], [-4.239, 29.134, 31.826], [3.035, 22.538, 32.072]]              \n",
       "baricentro_clique     [1.17733, 27.59633, 32.00333]                                                             \n",
       "vectores_gorro        [[3.55867, 3.52067, 0.10867], [-5.41633, 1.53767, -0.17733], [1.85767, -5.05833, 0.06867]]\n",
       "Name: 0, dtype: object"
      ]
     },
     "execution_count": 217,
     "metadata": {},
     "output_type": "execute_result"
    }
   ],
   "source": [
    "df_lc1.iloc[0]"
   ]
  },
  {
   "cell_type": "code",
   "execution_count": 218,
   "metadata": {},
   "outputs": [
    {
     "name": "stdout",
     "output_type": "stream",
     "text": [
      "1: [[4.736, 31.117, 32.112], [-4.239, 29.134, 31.826], [3.035, 22.538, 32.072]]\n",
      "------------------------------------------------------------------------------------------------------------------------\n",
      "2: [[13.454, 5.239, -2.835], [14.115, 5.057, 2.255], [16.383, 7.491, -1.855]]\n"
     ]
    }
   ],
   "source": [
    "#vectores a los que queremos llegar.\n",
    "print('1:',df_lc1.matriz_coordenadas[0])\n",
    "print('--'*60)\n",
    "print('2:',df_lc2.matriz_coordenadas[0])"
   ]
  },
  {
   "cell_type": "code",
   "execution_count": 219,
   "metadata": {},
   "outputs": [
    {
     "name": "stdout",
     "output_type": "stream",
     "text": [
      "1: [array([-2.86621014, -1.81780341, -3.68123469]), array([-0.99502927, -1.56623602,  5.3187712 ]), array([ 3.86122517,  3.38404176, -1.63754612])]\n",
      "------------------------------------------------------------------------------------------------------------------------\n",
      "2: [array([ 1.82748703, -1.23675363,  1.06429083]), array([-1.23890475,  2.87526639,  0.80607039]), array([-0.5885884 , -1.63850587, -1.87035048])]\n"
     ]
    }
   ],
   "source": [
    "# check de dado que se rota si podemos regresar al vector original...\n",
    "print('1:',x_rot)\n",
    "print('--'*60)\n",
    "print('2:',y_rot)"
   ]
  },
  {
   "cell_type": "code",
   "execution_count": 220,
   "metadata": {},
   "outputs": [
    {
     "name": "stdout",
     "output_type": "stream",
     "text": [
      "vector rotado: [-2.86621014 -1.81780341 -3.68123469]\n",
      "vector_original: [ 4.736 31.117 32.112]\n"
     ]
    }
   ],
   "source": [
    "#procedimiento para obtener x_rotado\n",
    "print('vector rotado:',np.matmul(\n",
    "    mat_rot,\n",
    "    (np.array(df_lc1.matriz_coordenadas[0][0]) - np.array(df_lc1.baricentro_clique[0]))\n",
    "))\n",
    "#procedimiento para obtener x_original\n",
    "print('vector_original:',np.matmul(\n",
    "    np.transpose(mat_rot),\n",
    "    x_rot[0]) \n",
    "                  + np.array(df_lc1.baricentro_clique[0]))"
   ]
  },
  {
   "cell_type": "markdown",
   "metadata": {},
   "source": [
    "# Check que se mantiene la figura"
   ]
  },
  {
   "cell_type": "code",
   "execution_count": 221,
   "metadata": {},
   "outputs": [
    {
     "name": "stdout",
     "output_type": "stream",
     "text": [
      "[[-1.68888014 25.77852659 28.32209531]\n",
      " [ 0.18230073 26.03009398 37.3221012 ]\n",
      " [ 5.03855517 30.98037176 30.36578388]]\n"
     ]
    }
   ],
   "source": [
    "coord_rot_clique_1 = x_rot + np.array(df_lc1.baricentro_clique[0])\n",
    "print(coord_rot_clique_1)"
   ]
  },
  {
   "cell_type": "code",
   "execution_count": 222,
   "metadata": {},
   "outputs": [
    {
     "data": {
      "text/html": [
       "<iframe id=\"igraph\" scrolling=\"no\" style=\"border:none;\" seamless=\"seamless\" src=\"https://plot.ly/~serch86/1742.embed\" height=\"525px\" width=\"100%\"></iframe>"
      ],
      "text/plain": [
       "<plotly.tools.PlotlyDisplay object>"
      ]
     },
     "execution_count": 222,
     "metadata": {},
     "output_type": "execute_result"
    }
   ],
   "source": [
    "# PLOT DE COMO SE VEN mismos atomos solo rotados.\n",
    "trace1 = go.Scatter3d(\n",
    "    x=np.array(df_lc1.matriz_coordenadas[0])[:,0],\n",
    "    y=np.array(df_lc1.matriz_coordenadas[0])[:,1],\n",
    "    z=np.array(df_lc1.matriz_coordenadas[0])[:,2],\n",
    "    mode='markers+lines',\n",
    "    name='atomo original',\n",
    "    marker=dict(\n",
    "        size=12,\n",
    "        line=dict(\n",
    "            color='rgb(0, 0, 102)',\n",
    "            width=0.5\n",
    "        ),\n",
    "        opacity=0.8\n",
    "    )\n",
    ")\n",
    "\n",
    "trace2 = go.Scatter3d(\n",
    "    x=coord_rot_clique_1[:,0],\n",
    "    y=coord_rot_clique_1[:,1],\n",
    "    z=coord_rot_clique_1[:,2],\n",
    "    mode='markers+lines',\n",
    "    name='atomo rotado',\n",
    "    marker=dict(\n",
    "        color='rgb(153, 153, 0)',\n",
    "        size=12,\n",
    "        symbol='circle',\n",
    "        line=dict(\n",
    "            color='rgb(127, 127, 127)',\n",
    "            width=1\n",
    "        ),\n",
    "        opacity=0.9\n",
    "    )\n",
    ")\n",
    "data = [trace1,trace2]\n",
    "layout = go.Layout(\n",
    "    margin=dict(\n",
    "        l=0,\n",
    "        r=0,\n",
    "        b=0,\n",
    "        t=0\n",
    "    )\n",
    ")\n",
    "fig = go.Figure(data=data, layout=layout)\n",
    "py.iplot(fig, filename='simple-3d-scatter')"
   ]
  },
  {
   "cell_type": "markdown",
   "metadata": {},
   "source": [
    "# CHECK DE UNA VES ROTADO Y REGRESADO COMPARARLO CON EL OTRO CLIQUE"
   ]
  },
  {
   "cell_type": "code",
   "execution_count": 223,
   "metadata": {},
   "outputs": [
    {
     "name": "stdout",
     "output_type": "stream",
     "text": [
      "[array([12.24578986,  2.98352659, -3.32223469]), array([14.11697073,  3.23509398,  5.6777712 ]), array([18.97322517,  8.18537176, -1.27854612])]\n"
     ]
    }
   ],
   "source": [
    "coord_rot_clique_2 = x_rot + np.array(df_lc2.baricentro_clique[1])\n",
    "print(list(coord_rot_clique_2))"
   ]
  },
  {
   "cell_type": "code",
   "execution_count": 224,
   "metadata": {},
   "outputs": [
    {
     "data": {
      "text/plain": [
       "[[13.454, 5.239, -2.835], [14.115, 5.057, 2.255], [17.767, 4.108, 1.657]]"
      ]
     },
     "execution_count": 224,
     "metadata": {},
     "output_type": "execute_result"
    }
   ],
   "source": [
    "df_lc2.matriz_coordenadas[1]"
   ]
  },
  {
   "cell_type": "code",
   "execution_count": 225,
   "metadata": {},
   "outputs": [
    {
     "data": {
      "text/html": [
       "<iframe id=\"igraph\" scrolling=\"no\" style=\"border:none;\" seamless=\"seamless\" src=\"https://plot.ly/~serch86/1742.embed\" height=\"525px\" width=\"100%\"></iframe>"
      ],
      "text/plain": [
       "<plotly.tools.PlotlyDisplay object>"
      ]
     },
     "execution_count": 225,
     "metadata": {},
     "output_type": "execute_result"
    }
   ],
   "source": [
    "# PLOT DE COMO SE VEN LOS ATOMOS AL COMPARAR\n",
    "trace1 = go.Scatter3d(\n",
    "    x=np.array(df_lc2.matriz_coordenadas[00])[:,0],\n",
    "    y=np.array(df_lc2.matriz_coordenadas[00])[:,1],\n",
    "    z=np.array(df_lc2.matriz_coordenadas[00])[:,2],\n",
    "    mode='markers+lines',\n",
    "    name='atomo2 a comparar',\n",
    "    marker=dict(\n",
    "        size=12,\n",
    "        line=dict(\n",
    "            color='rgb(0, 0, 102)',\n",
    "            width=0.5\n",
    "        ),\n",
    "        opacity=0.8\n",
    "    )\n",
    ")\n",
    "\n",
    "trace2 = go.Scatter3d(\n",
    "    x=coord_rot_clique_2[:,0],\n",
    "    y=coord_rot_clique_2[:,1],\n",
    "    z=coord_rot_clique_2[:,2],\n",
    "    mode='markers+lines',\n",
    "    name='atomo1 rotado y trasladado',\n",
    "    marker=dict(\n",
    "        color='rgb(153, 153, 0)',\n",
    "        size=12,\n",
    "        symbol='circle',\n",
    "        line=dict(\n",
    "            color='rgb(127, 127, 127)',\n",
    "            width=1\n",
    "        ),\n",
    "        opacity=0.9\n",
    "    )\n",
    ")\n",
    "\n",
    "trace3 = go.Scatter3d(\n",
    "    x=np.array(df_lc1.matriz_coordenadas[0])[:,0],\n",
    "    y=np.array(df_lc1.matriz_coordenadas[0])[:,1],\n",
    "    z=np.array(df_lc1.matriz_coordenadas[0])[:,2],\n",
    "    mode='markers+lines',\n",
    "    name='atomo1 no rotado ni trasladado',\n",
    "    marker=dict(\n",
    "        color='rgb(255, 0, 0)',\n",
    "        size=12,\n",
    "        symbol='circle',\n",
    "        line=dict(\n",
    "            color='rgb(255, 102, 102)',\n",
    "            width=1\n",
    "        ),\n",
    "        opacity=0.9\n",
    "    )\n",
    ")\n",
    "data = [trace1,trace2,trace3]#\n",
    "layout = go.Layout(\n",
    "    margin=dict(\n",
    "        l=0,\n",
    "        r=0,\n",
    "        b=0,\n",
    "        t=0\n",
    "    )\n",
    ")\n",
    "fig = go.Figure(data=data, layout=layout)\n",
    "py.iplot(fig, filename='simple-3d-scatter')"
   ]
  },
  {
   "cell_type": "markdown",
   "metadata": {},
   "source": [
    "# Calculo de RMSD"
   ]
  },
  {
   "cell_type": "code",
   "execution_count": 230,
   "metadata": {},
   "outputs": [],
   "source": [
    "#el clique a comparar se le suma el baricentro de la otra proteina a comparar, coincidiendo el i con la funcion matriz gigante, ejemplo con 0\n",
    "coord_rot_clique_2 = x_rot + np.array(df_lc2.baricentro_clique[0])"
   ]
  },
  {
   "cell_type": "code",
   "execution_count": 231,
   "metadata": {},
   "outputs": [
    {
     "data": {
      "text/plain": [
       "array([[13.454,  5.239, -2.835],\n",
       "       [14.115,  5.057,  2.255],\n",
       "       [16.383,  7.491, -1.855]])"
      ]
     },
     "execution_count": 231,
     "metadata": {},
     "output_type": "execute_result"
    }
   ],
   "source": [
    "np.array(df_lc2.matriz_coordenadas[0])"
   ]
  },
  {
   "cell_type": "code",
   "execution_count": 232,
   "metadata": {},
   "outputs": [
    {
     "data": {
      "text/plain": [
       "array([[11.78445986,  4.11119659, -4.49290469],\n",
       "       [13.65564073,  4.36276398,  4.5071012 ],\n",
       "       [18.51189517,  9.31304176, -2.44921612]])"
      ]
     },
     "execution_count": 232,
     "metadata": {},
     "output_type": "execute_result"
    }
   ],
   "source": [
    "coord_rot_clique_2"
   ]
  },
  {
   "cell_type": "code",
   "execution_count": 233,
   "metadata": {},
   "outputs": [
    {
     "name": "stdout",
     "output_type": "stream",
     "text": [
      "vector a: [[11.78445986  4.11119659 -4.49290469]\n",
      " [13.65564073  4.36276398  4.5071012 ]\n",
      " [18.51189517  9.31304176 -2.44921612]] \n",
      " vs \n",
      " vector b: [[13.454  5.239 -2.835]\n",
      " [14.115  5.057  2.255]\n",
      " [16.383  7.491 -1.855]]\n",
      "RMSD_final: 1.51549\n"
     ]
    }
   ],
   "source": [
    "# primer RMSD entre atomos\n",
    "a = coord_rot_clique_2\n",
    "b = np.array(df_lc2.matriz_coordenadas[0])\n",
    "values_diff = []\n",
    "print('vector a:', a,'\\n vs \\n','vector b:' , b)\n",
    "for i,val1 in enumerate(a):\n",
    "    for j,val2 in enumerate(b):\n",
    "        if i == j:\n",
    "#             print(val1,val2)\n",
    "            diff_x = val1[0] - val2[0]\n",
    "            diff_x2 = diff_x**2\n",
    "            \n",
    "            diff_y = val1[1] - val2[1]\n",
    "            diff_y2 = diff_y**2\n",
    "            \n",
    "            diff_z = val1[2] - val2[2]\n",
    "            diff_z2 = diff_z**2\n",
    "            \n",
    "#             print(diff_x2,diff_y2,diff_z2)\n",
    "            vals = np.sqrt((diff_x2 + diff_y2 + diff_z2)/3)\n",
    "#             print(vals)\n",
    "            values_diff.append(vals)\n",
    "\n",
    "print('RMSD_final:', np.round((sum(values_diff)/3),5))"
   ]
  },
  {
   "cell_type": "markdown",
   "metadata": {},
   "source": [
    "# Fit de mejor RMSD"
   ]
  },
  {
   "cell_type": "code",
   "execution_count": 188,
   "metadata": {},
   "outputs": [
    {
     "name": "stdout",
     "output_type": "stream",
     "text": [
      "[3.55867 3.52067 0.10867] [-1.19667 -0.69    -2.02333]\n",
      "nan\n",
      "25.071058586700005 6.001983377799999\n",
      "88.05109464172196\n",
      "====================================================================================================\n",
      "[-5.41633  1.53767 -0.17733] [-0.53567 -0.872    3.06667]\n",
      "nan\n",
      "31.732505626700004 10.451791237799998\n",
      "88.05109464172196\n",
      "====================================================================================================\n",
      "[ 1.85767 -5.05833  0.06867] [ 1.73233  1.562   -1.04333]\n",
      "nan\n",
      "29.042355786699996 6.5293487178\n",
      "88.05109464172196\n",
      "====================================================================================================\n"
     ]
    },
    {
     "name": "stderr",
     "output_type": "stream",
     "text": [
      "C:\\Users\\serch\\Anaconda3\\lib\\site-packages\\ipykernel_launcher.py:13: RuntimeWarning:\n",
      "\n",
      "invalid value encountered in sqrt\n",
      "\n"
     ]
    }
   ],
   "source": [
    "#recuerda que todo este codigo es para la primera combinacion entre el atomo 0 de lc1\n",
    "# y el atomo 0 de lc2\n",
    "\n",
    "#comienza el calculo rmsd\n",
    "#algo asi seria\n",
    "for i in range(3):\n",
    "    vec1 = df_lc1.vectores_gorro[0][i]\n",
    "    vec2 = df_lc2.vectores_gorro[0][i]\n",
    "    max_eigenvalue = max(eignvalues)\n",
    "    max_eigenvalue_2 = 2 * max_eigenvalue\n",
    "    dot1 = np.dot(vec1,vec1)\n",
    "    dot2 = np.dot(vec2,vec2)\n",
    "    e = np.sqrt( ( (dot1 + dot2) - (max_eigenvalue_2) )/3)\n",
    "    print(vec1,vec2)\n",
    "    print(e)\n",
    "    print(dot1,dot2)\n",
    "    print(max_eigenvalue_2)\n",
    "    print('=='*50)\n",
    "    \n",
    "#POR QUE DAN IGUAL SIN ROTAR QUE ROTADOS AL COMPARAR LOS VECTORES GORRO CON LOS VECTORES ROTADOS..."
   ]
  }
 ],
 "metadata": {
  "kernelspec": {
   "display_name": "Python 3",
   "language": "python",
   "name": "python3"
  },
  "language_info": {
   "codemirror_mode": {
    "name": "ipython",
    "version": 3
   },
   "file_extension": ".py",
   "mimetype": "text/x-python",
   "name": "python",
   "nbconvert_exporter": "python",
   "pygments_lexer": "ipython3",
   "version": "3.7.0"
  }
 },
 "nbformat": 4,
 "nbformat_minor": 2
}
