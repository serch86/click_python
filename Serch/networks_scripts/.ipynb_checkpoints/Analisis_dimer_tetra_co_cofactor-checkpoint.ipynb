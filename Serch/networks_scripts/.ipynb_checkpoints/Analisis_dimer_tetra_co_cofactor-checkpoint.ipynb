{
 "cells": [
  {
   "cell_type": "code",
   "execution_count": 1,
   "metadata": {},
   "outputs": [],
   "source": [
    "# librerias que utilizaras\n",
    "import numpy as np\n",
    "# por si no te lee las tools o functions creadas\n",
    "import sys\n",
    "sys.path.append(\"/home/serch/pdbmani/Serch/math_tricks/\")\n",
    "sys.path.append(\"/home/serch/pdbmani/Serch/\")\n",
    "import math_vect_tools as mymath\n",
    "# herramientas para leer pdbs\n",
    "import read_pdb_tools as rpt\n",
    "# funciones de click generadas en pandas\n",
    "import funciones_CLICK as fc\n",
    "# cuenta tiempo de ejecucion\n",
    "# networks\n",
    "import networkx as nx\n",
    "\n",
    "import os\n",
    "os.chdir('/home/serch/pdbmani/Serch')\n",
    "\n",
    "import ast # para pasar de str a tupla o listas\n",
    "from collections import Counter # obtener conteo de enlaces"
   ]
  },
  {
   "cell_type": "code",
   "execution_count": 3,
   "metadata": {},
   "outputs": [],
   "source": [
    "# lectura de archivo\n",
    "file1 = '/home/serch/pdbmani/Serch/pdbs/dimer_con_cofact_clean.pdb'  # dime_out no es trayectoria es pdb\n",
    "file2 = '/home/serch/pdbmani/Serch/pdbs/tetra_con_cofact_clean.pdb'\n",
    "# se define la estructura\n",
    "trj1 = rpt.Trajectory(file1)\n",
    "trj2 = rpt.Trajectory(file2)\n",
    "# se lee el pdb y se agrega al objeto\n",
    "trj1.ReadTraj(\"%s\" % file1)\n",
    "trj2.ReadTraj(\"%s\" % file2)\n",
    "\n",
    "trj11 = trj1.frames\n",
    "trj22 = trj2.frames\n",
    "\n",
    "# set center_mass calculando aqui tarda un poco\n",
    "# for pdbstruct in trj11:\n",
    "#     pdbstruct.set_center_mass()"
   ]
  },
  {
   "cell_type": "code",
   "execution_count": 4,
   "metadata": {},
   "outputs": [],
   "source": [
    "def get_df_distancias(ref):\n",
    "    \"\"\"Funcion para obtener los enlaces de distancias de cada residuo\n",
    "    Dudas en codigo pueden revisar fc.distancia_entre_atomos en ese se basa\n",
    "    esta funcion, la diferencia es que se crea con el objeto residuo\"\"\"\n",
    "    # se generan listas con coordenadas y numero de atomo\n",
    "#     enlaces = [ [res1.resi, res2.resi] for res1 in ref[1:-1] for res2 in ref[1:-1] \n",
    "#                if res2.resi >= res1.resi if mymath.distance(res2.GetAtom('CA').coord, res1.GetAtom('CA').coord) < 10\n",
    "#               ]\n",
    "\n",
    "    enlaces = []\n",
    "    for res1 in ref:\n",
    "        for res2 in ref:\n",
    "            if res1.resi in [1,178, 201,378,401,578,601,778] or res2.resi in [1,178, 201,378,401,578,601,778]: # se hizo a  mano el quitar los atomos que no nos interesn\n",
    "                continue\n",
    "            else:\n",
    "                if res2.resi >= res1.resi:\n",
    "                    dist = mymath.distance(res2.GetAtom('CA').coord, res1.GetAtom('CA').coord)\n",
    "                    if  dist < 10:\n",
    "                        enlaces.append([res1.resi, res2.resi])\n",
    "\n",
    "    # se genera la matriz de adyacencias para la red\n",
    "    return enlaces"
   ]
  },
  {
   "cell_type": "code",
   "execution_count": 5,
   "metadata": {},
   "outputs": [
    {
     "name": "stdout",
     "output_type": "stream",
     "text": [
      "CPU times: user 15min 38s, sys: 1.29 s, total: 15min 40s\n",
      "Wall time: 15min 41s\n"
     ]
    }
   ],
   "source": [
    "%%time\n",
    "pdbs1 = [pdb.GetResChain() for pdb in trj11]\n",
    "pdbs2 = [pdb.GetResChain() for pdb in trj22]\n",
    "\n",
    "enlaces1 = [get_df_distancias(residues) for residues in pdbs1]\n",
    "enlaces2 = [get_df_distancias(residues) for residues in pdbs2]\n",
    "# aqui se filtran los enlaces\n"
   ]
  },
  {
   "cell_type": "code",
   "execution_count": 10,
   "metadata": {},
   "outputs": [
    {
     "name": "stdout",
     "output_type": "stream",
     "text": [
      "CPU times: user 2.2 s, sys: 32 ms, total: 2.24 s\n",
      "Wall time: 2.23 s\n"
     ]
    }
   ],
   "source": [
    "%%time\n",
    "conteo_enlaces1 = Counter([str(j) for i in enlaces1 for j in i]).most_common()\n",
    "conteo_enlaces2 = Counter([str(j) for i in enlaces2 for j in i]).most_common()\n",
    "\n",
    "red_promedio1 = nx.Graph([ast.literal_eval(i[0]) for i in conteo_enlaces1 if (i[1] / len(enlaces1)) > 0.7])\n",
    "red_promedio2 = nx.Graph([ast.literal_eval(i[0]) for i in conteo_enlaces2 if (i[1] / len(enlaces2)) > 0.7])"
   ]
  },
  {
   "cell_type": "code",
   "execution_count": 14,
   "metadata": {},
   "outputs": [
    {
     "name": "stdout",
     "output_type": "stream",
     "text": [
      "Name: \n",
      "Type: Graph\n",
      "Number of nodes: 352\n",
      "Number of edges: 3195\n",
      "Average degree:  18.1534\n",
      "Number of residues and frame: 356    1\n",
      "Number of chains:             1  dict_keys(['A'])\n"
     ]
    }
   ],
   "source": [
    "print(nx.info(red_promedio1))\n",
    "\n",
    "trj11[0].PrintPdbInfo()"
   ]
  },
  {
   "cell_type": "code",
   "execution_count": 15,
   "metadata": {},
   "outputs": [
    {
     "name": "stdout",
     "output_type": "stream",
     "text": [
      "Name: \n",
      "Type: Graph\n",
      "Number of nodes: 704\n",
      "Number of edges: 6535\n",
      "Average degree:  18.5653\n",
      "Number of residues and frame: 712    1\n",
      "Number of chains:             1  dict_keys(['A'])\n"
     ]
    }
   ],
   "source": [
    "print(nx.info(red_promedio2))\n",
    "\n",
    "trj22[0].PrintPdbInfo()"
   ]
  },
  {
   "cell_type": "markdown",
   "metadata": {},
   "source": [
    "### se guarda la info en gexf"
   ]
  },
  {
   "cell_type": "code",
   "execution_count": 16,
   "metadata": {},
   "outputs": [],
   "source": [
    "nx.write_gexf(red_promedio1,'dimer_c_cofact_net.gexf')\n",
    "nx.write_gexf(red_promedio2,'tetra_c_cofact_net.gexf')"
   ]
  },
  {
   "cell_type": "markdown",
   "metadata": {},
   "source": [
    "# Analisis de enlaces en las redes de dimero y tetramero"
   ]
  },
  {
   "cell_type": "code",
   "execution_count": 3,
   "metadata": {},
   "outputs": [],
   "source": [
    "red_promedio1 = nx.read_gexf('networks_scripts/dimer_c_cofact_net.gexf')\n",
    "red_promedio2 = nx.read_gexf('networks_scripts/tetra_c_cofact_net.gexf')"
   ]
  },
  {
   "cell_type": "code",
   "execution_count": 16,
   "metadata": {},
   "outputs": [
    {
     "name": "stdout",
     "output_type": "stream",
     "text": [
      "Name: \n",
      "Type: Graph\n",
      "Number of nodes: 352\n",
      "Number of edges: 3195\n",
      "Average degree:  18.1534\n",
      "=====================\n",
      "Name: \n",
      "Type: Graph\n",
      "Number of nodes: 704\n",
      "Number of edges: 6535\n",
      "Average degree:  18.5653\n"
     ]
    }
   ],
   "source": [
    "print(nx.info(red_promedio1)) # Dimero\n",
    "print('=====================') \n",
    "print(nx.info(red_promedio2)) # Tetramero"
   ]
  },
  {
   "cell_type": "code",
   "execution_count": 4,
   "metadata": {},
   "outputs": [],
   "source": [
    "nodes_dim = [i for i in red_promedio1.nodes]\n",
    "nodes_tetra = [i for i in red_promedio2.nodes]\n",
    "\n",
    "edges_dim = [i for i in red_promedio1.edges]\n",
    "edges_tetra = [i for i in red_promedio2.edges]"
   ]
  },
  {
   "cell_type": "code",
   "execution_count": 5,
   "metadata": {},
   "outputs": [
    {
     "name": "stdout",
     "output_type": "stream",
     "text": [
      "3195 6535\n"
     ]
    }
   ],
   "source": [
    "# enlaces totales en cada red\n",
    "print(len(edges_dim), len(edges_tetra))"
   ]
  },
  {
   "cell_type": "code",
   "execution_count": 6,
   "metadata": {},
   "outputs": [
    {
     "data": {
      "text/plain": [
       "0"
      ]
     },
     "execution_count": 6,
     "metadata": {},
     "output_type": "execute_result"
    }
   ],
   "source": [
    "len([i for i in nodes_dim if i not in nodes_tetra])"
   ]
  },
  {
   "cell_type": "code",
   "execution_count": 8,
   "metadata": {},
   "outputs": [
    {
     "data": {
      "text/plain": [
       "[]"
      ]
     },
     "execution_count": 8,
     "metadata": {},
     "output_type": "execute_result"
    }
   ],
   "source": [
    "sorted([i for i in nodes_tetra if i not in nodes_dim and int(i) < 400])"
   ]
  },
  {
   "cell_type": "code",
   "execution_count": 9,
   "metadata": {},
   "outputs": [
    {
     "data": {
      "text/plain": [
       "2693"
      ]
     },
     "execution_count": 9,
     "metadata": {},
     "output_type": "execute_result"
    }
   ],
   "source": [
    "# numero de enlaces del dimero que estan en el tetramero\n",
    "edges_in_tetra = [i for i in edges_dim if i in edges_tetra]\n",
    "len(edges_in_tetra)"
   ]
  },
  {
   "cell_type": "code",
   "execution_count": 10,
   "metadata": {},
   "outputs": [
    {
     "data": {
      "text/plain": [
       "502"
      ]
     },
     "execution_count": 10,
     "metadata": {},
     "output_type": "execute_result"
    }
   ],
   "source": [
    "# numero de enlaces del dimero que NO estan en el tetramero\n",
    "edges_not_in_tetra = [i for i in edges_dim if i not in edges_tetra]\n",
    "len(edges_not_in_tetra)"
   ]
  },
  {
   "cell_type": "code",
   "execution_count": 11,
   "metadata": {},
   "outputs": [],
   "source": [
    "# se genera una subred con los enlaces que siempre estan y con los que no estan.\n",
    "dim_not_in_tetra = nx.Graph(edges_not_in_tetra, name = 'edges_dimer_not_in_tetra')\n",
    "dim_in_tetra = nx.Graph(edges_in_tetra, name = 'edges_dimer_in_tetra')"
   ]
  },
  {
   "cell_type": "code",
   "execution_count": 12,
   "metadata": {},
   "outputs": [
    {
     "name": "stdout",
     "output_type": "stream",
     "text": [
      "Name: edges_dimer_not_in_tetra\n",
      "Type: Graph\n",
      "Number of nodes: 269\n",
      "Number of edges: 502\n",
      "Average degree:   3.7323\n",
      "=====================\n",
      "Name: edges_dimer_in_tetra\n",
      "Type: Graph\n",
      "Number of nodes: 352\n",
      "Number of edges: 2693\n",
      "Average degree:  15.3011\n"
     ]
    }
   ],
   "source": [
    "print(nx.info(dim_not_in_tetra))\n",
    "print('=====================')\n",
    "print(nx.info(dim_in_tetra))"
   ]
  },
  {
   "cell_type": "code",
   "execution_count": 13,
   "metadata": {},
   "outputs": [
    {
     "data": {
      "text/plain": [
       "[]"
      ]
     },
     "execution_count": 13,
     "metadata": {},
     "output_type": "execute_result"
    }
   ],
   "source": [
    "sorted([i for i in dim_not_in_tetra.nodes if i not in red_promedio2.nodes()])"
   ]
  },
  {
   "cell_type": "code",
   "execution_count": 14,
   "metadata": {},
   "outputs": [
    {
     "data": {
      "text/plain": [
       "['10',\n",
       " '103',\n",
       " '11',\n",
       " '12',\n",
       " '13',\n",
       " '146',\n",
       " '15',\n",
       " '152',\n",
       " '164',\n",
       " '165',\n",
       " '166',\n",
       " '167',\n",
       " '168',\n",
       " '170',\n",
       " '171',\n",
       " '177',\n",
       " '19',\n",
       " '2',\n",
       " '20',\n",
       " '202',\n",
       " '203',\n",
       " '209',\n",
       " '210',\n",
       " '211',\n",
       " '213',\n",
       " '215',\n",
       " '216',\n",
       " '219',\n",
       " '220',\n",
       " '223',\n",
       " '224',\n",
       " '225',\n",
       " '226',\n",
       " '227',\n",
       " '228',\n",
       " '229',\n",
       " '23',\n",
       " '230',\n",
       " '232',\n",
       " '239',\n",
       " '24',\n",
       " '240',\n",
       " '241',\n",
       " '242',\n",
       " '243',\n",
       " '246',\n",
       " '249',\n",
       " '25',\n",
       " '26',\n",
       " '28',\n",
       " '29',\n",
       " '290',\n",
       " '291',\n",
       " '294',\n",
       " '295',\n",
       " '3',\n",
       " '302',\n",
       " '303',\n",
       " '32',\n",
       " '328',\n",
       " '334',\n",
       " '343',\n",
       " '345',\n",
       " '346',\n",
       " '350',\n",
       " '351',\n",
       " '352',\n",
       " '360',\n",
       " '362',\n",
       " '363',\n",
       " '366',\n",
       " '368',\n",
       " '369',\n",
       " '370',\n",
       " '371',\n",
       " '372',\n",
       " '377',\n",
       " '52',\n",
       " '59',\n",
       " '64',\n",
       " '9',\n",
       " '95',\n",
       " '96']"
      ]
     },
     "execution_count": 14,
     "metadata": {},
     "output_type": "execute_result"
    }
   ],
   "source": [
    "# residuos que si estan en el tetramero y NO en la subred de enlaces que no estan en el tetramero\n",
    "sorted([i for i in dim_in_tetra.nodes if i not in dim_not_in_tetra.nodes])"
   ]
  },
  {
   "cell_type": "code",
   "execution_count": 15,
   "metadata": {},
   "outputs": [
    {
     "data": {
      "text/plain": [
       "0"
      ]
     },
     "execution_count": 15,
     "metadata": {},
     "output_type": "execute_result"
    }
   ],
   "source": [
    "# residuos que si estan en el tetramero y NO en el dimero\n",
    "len(sorted([i for i in dim_not_in_tetra.nodes if i not in dim_in_tetra.nodes]))"
   ]
  },
  {
   "cell_type": "code",
   "execution_count": null,
   "metadata": {},
   "outputs": [],
   "source": []
  }
 ],
 "metadata": {
  "kernelspec": {
   "display_name": "Python 3",
   "language": "python",
   "name": "python3"
  },
  "language_info": {
   "codemirror_mode": {
    "name": "ipython",
    "version": 3
   },
   "file_extension": ".py",
   "mimetype": "text/x-python",
   "name": "python",
   "nbconvert_exporter": "python",
   "pygments_lexer": "ipython3",
   "version": "3.6.6"
  }
 },
 "nbformat": 4,
 "nbformat_minor": 2
}
