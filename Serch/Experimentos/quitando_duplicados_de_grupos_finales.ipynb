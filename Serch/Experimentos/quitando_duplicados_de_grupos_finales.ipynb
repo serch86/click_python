{
 "cells": [
  {
   "cell_type": "code",
   "execution_count": 1,
   "metadata": {},
   "outputs": [
    {
     "name": "stdout",
     "output_type": "stream",
     "text": [
      "numero de cliques maximos encontrados: 14\n",
      "numero de cliques maximos encontrados: 13\n",
      "numero de cliques maximales combinaciones 182\n",
      "numero de candidatos despues de filtro dihedral 2\n",
      "[[[110, 109, 108, 106, 107, 112, 111], [106, 105, 109, 111, 107, 108, 110]], [[110, 109, 108, 106, 107, 105, 111], [106, 105, 109, 111, 107, 108, 110]]]\n"
     ]
    }
   ],
   "source": [
    "#!/usr/bin/env python\n",
    "\n",
    "# librerias que utilizaras\n",
    "import numpy as np\n",
    "# por si no te lee las tools o functions creadas\n",
    "import sys\n",
    "sys.path.append(\"/home/serch/pdbmani/Serch/math_tricks/\")\n",
    "sys.path.append(\"/home/serch/pdbmani/Serch/\")\n",
    "import math_vect_tools as mymath\n",
    "# herramientas para leer pdbs\n",
    "import read_pdb_tools as rpt\n",
    "# funciones de click generadas en pandas\n",
    "import funciones_CLICK as fc\n",
    "# cuenta tiempo de ejecucion\n",
    "import datetime\n",
    "time_all = datetime.datetime.now()\n",
    "# networks\n",
    "import networkx as nx\n",
    "# # filtro distancia minima\n",
    "# from scipy.spatial.distance import euclidean\n",
    "# por si no jala\n",
    "import os\n",
    "os.chdir('/home/serch/pdbmani/Serch')\n",
    "# multiprocessing\n",
    "# import multiprocessing\n",
    "# from functools import partial\n",
    "\n",
    "# lectura de archivo\n",
    "file1 = '/home/serch/pdbmani/Serch/pdbs/1xxa_clean.pdb'  # sys.argv[1]\n",
    "file2 = '/home/serch/pdbmani/Serch/pdbs/1tig_clean.pdb'  # sys.argv[2]\n",
    "# file1 = 'pdbs/2mhu.pdb'  # sys.argv[1]\n",
    "# file2 = 'pdbs/2mrt.pdb'  # sys.argv[2]\n",
    "\n",
    "# numero de cliques, preguntar en el software para generalizarlo INPUT...\n",
    "number_elements_clique = 3\n",
    "\n",
    "# se define la estructura\n",
    "pdb1 = rpt.PdbStruct(file1)\n",
    "pdb2 = rpt.PdbStruct(file2)\n",
    "\n",
    "# se lee el pdb y se agrega al objeto\n",
    "pdb1.AddPdbData(\"%s\" % file1)\n",
    "pdb2.AddPdbData(\"%s\" % file2)\n",
    "\n",
    "#filtro SS\n",
    "pdb1.Set_SS()\n",
    "pdb2.Set_SS()\n",
    "\n",
    "# filtro dihedral\n",
    "pdb1.SetDiheMain()\n",
    "pdb2.SetDiheMain()\n",
    "\n",
    "# se obtienen los residuos que perteneces a la cadena de interes por default chain = 'A'\n",
    "pdb11 = pdb1.GetResChain()\n",
    "pdb22 = pdb2.GetResChain()\n",
    "\n",
    "# creando tabla de estructura secundaria para filtro de SS\n",
    "ss1 = fc.create_ss_table(pdb11)\n",
    "ss2 = fc.create_ss_table(pdb22)\n",
    "\n",
    "\n",
    "def get_df_distancias(ref):\n",
    "    \"\"\"Funcion para obtener los enlaces de distancias de cada residuo\n",
    "    Dudas en codigo pueden revisar fc.distancia_entre_atomos en ese se basa\n",
    "    esta funcion, la diferencia es que se crea con el objeto residuo\"\"\"\n",
    "    # se generan listas con coordenadas y numero de atomo\n",
    "\n",
    "    # calcula distancia y regresa dataframe\n",
    "    enlaces = []\n",
    "    for res1 in ref[1:30]:  # ref[1:-1]\n",
    "        for res2 in ref[1:40]:  # ref[1:-1]\n",
    "            if res2.resi >= res1.resi:\n",
    "                if mymath.distance(res2.GetAtom('CA').coord, res1.GetAtom('CA').coord) < 10:\n",
    "                    enlaces.append([res1.resi, res2.resi])\n",
    "\n",
    "    # se genera la matriz de adyacencias para la red\n",
    "    return enlaces\n",
    "\n",
    "\n",
    "enlaces1 = (get_df_distancias(pdb11))\n",
    "enlaces2 = (get_df_distancias(pdb22))\n",
    "\n",
    "red1 = (nx.Graph(enlaces1))\n",
    "red2 = (nx.Graph(enlaces2))\n",
    "\n",
    "cliques_1, cliques_max_1 = fc.gen_cliques(red1, k=7)\n",
    "cliques_2, cliques_max_2 = fc.gen_cliques(red2, k=7)\n",
    "\n",
    "lenght_cliquemax_1 = len(cliques_max_1)\n",
    "lenght_cliquemax_2 = len(cliques_max_2)\n",
    "\n",
    "print(\"numero de cliques maximales combinaciones\", lenght_cliquemax_1 * lenght_cliquemax_2)\n",
    "\n",
    "\n",
    "def eval_dihedral(ang_ref, ang_tar, cutoff=30):\n",
    "    \"\"\"\n",
    "    Evaluacion de los angulo dihedrales, manteniendo aquellos que presentan un cierto cutoff.\n",
    "    :param ang_ref: angulo phi o psi\n",
    "    :param ang_tar: angulo phi o psi\n",
    "    :return: flag (1 o 0)\n",
    "    \"\"\"\n",
    "    if ang_ref * ang_tar > 0:\n",
    "        if abs(ang_ref - ang_tar) < cutoff:\n",
    "            return 1\n",
    "    elif ang_ref < 0:\n",
    "        ang_ref = 360 - ang_ref\n",
    "    elif ang_tar < 0:\n",
    "        ang_tar = 360 - ang_tar\n",
    "\n",
    "    if abs(ang_ref - ang_tar) < cutoff:\n",
    "            return 1\n",
    "\n",
    "    return 0\n",
    "\n",
    "###############\n",
    "# Alineamiento#\n",
    "###############\n",
    "list_candidates = []\n",
    "for clique1 in cliques_max_1:\n",
    "    res_clq_1 = [pdb1.GetRes(j) for j in clique1]\n",
    "    for clique2 in cliques_max_2:\n",
    "        res_clq_2 = [pdb2.GetRes(j) for j in clique2]\n",
    "\n",
    "        # Filtro PHI PSI\n",
    "        val_vec = []\n",
    "        for res1 in res_clq_1:\n",
    "            phi_ref = res1.phi\n",
    "            psi_ref = res1.psi\n",
    "            val = 0\n",
    "            for res2 in res_clq_2:\n",
    "                phi_tar = res2.phi\n",
    "                psi_tar = res2.psi\n",
    "                if eval_dihedral(phi_ref, phi_tar, cutoff=10) and (\n",
    "                        eval_dihedral(psi_ref, psi_tar, cutoff=10)):\n",
    "                    val = val + 1\n",
    "            val_vec.append(val)\n",
    "        if val_vec.count(0) < 1:\n",
    "            # debugg de vector de angulos dihedrales\n",
    "            list_candidates.append([clique1, clique2])\n",
    "\n",
    "\n",
    "# list_candidates = [[110, 109, 106, 105, 107, 108, 111], [137, 139, 138, 140, 141, 143, 142]]\n",
    "# # numero de candidatos y parejas generadas.\n",
    "# print(list_candidates)\n",
    "print(\"numero de candidatos despues de filtro dihedral\", len(list_candidates))\n",
    "print(list_candidates)\n",
    "\n",
    "# Filtro score Estructura Secundaria\n",
    "def score_ss(clq1, clq2):\n",
    "    flag = 1\n",
    "    for k in range(3):\n",
    "        res1 = clq1[k]\n",
    "        res2 = clq2[k]\n",
    "        if fc.SSM(res1.ss, res2.ss) == 2:\n",
    "            flag = 0\n",
    "            break\n",
    "\n",
    "    return flag\n",
    "\n",
    "\n",
    "# Rotacion y traslacion\n",
    "def matrix_R(vecs_c_1, vecs_c_2):\n",
    "\n",
    "    number_of_atoms = vecs_c_1.shape[0]\n",
    "\n",
    "    def R_ij(i, j):\n",
    "        \"\"\"\n",
    "        Funcion que calcula el valor de R_ij basado en Using quaternions to calculate RMSD\n",
    "        :float i  Coordenada (0=x,y=1,z=2):\n",
    "        :float j Coordenada (0=x,y=1,z=2):\n",
    "        :return : valor R_ij\n",
    "        \"\"\"\n",
    "        valor = sum([vecs_c_1[k, i] * vecs_c_2[k, j] for k in range(number_of_atoms)])\n",
    "        return valor\n",
    "\n",
    "    \"\"\"cliques a comparar: i,j\n",
    "    desde aqui se itera sobre cada i y hay que variar los vectores\n",
    "    coordenada\n",
    "    Regresa la matriz gigante \n",
    "    (matriz simetrica del articulo Using quaternions to calculate RMSD!!!!)\"\"\"\n",
    "\n",
    "    # primer renglon\n",
    "    R11R22R33 = (R_ij(0, 0) + R_ij(1, 1) + R_ij(2, 2))\n",
    "    R23_R32 = (R_ij(1, 2) - R_ij(2, 1))\n",
    "    R31_R13 = (R_ij(2, 0) - R_ij(0, 2))\n",
    "    R12_R21 = (R_ij(0, 1) - R_ij(1, 0))\n",
    "    # segundo renglon\n",
    "    R11_R22_R33 = (R_ij(0, 0) - R_ij(1, 1) - R_ij(2, 2))\n",
    "    R12R21 = (R_ij(0, 1) + R_ij(1, 0))\n",
    "    R13R31 = (R_ij(0, 2) + R_ij(2, 0))\n",
    "    # tercer renglon\n",
    "    _R11R22_R33 = (-R_ij(0, 0) + R_ij(1, 1) - R_ij(2, 2))\n",
    "    R23R32 = (R_ij(1, 2) + R_ij(2, 1))\n",
    "    # cuarto renglon\n",
    "    _R11_R22R33 = (-R_ij(0, 0) - R_ij(1, 1) + R_ij(2, 2))\n",
    "\n",
    "    matriz_R = [\n",
    "        [R11R22R33, R23_R32, R31_R13, R12_R21],\n",
    "        [R23_R32, R11_R22_R33, R12R21, R13R31],\n",
    "        [R31_R13, R12R21, _R11R22_R33, R23R32],\n",
    "        [R12_R21, R13R31, R23R32, _R11_R22R33]\n",
    "    ]\n",
    "    return (np.array(matriz_R))\n",
    "\n",
    "\n",
    "# Metodoo de quaterniones\n",
    "def rotation_matrix(matriz_R):\n",
    "    \"\"\"utilizando la funcion giant_matrix, fijando los valores de i,j\n",
    "    se calcula la matriz de rotacion con los eigenvectores y eigenvalores\n",
    "    arroja una matriz de rotacion que depende de la matriz gigante\n",
    "    \"\"\"\n",
    "    eignvalues, eigenvectors = np.linalg.eig(matriz_R)\n",
    "    q = eigenvectors[:, np.argmax(eignvalues)]\n",
    "\n",
    "    # matriz de rotacion con eigenvectores forma USING QUATERNIONS TO CALCULATE RMSD\n",
    "    q0, q1, q2, q3 = q[0], q[1], q[2], q[3]\n",
    "    matriz_rotacion = np.array([\n",
    "        [(q0 ** 2 + q1 ** 2 - q2 ** 2 - q3 ** 2), 2 * (q1 * q2 - q0 * q3), 2 * (q1 * q3 + q0 * q2)],\n",
    "        [2 * (q1 * q2 + q0 * q3), (q0 ** 2 - q1 ** 2 + q2 ** 2 - q3 ** 2), 2 * (q2 * q3 - q0 * q1)],\n",
    "        [2 * (q1 * q3 - q0 * q2), 2 * (q2 * q3 + q0 * q1), (q0 ** 2 - q1 ** 2 - q2 ** 2 + q3 ** 2)]\n",
    "    ], dtype=np.float64)\n",
    "\n",
    "    return (matriz_rotacion)\n",
    "\n",
    "\n",
    "# aplicacion de matriz de rotacion\n",
    "def rotation_vectors(vector_gorro, matriz_rotacion):\n",
    "    \"\"\"obtencion de vector rotado,\n",
    "    utilizando la matriz de rotacion\n",
    "    y los vectores gorro a rotar y trasladar\"\"\"\n",
    "    coord_rotado = np.array([np.matmul(matriz_rotacion, coord_atom) for coord_atom in vector_gorro])\n",
    "\n",
    "    return coord_rotado\n",
    "\n",
    "\n",
    "# calculo de RMSD\n",
    "def rmsd_between_cliques(clique_trasladado_rotado, atom_to_compare):\n",
    "    \"\"\"Calculo de rmsd entre cliques tomando el atomo rotado y trasladado\n",
    "    y el atomo a comparar\"\"\"\n",
    "\n",
    "    dim_coord = clique_trasladado_rotado.shape[1]\n",
    "    N = clique_trasladado_rotado.shape[0]\n",
    "\n",
    "    result = 0.0\n",
    "    for v, w in zip(atom_to_compare, clique_trasladado_rotado):\n",
    "        result += sum([(v[i] - w[i]) ** 2.0 for i in range(dim_coord)])\n",
    "\n",
    "    rmsd_final = np.sqrt(result / N)\n",
    "\n",
    "    return (rmsd_final)\n",
    "\n",
    "\n",
    "# CHECK DE ALINEAMINETO\n",
    "def align(c_1, c_2, number_elements_clique = None):\n",
    "\n",
    "    bari_1 = c_1.mean(0)\n",
    "    bari_2 = c_2.mean(0)\n",
    "\n",
    "    vecs_center_1 = c_1 - bari_1\n",
    "    vecs_center_2 = c_2 - bari_2\n",
    "\n",
    "    matriz_R = matrix_R(vecs_center_1, vecs_center_2)\n",
    "    matriz_rotacion = rotation_matrix(matriz_R)\n",
    "\n",
    "    vector_rotado = rotation_vectors(vecs_center_1, matriz_rotacion)\n",
    "\n",
    "    protein_trasladado_rotado = vector_rotado + bari_2\n",
    "\n",
    "    protein_to_compare = c_2\n",
    "\n",
    "    # TE PUEDES AHORRAR EL PASO DE TRASLADAR SI CALCULAS EN LOS VECTORES CENTRICOS.\n",
    "    rmsd_final = rmsd_between_cliques(protein_trasladado_rotado, protein_to_compare)\n",
    "\n",
    "    if number_elements_clique == 7:\n",
    "        return rmsd_final, matriz_rotacion\n",
    "\n",
    "    return rmsd_final"
   ]
  },
  {
   "cell_type": "code",
   "execution_count": 2,
   "metadata": {},
   "outputs": [],
   "source": [
    "\n",
    "# GENERACION DE CLIQUES DE LA LISTA DE CLIQUES MAXIMALES APLICANDO FILTRO DIHEDRAL\n",
    "cliques_1_temp = []\n",
    "for clique1 in list_candidates:\n",
    "    list_candidate = fc.gen_cliques_3(clique1[0])\n",
    "    if list_candidate not in cliques_1_temp:\n",
    "        cliques_1_temp.append(list_candidate)\n",
    "        # print(cliques_1_temp)\n",
    "\n",
    "cliques_2_temp = []\n",
    "for clique2 in list_candidates:\n",
    "    list_candidate = fc.gen_cliques_3(clique2[1])\n",
    "    if list_candidate not in cliques_2_temp:\n",
    "        cliques_2_temp.append(list_candidate)\n",
    "        # print(cliques_2_temp)\n",
    "\n",
    "\n",
    "def iter_align(number_elements_clique, cliques_1_align, cliques_2_align):\n",
    "\n",
    "    \"\"\"\n",
    "    :int number_elements_clique: elementos del clique\n",
    "    :tuple cliques_1_align: lista de cliques a alinear de la proteina A\n",
    "    :tuple cliques_2_align: lista de cliques a alinear de la proteina B\n",
    "    :return: cliques_candidate lista de cliques candidatos\n",
    "    \"\"\"\n",
    "\n",
    "    restriccion_rmsd = 0.15\n",
    "    if number_elements_clique == 4:\n",
    "        restriccion_rmsd = 0.30\n",
    "    if number_elements_clique == 5:\n",
    "        restriccion_rmsd = 0.60\n",
    "    if number_elements_clique == 6:\n",
    "        restriccion_rmsd = 0.90\n",
    "    if number_elements_clique == 7:\n",
    "        restriccion_rmsd = 1.50\n",
    "    if number_elements_clique == 8:\n",
    "        restriccion_rmsd = 1.80\n",
    "\n",
    "    cliques_candidate = []\n",
    "\n",
    "    if number_elements_clique == 3:\n",
    "        for pareja in zip(cliques_1_align, cliques_2_align):\n",
    "            for clique1 in pareja[0]:\n",
    "                res_clq_1 = [pdb1.GetRes(clq) for clq in clique1]\n",
    "                for clique2 in pareja[1]:\n",
    "                    res_clq_2 = [pdb2.GetRes(clq) for clq in clique2]\n",
    "                    if score_ss(res_clq_1, res_clq_2):\n",
    "                        coord_1 = np.array([res.GetAtom('CA').coord for res in res_clq_1])\n",
    "                        coord_2 = np.array([res.GetAtom('CA').coord for res in res_clq_2])\n",
    "                        if align(coord_1, coord_2) < restriccion_rmsd:\n",
    "                            cliques_candidate.append([clique1, clique2])\n",
    "\n",
    "    else:\n",
    "        for clique1 in cliques_1_align:\n",
    "            res_clq_1 = [pdb1.GetRes(clq) for clq in clique1]\n",
    "            for clique2 in cliques_2_align:\n",
    "                res_clq_2 = [pdb2.GetRes(clq) for clq in clique2]\n",
    "                if score_ss(res_clq_1, res_clq_2):\n",
    "                    coord_1 = np.array([res.GetAtom('CA').coord for res in res_clq_1])\n",
    "                    coord_2 = np.array([res.GetAtom('CA').coord for res in res_clq_2])\n",
    "                    if number_elements_clique == 7:\n",
    "                        rmsd, mat_rot = align(coord_1, coord_2, number_elements_clique=number_elements_clique)\n",
    "                        if rmsd < restriccion_rmsd:\n",
    "                            cliques_candidate.append([clique1, clique2, mat_rot])\n",
    "\n",
    "                    else:\n",
    "                        if align(coord_1, coord_2) < restriccion_rmsd:\n",
    "                            cliques_candidate.append([clique1, clique2])\n",
    "\n",
    "    return cliques_candidate\n"
   ]
  },
  {
   "cell_type": "code",
   "execution_count": 3,
   "metadata": {},
   "outputs": [
    {
     "name": "stdout",
     "output_type": "stream",
     "text": [
      "================ alineamiento de 3-clique y agrego el 4 elemento ===================\n"
     ]
    }
   ],
   "source": [
    "print('================ alineamiento de 3-clique y agrego el 4 elemento ===================')\n",
    "\n",
    "new_df_cliques1 = cliques_1_temp\n",
    "new_df_cliques2 = cliques_2_temp\n",
    "\n",
    "cliques_candidatos = iter_align(number_elements_clique, new_df_cliques1, new_df_cliques2)\n",
    "\n",
    "new_df_cliques = fc.add_element_to_clique(cliques_candidatos, cliques_max_1, cliques_max_2)\n",
    "\n",
    "number_elements_clique = number_elements_clique + 1\n",
    "\n",
    "\n",
    "# print(cliques_candidatos[:5])\n",
    "# print(new_df_cliques[:5])\n",
    "\n",
    "# print(\"candidatos con n-cliques, n =\", number_elements_clique-1,\n",
    "#       \"numero de parejas\", len(cliques_candidatos))\n",
    "\n",
    "# print(number_elements_clique, len(new_df_cliques))"
   ]
  },
  {
   "cell_type": "code",
   "execution_count": 4,
   "metadata": {},
   "outputs": [
    {
     "data": {
      "text/plain": [
       "[[110, 109, 108], [105, 106, 107]]"
      ]
     },
     "execution_count": 4,
     "metadata": {},
     "output_type": "execute_result"
    }
   ],
   "source": [
    "cliques_candidatos[0]"
   ]
  },
  {
   "cell_type": "code",
   "execution_count": 5,
   "metadata": {},
   "outputs": [
    {
     "data": {
      "text/plain": [
       "[[[110, 109, 108, 112],\n",
       "  [110, 109, 108, 106],\n",
       "  [110, 109, 108, 107],\n",
       "  [110, 109, 108, 111],\n",
       "  [110, 109, 108, 104],\n",
       "  [110, 109, 108, 105]],\n",
       " [[105, 106, 107, 104],\n",
       "  [105, 106, 107, 108],\n",
       "  [105, 106, 107, 102],\n",
       "  [105, 106, 107, 103],\n",
       "  [105, 106, 107, 116],\n",
       "  [105, 106, 107, 109],\n",
       "  [105, 106, 107, 110],\n",
       "  [105, 106, 107, 111]]]"
      ]
     },
     "execution_count": 5,
     "metadata": {},
     "output_type": "execute_result"
    }
   ],
   "source": [
    "new_df_cliques[0]"
   ]
  },
  {
   "cell_type": "code",
   "execution_count": 6,
   "metadata": {},
   "outputs": [
    {
     "data": {
      "text/plain": [
       "[[111, 112, 106], [110, 111, 105]]"
      ]
     },
     "execution_count": 6,
     "metadata": {},
     "output_type": "execute_result"
    }
   ],
   "source": [
    "cliques_candidatos[-1]"
   ]
  },
  {
   "cell_type": "code",
   "execution_count": 7,
   "metadata": {},
   "outputs": [
    {
     "data": {
      "text/plain": [
       "[[[111, 112, 106, 107],\n",
       "  [111, 112, 106, 108],\n",
       "  [111, 112, 106, 109],\n",
       "  [111, 112, 106, 110]],\n",
       " [[110, 111, 105, 106],\n",
       "  [110, 111, 105, 107],\n",
       "  [110, 111, 105, 108],\n",
       "  [110, 111, 105, 109]]]"
      ]
     },
     "execution_count": 7,
     "metadata": {},
     "output_type": "execute_result"
    }
   ],
   "source": [
    "new_df_cliques[-1]"
   ]
  },
  {
   "cell_type": "code",
   "execution_count": 8,
   "metadata": {},
   "outputs": [
    {
     "name": "stdout",
     "output_type": "stream",
     "text": [
      "==================ya acabo con 3-cliques va con 4=========================\n",
      "[[[[110, 109, 108, 106], [105, 106, 107, 109]], [[110, 109, 108, 107], [105, 106, 107, 108]], [[110, 109, 108, 111], [105, 106, 107, 104]], [[110, 109, 108, 104], [105, 106, 107, 111]], [[110, 109, 108, 105], [105, 106, 107, 110]]], [[[110, 109, 108, 106], [107, 106, 105, 103]], [[110, 109, 108, 107], [107, 106, 105, 104]], [[110, 109, 108, 111], [107, 106, 105, 108]], [[110, 109, 108, 105], [107, 106, 105, 102]]], [[[110, 109, 108, 106], [106, 107, 108, 110]], [[110, 109, 108, 107], [106, 107, 108, 109]], [[110, 109, 108, 111], [106, 107, 108, 105]], [[110, 109, 108, 104], [106, 107, 108, 112]], [[110, 109, 108, 105], [106, 107, 108, 111]]], [[[110, 109, 108, 106], [108, 107, 106, 104]], [[110, 109, 108, 107], [108, 107, 106, 105]], [[110, 109, 108, 111], [108, 107, 106, 109]], [[110, 109, 108, 104], [108, 107, 106, 102]], [[110, 109, 108, 105], [108, 107, 106, 103]]], [[[110, 109, 108, 107], [109, 110, 111, 112]], [[110, 109, 108, 111], [109, 110, 111, 108]]]]\n",
      "600\n",
      "[[[[[110, 109, 108, 106, 112], [110, 109, 108, 106, 107], [110, 109, 108, 106, 111], [110, 109, 108, 106, 104], [110, 109, 108, 106, 105]], [[105, 106, 107, 109, 116], [105, 106, 107, 109, 108], [105, 106, 107, 109, 110], [105, 106, 107, 109, 111]]], [[[110, 109, 108, 107, 112], [110, 109, 108, 107, 106], [110, 109, 108, 107, 111], [110, 109, 108, 107, 104], [110, 109, 108, 107, 105]], [[105, 106, 107, 108, 104], [105, 106, 107, 108, 102], [105, 106, 107, 108, 103], [105, 106, 107, 108, 116], [105, 106, 107, 108, 109], [105, 106, 107, 108, 110], [105, 106, 107, 108, 111]]], [[[110, 109, 108, 111, 112], [110, 109, 108, 111, 106], [110, 109, 108, 111, 107], [110, 109, 108, 111, 105]], [[105, 106, 107, 104, 108], [105, 106, 107, 104, 102], [105, 106, 107, 104, 103]]], [[[110, 109, 108, 104, 105], [110, 109, 108, 104, 106], [110, 109, 108, 104, 107]], [[105, 106, 107, 111, 108], [105, 106, 107, 111, 109], [105, 106, 107, 111, 110]]], [[[110, 109, 108, 105, 104], [110, 109, 108, 105, 106], [110, 109, 108, 105, 107], [110, 109, 108, 105, 111]], [[105, 106, 107, 110, 116], [105, 106, 107, 110, 108], [105, 106, 107, 110, 109], [105, 106, 107, 110, 111]]]], [[[[110, 109, 108, 106, 112], [110, 109, 108, 106, 107], [110, 109, 108, 106, 111], [110, 109, 108, 106, 104], [110, 109, 108, 106, 105]], [[107, 106, 105, 103, 104], [107, 106, 105, 103, 108], [107, 106, 105, 103, 102]]], [[[110, 109, 108, 107, 112], [110, 109, 108, 107, 106], [110, 109, 108, 107, 111], [110, 109, 108, 107, 104], [110, 109, 108, 107, 105]], [[107, 106, 105, 104, 108], [107, 106, 105, 104, 102], [107, 106, 105, 104, 103]]], [[[110, 109, 108, 111, 112], [110, 109, 108, 111, 106], [110, 109, 108, 111, 107], [110, 109, 108, 111, 105]], [[107, 106, 105, 108, 104], [107, 106, 105, 108, 102], [107, 106, 105, 108, 103], [107, 106, 105, 108, 116], [107, 106, 105, 108, 109], [107, 106, 105, 108, 110], [107, 106, 105, 108, 111]]], [[[110, 109, 108, 105, 104], [110, 109, 108, 105, 106], [110, 109, 108, 105, 107], [110, 109, 108, 105, 111]], [[107, 106, 105, 102, 104], [107, 106, 105, 102, 108], [107, 106, 105, 102, 103]]]], [[[[110, 109, 108, 106, 112], [110, 109, 108, 106, 107], [110, 109, 108, 106, 111], [110, 109, 108, 106, 104], [110, 109, 108, 106, 105]], [[106, 107, 108, 110, 105], [106, 107, 108, 110, 116], [106, 107, 108, 110, 109], [106, 107, 108, 110, 111], [106, 107, 108, 110, 112], [106, 107, 108, 110, 114]]], [[[110, 109, 108, 107, 112], [110, 109, 108, 107, 106], [110, 109, 108, 107, 111], [110, 109, 108, 107, 104], [110, 109, 108, 107, 105]], [[106, 107, 108, 109, 105], [106, 107, 108, 109, 116], [106, 107, 108, 109, 110], [106, 107, 108, 109, 111], [106, 107, 108, 109, 112], [106, 107, 108, 109, 114]]], [[[110, 109, 108, 111, 112], [110, 109, 108, 111, 106], [110, 109, 108, 111, 107], [110, 109, 108, 111, 105]], [[106, 107, 108, 105, 104], [106, 107, 108, 105, 102], [106, 107, 108, 105, 103], [106, 107, 108, 105, 116], [106, 107, 108, 105, 109], [106, 107, 108, 105, 110], [106, 107, 108, 105, 111]]], [[[110, 109, 108, 104, 105], [110, 109, 108, 104, 106], [110, 109, 108, 104, 107]], [[106, 107, 108, 112, 114], [106, 107, 108, 112, 109], [106, 107, 108, 112, 110], [106, 107, 108, 112, 111]]], [[[110, 109, 108, 105, 104], [110, 109, 108, 105, 106], [110, 109, 108, 105, 107], [110, 109, 108, 105, 111]], [[106, 107, 108, 111, 105], [106, 107, 108, 111, 109], [106, 107, 108, 111, 110], [106, 107, 108, 111, 112], [106, 107, 108, 111, 114]]]], [[[[110, 109, 108, 106, 112], [110, 109, 108, 106, 107], [110, 109, 108, 106, 111], [110, 109, 108, 106, 104], [110, 109, 108, 106, 105]], [[108, 107, 106, 104, 105], [108, 107, 106, 104, 102], [108, 107, 106, 104, 103]]], [[[110, 109, 108, 107, 112], [110, 109, 108, 107, 106], [110, 109, 108, 107, 111], [110, 109, 108, 107, 104], [110, 109, 108, 107, 105]], [[108, 107, 106, 105, 104], [108, 107, 106, 105, 102], [108, 107, 106, 105, 103], [108, 107, 106, 105, 116], [108, 107, 106, 105, 109], [108, 107, 106, 105, 110], [108, 107, 106, 105, 111]]], [[[110, 109, 108, 111, 112], [110, 109, 108, 111, 106], [110, 109, 108, 111, 107], [110, 109, 108, 111, 105]], [[108, 107, 106, 109, 105], [108, 107, 106, 109, 116], [108, 107, 106, 109, 110], [108, 107, 106, 109, 111], [108, 107, 106, 109, 112], [108, 107, 106, 109, 114]]], [[[110, 109, 108, 104, 105], [110, 109, 108, 104, 106], [110, 109, 108, 104, 107]], [[108, 107, 106, 102, 104], [108, 107, 106, 102, 105], [108, 107, 106, 102, 103]]], [[[110, 109, 108, 105, 104], [110, 109, 108, 105, 106], [110, 109, 108, 105, 107], [110, 109, 108, 105, 111]], [[108, 107, 106, 103, 104], [108, 107, 106, 103, 105], [108, 107, 106, 103, 102]]]], [[[[110, 109, 108, 107, 112], [110, 109, 108, 107, 106], [110, 109, 108, 107, 111], [110, 109, 108, 107, 104], [110, 109, 108, 107, 105]], [[109, 110, 111, 112, 106], [109, 110, 111, 112, 107], [109, 110, 111, 112, 108], [109, 110, 111, 112, 114], [109, 110, 111, 112, 115], [109, 110, 111, 112, 113]]], [[[110, 109, 108, 111, 112], [110, 109, 108, 111, 106], [110, 109, 108, 111, 107], [110, 109, 108, 111, 105]], [[109, 110, 111, 108, 105], [109, 110, 111, 108, 106], [109, 110, 111, 108, 107], [109, 110, 111, 108, 112], [109, 110, 111, 108, 114], [109, 110, 111, 108, 113]]]]]\n",
      "600\n"
     ]
    }
   ],
   "source": [
    "print('==================ya acabo con 3-cliques va con 4=========================')\n",
    "cliques_temp = []\n",
    "cliques_temp_add = []\n",
    "for parejas_4clique in new_df_cliques:\n",
    "\n",
    "    new_df_cliques1 = parejas_4clique[0]\n",
    "    new_df_cliques2 = parejas_4clique[1]\n",
    "\n",
    "    cliques_candidatos = iter_align(number_elements_clique, new_df_cliques1, new_df_cliques2)\n",
    "\n",
    "    if cliques_candidatos != []:\n",
    "        cliques_temp.append(cliques_candidatos)\n",
    "        cliques_temp_add.append(fc.add_element_to_clique(cliques_candidatos, cliques_max_1, cliques_max_2))\n",
    "\n",
    "number_elements_clique = number_elements_clique + 1\n",
    "print(cliques_temp[:5])\n",
    "print(len(cliques_temp))\n",
    "\n",
    "print(cliques_temp_add[:5])\n",
    "print(len(cliques_temp_add))"
   ]
  },
  {
   "cell_type": "code",
   "execution_count": 9,
   "metadata": {},
   "outputs": [
    {
     "data": {
      "text/plain": [
       "[[110, 109, 108, 106], [105, 106, 107, 109]]"
      ]
     },
     "execution_count": 9,
     "metadata": {},
     "output_type": "execute_result"
    }
   ],
   "source": [
    "cliques_temp[0][0]"
   ]
  },
  {
   "cell_type": "code",
   "execution_count": 10,
   "metadata": {},
   "outputs": [
    {
     "data": {
      "text/plain": [
       "[[[110, 109, 108, 106, 112],\n",
       "  [110, 109, 108, 106, 107],\n",
       "  [110, 109, 108, 106, 111],\n",
       "  [110, 109, 108, 106, 104],\n",
       "  [110, 109, 108, 106, 105]],\n",
       " [[105, 106, 107, 109, 116],\n",
       "  [105, 106, 107, 109, 108],\n",
       "  [105, 106, 107, 109, 110],\n",
       "  [105, 106, 107, 109, 111]]]"
      ]
     },
     "execution_count": 10,
     "metadata": {},
     "output_type": "execute_result"
    }
   ],
   "source": [
    "cliques_temp_add[0][0]"
   ]
  },
  {
   "cell_type": "code",
   "execution_count": 11,
   "metadata": {},
   "outputs": [
    {
     "data": {
      "text/plain": [
       "[[[110, 109, 108, 106, 112],\n",
       "  [110, 109, 108, 106, 107],\n",
       "  [110, 109, 108, 106, 111],\n",
       "  [110, 109, 108, 106, 104],\n",
       "  [110, 109, 108, 106, 105]],\n",
       " [[105, 106, 107, 109, 116],\n",
       "  [105, 106, 107, 109, 108],\n",
       "  [105, 106, 107, 109, 110],\n",
       "  [105, 106, 107, 109, 111]]]"
      ]
     },
     "execution_count": 11,
     "metadata": {},
     "output_type": "execute_result"
    }
   ],
   "source": [
    "cliques_temp_add[0][0]"
   ]
  },
  {
   "cell_type": "code",
   "execution_count": 12,
   "metadata": {},
   "outputs": [],
   "source": [
    "cliques_temp_add_0 = [y for x in cliques_temp_add for y in x]"
   ]
  },
  {
   "cell_type": "code",
   "execution_count": 13,
   "metadata": {},
   "outputs": [
    {
     "data": {
      "text/plain": [
       "[[[110, 109, 108, 106, 112],\n",
       "  [110, 109, 108, 106, 107],\n",
       "  [110, 109, 108, 106, 111],\n",
       "  [110, 109, 108, 106, 104],\n",
       "  [110, 109, 108, 106, 105]],\n",
       " [[105, 106, 107, 109, 116],\n",
       "  [105, 106, 107, 109, 108],\n",
       "  [105, 106, 107, 109, 110],\n",
       "  [105, 106, 107, 109, 111]]]"
      ]
     },
     "execution_count": 13,
     "metadata": {},
     "output_type": "execute_result"
    }
   ],
   "source": [
    "cliques_temp_add_0[0]"
   ]
  },
  {
   "cell_type": "code",
   "execution_count": 14,
   "metadata": {},
   "outputs": [
    {
     "name": "stdout",
     "output_type": "stream",
     "text": [
      "[[[[110, 109, 108, 106, 107], [105, 106, 107, 109, 108]], [[110, 109, 108, 106, 104], [105, 106, 107, 109, 111]], [[110, 109, 108, 106, 105], [105, 106, 107, 109, 110]]], [[[110, 109, 108, 107, 112], [105, 106, 107, 108, 103]], [[110, 109, 108, 107, 106], [105, 106, 107, 108, 109]], [[110, 109, 108, 107, 111], [105, 106, 107, 108, 104]], [[110, 109, 108, 107, 104], [105, 106, 107, 108, 111]], [[110, 109, 108, 107, 105], [105, 106, 107, 108, 110]]], [[[110, 109, 108, 111, 112], [105, 106, 107, 104, 103]], [[110, 109, 108, 111, 107], [105, 106, 107, 104, 108]]], [[[110, 109, 108, 104, 105], [105, 106, 107, 111, 110]], [[110, 109, 108, 104, 106], [105, 106, 107, 111, 109]], [[110, 109, 108, 104, 107], [105, 106, 107, 111, 108]]], [[[110, 109, 108, 105, 104], [105, 106, 107, 110, 111]], [[110, 109, 108, 105, 106], [105, 106, 107, 110, 109]], [[110, 109, 108, 105, 107], [105, 106, 107, 110, 108]]]]\n",
      "1800\n",
      "[[[[[110, 109, 108, 106, 107, 112], [110, 109, 108, 106, 107, 111], [110, 109, 108, 106, 107, 104], [110, 109, 108, 106, 107, 105]], [[105, 106, 107, 109, 108, 116], [105, 106, 107, 109, 108, 110], [105, 106, 107, 109, 108, 111]]], [[[110, 109, 108, 106, 104, 105], [110, 109, 108, 106, 104, 107]], [[105, 106, 107, 109, 111, 108], [105, 106, 107, 109, 111, 110]]], [[[110, 109, 108, 106, 105, 104], [110, 109, 108, 106, 105, 107], [110, 109, 108, 106, 105, 111]], [[105, 106, 107, 109, 110, 116], [105, 106, 107, 109, 110, 108], [105, 106, 107, 109, 110, 111]]]], [[[[110, 109, 108, 107, 112, 106], [110, 109, 108, 107, 112, 111]], [[105, 106, 107, 108, 103, 104], [105, 106, 107, 108, 103, 102]]], [[[110, 109, 108, 107, 106, 112], [110, 109, 108, 107, 106, 111], [110, 109, 108, 107, 106, 104], [110, 109, 108, 107, 106, 105]], [[105, 106, 107, 108, 109, 116], [105, 106, 107, 108, 109, 110], [105, 106, 107, 108, 109, 111]]], [[[110, 109, 108, 107, 111, 112], [110, 109, 108, 107, 111, 106], [110, 109, 108, 107, 111, 105]], [[105, 106, 107, 108, 104, 102], [105, 106, 107, 108, 104, 103]]], [[[110, 109, 108, 107, 104, 105], [110, 109, 108, 107, 104, 106]], [[105, 106, 107, 108, 111, 109], [105, 106, 107, 108, 111, 110]]], [[[110, 109, 108, 107, 105, 104], [110, 109, 108, 107, 105, 106], [110, 109, 108, 107, 105, 111]], [[105, 106, 107, 108, 110, 116], [105, 106, 107, 108, 110, 109], [105, 106, 107, 108, 110, 111]]]], [[[[110, 109, 108, 111, 112, 106], [110, 109, 108, 111, 112, 107]], [[105, 106, 107, 104, 103, 108], [105, 106, 107, 104, 103, 102]]], [[[110, 109, 108, 111, 107, 112], [110, 109, 108, 111, 107, 106], [110, 109, 108, 111, 107, 105]], [[105, 106, 107, 104, 108, 102], [105, 106, 107, 104, 108, 103]]]], [[[[110, 109, 108, 104, 105, 106], [110, 109, 108, 104, 105, 107]], [[105, 106, 107, 111, 110, 108], [105, 106, 107, 111, 110, 109]]], [[[110, 109, 108, 104, 106, 105], [110, 109, 108, 104, 106, 107]], [[105, 106, 107, 111, 109, 108], [105, 106, 107, 111, 109, 110]]], [[[110, 109, 108, 104, 107, 105], [110, 109, 108, 104, 107, 106]], [[105, 106, 107, 111, 108, 109], [105, 106, 107, 111, 108, 110]]]], [[[[110, 109, 108, 105, 104, 106], [110, 109, 108, 105, 104, 107]], [[105, 106, 107, 110, 111, 108], [105, 106, 107, 110, 111, 109]]], [[[110, 109, 108, 105, 106, 104], [110, 109, 108, 105, 106, 107], [110, 109, 108, 105, 106, 111]], [[105, 106, 107, 110, 109, 116], [105, 106, 107, 110, 109, 108], [105, 106, 107, 110, 109, 111]]], [[[110, 109, 108, 105, 107, 104], [110, 109, 108, 105, 107, 106], [110, 109, 108, 105, 107, 111]], [[105, 106, 107, 110, 108, 116], [105, 106, 107, 110, 108, 109], [105, 106, 107, 110, 108, 111]]]]]\n",
      "1800\n"
     ]
    }
   ],
   "source": [
    "cliques_temp1 = []\n",
    "cliques_temp1_add = []\n",
    "for parejas_5clique in cliques_temp_add_0:\n",
    "\n",
    "    new_df_cliques1 = parejas_5clique[0]\n",
    "    new_df_cliques2 = parejas_5clique[1]\n",
    "    cliques_candidatos = iter_align(number_elements_clique, new_df_cliques1, new_df_cliques2)\n",
    "\n",
    "    if cliques_candidatos != []:\n",
    "        cliques_temp1.append(cliques_candidatos)\n",
    "        cliques_temp1_add.append(fc.add_element_to_clique(cliques_candidatos, cliques_max_1, cliques_max_2))\n",
    "\n",
    "number_elements_clique = number_elements_clique + 1\n",
    "\n",
    "print(cliques_temp1[:5])\n",
    "print(len(cliques_temp1))\n",
    "\n",
    "print(cliques_temp1_add[:5])\n",
    "print(len(cliques_temp1_add))"
   ]
  },
  {
   "cell_type": "code",
   "execution_count": 15,
   "metadata": {},
   "outputs": [
    {
     "data": {
      "text/plain": [
       "[[[110, 109, 108, 106, 107], [105, 106, 107, 109, 108]],\n",
       " [[110, 109, 108, 106, 104], [105, 106, 107, 109, 111]],\n",
       " [[110, 109, 108, 106, 105], [105, 106, 107, 109, 110]]]"
      ]
     },
     "execution_count": 15,
     "metadata": {},
     "output_type": "execute_result"
    }
   ],
   "source": [
    "cliques_temp1[0]"
   ]
  },
  {
   "cell_type": "code",
   "execution_count": 16,
   "metadata": {},
   "outputs": [
    {
     "data": {
      "text/plain": [
       "[[[110, 109, 108, 106, 107, 112],\n",
       "  [110, 109, 108, 106, 107, 111],\n",
       "  [110, 109, 108, 106, 107, 104],\n",
       "  [110, 109, 108, 106, 107, 105]],\n",
       " [[105, 106, 107, 109, 108, 116],\n",
       "  [105, 106, 107, 109, 108, 110],\n",
       "  [105, 106, 107, 109, 108, 111]]]"
      ]
     },
     "execution_count": 16,
     "metadata": {},
     "output_type": "execute_result"
    }
   ],
   "source": [
    "cliques_temp1_add[0][0]"
   ]
  },
  {
   "cell_type": "code",
   "execution_count": 17,
   "metadata": {},
   "outputs": [
    {
     "name": "stdout",
     "output_type": "stream",
     "text": [
      "==================ya acabo con 5-cliques va con 6=========================\n",
      "[[[[110, 109, 108, 106, 107, 104], [105, 106, 107, 109, 108, 111]], [[110, 109, 108, 106, 107, 105], [105, 106, 107, 109, 108, 110]]], [[[110, 109, 108, 106, 104, 105], [105, 106, 107, 109, 111, 110]], [[110, 109, 108, 106, 104, 107], [105, 106, 107, 109, 111, 108]]], [[[110, 109, 108, 106, 105, 104], [105, 106, 107, 109, 110, 111]], [[110, 109, 108, 106, 105, 107], [105, 106, 107, 109, 110, 108]]], [[[110, 109, 108, 107, 112, 111], [105, 106, 107, 108, 103, 104]]], [[[110, 109, 108, 107, 106, 104], [105, 106, 107, 108, 109, 111]], [[110, 109, 108, 107, 106, 105], [105, 106, 107, 108, 109, 110]]]]\n",
      "6270\n",
      "[[[[[110, 109, 108, 106, 107, 104, 105]], [[105, 106, 107, 109, 108, 111, 110]]], [[[110, 109, 108, 106, 107, 105, 104], [110, 109, 108, 106, 107, 105, 111]], [[105, 106, 107, 109, 108, 110, 116], [105, 106, 107, 109, 108, 110, 111]]]], [[[[110, 109, 108, 106, 104, 105, 107]], [[105, 106, 107, 109, 111, 110, 108]]], [[[110, 109, 108, 106, 104, 107, 105]], [[105, 106, 107, 109, 111, 108, 110]]]], [[[[110, 109, 108, 106, 105, 104, 107]], [[105, 106, 107, 109, 110, 111, 108]]], [[[110, 109, 108, 106, 105, 107, 104], [110, 109, 108, 106, 105, 107, 111]], [[105, 106, 107, 109, 110, 108, 116], [105, 106, 107, 109, 110, 108, 111]]]], [[[[110, 109, 108, 107, 112, 111, 106]], [[105, 106, 107, 108, 103, 104, 102]]]], [[[[110, 109, 108, 107, 106, 104, 105]], [[105, 106, 107, 108, 109, 111, 110]]], [[[110, 109, 108, 107, 106, 105, 104], [110, 109, 108, 107, 106, 105, 111]], [[105, 106, 107, 108, 109, 110, 116], [105, 106, 107, 108, 109, 110, 111]]]]]\n",
      "6270\n"
     ]
    }
   ],
   "source": [
    "print('==================ya acabo con 5-cliques va con 6=========================')\n",
    "\n",
    "cliques_temp_add_11 = [y for x in cliques_temp1_add for y in x]\n",
    "\n",
    "cliques_temp2 = []\n",
    "cliques_temp2_add = []\n",
    "for parejas_6clique in cliques_temp_add_11:\n",
    "\n",
    "    new_df_cliques1 = parejas_6clique[0]\n",
    "    new_df_cliques2 = parejas_6clique[1]\n",
    "    cliques_candidatos = iter_align(number_elements_clique, new_df_cliques1, new_df_cliques2)\n",
    "\n",
    "    if cliques_candidatos != []:\n",
    "        cliques_temp2.append(cliques_candidatos)\n",
    "        cliques_temp2_add.append(fc.add_element_to_clique(cliques_candidatos, cliques_max_1, cliques_max_2))\n",
    "\n",
    "number_elements_clique = number_elements_clique + 1\n",
    "\n",
    "print(cliques_temp2[:5])\n",
    "print(len(cliques_temp2))\n",
    "\n",
    "print(cliques_temp2_add[:5])\n",
    "print(len(cliques_temp2_add))"
   ]
  },
  {
   "cell_type": "code",
   "execution_count": null,
   "metadata": {},
   "outputs": [],
   "source": [
    "cliques_temp_add_11[0]"
   ]
  },
  {
   "cell_type": "code",
   "execution_count": null,
   "metadata": {},
   "outputs": [],
   "source": [
    "cliques_temp2[0]"
   ]
  },
  {
   "cell_type": "code",
   "execution_count": null,
   "metadata": {},
   "outputs": [],
   "source": [
    "cliques_temp2_add[0][0]"
   ]
  },
  {
   "cell_type": "code",
   "execution_count": null,
   "metadata": {},
   "outputs": [],
   "source": [
    "cliques_temp2_add[0][1]"
   ]
  },
  {
   "cell_type": "code",
   "execution_count": 18,
   "metadata": {},
   "outputs": [
    {
     "name": "stdout",
     "output_type": "stream",
     "text": [
      "==================ya acabo con 6-cliques va con 7=========================\n"
     ]
    }
   ],
   "source": [
    "print('==================ya acabo con 6-cliques va con 7=========================')\n",
    "\n",
    "cliques_temp_add_22 = [y for x in cliques_temp2_add for y in x]\n",
    "\n",
    "cliques_temp3 = []\n",
    "\n",
    "for parejas_7clique in cliques_temp_add_22:\n",
    "\n",
    "    new_df_cliques1 = parejas_7clique[0]\n",
    "    new_df_cliques2 = parejas_7clique[1]\n",
    "    cliques_candidatos = iter_align(number_elements_clique, new_df_cliques1, new_df_cliques2)\n",
    "\n",
    "    if cliques_candidatos != []:\n",
    "        cliques_temp3.append(cliques_candidatos)"
   ]
  },
  {
   "cell_type": "code",
   "execution_count": null,
   "metadata": {},
   "outputs": [],
   "source": [
    "[(y[0],y[1]) for x in cliques_temp3 for y in x][:5]"
   ]
  },
  {
   "cell_type": "code",
   "execution_count": 9,
   "metadata": {},
   "outputs": [],
   "source": [
    "parejas_cliques_finales = cliques_temp3"
   ]
  },
  {
   "cell_type": "code",
   "execution_count": 27,
   "metadata": {},
   "outputs": [],
   "source": [
    "mat_rot_final = [x[0][2] for x in parejas_cliques_finales]"
   ]
  },
  {
   "cell_type": "code",
   "execution_count": 72,
   "metadata": {},
   "outputs": [
    {
     "data": {
      "text/plain": [
       "array([[-0.03938974, -0.62467376,  0.77989175],\n",
       "       [ 0.15676513,  0.76696893,  0.62224059],\n",
       "       [-0.98685011,  0.14676973,  0.06771636]])"
      ]
     },
     "execution_count": 72,
     "metadata": {},
     "output_type": "execute_result"
    }
   ],
   "source": [
    "mat_rot_final[0]"
   ]
  },
  {
   "cell_type": "code",
   "execution_count": 73,
   "metadata": {},
   "outputs": [
    {
     "data": {
      "text/plain": [
       "array([[-0.03938974, -0.62467376,  0.77989175],\n",
       "       [ 0.15676513,  0.76696893,  0.62224059],\n",
       "       [-0.98685011,  0.14676973,  0.06771636]])"
      ]
     },
     "execution_count": 73,
     "metadata": {},
     "output_type": "execute_result"
    }
   ],
   "source": [
    "mat_rot_final[1]"
   ]
  },
  {
   "cell_type": "code",
   "execution_count": 88,
   "metadata": {},
   "outputs": [
    {
     "data": {
      "text/plain": [
       "array([[ 2.63677968e-16, -2.22044605e-16, -1.11022302e-16],\n",
       "       [ 5.55111512e-17, -1.11022302e-16,  2.22044605e-16],\n",
       "       [-1.11022302e-16, -1.38777878e-16,  2.91433544e-16]])"
      ]
     },
     "execution_count": 88,
     "metadata": {},
     "output_type": "execute_result"
    }
   ],
   "source": [
    "mat_rot_final[0] - mat_rot_final[9]"
   ]
  },
  {
   "cell_type": "code",
   "execution_count": 104,
   "metadata": {},
   "outputs": [
    {
     "data": {
      "text/plain": [
       "True"
      ]
     },
     "execution_count": 104,
     "metadata": {},
     "output_type": "execute_result"
    }
   ],
   "source": [
    "np.allclose(mat_rot_final[0], mat_rot_final[1],rtol=1e-14,atol=1e-17)"
   ]
  },
  {
   "cell_type": "code",
   "execution_count": 163,
   "metadata": {},
   "outputs": [],
   "source": [
    "parejas_finales = []\n",
    "for j,i in enumerate(cliques_temp3):\n",
    "    if i not in parejas_finales:\n",
    "        flag = 0\n",
    "        for k in parejas_finales:\n",
    "#             print(k[0])\n",
    "            if np.allclose(i[0][2], k[0][2],rtol=1e-16,atol=1e-17):\n",
    "                flag = 1\n",
    "        if flag:\n",
    "            pass\n",
    "        else:\n",
    "            parejas_finales.append(i)    "
   ]
  },
  {
   "cell_type": "code",
   "execution_count": 164,
   "metadata": {},
   "outputs": [
    {
     "data": {
      "text/plain": [
       "14094"
      ]
     },
     "execution_count": 164,
     "metadata": {},
     "output_type": "execute_result"
    }
   ],
   "source": [
    "len(cliques_temp3)"
   ]
  },
  {
   "cell_type": "code",
   "execution_count": 165,
   "metadata": {},
   "outputs": [
    {
     "data": {
      "text/plain": [
       "1903"
      ]
     },
     "execution_count": 165,
     "metadata": {},
     "output_type": "execute_result"
    }
   ],
   "source": [
    "len(parejas_finales)"
   ]
  },
  {
   "cell_type": "code",
   "execution_count": 166,
   "metadata": {},
   "outputs": [
    {
     "data": {
      "text/plain": [
       "[[[[110, 109, 108, 106, 107, 104, 105],\n",
       "   [105, 106, 107, 109, 108, 111, 110],\n",
       "   array([[-0.03938974, -0.62467376,  0.77989175],\n",
       "          [ 0.15676513,  0.76696893,  0.62224059],\n",
       "          [-0.98685011,  0.14676973,  0.06771636]])]],\n",
       " [[[110, 109, 108, 106, 107, 105, 104],\n",
       "   [105, 106, 107, 109, 108, 110, 111],\n",
       "   array([[-0.03938974, -0.62467376,  0.77989175],\n",
       "          [ 0.15676513,  0.76696893,  0.62224059],\n",
       "          [-0.98685011,  0.14676973,  0.06771636]])]],\n",
       " [[[110, 109, 108, 106, 104, 105, 107],\n",
       "   [105, 106, 107, 109, 111, 110, 108],\n",
       "   array([[-0.03938974, -0.62467376,  0.77989175],\n",
       "          [ 0.15676513,  0.76696893,  0.62224059],\n",
       "          [-0.98685011,  0.14676973,  0.06771636]])]]]"
      ]
     },
     "execution_count": 166,
     "metadata": {},
     "output_type": "execute_result"
    }
   ],
   "source": [
    "parejas_finales[:3]"
   ]
  },
  {
   "cell_type": "code",
   "execution_count": null,
   "metadata": {},
   "outputs": [],
   "source": []
  },
  {
   "cell_type": "code",
   "execution_count": null,
   "metadata": {},
   "outputs": [],
   "source": []
  },
  {
   "cell_type": "markdown",
   "metadata": {},
   "source": [
    "# Prueba Doc"
   ]
  },
  {
   "cell_type": "code",
   "execution_count": 20,
   "metadata": {},
   "outputs": [
    {
     "data": {
      "text/plain": [
       "[[[[110, 109, 108, 106, 107, 104, 105],\n",
       "   [105, 106, 107, 109, 108, 111, 110],\n",
       "   array([[-0.03938974, -0.62467376,  0.77989175],\n",
       "          [ 0.15676513,  0.76696893,  0.62224059],\n",
       "          [-0.98685011,  0.14676973,  0.06771636]])]],\n",
       " [[[110, 109, 108, 106, 107, 105, 104],\n",
       "   [105, 106, 107, 109, 108, 110, 111],\n",
       "   array([[-0.03938974, -0.62467376,  0.77989175],\n",
       "          [ 0.15676513,  0.76696893,  0.62224059],\n",
       "          [-0.98685011,  0.14676973,  0.06771636]])]]]"
      ]
     },
     "execution_count": 20,
     "metadata": {},
     "output_type": "execute_result"
    }
   ],
   "source": [
    "cliques_temp3[:2]"
   ]
  },
  {
   "cell_type": "code",
   "execution_count": 24,
   "metadata": {},
   "outputs": [],
   "source": [
    "lista = []\n",
    "for i in cliques_temp3[:2]:\n",
    "    lista.append([i[0][0],i[0][1]])"
   ]
  },
  {
   "cell_type": "code",
   "execution_count": 25,
   "metadata": {},
   "outputs": [
    {
     "data": {
      "text/plain": [
       "[[[110, 109, 108, 106, 107, 104, 105], [105, 106, 107, 109, 108, 111, 110]],\n",
       " [[110, 109, 108, 106, 107, 105, 104], [105, 106, 107, 109, 108, 110, 111]]]"
      ]
     },
     "execution_count": 25,
     "metadata": {},
     "output_type": "execute_result"
    }
   ],
   "source": [
    "lista"
   ]
  },
  {
   "cell_type": "code",
   "execution_count": 27,
   "metadata": {},
   "outputs": [
    {
     "data": {
      "text/plain": [
       "([[110, 109, 108, 106, 107, 104, 105], [105, 106, 107, 109, 108, 111, 110]],)"
      ]
     },
     "execution_count": 27,
     "metadata": {},
     "output_type": "execute_result"
    }
   ],
   "source": [
    "next(zip(lista))"
   ]
  },
  {
   "cell_type": "code",
   "execution_count": 32,
   "metadata": {},
   "outputs": [],
   "source": [
    "a = [110, 109, 108, 106, 107, 104, 105]\n",
    "b = [105, 106, 107, 109, 108, 111, 110]\n",
    "\n",
    "par = (zip(a,b))"
   ]
  },
  {
   "cell_type": "code",
   "execution_count": 33,
   "metadata": {},
   "outputs": [
    {
     "data": {
      "text/plain": [
       "[(110, 105),\n",
       " (109, 106),\n",
       " (108, 107),\n",
       " (106, 109),\n",
       " (107, 108),\n",
       " (104, 111),\n",
       " (105, 110)]"
      ]
     },
     "execution_count": 33,
     "metadata": {},
     "output_type": "execute_result"
    }
   ],
   "source": [
    "par1 = [i for i in zip(a,b)]\n",
    "par1"
   ]
  },
  {
   "cell_type": "code",
   "execution_count": 34,
   "metadata": {},
   "outputs": [],
   "source": [
    "q = [110, 109, 108, 106, 107, 105, 104]\n",
    "w = [105, 106, 107, 109, 108, 110, 111]"
   ]
  },
  {
   "cell_type": "code",
   "execution_count": 35,
   "metadata": {},
   "outputs": [
    {
     "data": {
      "text/plain": [
       "[(110, 105),\n",
       " (109, 106),\n",
       " (108, 107),\n",
       " (106, 109),\n",
       " (107, 108),\n",
       " (105, 110),\n",
       " (104, 111)]"
      ]
     },
     "execution_count": 35,
     "metadata": {},
     "output_type": "execute_result"
    }
   ],
   "source": [
    "par2 = [i for i in zip(q,w)]\n",
    "par2"
   ]
  },
  {
   "cell_type": "code",
   "execution_count": 38,
   "metadata": {},
   "outputs": [
    {
     "data": {
      "text/plain": [
       "[(104, 111),\n",
       " (105, 110),\n",
       " (106, 109),\n",
       " (107, 108),\n",
       " (108, 107),\n",
       " (109, 106),\n",
       " (110, 105)]"
      ]
     },
     "execution_count": 38,
     "metadata": {},
     "output_type": "execute_result"
    }
   ],
   "source": [
    "par1 = sorted(par1, key= lambda x: x[0])\n",
    "par1"
   ]
  },
  {
   "cell_type": "code",
   "execution_count": 39,
   "metadata": {},
   "outputs": [
    {
     "data": {
      "text/plain": [
       "[(104, 111),\n",
       " (105, 110),\n",
       " (106, 109),\n",
       " (107, 108),\n",
       " (108, 107),\n",
       " (109, 106),\n",
       " (110, 105)]"
      ]
     },
     "execution_count": 39,
     "metadata": {},
     "output_type": "execute_result"
    }
   ],
   "source": [
    "par2 = sorted(par2, key= lambda x: x[0])\n",
    "par2"
   ]
  },
  {
   "cell_type": "code",
   "execution_count": null,
   "metadata": {},
   "outputs": [],
   "source": []
  }
 ],
 "metadata": {
  "kernelspec": {
   "display_name": "Python 3",
   "language": "python",
   "name": "python3"
  },
  "language_info": {
   "codemirror_mode": {
    "name": "ipython",
    "version": 3
   },
   "file_extension": ".py",
   "mimetype": "text/x-python",
   "name": "python",
   "nbconvert_exporter": "python",
   "pygments_lexer": "ipython3",
   "version": "3.6.6"
  }
 },
 "nbformat": 4,
 "nbformat_minor": 2
}
