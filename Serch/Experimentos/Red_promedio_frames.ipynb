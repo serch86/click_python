{
 "cells": [
  {
   "cell_type": "code",
   "execution_count": 53,
   "metadata": {},
   "outputs": [
    {
     "name": "stdout",
     "output_type": "stream",
     "text": [
      "CPU times: user 3 µs, sys: 0 ns, total: 3 µs\n",
      "Wall time: 6.2 µs\n"
     ]
    }
   ],
   "source": [
    "%time\n",
    "#!/usr/bin/env python\n",
    "\n",
    "# librerias que utilizaras\n",
    "import numpy as np\n",
    "# por si no te lee las tools o functions creadas\n",
    "import sys\n",
    "sys.path.append(\"/home/serch/pdbmani/Serch/math_tricks/\")\n",
    "sys.path.append(\"/home/serch/pdbmani/Serch/\")\n",
    "import math_vect_tools as mymath\n",
    "# herramientas para leer pdbs\n",
    "import read_pdb_tools as rpt\n",
    "# funciones de click generadas en pandas\n",
    "import funciones_CLICK as fc\n",
    "# cuenta tiempo de ejecucion\n",
    "import datetime\n",
    "time_all = datetime.datetime.now()\n",
    "# networks\n",
    "import networkx as nx\n",
    "# filtro distancia minima\n",
    "# from scipy.spatial.distance import euclidean\n",
    "# por si no jala\n",
    "import os\n",
    "os.chdir('/home/serch/pdbmani/Serch')\n",
    "# multiprocessing\n",
    "# import multiprocessing\n",
    "# from functools import partial\n",
    "\n",
    "# lectura de archivo\n",
    "file1 = '/home/serch/pdbmani/Serch/tray/dime_out.pdb'  # dime_out no es trayectoria es pdb\n",
    "\n",
    "# se define la estructura\n",
    "trj1 = rpt.Trajectory(file1)\n",
    "\n",
    "# se lee el pdb y se agrega al objeto\n",
    "trj1.ReadTraj(\"%s\" % file1)\n",
    "\n",
    "trj11 = trj1.frames\n",
    "\n",
    "# set center_mass\n",
    "for pdbstruct in trj11:\n",
    "    pdbstruct.set_center_mass()\n",
    "\n",
    "\n",
    "\n",
    "def get_df_distancias(ref):\n",
    "    \"\"\"Funcion para obtener los enlaces de distancias de cada residuo\n",
    "    Dudas en codigo pueden revisar fc.distancia_entre_atomos en ese se basa\n",
    "    esta funcion, la diferencia es que se crea con el objeto residuo\"\"\"\n",
    "    # se generan listas con coordenadas y numero de atomo\n",
    "\n",
    "    # calcula distancia y regresa dataframe\n",
    "    enlaces = []\n",
    "    for res1 in ref[1:-1]:\n",
    "        for res2 in ref[1:-1]:\n",
    "            if res2.resi >= res1.resi:\n",
    "                if mymath.distance(res2.GetAtom('CA').coord, res1.GetAtom('CA').coord) < 10:\n",
    "                    enlaces.append([res1.resi, res2.resi])\n",
    "\n",
    "    # se genera la matriz de adyacencias para la red\n",
    "    return enlaces\n",
    "\n",
    "pdbs = [pdb.GetResChain(chain='') for pdb in trj11]\n",
    "\n",
    "enlaces = [get_df_distancias(residues) for residues in pdbs]\n",
    "# aqui se filtran los enlaces\n",
    "\n",
    "from collections import Counter # obtener conteo de enlaces\n",
    "a = Counter([str(j) for i in enlaces for j in i]).most_common()\n",
    "\n",
    "import ast # para pasar de str a tupla o listas\n",
    "red_promedio = nx.Graph([ast.literal_eval(i[0]) for i in a if (i[1] / len(enlaces)) > 0.7])\n"
   ]
  },
  {
   "cell_type": "code",
   "execution_count": 54,
   "metadata": {},
   "outputs": [
    {
     "name": "stdout",
     "output_type": "stream",
     "text": [
      "Name: \n",
      "Type: Graph\n",
      "Number of nodes: 0\n",
      "Number of edges: 0\n",
      "\n"
     ]
    }
   ],
   "source": [
    "print(nx.info(red_promedio))"
   ]
  },
  {
   "cell_type": "markdown",
   "metadata": {},
   "source": [
    "# Con Dimero de interes"
   ]
  },
  {
   "cell_type": "code",
   "execution_count": 65,
   "metadata": {},
   "outputs": [
    {
     "name": "stdout",
     "output_type": "stream",
     "text": [
      "CPU times: user 2 µs, sys: 0 ns, total: 2 µs\n",
      "Wall time: 4.05 µs\n"
     ]
    }
   ],
   "source": [
    "%time\n",
    "#!/usr/bin/env python\n",
    "\n",
    "# librerias que utilizaras\n",
    "import numpy as np\n",
    "# por si no te lee las tools o functions creadas\n",
    "import sys\n",
    "sys.path.append(\"/home/serch/pdbmani/Serch/math_tricks/\")\n",
    "sys.path.append(\"/home/serch/pdbmani/Serch/\")\n",
    "import math_vect_tools as mymath\n",
    "# herramientas para leer pdbs\n",
    "import read_pdb_tools as rpt\n",
    "# funciones de click generadas en pandas\n",
    "import funciones_CLICK as fc\n",
    "# cuenta tiempo de ejecucion\n",
    "import datetime\n",
    "time_all = datetime.datetime.now()\n",
    "# networks\n",
    "import networkx as nx\n",
    "# filtro distancia minima\n",
    "# from scipy.spatial.distance import euclidean\n",
    "# por si no jala\n",
    "import os\n",
    "os.chdir('/home/serch/pdbmani/Serch')\n",
    "# multiprocessing\n",
    "# import multiprocessing\n",
    "# from functools import partial\n",
    "\n",
    "# lectura de archivo\n",
    "file1 = '/home/serch/pdbmani/Serch/tray/dime_out.pdb'  # dime_out no es trayectoria es pdb\n",
    "\n",
    "# se define la estructura\n",
    "pdb1 = rpt.PdbStruct(file1)\n",
    "\n",
    "# se lee el pdb y se agrega al objeto\n",
    "pdb1.AddPdbData(\"%s\" % file1)\n",
    "\n",
    "pdb1.set_center_mass()\n",
    "\n",
    "pdb1.Set_SS()\n",
    "\n",
    "pdb1.GetNeighbors()\n",
    "\n",
    "pdb11 = pdb1.GetResChain()\n",
    "\n",
    "def get_df_distancias(ref):\n",
    "    \"\"\"Funcion para obtener los enlaces de distancias de cada residuo\n",
    "    Dudas en codigo pueden revisar fc.distancia_entre_atomos en ese se basa\n",
    "    esta funcion, la diferencia es que se crea con el objeto residuo\"\"\"\n",
    "    # se generan listas con coordenadas y numero de atomo\n",
    "\n",
    "    # calcula distancia y regresa dataframe\n",
    "    enlaces = []\n",
    "    for res1 in ref[1:-1]:\n",
    "        for res2 in ref[1:-1]:\n",
    "            if res2.resi >= res1.resi:\n",
    "                if mymath.distance(res2.GetAtom('CA').coord, res1.GetAtom('CA').coord) < 10:\n",
    "                    enlaces.append([res1.resi, res2.resi])\n",
    "\n",
    "    # se genera la matriz de adyacencias para la red\n",
    "    return enlaces\n",
    "\n",
    "enlaces = get_df_distancias(pdb11)\n",
    "\n",
    "\n",
    "red = nx.Graph(enlaces)\n"
   ]
  },
  {
   "cell_type": "code",
   "execution_count": 66,
   "metadata": {},
   "outputs": [
    {
     "name": "stdout",
     "output_type": "stream",
     "text": [
      "Name: \n",
      "Type: Graph\n",
      "Number of nodes: 174\n",
      "Number of edges: 1674\n",
      "Average degree:  19.2414\n"
     ]
    }
   ],
   "source": [
    "print(nx.info(red))"
   ]
  },
  {
   "cell_type": "code",
   "execution_count": 68,
   "metadata": {},
   "outputs": [
    {
     "data": {
      "text/plain": [
       "[2, 3, 174, 175, 176]"
      ]
     },
     "execution_count": 68,
     "metadata": {},
     "output_type": "execute_result"
    }
   ],
   "source": [
    "pdb11[0]"
   ]
  },
  {
   "cell_type": "code",
   "execution_count": null,
   "metadata": {},
   "outputs": [],
   "source": []
  }
 ],
 "metadata": {
  "kernelspec": {
   "display_name": "Python 3",
   "language": "python",
   "name": "python3"
  },
  "language_info": {
   "codemirror_mode": {
    "name": "ipython",
    "version": 3
   },
   "file_extension": ".py",
   "mimetype": "text/x-python",
   "name": "python",
   "nbconvert_exporter": "python",
   "pygments_lexer": "ipython3",
   "version": "3.6.6"
  }
 },
 "nbformat": 4,
 "nbformat_minor": 2
}
