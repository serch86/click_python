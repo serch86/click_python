{
 "cells": [
  {
   "cell_type": "code",
   "execution_count": 10,
   "metadata": {},
   "outputs": [],
   "source": [
    "# librerias que utilizaras\n",
    "import numpy as np\n",
    "# por si no te lee las tools o functions creadas\n",
    "import sys\n",
    "sys.path.append(\"../\")\n",
    "sys.path.append(\"../math_tricks/\")\n",
    "# herramientas para leer pdbs\n",
    "import read_pdb_tools as rpt\n",
    "# calculo de distancia\n",
    "from scipy.spatial.distance import pdist\n",
    "# libreria de tablas\n",
    "import pandas as pd\n",
    "# funciones de click generadas en pandas\n",
    "import funciones_CLICK as fc\n",
    "# iteradores\n",
    "import itertools as it\n",
    "# cuenta tiempo de ejecucion\n",
    "import datetime\n",
    "\n",
    "# NetworkX\n",
    "import networkx as nx\n",
    "# filtro distancia\n",
    "from scipy.spatial import distance"
   ]
  },
  {
   "cell_type": "code",
   "execution_count": 45,
   "metadata": {},
   "outputs": [
    {
     "name": "stdout",
     "output_type": "stream",
     "text": [
      "This trajectory file : first\n",
      "has 2 frames\n"
     ]
    }
   ],
   "source": [
    "infile = \"pdbs/test_short.pdb\"\n",
    "trj = rpt.Trajectory(\"first\")\n",
    "trj.ReadTraj(\"%s\"%infile, every=1)\n",
    "trj.PrintTrajInfo()"
   ]
  },
  {
   "cell_type": "code",
   "execution_count": 46,
   "metadata": {},
   "outputs": [],
   "source": [
    "frame_0 = trj.GetFrame(0)\n",
    "pdb11 = frame_0.GetResChain(\"\")"
   ]
  },
  {
   "cell_type": "code",
   "execution_count": 47,
   "metadata": {},
   "outputs": [],
   "source": [
    "frame_1 = trj.GetFrame(1)\n",
    "pdb22 = frame_1.GetResChain(\"\")"
   ]
  },
  {
   "cell_type": "code",
   "execution_count": 48,
   "metadata": {},
   "outputs": [
    {
     "name": "stdout",
     "output_type": "stream",
     "text": [
      "118\n",
      "116\n"
     ]
    }
   ],
   "source": [
    "# COMO NO TIENEN CARBONOS ALFA QUITO ESOS RESIDUOS QUE NO TIENEN\n",
    "print(len(pdb11))\n",
    "for i,j in enumerate(pdb11):\n",
    "    \n",
    "    if (j.resn == 'ACE') or (j.resn == 'NME'):\n",
    "        pdb11.pop(i)\n",
    "        \n",
    "print(len(pdb11))"
   ]
  },
  {
   "cell_type": "code",
   "execution_count": 49,
   "metadata": {},
   "outputs": [
    {
     "name": "stdout",
     "output_type": "stream",
     "text": [
      "118\n",
      "116\n"
     ]
    }
   ],
   "source": [
    "print(len(pdb22))\n",
    "for i,j in enumerate(pdb22):\n",
    "    \n",
    "    if (j.resn == 'ACE') or (j.resn == 'NME'):\n",
    "        pdb22.pop(i)\n",
    "        \n",
    "print(len(pdb22))"
   ]
  },
  {
   "cell_type": "code",
   "execution_count": 58,
   "metadata": {},
   "outputs": [],
   "source": [
    "number_elements_clique = 7"
   ]
  },
  {
   "cell_type": "code",
   "execution_count": 59,
   "metadata": {},
   "outputs": [],
   "source": [
    "# def get_tray_cliques_7(trayectoria):\n",
    "\"\"\"Obtiene cliques de trayectoria\"\"\"\n",
    "\n",
    "# Siempre la proteina 1 es el que se rota y traslada para embonar en la proteina 2\n",
    "if len(pdb22) < len(pdb11):\n",
    "\n",
    "    import copy\n",
    "    pdb1_temp = copy.copy(pdb1)\n",
    "    pdb2_temp = copy.copy(pdb2)\n",
    "\n",
    "    pdb11_temp = copy.copy(pdb11)\n",
    "    pdb22_temp = copy.copy(pdb22)\n",
    "\n",
    "    pdb1 = pdb2_temp\n",
    "    pdb2 = pdb1_temp\n",
    "\n",
    "    pdb11 = pdb22_temp\n",
    "    pdb22 = pdb11_temp\n",
    "\n",
    "    del [pdb1_temp]\n",
    "    del [pdb2_temp]\n",
    "    del [pdb11_temp]\n",
    "    del [pdb22_temp]\n",
    "\n",
    "    print(\"Intercambio de nombre ya que la proteina 1 es mas grande que la 2\")\n",
    "    print(pdb1.name, len(pdb11))\n",
    "    print(pdb2.name, len(pdb22))\n",
    "    print(\"No te preocupes ya quedo :)\")\n",
    "\n",
    "\n",
    "def get_df_distancias(ref):\n",
    "    \"\"\"Funcion para obtener el dataframe de distancias de cada residuo\n",
    "    Dudas en codigo pueden revisar fc.distancia_entre_atomos en ese se basa\n",
    "    esta funcion, la diferencia es que se crea con el objeto residuo\"\"\"\n",
    "    # se generan listas con coordenadas y numero de atomo\n",
    "    coord = [res.GetAtom('CA').coord for res in ref]\n",
    "    lista_residuos = [res.resi for res in ref]\n",
    "\n",
    "    # calcula distancia y regresa dataframe\n",
    "    distancias = [ [pdist(np.array([v, av]), metric='euclidean').item() for av in coord] for v in coord]\n",
    "\n",
    "    # se genera la matriz de adyacencias para la red\n",
    "    df_da = pd.DataFrame(index=lista_residuos, columns=lista_residuos, data=distancias)\n",
    "    return(df_da, lista_residuos)\n",
    "\n",
    "\n",
    "# devuelve tabla e indices de el dataframe de distancias entre atomos de la misma proteina con dth < 10A\n",
    "df_distancias1, lista_residuos_1 = get_df_distancias(pdb11)\n",
    "df_distancias2, lista_residuos2 = get_df_distancias(pdb22)"
   ]
  },
  {
   "cell_type": "code",
   "execution_count": 60,
   "metadata": {},
   "outputs": [
    {
     "name": "stdout",
     "output_type": "stream",
     "text": [
      "numero de cliques maximos encontrados: 108\n",
      "****************************************************************************************************\n",
      "numero de cliques maximos encontrados: 94\n",
      "****************************************************************************************************\n"
     ]
    }
   ],
   "source": [
    "def gen_7_cliques(df_distancias, nombre=False, dth=10, k=7):\n",
    "    \"\"\"Genera n-cliques de dataframe de distancias, tomando en cuenta los enlaces menores o iguales\n",
    "    a dth y forma los k-cliques que elijas \n",
    "    valores por default:\n",
    "    dth=10, k=3\"\"\"\n",
    "# red de distancias completa\n",
    "    red = nx.from_pandas_adjacency(df_distancias)\n",
    "#     print(\"red antes de filtros:\",nx.info(red))\n",
    "\n",
    "    # filtro de distancias\n",
    "    edgesstrong = [(u, v) for (u, v, d) in red.edges(data=True) if d[\"weight\"] <= dth]\n",
    "\n",
    "    red = nx.Graph(edgesstrong)\n",
    "#     print(\"==\"*20)\n",
    "#     print(\"red despues de filtros:\",nx.info(red))\n",
    "\n",
    "    cliques_completos = [clq for clq in nx.find_cliques(red) if len(clq) >= k]\n",
    "    print('numero de cliques maximos encontrados:',len(cliques_completos))\n",
    "#     print(n_cliques)\n",
    "\n",
    "    df_maximal_clique = pd.DataFrame(cliques_completos, dtype=int)\n",
    "    df_maximal_clique['numero_elementos'] = df_maximal_clique.count(1)\n",
    "    df_maximal_clique.sort_values('numero_elementos', inplace=True)\n",
    "\n",
    "    if nombre:\n",
    "        print('guardando red en: %s' % nombre)\n",
    "        nx.write_gexf(red, nombre+'.gexf')\n",
    "\n",
    "    return(df_maximal_clique)\n",
    "\n",
    "\n",
    "# se generan cliques, te devuleve dataframe con cliques de k(numero_de_cliques) y la lista de cliques maximales\n",
    "cliques1 = gen_7_cliques(df_distancias1,  dth=10, k=number_elements_clique)  # file1[:-4] pal gexf\n",
    "print('**'*50)\n",
    "cliques2 = gen_7_cliques(df_distancias2,  dth=10, k=number_elements_clique)  # file2[:-4]\n",
    "print('**'*50)\n",
    "\n",
    "# REVISAR DONDE GUARDA EL GEXF Y COLOCARLO EN LA CARPETA Grafos\n",
    "\n",
    "# se agrega filtro de residuos que pertenecen a cliques de 7 elementos\n",
    "mc1_7 = cliques1[cliques1.numero_elementos == 7].drop('numero_elementos', 1)\n",
    "mc2_7 = cliques2[cliques2.numero_elementos == 7].drop('numero_elementos', 1)\n",
    "\n",
    "residuos_unicos_1 = []\n",
    "for i in [list(mc1_7[i].unique()) for i in mc1_7.dropna(1).columns]:\n",
    "    for j in i:\n",
    "        residuos_unicos_1.append(int(j))\n",
    "\n",
    "residuos_unicos_2 = []\n",
    "for i in [list(mc2_7[i].unique()) for i in mc2_7.dropna(1).columns]:\n",
    "    for j in i:\n",
    "        residuos_unicos_2.append(int(j))\n",
    "\n",
    "residuos_unicos_1 = set(residuos_unicos_1)\n",
    "residuos_unicos_2 = set(residuos_unicos_2)\n",
    "\n",
    "cliques1_7 = mc1_7[[0,1,2,3,4,5,6]].astype(int).reset_index(drop=True).values\n",
    "cliques2_7 = mc2_7[[0,1,2,3,4,5,6]].astype(int).reset_index(drop=True).values\n",
    "\n",
    "# return(cliques1_7, cliques2_7)"
   ]
  },
  {
   "cell_type": "code",
   "execution_count": 70,
   "metadata": {},
   "outputs": [
    {
     "name": "stdout",
     "output_type": "stream",
     "text": [
      "NUmero de cliques generados FRAME1: 77\n",
      "NUmero de cliques generados FRAME2: 57\n"
     ]
    }
   ],
   "source": [
    "print('NUmero de cliques generados FRAME1:',len(cliques1_7))\n",
    "print('NUmero de cliques generados FRAME2:',len(cliques2_7))"
   ]
  },
  {
   "cell_type": "code",
   "execution_count": 75,
   "metadata": {},
   "outputs": [
    {
     "data": {
      "text/plain": [
       "array([ 33,  34,  47,  48,  49,  57,  86,  87,  88,  89,  90,  91,  92,\n",
       "        93,  94, 111, 112])"
      ]
     },
     "execution_count": 75,
     "metadata": {},
     "output_type": "execute_result"
    }
   ],
   "source": [
    "# Return the sorted, unique values in `ar1` that are not in `ar2`.\n",
    "residuos_distintos =  np.setdiff1d(cliques1_7,cliques2_7)\n",
    "residuos_distintos"
   ]
  },
  {
   "cell_type": "code",
   "execution_count": 77,
   "metadata": {},
   "outputs": [
    {
     "data": {
      "text/plain": [
       "array([ 31,  35,  36,  37,  38,  39,  40,  41,  42,  43,  44,  45,  50,\n",
       "        51,  52,  53,  54,  55,  56,  58,  59,  60,  61,  62,  63,  64,\n",
       "        65,  66,  67,  68,  69,  70,  76,  77,  78,  79,  80,  81,  82,\n",
       "        83,  84,  85,  95,  96,  97,  98, 102, 103, 104, 105, 106, 107,\n",
       "       108, 109, 110, 113, 114, 118, 119, 120, 121, 122, 123, 124, 125,\n",
       "       126, 127, 128, 129, 132, 133, 134, 135, 136, 137, 139, 140, 141,\n",
       "       142, 143, 144, 145])"
      ]
     },
     "execution_count": 77,
     "metadata": {},
     "output_type": "execute_result"
    }
   ],
   "source": [
    "# Return the sorted, unique values that are in both of the input arrays\n",
    "residuos_iguales = np.intersect1d(cliques1_7,cliques2_7)\n",
    "residuos_iguales"
   ]
  },
  {
   "cell_type": "code",
   "execution_count": 114,
   "metadata": {},
   "outputs": [],
   "source": [
    "mask = [(i in cliques2_7) for i in cliques1_7]\n",
    "cliques_interseccion_1 = cliques1_7[mask]\n",
    "\n",
    "mask = [(i in cliques1_7) for i in cliques2_7]\n",
    "cliques_interseccion_2 = cliques2_7[mask]"
   ]
  },
  {
   "cell_type": "code",
   "execution_count": 102,
   "metadata": {},
   "outputs": [],
   "source": [
    "mask = [(i not in cliques2_7) for i in cliques1_7]\n",
    "cliques1_not_in_cliques2 = cliques1_7[mask]\n",
    "\n",
    "mask = [(i not in cliques1_7) for i in cliques2_7]\n",
    "cliques2_not_in_cliques1 = cliques2_7[mask]"
   ]
  }
 ],
 "metadata": {
  "kernelspec": {
   "display_name": "Python 3",
   "language": "python",
   "name": "python3"
  },
  "language_info": {
   "codemirror_mode": {
    "name": "ipython",
    "version": 3
   },
   "file_extension": ".py",
   "mimetype": "text/x-python",
   "name": "python",
   "nbconvert_exporter": "python",
   "pygments_lexer": "ipython3",
   "version": "3.6.6"
  }
 },
 "nbformat": 4,
 "nbformat_minor": 2
}
