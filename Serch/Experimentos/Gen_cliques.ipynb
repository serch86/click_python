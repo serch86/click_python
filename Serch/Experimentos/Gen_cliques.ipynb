{
 "cells": [
  {
   "cell_type": "code",
   "execution_count": 1,
   "metadata": {},
   "outputs": [],
   "source": [
    "# librerias que utilizaras\n",
    "import numpy as np\n",
    "# por si no te lee las tools o functions creadas\n",
    "import sys\n",
    "sys.path.append(\"../\")\n",
    "sys.path.append(\"../math_tricks/\")\n",
    "# herramientas para leer pdbs\n",
    "import read_pdb_tools as rpt\n",
    "# calculo de distancia\n",
    "from scipy.spatial.distance import pdist\n",
    "# libreria de tablas\n",
    "import pandas as pd\n",
    "# funciones de click generadas en pandas\n",
    "import funciones_CLICK as fc\n",
    "# iteradores\n",
    "import itertools as it\n",
    "# cuenta tiempo de ejecucion\n",
    "import datetime\n",
    "\n",
    "# NetworkX\n",
    "import networkx as nx\n",
    "# filtro distancia\n",
    "from scipy.spatial import distance"
   ]
  },
  {
   "cell_type": "code",
   "execution_count": 2,
   "metadata": {},
   "outputs": [
    {
     "name": "stdout",
     "output_type": "stream",
     "text": [
      "This trajectory file : first\n",
      "has 2 frames\n",
      "118\n",
      "116\n",
      "118\n",
      "116\n"
     ]
    }
   ],
   "source": [
    "infile = \"pdbs/test_short.pdb\"\n",
    "trj = rpt.Trajectory(\"first\")\n",
    "trj.ReadTraj(\"%s\"%infile, every=1)\n",
    "trj.PrintTrajInfo()\n",
    "\n",
    "frame_0 = trj.GetFrame(0)\n",
    "pdb11 = frame_0.GetResChain(\"\")\n",
    "\n",
    "frame_1 = trj.GetFrame(1)\n",
    "pdb22 = frame_1.GetResChain(\"\")\n",
    "\n",
    "# COMO NO TIENEN CARBONOS ALFA QUITO ESOS RESIDUOS QUE NO TIENEN\n",
    "print(len(pdb11))\n",
    "for i,j in enumerate(pdb11):\n",
    "    \n",
    "    if (j.resn == 'ACE') or (j.resn == 'NME'):\n",
    "        pdb11.pop(i)\n",
    "        \n",
    "print(len(pdb11))\n",
    "\n",
    "print(len(pdb22))\n",
    "for i,j in enumerate(pdb22):\n",
    "    \n",
    "    if (j.resn == 'ACE') or (j.resn == 'NME'):\n",
    "        pdb22.pop(i)\n",
    "        \n",
    "print(len(pdb22))"
   ]
  },
  {
   "cell_type": "code",
   "execution_count": 3,
   "metadata": {},
   "outputs": [],
   "source": [
    "number_elements_clique = 7"
   ]
  },
  {
   "cell_type": "code",
   "execution_count": 4,
   "metadata": {},
   "outputs": [],
   "source": [
    "# def get_tray_cliques_7(trayectoria):\n",
    "\"\"\"Obtiene cliques de trayectoria\"\"\"\n",
    "\n",
    "# Siempre la proteina 1 es el que se rota y traslada para embonar en la proteina 2\n",
    "if len(pdb22) < len(pdb11):\n",
    "\n",
    "    import copy\n",
    "    pdb1_temp = copy.copy(pdb1)\n",
    "    pdb2_temp = copy.copy(pdb2)\n",
    "\n",
    "    pdb11_temp = copy.copy(pdb11)\n",
    "    pdb22_temp = copy.copy(pdb22)\n",
    "\n",
    "    pdb1 = pdb2_temp\n",
    "    pdb2 = pdb1_temp\n",
    "\n",
    "    pdb11 = pdb22_temp\n",
    "    pdb22 = pdb11_temp\n",
    "\n",
    "    del [pdb1_temp]\n",
    "    del [pdb2_temp]\n",
    "    del [pdb11_temp]\n",
    "    del [pdb22_temp]\n",
    "\n",
    "    print(\"Intercambio de nombre ya que la proteina 1 es mas grande que la 2\")\n",
    "    print(pdb1.name, len(pdb11))\n",
    "    print(pdb2.name, len(pdb22))\n",
    "    print(\"No te preocupes ya quedo :)\")\n",
    "\n",
    "\n",
    "def get_df_distancias(ref):\n",
    "    \"\"\"Funcion para obtener el dataframe de distancias de cada residuo\n",
    "    Dudas en codigo pueden revisar fc.distancia_entre_atomos en ese se basa\n",
    "    esta funcion, la diferencia es que se crea con el objeto residuo\"\"\"\n",
    "    # se generan listas con coordenadas y numero de atomo\n",
    "    coord = [res.GetAtom('CA').coord for res in ref]\n",
    "    lista_residuos = [res.resi for res in ref]\n",
    "\n",
    "    # calcula distancia y regresa dataframe\n",
    "    distancias = [ [pdist(np.array([v, av]), metric='euclidean').item() for av in coord] for v in coord]\n",
    "\n",
    "    # se genera la matriz de adyacencias para la red\n",
    "    df_da = pd.DataFrame(index=lista_residuos, columns=lista_residuos, data=distancias)\n",
    "    return(df_da, lista_residuos)\n",
    "\n",
    "\n",
    "# devuelve tabla e indices de el dataframe de distancias entre atomos de la misma proteina con dth < 10A\n",
    "df_distancias1, lista_residuos_1 = get_df_distancias(pdb11)\n",
    "df_distancias2, lista_residuos2 = get_df_distancias(pdb22)"
   ]
  },
  {
   "cell_type": "code",
   "execution_count": 5,
   "metadata": {},
   "outputs": [
    {
     "name": "stdout",
     "output_type": "stream",
     "text": [
      "numero de cliques maximos encontrados: 108\n",
      "****************************************************************************************************\n",
      "numero de cliques maximos encontrados: 94\n",
      "****************************************************************************************************\n"
     ]
    }
   ],
   "source": [
    "def gen_7_cliques(df_distancias, nombre=False, dth=10, k=7):\n",
    "    \"\"\"Genera n-cliques de dataframe de distancias, tomando en cuenta los enlaces menores o iguales\n",
    "    a dth y forma los k-cliques que elijas \n",
    "    valores por default:\n",
    "    dth=10, k=3\"\"\"\n",
    "# red de distancias completa\n",
    "    red = nx.from_pandas_adjacency(df_distancias)\n",
    "#     print(\"red antes de filtros:\",nx.info(red))\n",
    "\n",
    "    # filtro de distancias\n",
    "    edgesstrong = [(u, v) for (u, v, d) in red.edges(data=True) if d[\"weight\"] <= dth]\n",
    "\n",
    "    red = nx.Graph(edgesstrong)\n",
    "#     print(\"==\"*20)\n",
    "#     print(\"red despues de filtros:\",nx.info(red))\n",
    "\n",
    "    cliques_completos = [clq for clq in nx.find_cliques(red) if len(clq) >= k]\n",
    "    print('numero de cliques maximos encontrados:',len(cliques_completos))\n",
    "#     print(n_cliques)\n",
    "\n",
    "    df_maximal_clique = pd.DataFrame(cliques_completos, dtype=int)\n",
    "    df_maximal_clique['numero_elementos'] = df_maximal_clique.count(1)\n",
    "    df_maximal_clique.sort_values('numero_elementos', inplace=True)\n",
    "\n",
    "    if nombre:\n",
    "        print('guardando red en: %s' % nombre)\n",
    "        nx.write_gexf(red, nombre+'.gexf')\n",
    "\n",
    "    return(df_maximal_clique)\n",
    "\n",
    "\n",
    "# se generan cliques, te devuleve dataframe con cliques de k(numero_de_cliques) y la lista de cliques maximales\n",
    "cliques1 = gen_7_cliques(df_distancias1,  dth=10, k=number_elements_clique)  # file1[:-4] pal gexf\n",
    "print('**'*50)\n",
    "cliques2 = gen_7_cliques(df_distancias2,  dth=10, k=number_elements_clique)  # file2[:-4]\n",
    "print('**'*50)\n",
    "\n",
    "# REVISAR DONDE GUARDA EL GEXF Y COLOCARLO EN LA CARPETA Grafos\n",
    "\n",
    "# se agrega filtro de residuos que pertenecen a cliques de 7 elementos\n",
    "mc1_7 = cliques1[cliques1.numero_elementos == 7].drop('numero_elementos', 1)\n",
    "mc2_7 = cliques2[cliques2.numero_elementos == 7].drop('numero_elementos', 1)\n",
    "\n",
    "residuos_unicos_1 = []\n",
    "for i in [list(mc1_7[i].unique()) for i in mc1_7.dropna(1).columns]:\n",
    "    for j in i:\n",
    "        residuos_unicos_1.append(int(j))\n",
    "\n",
    "residuos_unicos_2 = []\n",
    "for i in [list(mc2_7[i].unique()) for i in mc2_7.dropna(1).columns]:\n",
    "    for j in i:\n",
    "        residuos_unicos_2.append(int(j))\n",
    "\n",
    "residuos_unicos_1 = set(residuos_unicos_1)\n",
    "residuos_unicos_2 = set(residuos_unicos_2)\n",
    "\n",
    "cliques1_7 = mc1_7[[0,1,2,3,4,5,6]].astype(int).reset_index(drop=True).values\n",
    "cliques2_7 = mc2_7[[0,1,2,3,4,5,6]].astype(int).reset_index(drop=True).values\n",
    "\n",
    "# return(cliques1_7, cliques2_7)"
   ]
  },
  {
   "cell_type": "code",
   "execution_count": 6,
   "metadata": {},
   "outputs": [
    {
     "name": "stdout",
     "output_type": "stream",
     "text": [
      "NUmero de cliques generados FRAME1: 77\n",
      "NUmero de cliques generados FRAME2: 57\n"
     ]
    }
   ],
   "source": [
    "print('NUmero de cliques generados FRAME1:',len(cliques1_7))\n",
    "print('NUmero de cliques generados FRAME2:',len(cliques2_7))"
   ]
  },
  {
   "cell_type": "code",
   "execution_count": 7,
   "metadata": {},
   "outputs": [
    {
     "data": {
      "text/plain": [
       "array([ 33,  34,  47,  48,  49,  57,  86,  87,  88,  89,  90,  91,  92,\n",
       "        93,  94, 111, 112])"
      ]
     },
     "execution_count": 7,
     "metadata": {},
     "output_type": "execute_result"
    }
   ],
   "source": [
    "# Return the sorted, unique values in `ar1` that are not in `ar2`.\n",
    "residuos_distintos =  np.setdiff1d(cliques1_7,cliques2_7)\n",
    "residuos_distintos"
   ]
  },
  {
   "cell_type": "code",
   "execution_count": 8,
   "metadata": {},
   "outputs": [
    {
     "data": {
      "text/plain": [
       "array([ 31,  35,  36,  37,  38,  39,  40,  41,  42,  43,  44,  45,  50,\n",
       "        51,  52,  53,  54,  55,  56,  58,  59,  60,  61,  62,  63,  64,\n",
       "        65,  66,  67,  68,  69,  70,  76,  77,  78,  79,  80,  81,  82,\n",
       "        83,  84,  85,  95,  96,  97,  98, 102, 103, 104, 105, 106, 107,\n",
       "       108, 109, 110, 113, 114, 118, 119, 120, 121, 122, 123, 124, 125,\n",
       "       126, 127, 128, 129, 132, 133, 134, 135, 136, 137, 139, 140, 141,\n",
       "       142, 143, 144, 145])"
      ]
     },
     "execution_count": 8,
     "metadata": {},
     "output_type": "execute_result"
    }
   ],
   "source": [
    "# Return the sorted, unique values that are in both of the input arrays\n",
    "residuos_iguales = np.intersect1d(cliques1_7,cliques2_7)\n",
    "residuos_iguales"
   ]
  },
  {
   "cell_type": "code",
   "execution_count": 36,
   "metadata": {},
   "outputs": [
    {
     "data": {
      "text/plain": [
       "array([[ True,  True,  True,  True,  True,  True,  True],\n",
       "       [False,  True,  True,  True, False, False, False],\n",
       "       [ True, False,  True, False, False,  True, False],\n",
       "       [ True,  True,  True,  True,  True,  True,  True],\n",
       "       [ True,  True,  True,  True,  True,  True,  True],\n",
       "       [ True,  True,  True,  True,  True,  True,  True],\n",
       "       [ True,  True,  True,  True,  True,  True,  True],\n",
       "       [ True, False,  True,  True,  True,  True,  True],\n",
       "       [ True, False,  True,  True,  True,  True,  True],\n",
       "       [ True,  True,  True,  True,  True,  True,  True],\n",
       "       [ True,  True,  True,  True,  True,  True,  True],\n",
       "       [ True,  True,  True,  True,  True,  True,  True],\n",
       "       [ True,  True,  True,  True,  True,  True,  True],\n",
       "       [ True, False,  True,  True, False,  True,  True],\n",
       "       [ True, False,  True,  True, False,  True,  True],\n",
       "       [ True,  True,  True,  True,  True,  True,  True],\n",
       "       [ True,  True,  True,  True,  True,  True,  True],\n",
       "       [ True,  True,  True,  True,  True,  True,  True],\n",
       "       [ True,  True,  True,  True,  True,  True,  True],\n",
       "       [ True,  True,  True,  True,  True,  True,  True],\n",
       "       [False,  True,  True,  True, False,  True, False],\n",
       "       [ True,  True,  True,  True,  True,  True,  True],\n",
       "       [False,  True,  True,  True,  True, False,  True],\n",
       "       [False,  True,  True, False, False,  True,  True],\n",
       "       [ True,  True,  True,  True,  True,  True,  True],\n",
       "       [ True,  True,  True,  True,  True,  True,  True],\n",
       "       [ True,  True,  True,  True,  True,  True,  True],\n",
       "       [ True,  True,  True,  True,  True,  True,  True],\n",
       "       [ True,  True,  True,  True,  True,  True,  True],\n",
       "       [ True,  True,  True,  True,  True,  True,  True],\n",
       "       [ True,  True,  True,  True,  True,  True,  True],\n",
       "       [ True,  True,  True,  True,  True,  True,  True],\n",
       "       [ True,  True,  True,  True,  True,  True,  True],\n",
       "       [ True,  True,  True,  True,  True,  True,  True],\n",
       "       [ True,  True,  True,  True,  True,  True,  True],\n",
       "       [ True,  True,  True,  True,  True,  True,  True],\n",
       "       [ True,  True,  True,  True,  True,  True,  True],\n",
       "       [ True,  True,  True,  True,  True,  True,  True],\n",
       "       [ True,  True,  True,  True,  True,  True,  True],\n",
       "       [ True,  True,  True,  True,  True,  True,  True],\n",
       "       [ True,  True,  True,  True,  True,  True,  True],\n",
       "       [False,  True,  True,  True, False,  True, False],\n",
       "       [False,  True,  True, False, False,  True,  True],\n",
       "       [False,  True,  True, False, False,  True, False],\n",
       "       [ True,  True,  True,  True,  True,  True,  True],\n",
       "       [ True,  True,  True,  True,  True,  True,  True],\n",
       "       [ True,  True,  True,  True,  True,  True,  True],\n",
       "       [ True,  True,  True,  True,  True,  True,  True],\n",
       "       [ True,  True,  True,  True,  True,  True,  True],\n",
       "       [ True,  True,  True,  True,  True,  True,  True],\n",
       "       [ True,  True,  True,  True,  True,  True,  True],\n",
       "       [ True,  True,  True,  True,  True,  True,  True],\n",
       "       [ True,  True,  True,  True,  True,  True,  True],\n",
       "       [False,  True,  True,  True,  True,  True,  True],\n",
       "       [ True,  True,  True,  True,  True,  True,  True],\n",
       "       [False,  True,  True,  True,  True,  True,  True],\n",
       "       [False, False,  True,  True,  True, False,  True],\n",
       "       [False, False,  True,  True, False,  True,  True],\n",
       "       [False,  True,  True,  True, False,  True,  True],\n",
       "       [ True,  True,  True,  True,  True,  True,  True],\n",
       "       [ True,  True,  True,  True,  True,  True,  True],\n",
       "       [ True,  True,  True,  True,  True,  True,  True],\n",
       "       [ True,  True,  True,  True,  True,  True,  True],\n",
       "       [False,  True,  True,  True,  True,  True,  True],\n",
       "       [ True,  True,  True,  True, False, False, False],\n",
       "       [ True,  True,  True,  True,  True,  True,  True],\n",
       "       [False,  True, False,  True, False,  True,  True],\n",
       "       [False,  True, False,  True, False,  True, False],\n",
       "       [ True,  True,  True,  True, False, False,  True],\n",
       "       [ True,  True,  True,  True,  True,  True,  True],\n",
       "       [ True,  True,  True,  True,  True,  True,  True],\n",
       "       [False,  True, False, False, False,  True,  True],\n",
       "       [False,  True, False, False, False,  True,  True],\n",
       "       [False, False, False, False, False,  True,  True],\n",
       "       [ True,  True,  True,  True,  True, False,  True],\n",
       "       [ True, False, False, False, False,  True,  True],\n",
       "       [False, False, False, False, False,  True,  True]])"
      ]
     },
     "execution_count": 36,
     "metadata": {},
     "output_type": "execute_result"
    }
   ],
   "source": [
    "np.isin(cliques1_7, cliques2_7)"
   ]
  },
  {
   "cell_type": "code",
   "execution_count": 23,
   "metadata": {},
   "outputs": [],
   "source": [
    "mask = [(i in cliques2_7) for i in cliques1_7]\n",
    "cliques_interseccion_1 = cliques1_7[mask]\n",
    "\n",
    "mask = [(i in cliques1_7) for i in cliques2_7]\n",
    "cliques_interseccion_2 = cliques2_7[mask]"
   ]
  },
  {
   "cell_type": "code",
   "execution_count": 25,
   "metadata": {},
   "outputs": [
    {
     "data": {
      "text/plain": [
       "array([[ 31,  61,  64, 128,  63,  62, 127],\n",
       "       [ 90,  96,  97,  80,  91,  92,  93],\n",
       "       [ 81,  80,  97,  65,  66,  82,  83],\n",
       "       [ 81,  80,  97,  65,  66,  82,  67],\n",
       "       [ 81,  80,  97,  96,  82,  66,  67]])"
      ]
     },
     "execution_count": 25,
     "metadata": {},
     "output_type": "execute_result"
    }
   ],
   "source": [
    "cliques_interseccion_1[:5]"
   ]
  },
  {
   "cell_type": "code",
   "execution_count": 29,
   "metadata": {},
   "outputs": [
    {
     "data": {
      "text/plain": [
       "array([[ 31,  60,  63, 127,  64,  61,  62],\n",
       "       [ 81,  66,  67,  80,  97,  82,  65],\n",
       "       [ 81,  66,  67,  80,  97,  82,  96],\n",
       "       [ 79,  67,  80,  81,  66,  68,  78],\n",
       "       [ 77,  67,  68,  69,  78, 121,  79],\n",
       "       [ 77,  67,  68,  69,  78, 121, 122],\n",
       "       [ 77,  67,  68,  69,  78,  80,  79],\n",
       "       [ 70,  69,  76, 120, 121, 122,  68],\n",
       "       [ 95, 109,  96,  97, 108,  80,  67],\n",
       "       [ 70,  69, 139, 120, 121, 122,  68],\n",
       "       [ 64,  65,  66, 126, 124, 125, 134],\n",
       "       [ 63,  64,  65,  82,  83,  84,  85],\n",
       "       [ 61, 128,  64,  84,  63,  62, 127],\n",
       "       [126, 134, 125, 135, 124,  65,  35],\n",
       "       [ 60,  61,  64,  84,  63,  62,  85],\n",
       "       [ 58, 103, 104, 105, 102,  59,  60],\n",
       "       [ 56,  55, 105,  36,  35,  37,  54],\n",
       "       [ 70,  72,  71,  74,  76,  73,  75],\n",
       "       [ 51, 109,  97, 108,  95,  96, 110],\n",
       "       [ 97, 108, 107, 106,  98,  99,  54],\n",
       "       [ 97, 108, 107, 106,  98,  53,  54],\n",
       "       [126, 128, 129, 131, 132, 133, 127],\n",
       "       [123, 122,  37, 137,  54,  36,  38],\n",
       "       [123, 122,  67, 121,  68,  69,  78],\n",
       "       [123, 122,  66,  67,  68, 124,  78],\n",
       "       [123, 122,  66,  67,  68, 124, 136],\n",
       "       [123,  55,  37,  54,  36, 137,  38],\n",
       "       [123,  55,  37,  54,  36, 137,  35],\n",
       "       [ 97, 108, 107, 106,  98,  53, 109],\n",
       "       [123,  53,  37,  54,  38,  55,  52],\n",
       "       [120, 141, 140, 121,  69, 122, 139],\n",
       "       [115, 144, 143, 118, 119, 116, 117],\n",
       "       [115, 144, 143, 118, 142, 117, 119],\n",
       "       [107,  52,  37,  38,  53,  54,  55],\n",
       "       [106,  37, 107,  52,  53,  54,  55],\n",
       "       [106,  37, 107,  52,  53,  54, 108],\n",
       "       [105,  37,  54,  55,  53, 106, 107],\n",
       "       [123,  53,  37,  54,  38,  55,  36],\n",
       "       [ 51, 109,  97, 108, 107,  52, 110],\n",
       "       [ 60,  61,  64,  84,  63,  62, 127],\n",
       "       [ 51, 109,  97, 108, 107,  96, 110],\n",
       "       [ 31,  61, 128,  64,  63,  62, 127],\n",
       "       [ 31, 126, 128, 127,  64,  62,  63],\n",
       "       [ 31, 126, 128, 127, 129, 132, 133],\n",
       "       [ 31, 126, 128, 127, 129, 132,  63],\n",
       "       [ 31, 126, 128, 127, 129,  62,  63],\n",
       "       [ 31, 126, 134, 125,  65,  35, 135],\n",
       "       [ 31, 126, 134, 125,  65, 127, 135],\n",
       "       [ 39,  38, 139,  40, 140,  41, 141],\n",
       "       [ 42, 142, 143,  43,  44, 144, 118],\n",
       "       [ 43, 143,  44, 144, 145,  45,  46],\n",
       "       [ 43, 143,  44, 144,  45,  50,  46],\n",
       "       [ 42, 142, 143,  43,  44, 144,  50],\n",
       "       [127, 130, 128, 129, 131, 132, 133],\n",
       "       [ 50, 110, 109,  51, 108, 107,  52],\n",
       "       [ 46, 117, 113, 114, 143, 144, 115],\n",
       "       [ 46, 117, 113, 114, 143, 144,  50]])"
      ]
     },
     "execution_count": 29,
     "metadata": {},
     "output_type": "execute_result"
    }
   ],
   "source": [
    "cliques2_7"
   ]
  },
  {
   "cell_type": "code",
   "execution_count": 26,
   "metadata": {},
   "outputs": [
    {
     "data": {
      "text/plain": [
       "array([[ 31,  61,  64, 128,  63,  62, 127],\n",
       "       [ 90,  96,  97,  80,  91,  92,  93],\n",
       "       [ 83,  86,  84,  88,  89,  85,  87],\n",
       "       [ 81,  80,  97,  65,  66,  82,  83],\n",
       "       [ 81,  80,  97,  65,  66,  82,  67],\n",
       "       [ 81,  80,  97,  96,  82,  66,  67],\n",
       "       [ 79, 110,  96,  97, 108, 109,  95],\n",
       "       [ 79,  93,  96,  97, 109,  95, 110],\n",
       "       [ 79,  93,  96,  97, 109,  95,  80],\n",
       "       [ 79,  67,  80,  78,  81,  68,  95],\n",
       "       [ 79,  67,  80,  78,  81,  68,  66],\n",
       "       [ 79,  67,  80, 108,  68,  81,  95],\n",
       "       [ 79,  67,  80, 108,  68,  81,  66],\n",
       "       [ 79,  94,  96, 109,  93,  95, 110],\n",
       "       [ 79,  94,  96, 109,  93,  95,  80],\n",
       "       [126, 134, 135, 125, 136,  66, 124],\n",
       "       [ 76,  68,  69, 121,  67,  78, 122],\n",
       "       [ 70,  69, 121,  78, 122,  68,  76],\n",
       "       [ 70,  69, 121,  77,  76,  68,  78],\n",
       "       [ 70,  69, 121, 120, 119, 140, 141],\n",
       "       [ 91,  96,  80,  97,  92,  95,  93],\n",
       "       [ 70,  69, 121, 120, 122,  68,  76],\n",
       "       [ 91,  96,  80,  97, 109,  93,  95],\n",
       "       [ 91,  96,  80,  94,  93,  95, 109],\n",
       "       [123, 122,  37, 108,  54,  52,  38],\n",
       "       [123, 122,  37, 137,  54,  36,  38],\n",
       "       [123, 122,  67,  69, 121,  68,  78],\n",
       "       [123, 122,  66,  67,  68, 136, 124],\n",
       "       [123,  55,  36,  37, 137,  54,  38],\n",
       "       [123,  55,  36,  37, 137,  54,  35],\n",
       "       [123,  53,  37,  38,  54,  36,  55],\n",
       "       [123,  53,  37,  38,  54, 108,  52],\n",
       "       [123, 135, 136, 124,  35, 137, 125],\n",
       "       [123, 135, 136, 124,  35, 137,  36],\n",
       "       [123, 134, 136,  66, 124, 125, 135],\n",
       "       [123,  65,  66, 124, 125, 134, 135],\n",
       "       [119, 142, 140,  69, 120, 121, 141],\n",
       "       [118, 142, 119, 141, 120, 121,  69],\n",
       "       [ 97, 108, 107, 106,  53,  52,  54],\n",
       "       [ 97, 108, 107, 106,  53,  52, 109],\n",
       "       [ 97, 108, 107, 106,  53,  98, 109],\n",
       "       [ 94, 109,  95, 110, 111, 113, 112],\n",
       "       [ 93,  96, 109, 111,  94, 110,  95],\n",
       "       [ 91,  96,  80,  94,  93,  95,  92],\n",
       "       [ 64,  65,  66, 125, 124, 126, 134],\n",
       "       [126, 134, 135, 125,  65,  66, 124],\n",
       "       [ 56, 105,  55,  36,  35,  37,  54],\n",
       "       [ 42, 142,  44,  43, 144, 118, 143],\n",
       "       [ 41, 141, 119, 142, 140, 120, 121],\n",
       "       [ 40, 140, 121,  41, 141,  52, 142],\n",
       "       [ 40, 140, 120,  41, 121, 141, 142],\n",
       "       [ 40, 140, 120,  41, 121, 141, 139],\n",
       "       [ 39,  38, 139,  40, 140,  41, 141],\n",
       "       [ 34,  35, 125, 135, 136, 137, 124],\n",
       "       [ 58, 104, 103,  59,  60, 105, 102],\n",
       "       [ 34,  35,  36, 137, 136, 124, 135],\n",
       "       [ 33,  34,  60,  55,  56,  57,  58],\n",
       "       [ 33,  34,  35,  56,  57,  58,  55],\n",
       "       [ 33, 104,  55,  56,  57,  58,  35],\n",
       "       [ 31, 126, 127,  62, 129, 128,  63],\n",
       "       [ 31, 126, 127, 125, 135, 133, 134],\n",
       "       [ 31, 126, 127, 132, 133, 134, 135],\n",
       "       [ 31, 126, 127,  64,  63, 128,  62],\n",
       "       [ 34, 126, 134, 135, 136, 124, 125],\n",
       "       [ 44, 113,  45,  50,  48,  49,  47],\n",
       "       [ 43, 145,  44, 143, 144, 142, 118],\n",
       "       [ 49, 110, 111, 109, 112, 113,  50],\n",
       "       [ 49, 110, 111, 109, 112, 113,  94],\n",
       "       [ 50, 109, 110,  95, 111, 112, 113],\n",
       "       [ 51, 108,  97, 109,  96, 110,  95],\n",
       "       [ 51, 108,  97, 109,  52, 107,  53],\n",
       "       [ 48, 110, 111, 112,  49, 113, 114],\n",
       "       [ 48, 110, 111, 112,  49, 113,  50],\n",
       "       [ 47, 111,  48, 112,  49, 113, 114],\n",
       "       [ 56, 105,  55, 104,  58,  57,  35],\n",
       "       [ 45, 112,  47,  48,  49, 113,  50],\n",
       "       [ 47, 111,  48, 112,  49, 113,  50]])"
      ]
     },
     "execution_count": 26,
     "metadata": {},
     "output_type": "execute_result"
    }
   ],
   "source": [
    "cliques1_7[:]"
   ]
  },
  {
   "cell_type": "code",
   "execution_count": null,
   "metadata": {},
   "outputs": [],
   "source": []
  },
  {
   "cell_type": "code",
   "execution_count": null,
   "metadata": {},
   "outputs": [],
   "source": []
  },
  {
   "cell_type": "code",
   "execution_count": 102,
   "metadata": {},
   "outputs": [],
   "source": [
    "mask = [(i not in cliques2_7) for i in cliques1_7]\n",
    "cliques1_not_in_cliques2 = cliques1_7[mask]\n",
    "\n",
    "mask = [(i not in cliques1_7) for i in cliques2_7]\n",
    "cliques2_not_in_cliques1 = cliques2_7[mask]"
   ]
  }
 ],
 "metadata": {
  "kernelspec": {
   "display_name": "Python 3",
   "language": "python",
   "name": "python3"
  },
  "language_info": {
   "codemirror_mode": {
    "name": "ipython",
    "version": 3
   },
   "file_extension": ".py",
   "mimetype": "text/x-python",
   "name": "python",
   "nbconvert_exporter": "python",
   "pygments_lexer": "ipython3",
   "version": "3.6.6"
  }
 },
 "nbformat": 4,
 "nbformat_minor": 2
}
