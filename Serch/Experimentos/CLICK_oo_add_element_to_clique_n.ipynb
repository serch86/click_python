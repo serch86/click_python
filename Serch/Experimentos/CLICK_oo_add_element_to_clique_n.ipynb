{
 "cells": [
  {
   "cell_type": "markdown",
   "metadata": {},
   "source": [
    "# Algoritmo de desarrollo orientado a objetos y numpy\n",
    "Se busca probar las funciones y scripts para obtener una mayor rapidez de ejecucion.\n",
    "Se generan los algoritmos necesarios para el desarrollo del algoritmo que compare ambas estructuras\n",
    "Basandose en la estructura como esta en start_oo.py"
   ]
  },
  {
   "cell_type": "code",
   "execution_count": 6,
   "metadata": {},
   "outputs": [
    {
     "ename": "ModuleNotFoundError",
     "evalue": "No module named 'read_pdb_tools'",
     "output_type": "error",
     "traceback": [
      "\u001b[0;31m---------------------------------------------------------------------------\u001b[0m",
      "\u001b[0;31mModuleNotFoundError\u001b[0m                       Traceback (most recent call last)",
      "\u001b[0;32m<ipython-input-6-59ae4d00662d>\u001b[0m in \u001b[0;36m<module>\u001b[0;34m()\u001b[0m\n\u001b[1;32m      4\u001b[0m \u001b[0;32mimport\u001b[0m \u001b[0msys\u001b[0m\u001b[0;34m\u001b[0m\u001b[0m\n\u001b[1;32m      5\u001b[0m \u001b[0;31m# herramientas para leer pdbs\u001b[0m\u001b[0;34m\u001b[0m\u001b[0;34m\u001b[0m\u001b[0m\n\u001b[0;32m----> 6\u001b[0;31m \u001b[0;32mimport\u001b[0m \u001b[0mread_pdb_tools\u001b[0m \u001b[0;32mas\u001b[0m \u001b[0mrpt\u001b[0m\u001b[0;34m\u001b[0m\u001b[0m\n\u001b[0m\u001b[1;32m      7\u001b[0m \u001b[0;31m# calculo de distancia\u001b[0m\u001b[0;34m\u001b[0m\u001b[0;34m\u001b[0m\u001b[0m\n\u001b[1;32m      8\u001b[0m \u001b[0;32mfrom\u001b[0m \u001b[0mscipy\u001b[0m\u001b[0;34m.\u001b[0m\u001b[0mspatial\u001b[0m\u001b[0;34m.\u001b[0m\u001b[0mdistance\u001b[0m \u001b[0;32mimport\u001b[0m \u001b[0mpdist\u001b[0m\u001b[0;34m,\u001b[0m \u001b[0msquareform\u001b[0m\u001b[0;34m\u001b[0m\u001b[0m\n",
      "\u001b[0;31mModuleNotFoundError\u001b[0m: No module named 'read_pdb_tools'"
     ]
    }
   ],
   "source": [
    "# librerias que utilizaras\n",
    "import numpy as np\n",
    "# por si no te lee las tools o functions creadas\n",
    "import sys\n",
    "# herramientas para leer pdbs\n",
    "import read_pdb_tools as rpt\n",
    "# calculo de distancia\n",
    "from scipy.spatial.distance import pdist, squareform\n",
    "# libreria de tablas\n",
    "import pandas as pd\n",
    "# funciones de click generadas en pandas\n",
    "import funciones_CLICK as fc\n",
    "# iteradores\n",
    "import itertools as it\n",
    "# cuenta tiempo de ejecucion\n",
    "import datetime\n",
    "#distancia\n",
    "from scipy.spatial import distance\n",
    "#multiprocesamiento\n",
    "import multiprocessing\n",
    "from functools import partial"
   ]
  },
  {
   "cell_type": "code",
   "execution_count": 2,
   "metadata": {},
   "outputs": [
    {
     "ename": "NameError",
     "evalue": "name 'datetime' is not defined",
     "output_type": "error",
     "traceback": [
      "\u001b[0;31m---------------------------------------------------------------------------\u001b[0m",
      "\u001b[0;31mNameError\u001b[0m                                 Traceback (most recent call last)",
      "\u001b[0;32m<ipython-input-2-b97f5ad04d08>\u001b[0m in \u001b[0;36m<module>\u001b[0;34m()\u001b[0m\n\u001b[0;32m----> 1\u001b[0;31m \u001b[0mtiempo\u001b[0m \u001b[0;34m=\u001b[0m  \u001b[0mdatetime\u001b[0m\u001b[0;34m.\u001b[0m\u001b[0mdatetime\u001b[0m\u001b[0;34m.\u001b[0m\u001b[0mnow\u001b[0m\u001b[0;34m(\u001b[0m\u001b[0;34m)\u001b[0m\u001b[0;34m\u001b[0m\u001b[0m\n\u001b[0m",
      "\u001b[0;31mNameError\u001b[0m: name 'datetime' is not defined"
     ]
    }
   ],
   "source": [
    "tiempo =  datetime.datetime.now()"
   ]
  },
  {
   "cell_type": "code",
   "execution_count": 3,
   "metadata": {},
   "outputs": [],
   "source": [
    "# assert( len(sys.argv) > 1)\n",
    "# lectura de archivo\n",
    "file1 = 'pdbs/1xxa.pdb' # sys.argv[1]\n",
    "file2 = 'pdbs/1tig.pdb' # sys.argv[2]\n",
    "\n",
    "# numero de cliques, preguntar en el software para generalizarlo...\n",
    "num_cliques = 3\n",
    "\n",
    "# se define la estructura\n",
    "pdb1 = rpt.PdbStruct(file1)\n",
    "pdb2 = rpt.PdbStruct(file2)\n",
    "\n",
    "# se lee el pdb y se agrega al objeto\n",
    "pdb1.AddPdbData(\"%s\" % file1)\n",
    "pdb2.AddPdbData(\"%s\" % file2)\n",
    "\n",
    "# se obtienen los residuos que perteneces a la cadena de interes por default chain = 'A'\n",
    "pdb11 = pdb1.GetResChain()\n",
    "pdb22 = pdb2.GetResChain()\n",
    "# se pega a la tabla la estructura secundaria\n",
    "ss1 = pdb1.Set_SS()\n",
    "ss2 = pdb1.Set_SS()"
   ]
  },
  {
   "cell_type": "code",
   "execution_count": 4,
   "metadata": {},
   "outputs": [],
   "source": [
    "# # se crea atributo a cada residuo de la estructura secundaria\n",
    "# for i, j in zip(pdb11, ss1.structure.values):\n",
    "#     setattr(i, 'structure', j)\n",
    "# for i, j in zip(pdb22, ss2.structure.values):\n",
    "#     setattr(i, 'structure', j)"
   ]
  },
  {
   "cell_type": "code",
   "execution_count": 5,
   "metadata": {},
   "outputs": [],
   "source": [
    "def get_df_distancias(ref):\n",
    "    \"\"\"Funcion para obtener el dataframe de distancias de cada proteina\"\"\"\n",
    "    # se generan listas con coordenadas y numero de atomo\n",
    "    coord = [res.GetAtom('CA').coord for res in ref]\n",
    "    index = [res.resi for res in ref]\n",
    "\n",
    "    # calcula distancia y regresa dataframe\n",
    "    distancias = []\n",
    "    # se calcula la distancia euclidiana entre cada atomo de carbon alfalfa\n",
    "    for v in coord:\n",
    "        distancia_un_atomo = []\n",
    "        for av in coord:\n",
    "            distancia = pdist(np.array([v, av]), metric='euclidean').item()\n",
    "            distancia_un_atomo.append(distancia)\n",
    "        distancias.append(distancia_un_atomo)\n",
    "\n",
    "    # se genera la matriz de adyacencias para la red\n",
    "    df_da = pd.DataFrame(index=index, columns=index, data=distancias)\n",
    "    return(df_da, index)\n",
    "\n",
    "\n",
    "df_distancias1, index1 = get_df_distancias(pdb11)\n",
    "df_distancias2, index2 = get_df_distancias(pdb22)"
   ]
  },
  {
   "cell_type": "code",
   "execution_count": 6,
   "metadata": {},
   "outputs": [
    {
     "name": "stdout",
     "output_type": "stream",
     "text": [
      "numero de cliques maximos encontrados: 158\n",
      "numero de 3-cliques posibles: 1787\n",
      "****************************************************************************************************\n",
      "numero de cliques maximos encontrados: 246\n",
      "numero de 3-cliques posibles: 2102\n",
      "****************************************************************************************************\n"
     ]
    }
   ],
   "source": [
    "# se generan cliques, tte devuleve dataframe con cliques de 3 y la lista de cliques sin partir\n",
    "df_cliques1, cliques1 = fc.gen_3_cliques(df_distancias1, dth=10, k=num_cliques)\n",
    "print('**'*50)\n",
    "df_cliques2, cliques2 = fc.gen_3_cliques(df_distancias2, dth=10, k=num_cliques)\n",
    "print('**'*50)"
   ]
  },
  {
   "cell_type": "code",
   "execution_count": 7,
   "metadata": {},
   "outputs": [
    {
     "data": {
      "text/html": [
       "<div>\n",
       "<style scoped>\n",
       "    .dataframe tbody tr th:only-of-type {\n",
       "        vertical-align: middle;\n",
       "    }\n",
       "\n",
       "    .dataframe tbody tr th {\n",
       "        vertical-align: top;\n",
       "    }\n",
       "\n",
       "    .dataframe thead th {\n",
       "        text-align: right;\n",
       "    }\n",
       "</style>\n",
       "<table border=\"1\" class=\"dataframe\">\n",
       "  <thead>\n",
       "    <tr style=\"text-align: right;\">\n",
       "      <th></th>\n",
       "      <th>0</th>\n",
       "      <th>1</th>\n",
       "      <th>2</th>\n",
       "    </tr>\n",
       "  </thead>\n",
       "  <tbody>\n",
       "    <tr>\n",
       "      <th>0</th>\n",
       "      <td>96</td>\n",
       "      <td>97</td>\n",
       "      <td>132</td>\n",
       "    </tr>\n",
       "    <tr>\n",
       "      <th>1</th>\n",
       "      <td>89</td>\n",
       "      <td>97</td>\n",
       "      <td>132</td>\n",
       "    </tr>\n",
       "    <tr>\n",
       "      <th>2</th>\n",
       "      <td>97</td>\n",
       "      <td>98</td>\n",
       "      <td>132</td>\n",
       "    </tr>\n",
       "    <tr>\n",
       "      <th>3</th>\n",
       "      <td>97</td>\n",
       "      <td>91</td>\n",
       "      <td>132</td>\n",
       "    </tr>\n",
       "    <tr>\n",
       "      <th>4</th>\n",
       "      <td>96</td>\n",
       "      <td>89</td>\n",
       "      <td>132</td>\n",
       "    </tr>\n",
       "  </tbody>\n",
       "</table>\n",
       "</div>"
      ],
      "text/plain": [
       "    0   1    2\n",
       "0  96  97  132\n",
       "1  89  97  132\n",
       "2  97  98  132\n",
       "3  97  91  132\n",
       "4  96  89  132"
      ]
     },
     "execution_count": 7,
     "metadata": {},
     "output_type": "execute_result"
    }
   ],
   "source": [
    "df_cliques1.head()"
   ]
  },
  {
   "cell_type": "code",
   "execution_count": 8,
   "metadata": {},
   "outputs": [],
   "source": [
    "def get_df_ca(list_of_residues):\n",
    "    \"\"\"Genera dataframe con la informacion necesaria para las siguientes funciones\n",
    "    FALTA DOCUMENTAR ESTA COSA!!!!\"\"\"\n",
    "    #crear df_ca\n",
    "    atom_number = []\n",
    "    atom_name = []\n",
    "    residue_name = []\n",
    "    residue_number = []\n",
    "    coord = []\n",
    "    for res in list_of_residues:\n",
    "        for atom in res.atoms:\n",
    "            atom_number.append(atom.atom_number)\n",
    "            atom_name.append(atom.name)\n",
    "            residue_name.append(res.resn)\n",
    "            residue_number.append(res.resi)\n",
    "            coord.append(atom.coord)\n",
    "\n",
    "    df_atoms = pd.DataFrame(columns=['atom_number', 'atom_name', 'residue_name',\n",
    "                                   'residue_number', 'vector'])\n",
    "    df_atoms.atom_number = atom_number\n",
    "    df_atoms.atom_name = atom_name\n",
    "    df_atoms.residue_name = residue_name\n",
    "    df_atoms.residue_number = residue_number\n",
    "    df_atoms.vector = coord\n",
    "\n",
    "    return(df_atoms)\n",
    "\n",
    "\n",
    "# CREAR DF_atomos_CA #\n",
    "df_atoms1 = get_df_ca(pdb11)\n",
    "df_atoms2 = get_df_ca(pdb22)"
   ]
  },
  {
   "cell_type": "code",
   "execution_count": 9,
   "metadata": {},
   "outputs": [
    {
     "name": "stdout",
     "output_type": "stream",
     "text": [
      "C   43.66197\n",
      "B   32.39437\n",
      "H   23.94366\n",
      "Name: structure, dtype: float64\n",
      "****************************************************************************************************\n",
      "B   35.22727\n",
      "H   35.22727\n",
      "C   29.54545\n",
      "Name: structure, dtype: float64\n"
     ]
    }
   ],
   "source": [
    "ss1 = fc.mini_dssp(file1, index1)\n",
    "print('**'*50)\n",
    "ss2 = fc.mini_dssp(file2, index2)"
   ]
  },
  {
   "cell_type": "code",
   "execution_count": 10,
   "metadata": {},
   "outputs": [],
   "source": [
    "# se le pega la estructura secundaria al dataframe de los cliques\n",
    "# esto va a cambiar por que lo tiene que obtener del objeto residuo\n",
    "# ya se crea en ss1 y no cuesta reevaluar si es mejor desde el residuo\n",
    "# checar que es mas rapido si desde residuo o desde dataframe ss\n",
    "df_cliques1 = fc.paste_SS(ss1, df_cliques1, num_cliques = num_cliques)\n",
    "df_cliques2 = fc.paste_SS(ss2, df_cliques2, num_cliques = num_cliques)"
   ]
  },
  {
   "cell_type": "code",
   "execution_count": 11,
   "metadata": {},
   "outputs": [],
   "source": [
    "# comparacion SSM #aqui se obtienen los candidatos posibles pasando el filtro de SS\n",
    "candidatos_ss = fc.compare_SS(df_cliques1,df_cliques2, num_cliques=num_cliques)"
   ]
  },
  {
   "cell_type": "code",
   "execution_count": 12,
   "metadata": {},
   "outputs": [],
   "source": [
    "# get coords of cliques\n",
    "df_cliques1 = fc.get_coords_clique(df_atoms1, df_cliques1, num_cliques)\n",
    "df_cliques2 = fc.get_coords_clique(df_atoms2, df_cliques2, num_cliques)"
   ]
  },
  {
   "cell_type": "code",
   "execution_count": 13,
   "metadata": {},
   "outputs": [],
   "source": [
    "# baricentro clique\n",
    "df_cliques1 = fc.baricenter_clique(df_cliques1, num_cliques)\n",
    "df_cliques2 = fc.baricenter_clique(df_cliques2, num_cliques)"
   ]
  },
  {
   "cell_type": "code",
   "execution_count": 14,
   "metadata": {},
   "outputs": [
    {
     "data": {
      "text/html": [
       "<div>\n",
       "<style scoped>\n",
       "    .dataframe tbody tr th:only-of-type {\n",
       "        vertical-align: middle;\n",
       "    }\n",
       "\n",
       "    .dataframe tbody tr th {\n",
       "        vertical-align: top;\n",
       "    }\n",
       "\n",
       "    .dataframe thead th {\n",
       "        text-align: right;\n",
       "    }\n",
       "</style>\n",
       "<table border=\"1\" class=\"dataframe\">\n",
       "  <thead>\n",
       "    <tr style=\"text-align: right;\">\n",
       "      <th></th>\n",
       "      <th>0</th>\n",
       "      <th>1</th>\n",
       "      <th>2</th>\n",
       "      <th>ss_0</th>\n",
       "      <th>ss_1</th>\n",
       "      <th>ss_2</th>\n",
       "      <th>coord_clique_0</th>\n",
       "      <th>coord_clique_1</th>\n",
       "      <th>coord_clique_2</th>\n",
       "      <th>matriz_coordenadas</th>\n",
       "      <th>baricentro_clique</th>\n",
       "    </tr>\n",
       "  </thead>\n",
       "  <tbody>\n",
       "    <tr>\n",
       "      <th>0</th>\n",
       "      <td>96</td>\n",
       "      <td>97</td>\n",
       "      <td>132</td>\n",
       "      <td>B</td>\n",
       "      <td>B</td>\n",
       "      <td>B</td>\n",
       "      <td>[22.136, 75.657, 3.038]</td>\n",
       "      <td>[21.002, 74.191, 0.793]</td>\n",
       "      <td>[23.896, 66.017, 14.309]</td>\n",
       "      <td>[[22.136, 75.657, 3.038], [21.002, 74.191, 0.793], [23.896, 66.017, 14.309]]</td>\n",
       "      <td>[22.344666666666665, 71.955, 6.046666666666667]</td>\n",
       "    </tr>\n",
       "    <tr>\n",
       "      <th>1</th>\n",
       "      <td>89</td>\n",
       "      <td>97</td>\n",
       "      <td>132</td>\n",
       "      <td>B</td>\n",
       "      <td>B</td>\n",
       "      <td>B</td>\n",
       "      <td>[19.611, 70.025, 3.301]</td>\n",
       "      <td>[21.002, 74.191, 0.793]</td>\n",
       "      <td>[23.896, 66.017, 14.309]</td>\n",
       "      <td>[[19.611, 70.025, 3.301], [21.002, 74.191, 0.793], [23.896, 66.017, 14.309]]</td>\n",
       "      <td>[21.503, 70.07766666666667, 6.134333333333333]</td>\n",
       "    </tr>\n",
       "    <tr>\n",
       "      <th>2</th>\n",
       "      <td>97</td>\n",
       "      <td>98</td>\n",
       "      <td>132</td>\n",
       "      <td>B</td>\n",
       "      <td>B</td>\n",
       "      <td>B</td>\n",
       "      <td>[21.002, 74.191, 0.793]</td>\n",
       "      <td>[21.017, 73.308, -0.443]</td>\n",
       "      <td>[23.896, 66.017, 14.309]</td>\n",
       "      <td>[[21.002, 74.191, 0.793], [21.017, 73.308, -0.443], [23.896, 66.017, 14.309]]</td>\n",
       "      <td>[21.971666666666664, 71.17200000000001, 4.886333333333333]</td>\n",
       "    </tr>\n",
       "    <tr>\n",
       "      <th>3</th>\n",
       "      <td>97</td>\n",
       "      <td>91</td>\n",
       "      <td>132</td>\n",
       "      <td>B</td>\n",
       "      <td>B</td>\n",
       "      <td>B</td>\n",
       "      <td>[21.002, 74.191, 0.793]</td>\n",
       "      <td>[19.973, 71.736, 4.932]</td>\n",
       "      <td>[23.896, 66.017, 14.309]</td>\n",
       "      <td>[[21.002, 74.191, 0.793], [19.973, 71.736, 4.932], [23.896, 66.017, 14.309]]</td>\n",
       "      <td>[21.623666666666665, 70.64800000000001, 6.678]</td>\n",
       "    </tr>\n",
       "    <tr>\n",
       "      <th>4</th>\n",
       "      <td>96</td>\n",
       "      <td>89</td>\n",
       "      <td>132</td>\n",
       "      <td>B</td>\n",
       "      <td>B</td>\n",
       "      <td>B</td>\n",
       "      <td>[22.136, 75.657, 3.038]</td>\n",
       "      <td>[19.611, 70.025, 3.301]</td>\n",
       "      <td>[23.896, 66.017, 14.309]</td>\n",
       "      <td>[[22.136, 75.657, 3.038], [19.611, 70.025, 3.301], [23.896, 66.017, 14.309]]</td>\n",
       "      <td>[21.881, 70.56633333333333, 6.882666666666666]</td>\n",
       "    </tr>\n",
       "  </tbody>\n",
       "</table>\n",
       "</div>"
      ],
      "text/plain": [
       "    0   1    2 ss_0 ss_1 ss_2           coord_clique_0  \\\n",
       "0  96  97  132  B    B    B    [22.136, 75.657, 3.038]   \n",
       "1  89  97  132  B    B    B    [19.611, 70.025, 3.301]   \n",
       "2  97  98  132  B    B    B    [21.002, 74.191, 0.793]   \n",
       "3  97  91  132  B    B    B    [21.002, 74.191, 0.793]   \n",
       "4  96  89  132  B    B    B    [22.136, 75.657, 3.038]   \n",
       "\n",
       "             coord_clique_1            coord_clique_2  \\\n",
       "0  [21.002, 74.191, 0.793]   [23.896, 66.017, 14.309]   \n",
       "1  [21.002, 74.191, 0.793]   [23.896, 66.017, 14.309]   \n",
       "2  [21.017, 73.308, -0.443]  [23.896, 66.017, 14.309]   \n",
       "3  [19.973, 71.736, 4.932]   [23.896, 66.017, 14.309]   \n",
       "4  [19.611, 70.025, 3.301]   [23.896, 66.017, 14.309]   \n",
       "\n",
       "                                                              matriz_coordenadas  \\\n",
       "0  [[22.136, 75.657, 3.038], [21.002, 74.191, 0.793], [23.896, 66.017, 14.309]]    \n",
       "1  [[19.611, 70.025, 3.301], [21.002, 74.191, 0.793], [23.896, 66.017, 14.309]]    \n",
       "2  [[21.002, 74.191, 0.793], [21.017, 73.308, -0.443], [23.896, 66.017, 14.309]]   \n",
       "3  [[21.002, 74.191, 0.793], [19.973, 71.736, 4.932], [23.896, 66.017, 14.309]]    \n",
       "4  [[22.136, 75.657, 3.038], [19.611, 70.025, 3.301], [23.896, 66.017, 14.309]]    \n",
       "\n",
       "                                            baricentro_clique  \n",
       "0  [22.344666666666665, 71.955, 6.046666666666667]             \n",
       "1  [21.503, 70.07766666666667, 6.134333333333333]              \n",
       "2  [21.971666666666664, 71.17200000000001, 4.886333333333333]  \n",
       "3  [21.623666666666665, 70.64800000000001, 6.678]              \n",
       "4  [21.881, 70.56633333333333, 6.882666666666666]              "
      ]
     },
     "execution_count": 14,
     "metadata": {},
     "output_type": "execute_result"
    }
   ],
   "source": [
    "df_cliques1.head()"
   ]
  },
  {
   "cell_type": "code",
   "execution_count": 15,
   "metadata": {},
   "outputs": [],
   "source": [
    "# vectores gorro\n",
    "df_cliques1 = fc.center_vectors(df_cliques1, num_cliques)\n",
    "df_cliques2 = fc.center_vectors(df_cliques2, num_cliques)"
   ]
  },
  {
   "cell_type": "code",
   "execution_count": 16,
   "metadata": {},
   "outputs": [
    {
     "name": "stdout",
     "output_type": "stream",
     "text": [
      "0 0\n",
      "1 1\n",
      "2 2\n",
      "3 ss_0\n",
      "4 ss_1\n",
      "5 ss_2\n",
      "6 coord_clique_0\n",
      "7 coord_clique_1\n",
      "8 coord_clique_2\n",
      "9 matriz_coordenadas\n",
      "10 baricentro_clique\n",
      "11 vec_gorro_0\n",
      "12 vec_gorro_1\n",
      "13 vec_gorro_2\n",
      "14 vectores_gorro\n"
     ]
    }
   ],
   "source": [
    "for i,j in enumerate(df_cliques1.columns):\n",
    "    print(i,j)"
   ]
  },
  {
   "cell_type": "code",
   "execution_count": 17,
   "metadata": {},
   "outputs": [],
   "source": [
    "idx_rmsd1, idx_rmsd2 = 3*num_cliques, 4*num_cliques+3\n",
    "# print(list(range(idx_rmsd1,idx_rmsd2)))\n",
    "# se pasan a numpy arrays para mayor rapidez\n",
    "array_df_cliques1 = df_cliques1.values[:, range(idx_rmsd1, idx_rmsd2)] #del 9 al 15\n",
    "array_df_cliques2 = df_cliques2.values[:, range(idx_rmsd1, idx_rmsd2)]"
   ]
  },
  {
   "cell_type": "code",
   "execution_count": 18,
   "metadata": {},
   "outputs": [
    {
     "name": "stdout",
     "output_type": "stream",
     "text": [
      "1705808\n"
     ]
    }
   ],
   "source": [
    "#calculo del RMSD\n",
    "print(len(candidatos_ss))"
   ]
  },
  {
   "cell_type": "markdown",
   "metadata": {},
   "source": [
    "# Codigo que restringe candidatos"
   ]
  },
  {
   "cell_type": "code",
   "execution_count": 19,
   "metadata": {},
   "outputs": [],
   "source": [
    "df_cliques1 = fc.get_distancia_promedio(num_cliques, df_cliques1)\n",
    "df_cliques2 = fc.get_distancia_promedio(num_cliques, df_cliques2)\n",
    "\n",
    "array_dist_promedio1 = df_cliques1.values[:, -1]  # el ultimo valor de distancia.\n",
    "array_dist_promedio2 = df_cliques2.values[:, -1]"
   ]
  },
  {
   "cell_type": "code",
   "execution_count": 20,
   "metadata": {},
   "outputs": [
    {
     "name": "stdout",
     "output_type": "stream",
     "text": [
      "1705808\n",
      "253993\n"
     ]
    }
   ],
   "source": [
    "limite_distancia_minima = 0.45\n",
    "if num_cliques == 4:\n",
    "    limite_distancia_minima = 0.9\n",
    "if num_cliques == 5:\n",
    "    limite_distancia_minima = 1.8\n",
    "if num_cliques == 6:\n",
    "    limite_distancia_minima = 3.6\n",
    "if num_cliques == 7:\n",
    "    limite_distancia_minima = 4.5\n",
    "if num_cliques == 8:\n",
    "    limite_distancia_minima = 8.0\n",
    "\n",
    "candidatos_filter_dist = [(i, j) for i, j in candidatos_ss if (\n",
    "        array_dist_promedio1[i] - array_dist_promedio2[j] >= -limite_distancia_minima) & (\n",
    "        array_dist_promedio1[i] - array_dist_promedio2[j] <= limite_distancia_minima)]\n",
    "\n",
    "print(len(candidatos_ss))\n",
    "print(len(candidatos_filter_dist))"
   ]
  },
  {
   "cell_type": "code",
   "execution_count": 21,
   "metadata": {},
   "outputs": [],
   "source": [
    "restriccion_rmsd = 0.15\n",
    "if num_cliques == 4:\n",
    "    restriccion_rmsd = 0.30\n",
    "if num_cliques == 5:\n",
    "    restriccion_rmsd = 0.60\n",
    "if num_cliques == 6:\n",
    "    restriccion_rmsd = 0.90\n",
    "if num_cliques == 7:\n",
    "    restriccion_rmsd = 1.50\n",
    "if num_cliques == 8:\n",
    "    restriccion_rmsd = 1.80"
   ]
  },
  {
   "cell_type": "markdown",
   "metadata": {},
   "source": [
    "# Haciendo MUltiprocessing"
   ]
  },
  {
   "cell_type": "code",
   "execution_count": 22,
   "metadata": {},
   "outputs": [],
   "source": [
    "p = multiprocessing.Pool(multiprocessing.cpu_count()-1)"
   ]
  },
  {
   "cell_type": "code",
   "execution_count": 23,
   "metadata": {},
   "outputs": [
    {
     "name": "stdout",
     "output_type": "stream",
     "text": [
      "CPU times: user 7.53 s, sys: 120 ms, total: 7.65 s\n",
      "Wall time: 14 s\n"
     ]
    }
   ],
   "source": [
    "%%time\n",
    "rmsd_1 = p.map(partial(fc.calculate_rmsd_rot_trans_m,  \n",
    "                    array_cliques1 = array_df_cliques1, \n",
    "                    array_cliques2 = array_df_cliques2, \n",
    "                    num_cliques = num_cliques), candidatos_filter_dist)\n",
    "\n",
    "p.close()\n",
    "p.join()"
   ]
  },
  {
   "cell_type": "code",
   "execution_count": 24,
   "metadata": {},
   "outputs": [
    {
     "data": {
      "text/plain": [
       "253993"
      ]
     },
     "execution_count": 24,
     "metadata": {},
     "output_type": "execute_result"
    }
   ],
   "source": [
    "len(rmsd_1)"
   ]
  },
  {
   "cell_type": "code",
   "execution_count": 25,
   "metadata": {},
   "outputs": [
    {
     "data": {
      "text/plain": [
       "(253993, 5)"
      ]
     },
     "execution_count": 25,
     "metadata": {},
     "output_type": "execute_result"
    }
   ],
   "source": [
    "f1 = pd.DataFrame(rmsd_1)\n",
    "f1.columns = ['rmsd','candidatos']\n",
    "f1['cumple'] = np.where(f1.rmsd <= restriccion_rmsd,1,0)\n",
    "f1['candidato_clique_1'] = f1.candidatos.str.get(0)\n",
    "f1['candidato_clique_2'] = f1.candidatos.str.get(1)\n",
    "f1.shape"
   ]
  },
  {
   "cell_type": "code",
   "execution_count": 26,
   "metadata": {},
   "outputs": [
    {
     "name": "stdout",
     "output_type": "stream",
     "text": [
      "6907\n"
     ]
    }
   ],
   "source": [
    "print(f1[f1.cumple==1].cumple.sum())\n",
    "f1 = f1[f1.cumple==1]"
   ]
  },
  {
   "cell_type": "markdown",
   "metadata": {},
   "source": [
    "# Probando la generacion de una nueva tabla con cliques_4 si se empieza con cliques_3"
   ]
  },
  {
   "cell_type": "code",
   "execution_count": 27,
   "metadata": {},
   "outputs": [
    {
     "data": {
      "text/html": [
       "<div>\n",
       "<style scoped>\n",
       "    .dataframe tbody tr th:only-of-type {\n",
       "        vertical-align: middle;\n",
       "    }\n",
       "\n",
       "    .dataframe tbody tr th {\n",
       "        vertical-align: top;\n",
       "    }\n",
       "\n",
       "    .dataframe thead th {\n",
       "        text-align: right;\n",
       "    }\n",
       "</style>\n",
       "<table border=\"1\" class=\"dataframe\">\n",
       "  <thead>\n",
       "    <tr style=\"text-align: right;\">\n",
       "      <th></th>\n",
       "      <th>rmsd</th>\n",
       "      <th>candidatos</th>\n",
       "      <th>cumple</th>\n",
       "      <th>candidato_clique_1</th>\n",
       "      <th>candidato_clique_2</th>\n",
       "    </tr>\n",
       "  </thead>\n",
       "  <tbody>\n",
       "    <tr>\n",
       "      <th>123</th>\n",
       "      <td>0.14247</td>\n",
       "      <td>(10, 616)</td>\n",
       "      <td>1</td>\n",
       "      <td>10</td>\n",
       "      <td>616</td>\n",
       "    </tr>\n",
       "    <tr>\n",
       "      <th>166</th>\n",
       "      <td>0.14225</td>\n",
       "      <td>(10, 1085)</td>\n",
       "      <td>1</td>\n",
       "      <td>10</td>\n",
       "      <td>1085</td>\n",
       "    </tr>\n",
       "    <tr>\n",
       "      <th>273</th>\n",
       "      <td>0.14233</td>\n",
       "      <td>(10, 1403)</td>\n",
       "      <td>1</td>\n",
       "      <td>10</td>\n",
       "      <td>1403</td>\n",
       "    </tr>\n",
       "    <tr>\n",
       "      <th>291</th>\n",
       "      <td>0.14044</td>\n",
       "      <td>(10, 1456)</td>\n",
       "      <td>1</td>\n",
       "      <td>10</td>\n",
       "      <td>1456</td>\n",
       "    </tr>\n",
       "    <tr>\n",
       "      <th>308</th>\n",
       "      <td>0.11607</td>\n",
       "      <td>(10, 1664)</td>\n",
       "      <td>1</td>\n",
       "      <td>10</td>\n",
       "      <td>1664</td>\n",
       "    </tr>\n",
       "  </tbody>\n",
       "</table>\n",
       "</div>"
      ],
      "text/plain": [
       "       rmsd  candidatos  cumple  candidato_clique_1  candidato_clique_2\n",
       "123 0.14247  (10, 616)   1       10                  616               \n",
       "166 0.14225  (10, 1085)  1       10                  1085              \n",
       "273 0.14233  (10, 1403)  1       10                  1403              \n",
       "291 0.14044  (10, 1456)  1       10                  1456              \n",
       "308 0.11607  (10, 1664)  1       10                  1664              "
      ]
     },
     "execution_count": 27,
     "metadata": {},
     "output_type": "execute_result"
    }
   ],
   "source": [
    "candidatos_df = f1\n",
    "candidatos_df.sort_values(['candidato_clique_1','candidato_clique_2']).head()"
   ]
  },
  {
   "cell_type": "code",
   "execution_count": 28,
   "metadata": {},
   "outputs": [],
   "source": [
    "def get_cliques_4(df_cliques,col,cliques):\n",
    "    set_clique = [df_cliques.iloc[i, [0,1,2]].values for i in candidatos_df[col].unique()] #conjunto de candidatos unicos\n",
    "    lista_chidi = [] # aqui se guardara la lista de numero de residuo\n",
    "    for muestra in set_clique: # este va a cambiar cada iteracion\n",
    "        for i in cliques:\n",
    "            if set(muestra).issubset(i):       # si esta en un clique maximal\n",
    "                no_estan_en_clique = set(i).difference(set(muestra)) #obten los elementos que no estan en ese clique que si estan en el clique maximal\n",
    "                for j in no_estan_en_clique: \n",
    "                    muestra_falsa = muestra.copy() #se genera una copia para no borrar el orginal\n",
    "                    muestra_falsa = np.append(muestra_falsa,j) #se apila un elemento de los que no estan\n",
    "                    if set(muestra_falsa) not in lista_chidi:\n",
    "                        lista_chidi.append(set(muestra_falsa)) #si no esta en la lista pasa\n",
    "\n",
    "    return(pd.DataFrame(lista_chidi))"
   ]
  },
  {
   "cell_type": "code",
   "execution_count": 29,
   "metadata": {},
   "outputs": [],
   "source": [
    "new_df_cliques1 = get_cliques_4(df_cliques1, 'candidato_clique_1',cliques1)\n",
    "new_df_cliques2 = get_cliques_4(df_cliques2, 'candidato_clique_2',cliques2)\n",
    "num_cliques = num_cliques + 1"
   ]
  },
  {
   "cell_type": "markdown",
   "metadata": {},
   "source": [
    "# VA DE NUEZ EL CALCULO"
   ]
  },
  {
   "cell_type": "code",
   "execution_count": 30,
   "metadata": {},
   "outputs": [],
   "source": [
    "# se le pega la estructura secundaria al dataframe de los cliques\n",
    "# esto va a cambiar por que lo tiene que obtener del objeto residuo\n",
    "# ya se crea en ss1 y no cuesta reevaluar si es mejor desde el residuo\n",
    "# checar que es mas rapido si desde residuo o desde dataframe ss\n",
    "new_df_cliques1 = fc.paste_SS(ss1, new_df_cliques1, num_cliques = num_cliques)\n",
    "new_df_cliques2 = fc.paste_SS(ss2, new_df_cliques2, num_cliques = num_cliques)"
   ]
  },
  {
   "cell_type": "code",
   "execution_count": 31,
   "metadata": {},
   "outputs": [],
   "source": [
    "# comparacion SSM #aqui se obtienen los candidatos posibles pasando el filtro de SS\n",
    "candidatos_ss = fc.compare_SS(new_df_cliques1,new_df_cliques2, num_cliques=num_cliques)"
   ]
  },
  {
   "cell_type": "code",
   "execution_count": 32,
   "metadata": {},
   "outputs": [],
   "source": [
    "# get coords of cliques\n",
    "df_cliques1 = fc.get_coords_clique(df_atoms1, new_df_cliques1, num_cliques)\n",
    "df_cliques2 = fc.get_coords_clique(df_atoms2, new_df_cliques2, num_cliques)"
   ]
  },
  {
   "cell_type": "code",
   "execution_count": 33,
   "metadata": {},
   "outputs": [],
   "source": [
    "# baricentro clique\n",
    "df_cliques1 = fc.baricenter_clique(df_cliques1, num_cliques)\n",
    "df_cliques2 = fc.baricenter_clique(df_cliques2, num_cliques)"
   ]
  },
  {
   "cell_type": "code",
   "execution_count": 34,
   "metadata": {},
   "outputs": [],
   "source": [
    "# vectores gorro\n",
    "df_cliques1 = fc.center_vectors(df_cliques1, num_cliques)\n",
    "df_cliques2 = fc.center_vectors(df_cliques2, num_cliques)"
   ]
  },
  {
   "cell_type": "code",
   "execution_count": 35,
   "metadata": {},
   "outputs": [],
   "source": [
    "idx_rmsd1, idx_rmsd2 = 3*num_cliques, 4*num_cliques+3\n",
    "# print(list(range(idx_rmsd1,idx_rmsd2)))\n",
    "# se pasan a numpy arrays para mayor rapidez\n",
    "array_df_cliques1 = df_cliques1.values[:, range(idx_rmsd1, idx_rmsd2)] #del 9 al 15\n",
    "array_df_cliques2 = df_cliques2.values[:, range(idx_rmsd1, idx_rmsd2)]"
   ]
  },
  {
   "cell_type": "code",
   "execution_count": 36,
   "metadata": {},
   "outputs": [
    {
     "name": "stdout",
     "output_type": "stream",
     "text": [
      "2434300\n"
     ]
    }
   ],
   "source": [
    "#calculo del RMSD\n",
    "print(len(candidatos_ss))"
   ]
  },
  {
   "cell_type": "markdown",
   "metadata": {},
   "source": [
    "# Codigo que restringe candidatos"
   ]
  },
  {
   "cell_type": "code",
   "execution_count": 37,
   "metadata": {},
   "outputs": [],
   "source": [
    "df_cliques1 = fc.get_distancia_promedio(num_cliques, df_cliques1)\n",
    "df_cliques2 = fc.get_distancia_promedio(num_cliques, df_cliques2)\n",
    "\n",
    "array_dist_promedio1 = df_cliques1.values[:, -1]  # el ultimo valor de distancia.\n",
    "array_dist_promedio2 = df_cliques2.values[:, -1]"
   ]
  },
  {
   "cell_type": "code",
   "execution_count": 38,
   "metadata": {},
   "outputs": [],
   "source": [
    "limite_distancia_minima = 0.45\n",
    "if num_cliques == 4:\n",
    "    limite_distancia_minima = 0.9\n",
    "if num_cliques == 5:\n",
    "    limite_distancia_minima = 1.8\n",
    "if num_cliques == 6:\n",
    "    limite_distancia_minima = 3.6\n",
    "if num_cliques == 7:\n",
    "    limite_distancia_minima = 4.5\n",
    "if num_cliques == 8:\n",
    "    limite_distancia_minima = 8.0"
   ]
  },
  {
   "cell_type": "code",
   "execution_count": 39,
   "metadata": {},
   "outputs": [
    {
     "name": "stdout",
     "output_type": "stream",
     "text": [
      "num candidatos filtro SS 2434300\n",
      "num candidatos filtro distancia y ss 869504\n"
     ]
    }
   ],
   "source": [
    "#filtro por distancia minima\n",
    "candidatos_filter_dist = [(i, j) for i, j in candidatos_ss if (\n",
    "        array_dist_promedio1[i] - array_dist_promedio2[j] >= -limite_distancia_minima) & (\n",
    "        array_dist_promedio1[i] - array_dist_promedio2[j] <= limite_distancia_minima)]\n",
    "\n",
    "print('num candidatos filtro SS', len(candidatos_ss))\n",
    "print('num candidatos filtro distancia y ss', len(candidatos_filter_dist))"
   ]
  },
  {
   "cell_type": "markdown",
   "metadata": {},
   "source": [
    "# Haciendo MUltiprocessing"
   ]
  },
  {
   "cell_type": "code",
   "execution_count": 40,
   "metadata": {},
   "outputs": [],
   "source": [
    "p = multiprocessing.Pool(multiprocessing.cpu_count()-1)\n",
    "restriccion_rmsd = 0.15\n",
    "if num_cliques == 4:\n",
    "    restriccion_rmsd = 0.30\n",
    "if num_cliques == 5:\n",
    "    restriccion_rmsd = 0.60\n",
    "if num_cliques == 6:\n",
    "    restriccion_rmsd = 0.90\n",
    "if num_cliques == 7:\n",
    "    restriccion_rmsd = 1.50\n",
    "if num_cliques == 8:\n",
    "    restriccion_rmsd = 1.80"
   ]
  },
  {
   "cell_type": "code",
   "execution_count": 41,
   "metadata": {},
   "outputs": [
    {
     "name": "stdout",
     "output_type": "stream",
     "text": [
      "CPU times: user 14 s, sys: 220 ms, total: 14.2 s\n",
      "Wall time: 52.6 s\n"
     ]
    }
   ],
   "source": [
    "%%time\n",
    "rmsd_1 = p.map(partial(fc.calculate_rmsd_rot_trans_m,  \n",
    "                    array_cliques1 = array_df_cliques1, \n",
    "                    array_cliques2 = array_df_cliques2, \n",
    "                    num_cliques = num_cliques), candidatos_filter_dist)\n",
    "\n",
    "p.close()\n",
    "p.join()"
   ]
  },
  {
   "cell_type": "code",
   "execution_count": 42,
   "metadata": {},
   "outputs": [
    {
     "data": {
      "text/plain": [
       "869504"
      ]
     },
     "execution_count": 42,
     "metadata": {},
     "output_type": "execute_result"
    }
   ],
   "source": [
    "len(rmsd_1)"
   ]
  },
  {
   "cell_type": "code",
   "execution_count": 43,
   "metadata": {},
   "outputs": [
    {
     "data": {
      "text/plain": [
       "(869504, 5)"
      ]
     },
     "execution_count": 43,
     "metadata": {},
     "output_type": "execute_result"
    }
   ],
   "source": [
    "f1 = pd.DataFrame(rmsd_1)\n",
    "f1.columns = ['rmsd','candidatos']\n",
    "f1['cumple'] = np.where(f1.rmsd <= restriccion_rmsd,1,0)\n",
    "f1['candidato_clique_1'] = f1.candidatos.str.get(0)\n",
    "f1['candidato_clique_2'] = f1.candidatos.str.get(1)\n",
    "f1.shape"
   ]
  },
  {
   "cell_type": "code",
   "execution_count": 44,
   "metadata": {},
   "outputs": [
    {
     "name": "stdout",
     "output_type": "stream",
     "text": [
      "3578\n"
     ]
    }
   ],
   "source": [
    "print(f1[f1.cumple==1].cumple.sum())\n",
    "f1 = f1[f1.cumple==1]"
   ]
  },
  {
   "cell_type": "markdown",
   "metadata": {},
   "source": [
    "# Probando la generacion de una nueva tabla con cliques_5 si se empieza con cliques_4"
   ]
  },
  {
   "cell_type": "code",
   "execution_count": 45,
   "metadata": {},
   "outputs": [
    {
     "data": {
      "text/html": [
       "<div>\n",
       "<style scoped>\n",
       "    .dataframe tbody tr th:only-of-type {\n",
       "        vertical-align: middle;\n",
       "    }\n",
       "\n",
       "    .dataframe tbody tr th {\n",
       "        vertical-align: top;\n",
       "    }\n",
       "\n",
       "    .dataframe thead th {\n",
       "        text-align: right;\n",
       "    }\n",
       "</style>\n",
       "<table border=\"1\" class=\"dataframe\">\n",
       "  <thead>\n",
       "    <tr style=\"text-align: right;\">\n",
       "      <th></th>\n",
       "      <th>rmsd</th>\n",
       "      <th>candidatos</th>\n",
       "      <th>cumple</th>\n",
       "      <th>candidato_clique_1</th>\n",
       "      <th>candidato_clique_2</th>\n",
       "    </tr>\n",
       "  </thead>\n",
       "  <tbody>\n",
       "    <tr>\n",
       "      <th>7</th>\n",
       "      <td>0.29109</td>\n",
       "      <td>(0, 10)</td>\n",
       "      <td>1</td>\n",
       "      <td>0</td>\n",
       "      <td>10</td>\n",
       "    </tr>\n",
       "    <tr>\n",
       "      <th>42</th>\n",
       "      <td>0.29299</td>\n",
       "      <td>(0, 57)</td>\n",
       "      <td>1</td>\n",
       "      <td>0</td>\n",
       "      <td>57</td>\n",
       "    </tr>\n",
       "    <tr>\n",
       "      <th>416</th>\n",
       "      <td>0.27244</td>\n",
       "      <td>(0, 1035)</td>\n",
       "      <td>1</td>\n",
       "      <td>0</td>\n",
       "      <td>1035</td>\n",
       "    </tr>\n",
       "    <tr>\n",
       "      <th>664</th>\n",
       "      <td>0.29610</td>\n",
       "      <td>(1, 86)</td>\n",
       "      <td>1</td>\n",
       "      <td>1</td>\n",
       "      <td>86</td>\n",
       "    </tr>\n",
       "    <tr>\n",
       "      <th>736</th>\n",
       "      <td>0.28929</td>\n",
       "      <td>(1, 191)</td>\n",
       "      <td>1</td>\n",
       "      <td>1</td>\n",
       "      <td>191</td>\n",
       "    </tr>\n",
       "  </tbody>\n",
       "</table>\n",
       "</div>"
      ],
      "text/plain": [
       "       rmsd candidatos  cumple  candidato_clique_1  candidato_clique_2\n",
       "7   0.29109  (0, 10)    1       0                   10                \n",
       "42  0.29299  (0, 57)    1       0                   57                \n",
       "416 0.27244  (0, 1035)  1       0                   1035              \n",
       "664 0.29610  (1, 86)    1       1                   86                \n",
       "736 0.28929  (1, 191)   1       1                   191               "
      ]
     },
     "execution_count": 45,
     "metadata": {},
     "output_type": "execute_result"
    }
   ],
   "source": [
    "candidatos_df = f1\n",
    "candidatos_df.sort_values(['candidato_clique_1','candidato_clique_2']).head()"
   ]
  },
  {
   "cell_type": "code",
   "execution_count": 46,
   "metadata": {},
   "outputs": [],
   "source": [
    "def get_cliques_5(df_cliques,col,cliques):\n",
    "    set_clique = [df_cliques.iloc[i, [0,1,2,3]].values for i in candidatos_df[col].unique()] #conjunto de candidatos unicos\n",
    "    lista_chidi = [] # aqui se guardara la lista de numero de residuo\n",
    "    for muestra in set_clique: # este va a cambiar cada iteracion\n",
    "        for i in cliques:\n",
    "            if set(muestra).issubset(i):       # si esta en un clique maximal\n",
    "                no_estan_en_clique = set(i).difference(set(muestra)) #obten los elementos que no estan en ese clique que si estan en el clique maximal\n",
    "                for j in no_estan_en_clique: \n",
    "                    muestra_falsa = muestra.copy() #se genera una copia para no borrar el orginal\n",
    "                    muestra_falsa = np.append(muestra_falsa,j) #se apila un elemento de los que no estan\n",
    "                    if set(muestra_falsa) not in lista_chidi:\n",
    "                        lista_chidi.append(set(muestra_falsa)) #si no esta en la lista pasa\n",
    "\n",
    "    return(pd.DataFrame(lista_chidi))"
   ]
  },
  {
   "cell_type": "code",
   "execution_count": 47,
   "metadata": {},
   "outputs": [
    {
     "data": {
      "text/plain": [
       "[[132, 97, 96, 89, 98, 91],\n",
       " [132, 97, 96, 89, 98, 99, 131],\n",
       " [132, 97, 96, 133, 95, 98, 91],\n",
       " [132, 97, 96, 133, 95, 98, 131],\n",
       " [132, 97, 96, 133, 95, 131, 124],\n",
       " [132, 97, 96, 133, 95, 134, 91, 94],\n",
       " [132, 97, 96, 133, 95, 134, 124],\n",
       " [132, 97, 130, 98, 99, 131, 89],\n",
       " [132, 97, 130, 98, 99, 131, 126],\n",
       " [132, 97, 126, 131, 98, 133],\n",
       " [132, 97, 126, 131, 124, 133],\n",
       " [132, 109, 131, 126, 98, 130],\n",
       " [132, 109, 131, 126, 98, 133],\n",
       " [132, 109, 131, 126, 125, 130, 127],\n",
       " [132, 109, 131, 126, 125, 124, 133],\n",
       " [132, 123, 125, 124, 133, 134],\n",
       " [132, 127, 130, 99, 131, 126],\n",
       " [133, 98, 145, 96, 97, 91, 95],\n",
       " [133, 98, 145, 96, 148],\n",
       " [133, 131, 112, 125, 124, 109],\n",
       " [133, 134, 97, 96, 145, 91, 95],\n",
       " [133, 134, 91, 96, 141, 95, 144, 145],\n",
       " [133, 134, 91, 96, 141, 95, 94],\n",
       " [133, 134, 135, 122, 121, 136, 144],\n",
       " [133, 134, 135, 122, 121, 136, 123],\n",
       " [133, 134, 135, 122, 121, 124, 123],\n",
       " [133, 134, 135, 124, 96, 95],\n",
       " [133, 134, 135, 141, 144, 96, 145, 95],\n",
       " [133, 134, 135, 141, 144, 121, 136],\n",
       " [133, 134, 135, 141, 94, 96, 95],\n",
       " [133, 109, 113, 112, 124, 125],\n",
       " [133, 112, 113, 123, 124, 121],\n",
       " [133, 112, 113, 123, 124, 125],\n",
       " [133, 112, 148, 121],\n",
       " [133, 113, 122, 121, 123, 124],\n",
       " [133, 148, 144, 96, 145],\n",
       " [133, 148, 144, 121],\n",
       " [134, 137, 135, 136, 139, 120, 121, 122],\n",
       " [134, 137, 135, 136, 139, 120, 140],\n",
       " [134, 139, 135, 136, 144, 120, 121, 122],\n",
       " [134, 139, 135, 136, 144, 120, 121, 141],\n",
       " [134, 139, 135, 136, 144, 120, 140, 141],\n",
       " [134, 140, 141, 93, 94, 95],\n",
       " [134, 140, 141, 135, 144, 145, 95],\n",
       " [134, 140, 141, 135, 94, 95],\n",
       " [134, 120, 135, 136, 123, 121, 122],\n",
       " [134, 93, 96, 91, 141, 94, 95],\n",
       " [135, 138, 139, 140, 120, 136, 137],\n",
       " [135, 138, 139, 140, 120, 136, 141],\n",
       " [135, 138, 139, 140, 120, 143, 141],\n",
       " [135, 142, 141, 144, 145, 96, 95],\n",
       " [135, 142, 141, 144, 145, 147, 143],\n",
       " [135, 142, 141, 144, 145, 140, 143],\n",
       " [135, 142, 141, 144, 145, 140, 95],\n",
       " [135, 142, 141, 144, 139, 140, 143],\n",
       " [135, 143, 144, 141, 120, 121, 139],\n",
       " [135, 143, 144, 141, 120, 121, 147],\n",
       " [135, 143, 144, 141, 120, 140, 139],\n",
       " [135, 143, 144, 119, 120, 121, 139],\n",
       " [135, 143, 144, 119, 120, 121, 147],\n",
       " [135, 116, 121, 122, 136, 120, 117, 123],\n",
       " [135, 116, 121, 122, 136, 120, 117, 119],\n",
       " [135, 116, 121, 122, 124, 123],\n",
       " [135, 117, 136, 120, 121, 122, 139, 137],\n",
       " [135, 117, 136, 120, 121, 122, 139, 119],\n",
       " [135, 119, 136, 139, 144, 120, 121, 122],\n",
       " [136, 118, 116, 117, 120, 121, 122, 119],\n",
       " [140, 93, 142, 141, 95],\n",
       " [141, 146, 142, 144, 145, 147, 143],\n",
       " [141, 91, 96, 95, 92, 145, 142],\n",
       " [141, 91, 96, 95, 92, 93, 142],\n",
       " [141, 91, 96, 95, 92, 93, 94],\n",
       " [141, 91, 96, 95, 142, 144, 145],\n",
       " [142, 90, 96, 145, 91, 92, 95],\n",
       " [143, 144, 147, 148, 145, 146, 149],\n",
       " [143, 144, 147, 148, 121, 119],\n",
       " [144, 146, 150, 145, 147, 148, 149],\n",
       " [145, 97, 96, 90, 91, 98, 89],\n",
       " [145, 97, 96, 90, 91, 98, 95],\n",
       " [145, 97, 96, 90, 91, 92, 95],\n",
       " [145, 98, 96, 148, 89],\n",
       " [145, 151, 146, 147, 148, 149, 150],\n",
       " [145, 89, 146, 148, 149],\n",
       " [146, 152, 147, 148, 149, 150, 151],\n",
       " [147, 120, 115, 121, 119],\n",
       " [147, 148, 121, 112, 115, 119],\n",
       " [147, 148, 151, 112, 152],\n",
       " [147, 148, 151, 112, 115, 119],\n",
       " [148, 111, 112, 151, 152],\n",
       " [148, 111, 112, 151, 115],\n",
       " [152, 108, 112, 111],\n",
       " [152, 108, 83, 86],\n",
       " [82, 83, 85, 86, 108],\n",
       " [82, 83, 85, 86, 84],\n",
       " [90, 97, 96, 99, 89, 98],\n",
       " [90, 97, 88, 89, 98, 99],\n",
       " [91, 96, 97, 92, 94, 95],\n",
       " [100, 130, 106, 104, 105, 126, 129, 128, 127, 131],\n",
       " [100, 130, 106, 104, 105, 126, 129, 128, 127, 103],\n",
       " [100, 130, 106, 104, 105, 126, 129, 108, 131],\n",
       " [100, 130, 106, 104, 105, 126, 129, 108, 103],\n",
       " [100, 130, 106, 104, 105, 126, 109, 131, 108],\n",
       " [100, 130, 106, 104, 105, 126, 109, 131, 127],\n",
       " [100, 130, 99, 88, 98, 97, 89],\n",
       " [100, 130, 99, 88, 98, 86, 87, 89],\n",
       " [100, 130, 99, 88, 98, 86, 87, 101],\n",
       " [100, 130, 99, 129, 105, 104, 128, 101, 102],\n",
       " [100, 130, 99, 129, 105, 104, 128, 127, 102],\n",
       " [100, 130, 99, 129, 105, 104, 128, 127, 126, 131],\n",
       " [100, 130, 99, 129, 105, 104, 108, 86, 101],\n",
       " [100, 130, 99, 129, 105, 104, 108, 126, 131],\n",
       " [100, 130, 99, 129, 105, 98, 108, 86, 101],\n",
       " [100, 130, 99, 129, 105, 98, 108, 126, 131],\n",
       " [100, 130, 99, 129, 87, 98, 101, 86],\n",
       " [100, 130, 99, 97, 98, 131, 89],\n",
       " [100, 130, 99, 97, 98, 131, 126],\n",
       " [100, 130, 109, 131, 105, 98, 108, 126],\n",
       " [100, 130, 103, 129, 104, 105, 128, 102, 101],\n",
       " [100, 130, 103, 129, 104, 105, 128, 102, 127],\n",
       " [100, 130, 103, 129, 104, 105, 108, 101],\n",
       " [100, 107, 104, 105, 108, 109, 106, 126],\n",
       " [100, 107, 104, 105, 108, 103, 106, 126],\n",
       " [100, 107, 104, 105, 108, 103, 85],\n",
       " [100, 83, 85, 86, 104, 108],\n",
       " [100, 83, 85, 86, 104, 84],\n",
       " [100, 83, 85, 86, 87, 84],\n",
       " [100, 84, 101, 85, 86, 104],\n",
       " [100, 84, 101, 85, 86, 87],\n",
       " [100, 85, 101, 88, 99, 86, 87],\n",
       " [100, 85, 101, 129, 99, 104, 105, 102],\n",
       " [100, 85, 101, 129, 99, 104, 105, 86, 108],\n",
       " [100, 85, 101, 129, 99, 87, 86],\n",
       " [100, 85, 101, 129, 103, 104, 105, 108],\n",
       " [100, 85, 101, 129, 103, 104, 105, 102],\n",
       " [110, 115, 112, 113, 114, 111],\n",
       " [110, 109, 113, 112, 124, 125],\n",
       " [110, 109, 113, 112, 111, 114],\n",
       " [110, 109, 113, 112, 111, 108],\n",
       " [110, 109, 106, 112, 107, 108, 111],\n",
       " [110, 109, 106, 112, 124, 125],\n",
       " [110, 109, 106, 105, 107, 108, 104, 126],\n",
       " [110, 109, 106, 105, 107, 108, 111],\n",
       " [110, 109, 106, 105, 125, 126],\n",
       " [110, 109, 106, 124, 126, 125],\n",
       " [112, 131, 106, 109, 124, 125],\n",
       " [112, 131, 106, 109, 108],\n",
       " [112, 116, 121, 113, 114, 115],\n",
       " [112, 116, 121, 113, 123, 115],\n",
       " [112, 116, 121, 113, 123, 124],\n",
       " [112, 116, 121, 119, 114, 115],\n",
       " [113, 122, 116, 121, 123, 115, 117],\n",
       " [113, 122, 116, 121, 123, 124],\n",
       " [113, 117, 115, 116, 121, 114],\n",
       " [114, 117, 115, 116, 121, 118, 119],\n",
       " [115, 116, 117, 120, 121, 122, 123],\n",
       " [115, 116, 117, 120, 121, 122, 118, 119],\n",
       " [124, 131, 106, 126, 109, 125],\n",
       " [125, 130, 131, 105, 106, 109, 126, 127]]"
      ]
     },
     "execution_count": 47,
     "metadata": {},
     "output_type": "execute_result"
    }
   ],
   "source": [
    "cliques1"
   ]
  },
  {
   "cell_type": "code",
   "execution_count": 48,
   "metadata": {},
   "outputs": [],
   "source": [
    "new_df_cliques1 = get_cliques_5(df_cliques1, 'candidato_clique_1',cliques1)\n",
    "new_df_cliques2 = get_cliques_5(df_cliques2, 'candidato_clique_2',cliques2)\n",
    "num_cliques = num_cliques + 1"
   ]
  },
  {
   "cell_type": "markdown",
   "metadata": {},
   "source": [
    "# VA DE NUEZ EL CALCULO"
   ]
  },
  {
   "cell_type": "code",
   "execution_count": 49,
   "metadata": {},
   "outputs": [],
   "source": [
    "# se le pega la estructura secundaria al dataframe de los cliques\n",
    "# esto va a cambiar por que lo tiene que obtener del objeto residuo\n",
    "# ya se crea en ss1 y no cuesta reevaluar si es mejor desde el residuo\n",
    "# checar que es mas rapido si desde residuo o desde dataframe ss\n",
    "new_df_cliques1 = fc.paste_SS(ss1, new_df_cliques1, num_cliques = num_cliques)\n",
    "new_df_cliques2 = fc.paste_SS(ss2, new_df_cliques2, num_cliques = num_cliques)"
   ]
  },
  {
   "cell_type": "code",
   "execution_count": 50,
   "metadata": {},
   "outputs": [],
   "source": [
    "# comparacion SSM #aqui se obtienen los candidatos posibles pasando el filtro de SS\n",
    "candidatos_ss = fc.compare_SS(new_df_cliques1,new_df_cliques2, num_cliques=num_cliques)"
   ]
  },
  {
   "cell_type": "code",
   "execution_count": 51,
   "metadata": {},
   "outputs": [],
   "source": [
    "# get coords of cliques\n",
    "df_cliques1 = fc.get_coords_clique(df_atoms1, new_df_cliques1, num_cliques)\n",
    "df_cliques2 = fc.get_coords_clique(df_atoms2, new_df_cliques2, num_cliques)"
   ]
  },
  {
   "cell_type": "code",
   "execution_count": 52,
   "metadata": {},
   "outputs": [],
   "source": [
    "# baricentro clique\n",
    "df_cliques1 = fc.baricenter_clique(df_cliques1, num_cliques)\n",
    "df_cliques2 = fc.baricenter_clique(df_cliques2, num_cliques)"
   ]
  },
  {
   "cell_type": "code",
   "execution_count": 53,
   "metadata": {},
   "outputs": [],
   "source": [
    "# vectores gorro\n",
    "df_cliques1 = fc.center_vectors(df_cliques1, num_cliques)\n",
    "df_cliques2 = fc.center_vectors(df_cliques2, num_cliques)"
   ]
  },
  {
   "cell_type": "code",
   "execution_count": 54,
   "metadata": {},
   "outputs": [],
   "source": [
    "idx_rmsd1, idx_rmsd2 = 3*num_cliques, 4*num_cliques+3\n",
    "# print(list(range(idx_rmsd1,idx_rmsd2)))\n",
    "# se pasan a numpy arrays para mayor rapidez\n",
    "array_df_cliques1 = df_cliques1.values[:, range(idx_rmsd1, idx_rmsd2)] #del 9 al 15\n",
    "array_df_cliques2 = df_cliques2.values[:, range(idx_rmsd1, idx_rmsd2)]"
   ]
  },
  {
   "cell_type": "code",
   "execution_count": 55,
   "metadata": {},
   "outputs": [
    {
     "name": "stdout",
     "output_type": "stream",
     "text": [
      "1185342\n"
     ]
    }
   ],
   "source": [
    "#calculo del RMSD\n",
    "print(len(candidatos_ss))"
   ]
  },
  {
   "cell_type": "markdown",
   "metadata": {},
   "source": [
    "# Codigo que restringe candidatos"
   ]
  },
  {
   "cell_type": "code",
   "execution_count": 56,
   "metadata": {},
   "outputs": [],
   "source": [
    "df_cliques1 = fc.get_distancia_promedio(num_cliques, df_cliques1)\n",
    "df_cliques2 = fc.get_distancia_promedio(num_cliques, df_cliques2)\n",
    "\n",
    "array_dist_promedio1 = df_cliques1.values[:, -1]  # el ultimo valor de distancia.\n",
    "array_dist_promedio2 = df_cliques2.values[:, -1]"
   ]
  },
  {
   "cell_type": "code",
   "execution_count": 57,
   "metadata": {},
   "outputs": [],
   "source": [
    "limite_distancia_minima = 0.45\n",
    "if num_cliques == 4:\n",
    "    limite_distancia_minima = 0.9\n",
    "if num_cliques == 5:\n",
    "    limite_distancia_minima = 1.8\n",
    "if num_cliques == 6:\n",
    "    limite_distancia_minima = 3.6\n",
    "if num_cliques == 7:\n",
    "    limite_distancia_minima = 4.5\n",
    "if num_cliques == 8:\n",
    "    limite_distancia_minima = 8.0"
   ]
  },
  {
   "cell_type": "code",
   "execution_count": 58,
   "metadata": {},
   "outputs": [
    {
     "name": "stdout",
     "output_type": "stream",
     "text": [
      "num candidatos filtro SS 1185342\n",
      "num candidatos filtro distancia y ss 900886\n"
     ]
    }
   ],
   "source": [
    "#filtro por distancia minima\n",
    "candidatos_filter_dist = [(i, j) for i, j in candidatos_ss if (\n",
    "        array_dist_promedio1[i] - array_dist_promedio2[j] >= -limite_distancia_minima) & (\n",
    "        array_dist_promedio1[i] - array_dist_promedio2[j] <= limite_distancia_minima)]\n",
    "\n",
    "print('num candidatos filtro SS', len(candidatos_ss))\n",
    "print('num candidatos filtro distancia y ss', len(candidatos_filter_dist))"
   ]
  },
  {
   "cell_type": "markdown",
   "metadata": {},
   "source": [
    "# Haciendo MUltiprocessing"
   ]
  },
  {
   "cell_type": "code",
   "execution_count": 59,
   "metadata": {},
   "outputs": [],
   "source": [
    "p = multiprocessing.Pool(multiprocessing.cpu_count()-1)\n",
    "restriccion_rmsd = 0.15\n",
    "if num_cliques == 4:\n",
    "    restriccion_rmsd = 0.30\n",
    "if num_cliques == 5:\n",
    "    restriccion_rmsd = 0.60\n",
    "if num_cliques == 6:\n",
    "    restriccion_rmsd = 0.90\n",
    "if num_cliques == 7:\n",
    "    restriccion_rmsd = 1.50\n",
    "if num_cliques == 8:\n",
    "    restriccion_rmsd = 1.80"
   ]
  },
  {
   "cell_type": "code",
   "execution_count": 60,
   "metadata": {},
   "outputs": [
    {
     "name": "stdout",
     "output_type": "stream",
     "text": [
      "CPU times: user 11.5 s, sys: 272 ms, total: 11.7 s\n",
      "Wall time: 58.2 s\n"
     ]
    }
   ],
   "source": [
    "%%time\n",
    "rmsd_1 = p.map(partial(fc.calculate_rmsd_rot_trans_m,  \n",
    "                    array_cliques1 = array_df_cliques1, \n",
    "                    array_cliques2 = array_df_cliques2, \n",
    "                    num_cliques = num_cliques), candidatos_filter_dist)\n",
    "\n",
    "p.close()\n",
    "p.join()"
   ]
  },
  {
   "cell_type": "code",
   "execution_count": 61,
   "metadata": {},
   "outputs": [
    {
     "data": {
      "text/plain": [
       "900886"
      ]
     },
     "execution_count": 61,
     "metadata": {},
     "output_type": "execute_result"
    }
   ],
   "source": [
    "len(rmsd_1)"
   ]
  },
  {
   "cell_type": "code",
   "execution_count": 62,
   "metadata": {},
   "outputs": [
    {
     "data": {
      "text/plain": [
       "(900886, 5)"
      ]
     },
     "execution_count": 62,
     "metadata": {},
     "output_type": "execute_result"
    }
   ],
   "source": [
    "f1 = pd.DataFrame(rmsd_1)\n",
    "f1.columns = ['rmsd','candidatos']\n",
    "f1['cumple'] = np.where(f1.rmsd <= restriccion_rmsd,1,0)\n",
    "f1['candidato_clique_1'] = f1.candidatos.str.get(0)\n",
    "f1['candidato_clique_2'] = f1.candidatos.str.get(1)\n",
    "f1.shape"
   ]
  },
  {
   "cell_type": "code",
   "execution_count": 63,
   "metadata": {},
   "outputs": [
    {
     "name": "stdout",
     "output_type": "stream",
     "text": [
      "43075\n"
     ]
    }
   ],
   "source": [
    "print(f1[f1.cumple==1].cumple.sum())\n",
    "f1 = f1[f1.cumple==1]"
   ]
  },
  {
   "cell_type": "markdown",
   "metadata": {},
   "source": [
    "# Probando la generacion de una nueva tabla con cliques_6 si se empieza con cliques_5"
   ]
  },
  {
   "cell_type": "code",
   "execution_count": 64,
   "metadata": {},
   "outputs": [
    {
     "data": {
      "text/html": [
       "<div>\n",
       "<style scoped>\n",
       "    .dataframe tbody tr th:only-of-type {\n",
       "        vertical-align: middle;\n",
       "    }\n",
       "\n",
       "    .dataframe tbody tr th {\n",
       "        vertical-align: top;\n",
       "    }\n",
       "\n",
       "    .dataframe thead th {\n",
       "        text-align: right;\n",
       "    }\n",
       "</style>\n",
       "<table border=\"1\" class=\"dataframe\">\n",
       "  <thead>\n",
       "    <tr style=\"text-align: right;\">\n",
       "      <th></th>\n",
       "      <th>rmsd</th>\n",
       "      <th>candidatos</th>\n",
       "      <th>cumple</th>\n",
       "      <th>candidato_clique_1</th>\n",
       "      <th>candidato_clique_2</th>\n",
       "    </tr>\n",
       "  </thead>\n",
       "  <tbody>\n",
       "    <tr>\n",
       "      <th>0</th>\n",
       "      <td>0.33304</td>\n",
       "      <td>(0, 0)</td>\n",
       "      <td>1</td>\n",
       "      <td>0</td>\n",
       "      <td>0</td>\n",
       "    </tr>\n",
       "    <tr>\n",
       "      <th>1</th>\n",
       "      <td>0.37599</td>\n",
       "      <td>(0, 1)</td>\n",
       "      <td>1</td>\n",
       "      <td>0</td>\n",
       "      <td>1</td>\n",
       "    </tr>\n",
       "    <tr>\n",
       "      <th>3</th>\n",
       "      <td>0.49367</td>\n",
       "      <td>(0, 3)</td>\n",
       "      <td>1</td>\n",
       "      <td>0</td>\n",
       "      <td>3</td>\n",
       "    </tr>\n",
       "    <tr>\n",
       "      <th>13</th>\n",
       "      <td>0.55671</td>\n",
       "      <td>(0, 14)</td>\n",
       "      <td>1</td>\n",
       "      <td>0</td>\n",
       "      <td>14</td>\n",
       "    </tr>\n",
       "    <tr>\n",
       "      <th>18</th>\n",
       "      <td>0.45587</td>\n",
       "      <td>(0, 19)</td>\n",
       "      <td>1</td>\n",
       "      <td>0</td>\n",
       "      <td>19</td>\n",
       "    </tr>\n",
       "  </tbody>\n",
       "</table>\n",
       "</div>"
      ],
      "text/plain": [
       "      rmsd candidatos  cumple  candidato_clique_1  candidato_clique_2\n",
       "0  0.33304  (0, 0)     1       0                   0                 \n",
       "1  0.37599  (0, 1)     1       0                   1                 \n",
       "3  0.49367  (0, 3)     1       0                   3                 \n",
       "13 0.55671  (0, 14)    1       0                   14                \n",
       "18 0.45587  (0, 19)    1       0                   19                "
      ]
     },
     "execution_count": 64,
     "metadata": {},
     "output_type": "execute_result"
    }
   ],
   "source": [
    "candidatos_df = f1\n",
    "candidatos_df.sort_values(['candidato_clique_1','candidato_clique_2']).head()"
   ]
  },
  {
   "cell_type": "code",
   "execution_count": 65,
   "metadata": {},
   "outputs": [],
   "source": [
    "def get_cliques_6(df_cliques,col,cliques):\n",
    "    set_clique = [df_cliques.iloc[i, [0,1,2,3,4]].values for i in candidatos_df[col].unique()] #conjunto de candidatos unicos\n",
    "    lista_chidi = [] # aqui se guardara la lista de numero de residuo\n",
    "    for muestra in set_clique: # este va a cambiar cada iteracion\n",
    "        for i in cliques:\n",
    "            if set(muestra).issubset(i):       # si esta en un clique maximal\n",
    "                no_estan_en_clique = set(i).difference(set(muestra)) #obten los elementos que no estan en ese clique que si estan en el clique maximal\n",
    "                for j in no_estan_en_clique: \n",
    "                    muestra_falsa = muestra.copy() #se genera una copia para no borrar el orginal\n",
    "                    muestra_falsa = np.append(muestra_falsa,j) #se apila un elemento de los que no estan\n",
    "                    if set(muestra_falsa) not in lista_chidi:\n",
    "                        lista_chidi.append(set(muestra_falsa)) #si no esta en la lista pasa\n",
    "\n",
    "    return(pd.DataFrame(lista_chidi))"
   ]
  },
  {
   "cell_type": "code",
   "execution_count": 66,
   "metadata": {},
   "outputs": [],
   "source": [
    "new_df_cliques1 = get_cliques_6(df_cliques1, 'candidato_clique_1',cliques1)\n",
    "new_df_cliques2 = get_cliques_6(df_cliques2, 'candidato_clique_2',cliques2)\n",
    "num_cliques = num_cliques + 1"
   ]
  },
  {
   "cell_type": "markdown",
   "metadata": {},
   "source": [
    "# VA DE NUEZ EL CALCULO"
   ]
  },
  {
   "cell_type": "code",
   "execution_count": 67,
   "metadata": {},
   "outputs": [],
   "source": [
    "# se le pega la estructura secundaria al dataframe de los cliques\n",
    "# esto va a cambiar por que lo tiene que obtener del objeto residuo\n",
    "# ya se crea en ss1 y no cuesta reevaluar si es mejor desde el residuo\n",
    "# checar que es mas rapido si desde residuo o desde dataframe ss\n",
    "new_df_cliques1 = fc.paste_SS(ss1, new_df_cliques1, num_cliques = num_cliques)\n",
    "new_df_cliques2 = fc.paste_SS(ss2, new_df_cliques2, num_cliques = num_cliques)"
   ]
  },
  {
   "cell_type": "code",
   "execution_count": 68,
   "metadata": {},
   "outputs": [],
   "source": [
    "# comparacion SSM #aqui se obtienen los candidatos posibles pasando el filtro de SS\n",
    "candidatos_ss = fc.compare_SS(new_df_cliques1,new_df_cliques2, num_cliques=num_cliques)"
   ]
  },
  {
   "cell_type": "code",
   "execution_count": 69,
   "metadata": {},
   "outputs": [],
   "source": [
    "# get coords of cliques\n",
    "df_cliques1 = fc.get_coords_clique(df_atoms1, new_df_cliques1, num_cliques)\n",
    "df_cliques2 = fc.get_coords_clique(df_atoms2, new_df_cliques2, num_cliques)"
   ]
  },
  {
   "cell_type": "code",
   "execution_count": 70,
   "metadata": {},
   "outputs": [],
   "source": [
    "# baricentro clique\n",
    "df_cliques1 = fc.baricenter_clique(df_cliques1, num_cliques)\n",
    "df_cliques2 = fc.baricenter_clique(df_cliques2, num_cliques)"
   ]
  },
  {
   "cell_type": "code",
   "execution_count": 71,
   "metadata": {},
   "outputs": [],
   "source": [
    "# vectores gorro\n",
    "df_cliques1 = fc.center_vectors(df_cliques1, num_cliques)\n",
    "df_cliques2 = fc.center_vectors(df_cliques2, num_cliques)"
   ]
  },
  {
   "cell_type": "code",
   "execution_count": 72,
   "metadata": {},
   "outputs": [],
   "source": [
    "idx_rmsd1, idx_rmsd2 = 3*num_cliques, 4*num_cliques+3\n",
    "# print(list(range(idx_rmsd1,idx_rmsd2)))\n",
    "# se pasan a numpy arrays para mayor rapidez\n",
    "array_df_cliques1 = df_cliques1.values[:, range(idx_rmsd1, idx_rmsd2)] #del 9 al 15\n",
    "array_df_cliques2 = df_cliques2.values[:, range(idx_rmsd1, idx_rmsd2)]"
   ]
  },
  {
   "cell_type": "code",
   "execution_count": 73,
   "metadata": {},
   "outputs": [
    {
     "name": "stdout",
     "output_type": "stream",
     "text": [
      "337448\n"
     ]
    }
   ],
   "source": [
    "#calculo del RMSD\n",
    "print(len(candidatos_ss))"
   ]
  },
  {
   "cell_type": "markdown",
   "metadata": {},
   "source": [
    "# Codigo que restringe candidatos"
   ]
  },
  {
   "cell_type": "code",
   "execution_count": 74,
   "metadata": {},
   "outputs": [],
   "source": [
    "df_cliques1 = fc.get_distancia_promedio(num_cliques, df_cliques1)\n",
    "df_cliques2 = fc.get_distancia_promedio(num_cliques, df_cliques2)\n",
    "\n",
    "array_dist_promedio1 = df_cliques1.values[:, -1]  # el ultimo valor de distancia.\n",
    "array_dist_promedio2 = df_cliques2.values[:, -1]"
   ]
  },
  {
   "cell_type": "code",
   "execution_count": 75,
   "metadata": {},
   "outputs": [],
   "source": [
    "limite_distancia_minima = 0.45\n",
    "if num_cliques == 4:\n",
    "    limite_distancia_minima = 0.9\n",
    "if num_cliques == 5:\n",
    "    limite_distancia_minima = 1.8\n",
    "if num_cliques == 6:\n",
    "    limite_distancia_minima = 3.6\n",
    "if num_cliques == 7:\n",
    "    limite_distancia_minima = 4.5\n",
    "if num_cliques == 8:\n",
    "    limite_distancia_minima = 8.0"
   ]
  },
  {
   "cell_type": "code",
   "execution_count": 76,
   "metadata": {},
   "outputs": [
    {
     "name": "stdout",
     "output_type": "stream",
     "text": [
      "num candidatos filtro SS 337448\n",
      "num candidatos filtro distancia y ss 332695\n"
     ]
    }
   ],
   "source": [
    "#filtro por distancia minima\n",
    "candidatos_filter_dist = [(i, j) for i, j in candidatos_ss if (\n",
    "        array_dist_promedio1[i] - array_dist_promedio2[j] >= -limite_distancia_minima) & (\n",
    "        array_dist_promedio1[i] - array_dist_promedio2[j] <= limite_distancia_minima)]\n",
    "\n",
    "print('num candidatos filtro SS', len(candidatos_ss))\n",
    "print('num candidatos filtro distancia y ss', len(candidatos_filter_dist))"
   ]
  },
  {
   "cell_type": "markdown",
   "metadata": {},
   "source": [
    "# Haciendo MUltiprocessing"
   ]
  },
  {
   "cell_type": "code",
   "execution_count": 77,
   "metadata": {},
   "outputs": [],
   "source": [
    "p = multiprocessing.Pool(multiprocessing.cpu_count()-1)\n",
    "restriccion_rmsd = 0.15\n",
    "if num_cliques == 4:\n",
    "    restriccion_rmsd = 0.30\n",
    "if num_cliques == 5:\n",
    "    restriccion_rmsd = 0.60\n",
    "if num_cliques == 6:\n",
    "    restriccion_rmsd = 0.90\n",
    "if num_cliques == 7:\n",
    "    restriccion_rmsd = 1.50\n",
    "if num_cliques == 8:\n",
    "    restriccion_rmsd = 1.80"
   ]
  },
  {
   "cell_type": "code",
   "execution_count": 78,
   "metadata": {},
   "outputs": [
    {
     "name": "stdout",
     "output_type": "stream",
     "text": [
      "CPU times: user 8.11 s, sys: 191 ms, total: 8.3 s\n",
      "Wall time: 26 s\n"
     ]
    }
   ],
   "source": [
    "%%time\n",
    "rmsd_1 = p.map(partial(fc.calculate_rmsd_rot_trans_m,  \n",
    "                    array_cliques1 = array_df_cliques1, \n",
    "                    array_cliques2 = array_df_cliques2, \n",
    "                    num_cliques = num_cliques), candidatos_filter_dist)\n",
    "\n",
    "p.close()\n",
    "p.join()"
   ]
  },
  {
   "cell_type": "code",
   "execution_count": 79,
   "metadata": {},
   "outputs": [
    {
     "data": {
      "text/plain": [
       "332695"
      ]
     },
     "execution_count": 79,
     "metadata": {},
     "output_type": "execute_result"
    }
   ],
   "source": [
    "len(rmsd_1)"
   ]
  },
  {
   "cell_type": "code",
   "execution_count": 80,
   "metadata": {},
   "outputs": [
    {
     "data": {
      "text/plain": [
       "(332695, 5)"
      ]
     },
     "execution_count": 80,
     "metadata": {},
     "output_type": "execute_result"
    }
   ],
   "source": [
    "f1 = pd.DataFrame(rmsd_1)\n",
    "f1.columns = ['rmsd','candidatos']\n",
    "f1['cumple'] = np.where(f1.rmsd <= restriccion_rmsd,1,0)\n",
    "f1['candidato_clique_1'] = f1.candidatos.str.get(0)\n",
    "f1['candidato_clique_2'] = f1.candidatos.str.get(1)\n",
    "f1.shape"
   ]
  },
  {
   "cell_type": "code",
   "execution_count": 81,
   "metadata": {},
   "outputs": [
    {
     "name": "stdout",
     "output_type": "stream",
     "text": [
      "26876\n"
     ]
    }
   ],
   "source": [
    "print(f1[f1.cumple==1].cumple.sum())\n",
    "f1 = f1[f1.cumple==1]"
   ]
  },
  {
   "cell_type": "markdown",
   "metadata": {},
   "source": [
    "# Probando la generacion de una nueva tabla con cliques_7 si se empieza con cliques_6"
   ]
  },
  {
   "cell_type": "code",
   "execution_count": 82,
   "metadata": {},
   "outputs": [
    {
     "data": {
      "text/html": [
       "<div>\n",
       "<style scoped>\n",
       "    .dataframe tbody tr th:only-of-type {\n",
       "        vertical-align: middle;\n",
       "    }\n",
       "\n",
       "    .dataframe tbody tr th {\n",
       "        vertical-align: top;\n",
       "    }\n",
       "\n",
       "    .dataframe thead th {\n",
       "        text-align: right;\n",
       "    }\n",
       "</style>\n",
       "<table border=\"1\" class=\"dataframe\">\n",
       "  <thead>\n",
       "    <tr style=\"text-align: right;\">\n",
       "      <th></th>\n",
       "      <th>rmsd</th>\n",
       "      <th>candidatos</th>\n",
       "      <th>cumple</th>\n",
       "      <th>candidato_clique_1</th>\n",
       "      <th>candidato_clique_2</th>\n",
       "    </tr>\n",
       "  </thead>\n",
       "  <tbody>\n",
       "    <tr>\n",
       "      <th>1</th>\n",
       "      <td>0.88576</td>\n",
       "      <td>(0, 1)</td>\n",
       "      <td>1</td>\n",
       "      <td>0</td>\n",
       "      <td>1</td>\n",
       "    </tr>\n",
       "    <tr>\n",
       "      <th>3</th>\n",
       "      <td>0.88959</td>\n",
       "      <td>(0, 3)</td>\n",
       "      <td>1</td>\n",
       "      <td>0</td>\n",
       "      <td>3</td>\n",
       "    </tr>\n",
       "    <tr>\n",
       "      <th>30</th>\n",
       "      <td>0.78204</td>\n",
       "      <td>(0, 32)</td>\n",
       "      <td>1</td>\n",
       "      <td>0</td>\n",
       "      <td>32</td>\n",
       "    </tr>\n",
       "    <tr>\n",
       "      <th>73</th>\n",
       "      <td>0.85510</td>\n",
       "      <td>(0, 102)</td>\n",
       "      <td>1</td>\n",
       "      <td>0</td>\n",
       "      <td>102</td>\n",
       "    </tr>\n",
       "    <tr>\n",
       "      <th>434</th>\n",
       "      <td>0.46614</td>\n",
       "      <td>(2, 0)</td>\n",
       "      <td>1</td>\n",
       "      <td>2</td>\n",
       "      <td>0</td>\n",
       "    </tr>\n",
       "  </tbody>\n",
       "</table>\n",
       "</div>"
      ],
      "text/plain": [
       "       rmsd candidatos  cumple  candidato_clique_1  candidato_clique_2\n",
       "1   0.88576  (0, 1)     1       0                   1                 \n",
       "3   0.88959  (0, 3)     1       0                   3                 \n",
       "30  0.78204  (0, 32)    1       0                   32                \n",
       "73  0.85510  (0, 102)   1       0                   102               \n",
       "434 0.46614  (2, 0)     1       2                   0                 "
      ]
     },
     "execution_count": 82,
     "metadata": {},
     "output_type": "execute_result"
    }
   ],
   "source": [
    "candidatos_df = f1\n",
    "candidatos_df.sort_values(['candidato_clique_1','candidato_clique_2']).head()"
   ]
  },
  {
   "cell_type": "code",
   "execution_count": 83,
   "metadata": {},
   "outputs": [],
   "source": [
    "def get_cliques_7(df_cliques,col,cliques):\n",
    "    set_clique = [df_cliques.iloc[i, [0,1,2,3,4,5]].values for i in candidatos_df[col].unique()] #conjunto de candidatos unicos\n",
    "    lista_chidi = [] # aqui se guardara la lista de numero de residuo\n",
    "    for muestra in set_clique: # este va a cambiar cada iteracion\n",
    "        for i in cliques:\n",
    "            if set(muestra).issubset(i):       # si esta en un clique maximal\n",
    "                no_estan_en_clique = set(i).difference(set(muestra)) #obten los elementos que no estan en ese clique que si estan en el clique maximal\n",
    "                for j in no_estan_en_clique: \n",
    "                    muestra_falsa = muestra.copy() #se genera una copia para no borrar el orginal\n",
    "                    muestra_falsa = np.append(muestra_falsa,j) #se apila un elemento de los que no estan\n",
    "                    if set(muestra_falsa) not in lista_chidi:\n",
    "                        lista_chidi.append(set(muestra_falsa)) #si no esta en la lista pasa\n",
    "\n",
    "    return(pd.DataFrame(lista_chidi))"
   ]
  },
  {
   "cell_type": "code",
   "execution_count": 84,
   "metadata": {},
   "outputs": [],
   "source": [
    "new_df_cliques1 = get_cliques_7(df_cliques1, 'candidato_clique_1',cliques1)\n",
    "new_df_cliques2 = get_cliques_7(df_cliques2, 'candidato_clique_2',cliques2)\n",
    "num_cliques = num_cliques + 1"
   ]
  },
  {
   "cell_type": "markdown",
   "metadata": {},
   "source": [
    "# VA DE NUEZ EL CALCULO"
   ]
  },
  {
   "cell_type": "code",
   "execution_count": 85,
   "metadata": {},
   "outputs": [],
   "source": [
    "# se le pega la estructura secundaria al dataframe de los cliques\n",
    "# esto va a cambiar por que lo tiene que obtener del objeto residuo\n",
    "# ya se crea en ss1 y no cuesta reevaluar si es mejor desde el residuo\n",
    "# checar que es mas rapido si desde residuo o desde dataframe ss\n",
    "new_df_cliques1 = fc.paste_SS(ss1, new_df_cliques1, num_cliques = num_cliques)\n",
    "new_df_cliques2 = fc.paste_SS(ss2, new_df_cliques2, num_cliques = num_cliques)"
   ]
  },
  {
   "cell_type": "code",
   "execution_count": 86,
   "metadata": {},
   "outputs": [],
   "source": [
    "# comparacion SSM #aqui se obtienen los candidatos posibles pasando el filtro de SS\n",
    "candidatos_ss = fc.compare_SS(new_df_cliques1,new_df_cliques2, num_cliques=num_cliques)"
   ]
  },
  {
   "cell_type": "code",
   "execution_count": 87,
   "metadata": {},
   "outputs": [],
   "source": [
    "# get coords of cliques\n",
    "df_cliques1 = fc.get_coords_clique(df_atoms1, new_df_cliques1, num_cliques)\n",
    "df_cliques2 = fc.get_coords_clique(df_atoms2, new_df_cliques2, num_cliques)"
   ]
  },
  {
   "cell_type": "code",
   "execution_count": 88,
   "metadata": {},
   "outputs": [],
   "source": [
    "# baricentro clique\n",
    "df_cliques1 = fc.baricenter_clique(df_cliques1, num_cliques)\n",
    "df_cliques2 = fc.baricenter_clique(df_cliques2, num_cliques)"
   ]
  },
  {
   "cell_type": "code",
   "execution_count": 89,
   "metadata": {},
   "outputs": [],
   "source": [
    "# vectores gorro\n",
    "df_cliques1 = fc.center_vectors(df_cliques1, num_cliques)\n",
    "df_cliques2 = fc.center_vectors(df_cliques2, num_cliques)"
   ]
  },
  {
   "cell_type": "code",
   "execution_count": 90,
   "metadata": {},
   "outputs": [],
   "source": [
    "idx_rmsd1, idx_rmsd2 = 3*num_cliques, 4*num_cliques+3\n",
    "# print(list(range(idx_rmsd1,idx_rmsd2)))\n",
    "# se pasan a numpy arrays para mayor rapidez\n",
    "array_df_cliques1 = df_cliques1.values[:, range(idx_rmsd1, idx_rmsd2)] #del 9 al 15\n",
    "array_df_cliques2 = df_cliques2.values[:, range(idx_rmsd1, idx_rmsd2)]"
   ]
  },
  {
   "cell_type": "code",
   "execution_count": 91,
   "metadata": {},
   "outputs": [
    {
     "name": "stdout",
     "output_type": "stream",
     "text": [
      "28023\n"
     ]
    }
   ],
   "source": [
    "#calculo del RMSD\n",
    "print(len(candidatos_ss))"
   ]
  },
  {
   "cell_type": "markdown",
   "metadata": {},
   "source": [
    "# Codigo que restringe candidatos"
   ]
  },
  {
   "cell_type": "code",
   "execution_count": 92,
   "metadata": {},
   "outputs": [],
   "source": [
    "df_cliques1 = fc.get_distancia_promedio(num_cliques, df_cliques1)\n",
    "df_cliques2 = fc.get_distancia_promedio(num_cliques, df_cliques2)\n",
    "\n",
    "array_dist_promedio1 = df_cliques1.values[:, -1]  # el ultimo valor de distancia.\n",
    "array_dist_promedio2 = df_cliques2.values[:, -1]"
   ]
  },
  {
   "cell_type": "code",
   "execution_count": 93,
   "metadata": {},
   "outputs": [],
   "source": [
    "limite_distancia_minima = 0.45\n",
    "if num_cliques == 4:\n",
    "    limite_distancia_minima = 0.9\n",
    "if num_cliques == 5:\n",
    "    limite_distancia_minima = 1.8\n",
    "if num_cliques == 6:\n",
    "    limite_distancia_minima = 3.6\n",
    "if num_cliques == 7:\n",
    "    limite_distancia_minima = 4.5\n",
    "if num_cliques == 8:\n",
    "    limite_distancia_minima = 8.0"
   ]
  },
  {
   "cell_type": "code",
   "execution_count": 94,
   "metadata": {},
   "outputs": [
    {
     "name": "stdout",
     "output_type": "stream",
     "text": [
      "num candidatos filtro SS 28023\n",
      "num candidatos filtro distancia y ss 28010\n"
     ]
    }
   ],
   "source": [
    "#filtro por distancia minima\n",
    "candidatos_filter_dist = [(i, j) for i, j in candidatos_ss if (\n",
    "        array_dist_promedio1[i] - array_dist_promedio2[j] >= -limite_distancia_minima) & (\n",
    "        array_dist_promedio1[i] - array_dist_promedio2[j] <= limite_distancia_minima)]\n",
    "\n",
    "print('num candidatos filtro SS', len(candidatos_ss))\n",
    "print('num candidatos filtro distancia y ss', len(candidatos_filter_dist))"
   ]
  },
  {
   "cell_type": "markdown",
   "metadata": {},
   "source": [
    "# Haciendo MUltiprocessing"
   ]
  },
  {
   "cell_type": "code",
   "execution_count": 95,
   "metadata": {},
   "outputs": [],
   "source": [
    "p = multiprocessing.Pool(multiprocessing.cpu_count()-1)\n",
    "restriccion_rmsd = 0.15\n",
    "if num_cliques == 4:\n",
    "    restriccion_rmsd = 0.30\n",
    "if num_cliques == 5:\n",
    "    restriccion_rmsd = 0.60\n",
    "if num_cliques == 6:\n",
    "    restriccion_rmsd = 0.90\n",
    "if num_cliques == 7:\n",
    "    restriccion_rmsd = 1.50\n",
    "if num_cliques == 8:\n",
    "    restriccion_rmsd = 1.80"
   ]
  },
  {
   "cell_type": "code",
   "execution_count": 96,
   "metadata": {},
   "outputs": [
    {
     "name": "stdout",
     "output_type": "stream",
     "text": [
      "CPU times: user 2.58 s, sys: 80.1 ms, total: 2.66 s\n",
      "Wall time: 3.2 s\n"
     ]
    }
   ],
   "source": [
    "%%time\n",
    "rmsd_1 = p.map(partial(fc.calculate_rmsd_rot_trans_m,  \n",
    "                    array_cliques1 = array_df_cliques1, \n",
    "                    array_cliques2 = array_df_cliques2, \n",
    "                    num_cliques = num_cliques), candidatos_filter_dist)\n",
    "\n",
    "p.close()\n",
    "p.join()"
   ]
  },
  {
   "cell_type": "code",
   "execution_count": 97,
   "metadata": {},
   "outputs": [
    {
     "data": {
      "text/plain": [
       "28010"
      ]
     },
     "execution_count": 97,
     "metadata": {},
     "output_type": "execute_result"
    }
   ],
   "source": [
    "len(rmsd_1)"
   ]
  },
  {
   "cell_type": "code",
   "execution_count": 98,
   "metadata": {},
   "outputs": [
    {
     "data": {
      "text/plain": [
       "(28010, 5)"
      ]
     },
     "execution_count": 98,
     "metadata": {},
     "output_type": "execute_result"
    }
   ],
   "source": [
    "f1 = pd.DataFrame(rmsd_1)\n",
    "f1.columns = ['rmsd','candidatos']\n",
    "f1['cumple'] = np.where(f1.rmsd <= restriccion_rmsd,1,0)\n",
    "f1['candidato_clique_1'] = f1.candidatos.str.get(0)\n",
    "f1['candidato_clique_2'] = f1.candidatos.str.get(1)\n",
    "f1.shape"
   ]
  },
  {
   "cell_type": "code",
   "execution_count": 99,
   "metadata": {},
   "outputs": [
    {
     "name": "stdout",
     "output_type": "stream",
     "text": [
      "12114\n"
     ]
    }
   ],
   "source": [
    "print(f1[f1.cumple==1].cumple.sum())\n",
    "f1 = f1[f1.cumple==1]"
   ]
  },
  {
   "cell_type": "code",
   "execution_count": 100,
   "metadata": {},
   "outputs": [],
   "source": [
    "ahora = datetime.datetime.now()"
   ]
  },
  {
   "cell_type": "code",
   "execution_count": 101,
   "metadata": {},
   "outputs": [
    {
     "name": "stdout",
     "output_type": "stream",
     "text": [
      "0:04:41.041061\n"
     ]
    }
   ],
   "source": [
    "print(ahora - tiempo)"
   ]
  },
  {
   "cell_type": "raw",
   "metadata": {},
   "source": [
    "### codigo baricentro###\n",
    "\n",
    "def baricenter_clique(df_cliques, num_cliques):\n",
    "     \"\"\"se calcula el baricentro de cada clique\n",
    "     siguiendo la formula de arriba.\n",
    "     df_lc: Dataframe con los cliques y coordenadas\n",
    "     regresa\n",
    "     df_lc:Dataframe con el baricentro de ese clique\"\"\"\n",
    "\n",
    "     coord_center = []\n",
    "     for i in range(df_cliques.shape[0]):\n",
    "         data = np.array([ df_cliques[i,j] for j in range(num_cliques,2*num_cliques) ])\n",
    "         coord_center.append(data.mean(axis=1))\n",
    "     df_cliques['baricentro_clique'] = coord_center\n",
    "     return(df_cliques)"
   ]
  },
  {
   "cell_type": "code",
   "execution_count": null,
   "metadata": {},
   "outputs": [],
   "source": []
  }
 ],
 "metadata": {
  "kernelspec": {
   "display_name": "Python 3",
   "language": "python",
   "name": "python3"
  },
  "language_info": {
   "codemirror_mode": {
    "name": "ipython",
    "version": 3
   },
   "file_extension": ".py",
   "mimetype": "text/x-python",
   "name": "python",
   "nbconvert_exporter": "python",
   "pygments_lexer": "ipython3",
   "version": "3.7.0"
  }
 },
 "nbformat": 4,
 "nbformat_minor": 2
}
