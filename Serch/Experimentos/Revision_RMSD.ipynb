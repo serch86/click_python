{
 "cells": [
  {
   "cell_type": "code",
   "execution_count": 113,
   "metadata": {},
   "outputs": [],
   "source": [
    "# librerias que utilizaras\n",
    "import numpy as np\n",
    "# por si no te lee las tools o functions creadas\n",
    "import sys\n",
    "sys.path.append(\"../\")\n",
    "sys.path.append(\"../math_tricks/\")\n",
    "# herramientas para leer pdbs\n",
    "import read_pdb_tools as rpt\n",
    "# calculo de distancia\n",
    "from scipy.spatial.distance import pdist\n",
    "# libreria de tablas\n",
    "import pandas as pd\n",
    "# funciones de click generadas en pandas\n",
    "import funciones_CLICK as fc\n",
    "# iteradores\n",
    "import itertools as it\n",
    "# cuenta tiempo de ejecucion\n",
    "import datetime\n",
    "\n",
    "# multiprocessing\n",
    "import multiprocessing\n",
    "from functools import partial\n",
    "# filtro distancia\n",
    "from scipy.spatial import distance"
   ]
  },
  {
   "cell_type": "code",
   "execution_count": 114,
   "metadata": {},
   "outputs": [
    {
     "name": "stdout",
     "output_type": "stream",
     "text": [
      "numero de cliques maximos encontrados: 158\n",
      "numero de 3-cliques posibles: 1787\n",
      "****************************************************************************************************\n",
      "numero de cliques maximos encontrados: 246\n",
      "numero de 3-cliques posibles: 2102\n",
      "****************************************************************************************************\n"
     ]
    }
   ],
   "source": [
    "timenow_bueno = datetime.datetime.now()\n",
    "\n",
    "timenow = datetime.datetime.now()\n",
    "\n",
    "# lectura de archivo\n",
    "file1 = '../pdbs/1xxa_clean.pdb'  # sys.argv[1]\n",
    "file2 = '../pdbs/1tig_clean.pdb'  # sys.argv[2]\n",
    "\n",
    "# numero de cliques, preguntar en el software para generalizarlo INPUT...\n",
    "number_elements_clique = 3\n",
    "\n",
    "# se define la estructura\n",
    "pdb1 = rpt.PdbStruct(file1)\n",
    "pdb2 = rpt.PdbStruct(file2)\n",
    "\n",
    "# se lee el pdb y se agrega al objeto\n",
    "pdb1.AddPdbData(\"%s\" % file1)\n",
    "pdb2.AddPdbData(\"%s\" % file2)\n",
    "\n",
    "# Se calculan sus vecinos mas cercanos\n",
    "pdb1.GetNeighbors()\n",
    "pdb2.GetNeighbors()\n",
    "\n",
    "# se obtienen los residuos que perteneces a la cadena de interes por default chain = 'A'\n",
    "pdb11 = pdb1.GetResChain()\n",
    "pdb22 = pdb2.GetResChain()\n",
    "\n",
    "# Siempre la proteina 1 es el que se rota y traslada para embonar en la proteina 2\n",
    "if len(pdb22) < len(pdb11):\n",
    "\n",
    "    import copy\n",
    "    pdb1_temp = copy.copy(pdb1)\n",
    "    pdb2_temp = copy.copy(pdb2)\n",
    "\n",
    "    pdb11_temp = copy.copy(pdb11)\n",
    "    pdb22_temp = copy.copy(pdb22)\n",
    "\n",
    "    pdb1 = pdb2_temp\n",
    "    pdb2 = pdb1_temp\n",
    "\n",
    "    pdb11 = pdb22_temp\n",
    "    pdb22 = pdb11_temp\n",
    "\n",
    "    del [pdb1_temp]\n",
    "    del [pdb2_temp]\n",
    "    del [pdb11_temp]\n",
    "    del [pdb22_temp]\n",
    "\n",
    "    print(\"Intercambio de nombre ya que la proteina 1 es mas grande que la 2\")\n",
    "    print(pdb1.name, len(pdb11))\n",
    "    print(pdb2.name, len(pdb22))\n",
    "    print(\"No te preocupes ya quedo :)\")\n",
    "\n",
    "\n",
    "pdb1.Set_SS()\n",
    "pdb2.Set_SS()\n",
    "\n",
    "ss1 = fc.create_ss_table(pdb11)\n",
    "ss2 = fc.create_ss_table(pdb22)\n",
    "\n",
    "\n",
    "def get_df_distancias(ref):\n",
    "    \"\"\"Funcion para obtener el dataframe de distancias de cada residuo\n",
    "    Dudas en codigo pueden revisar fc.distancia_entre_atomos en ese se basa\n",
    "    esta funcion, la diferencia es que se crea con el objeto residuo\"\"\"\n",
    "    # se generan listas con coordenadas y numero de atomo\n",
    "    coord = [res.GetAtom('CA').coord for res in ref]\n",
    "    lista_residuos = [res.resi for res in ref]\n",
    "\n",
    "    # calcula distancia y regresa dataframe\n",
    "    distancias = [ [pdist(np.array([v, av]), metric='euclidean').item() for av in coord] for v in coord]\n",
    "\n",
    "    # se genera la matriz de adyacencias para la red\n",
    "    df_da = pd.DataFrame(index=lista_residuos, columns=lista_residuos, data=distancias)\n",
    "    return(df_da, lista_residuos)\n",
    "\n",
    "\n",
    "# devuelve tabla e indices de el dataframe de distancias entre atomos de la misma proteina con dth < 10A\n",
    "df_distancias1, lista_residuos_1 = get_df_distancias(pdb11)\n",
    "df_distancias2, lista_residuos2 = get_df_distancias(pdb22)\n",
    "\n",
    "# se generan cliques, te devuleve dataframe con cliques de k(numero_de_cliques) y la lista de cliques maximales\n",
    "df_cliques1, cliques1 = fc.gen_3_cliques(df_distancias1,  dth=10, k=number_elements_clique)  # file1[:-4] pal gexf\n",
    "print('**'*50)\n",
    "df_cliques2, cliques2 = fc.gen_3_cliques(df_distancias2,  dth=10, k=number_elements_clique)  # file2[:-4]\n",
    "print('**'*50)\n",
    "\n",
    "# REVISAR DONDE GUARDA EL GEXF Y COLOCARLO EN LA CARPETA Grafos\n",
    "\n",
    "# se agrega filtro de residuos que pertenecen a cliques de 7 elementos\n",
    "mc1_7 = cliques1[cliques1.numero_elementos == 7].drop('numero_elementos', 1)\n",
    "mc2_7 = cliques2[cliques2.numero_elementos == 7].drop('numero_elementos', 1)\n",
    "\n",
    "residuos_unicos_1 = []\n",
    "for i in [list(mc1_7[i].unique()) for i in mc1_7.dropna(1).columns]:\n",
    "    for j in i:\n",
    "        residuos_unicos_1.append(int(j))\n",
    "\n",
    "residuos_unicos_2 = []\n",
    "for i in [list(mc2_7[i].unique()) for i in mc2_7.dropna(1).columns]:\n",
    "    for j in i:\n",
    "        residuos_unicos_2.append(int(j))\n",
    "\n",
    "residuos_unicos_1 = set(residuos_unicos_1)\n",
    "residuos_unicos_2 = set(residuos_unicos_2)\n",
    "\n",
    "\n",
    "# funcion para obtener las propiedades del residuo para los cliques agrupados\n",
    "def get_df_ca(list_of_residues):\n",
    "    \"\"\"Genera dataframe con la informacion necesaria para las siguientes funciones\n",
    "    FALTA DOCUMENTAR ESTA COSA!!!!\"\"\"\n",
    "    #crear df_ca\n",
    "    atom_number = []\n",
    "    atom_name = []\n",
    "    residue_name = []\n",
    "    residue_number = []\n",
    "    coord = []\n",
    "    res_ngb = []\n",
    "    for res in list_of_residues:\n",
    "        for atom in res.atoms:\n",
    "            atom_number.append(atom.atom_number)\n",
    "            atom_name.append(atom.name)\n",
    "            residue_name.append(res.resn)\n",
    "            residue_number.append(res.resi)\n",
    "            coord.append(atom.coord)\n",
    "            res_ngb.append(res.ngb)\n",
    "\n",
    "    df_atoms = pd.DataFrame(columns=['atom_number', 'atom_name', 'residue_name',\n",
    "                                   'residue_number', 'vector', 'ngb'])\n",
    "    df_atoms.atom_number = atom_number\n",
    "    df_atoms.atom_name = atom_name\n",
    "    df_atoms.residue_name = residue_name\n",
    "    df_atoms.residue_number = residue_number\n",
    "    df_atoms.vector = coord\n",
    "    df_atoms.ngb = res_ngb\n",
    "\n",
    "    return(df_atoms)\n",
    "\n",
    "\n",
    "# CREAR DF_atomos_CA #\n",
    "df_atoms1 = get_df_ca(pdb11)\n",
    "df_atoms2 = get_df_ca(pdb22)"
   ]
  },
  {
   "cell_type": "code",
   "execution_count": 83,
   "metadata": {},
   "outputs": [],
   "source": [
    "96,97,91\n",
    "[154,156,119]\n",
    "parejas = [(96,154),(97,157),(91,119)]"
   ]
  },
  {
   "cell_type": "code",
   "execution_count": 84,
   "metadata": {},
   "outputs": [],
   "source": [
    "vecs1 = np.array([vecs for vecs in df_atoms1.vector.values])\n",
    "vecs2 = np.array([vecs for vecs in df_atoms2.vector.values])\n",
    "\n",
    "# baricentro\n",
    "bari_1 = vecs1.mean(0)\n",
    "bari_2 = vecs2.mean(0)\n",
    "\n",
    "# vectores centricos\n",
    "vecs_center_1 = vecs1 - bari_1\n",
    "vecs_center_2 = vecs2 - bari_2"
   ]
  },
  {
   "cell_type": "code",
   "execution_count": 85,
   "metadata": {},
   "outputs": [],
   "source": [
    "def R_ij(i, j, parejas=parejas):\n",
    "    valor = sum([vecs_center_1[pos_res[0], i] * vecs_center_2[pos_res[1], j] for pos_res in parejas])\n",
    "    return valor\n",
    "\n",
    "def matrix_R():\n",
    "    \"\"\"cliques a comparar: i,j\n",
    "    desde aqui se itera sobre cada i y hay que variar los vectores\n",
    "    coordenada\n",
    "    Regresa la matriz gigante (matriz simetrica del articulo)\"\"\"\n",
    "    # primer renglon\n",
    "    R11R22R33 = (R_ij(0, 0) + R_ij(1, 1) + R_ij(2, 2))\n",
    "    R23_R32 = (R_ij(1, 2) - R_ij(2, 1))\n",
    "    R31_R13 = (R_ij(2, 0) - R_ij(0, 2))\n",
    "    R12_R21 = (R_ij(0, 1) - R_ij(1, 0))\n",
    "    # segundo renglon\n",
    "    R11_R22_R33 = (R_ij(0, 0) - R_ij(1, 1) - R_ij(2, 2))\n",
    "    R12R21 = (R_ij(0, 1) + R_ij(1, 0))\n",
    "    R13R31 = (R_ij(0, 2) + R_ij(2, 0))\n",
    "    # tercer renglon\n",
    "    _R11R22_R33 = (-R_ij(0, 0) + R_ij(1, 1) - R_ij(2, 2))\n",
    "    R23R32 = (R_ij(1, 2) + R_ij(2, 1))\n",
    "    # cuarto renglon\n",
    "    _R11_R22R33 = (-R_ij(0, 0) - R_ij(1, 1) + R_ij(2, 2))\n",
    "\n",
    "    matriz_R = [\n",
    "        [R11R22R33, R23_R32, R31_R13, R12_R21],\n",
    "        [R23_R32, R11_R22_R33, R12R21, R13R31],\n",
    "        [R31_R13, R12R21, _R11R22_R33, R23R32],\n",
    "        [R12_R21, R13R31, R23R32, _R11_R22R33]\n",
    "    ]\n",
    "    return (matriz_R)\n",
    "\n",
    "def rotation_matrix(matriz_R):\n",
    "    \"\"\"utilizando la funcion giant_matrix, fijando los valores de i,j\n",
    "    se calcula la matriz de rotacion con los eigenvectores y eigenvalores\n",
    "    arroja una matriz de rotacion que depende de la matriz gigante\n",
    "    \"\"\"\n",
    "    eignvalues, eigenvectors = np.linalg.eig(matriz_R)\n",
    "    q = eigenvectors[:, np.argmax(eignvalues)]\n",
    "    q0, q1, q2, q3 = q[0], q[1], q[2], q[3]\n",
    "    # matriz de rotacion con eigenvectores\n",
    "    matriz_rotacion = np.array([\n",
    "        [(q0 ** 2 + q1 ** 2 - q2 ** 2 - q3 ** 2), 2 * (q1 * q2 - q0 * q3), 2 * (q1 * q3 + q0 * q2)],\n",
    "        [2 * (q1 * q2 + q0 * q3), (q0 ** 2 - q1 ** 2 + q2 ** 2 - q3 ** 2), 2 * (q2 * q3 - q0 * q1)],\n",
    "        [2 * (q1 * q3 - q0 * q2), 2 * (q2 * q3 + q0 * q1), (q0 ** 2 - q1 ** 2 - q2 ** 2 + q3 ** 2)]\n",
    "    ], dtype=np.float64)\n",
    "    return (matriz_rotacion)\n",
    "\n",
    "def rotation_vectors(vector_gorro, matriz_rotacion):\n",
    "    \"\"\"obtencion de vector rotado,\n",
    "    utilizando la matriz de rotacion\n",
    "    y los vectores gorro a rotar y trasladar\"\"\"\n",
    "\n",
    "    coord_rotado = [np.matmul(\n",
    "        matriz_rotacion, i.reshape(3, 1)).T[0] for i in vector_gorro]\n",
    "    return (coord_rotado)\n",
    "\n",
    "def rmsd_between_cliques(clique_trasladado_rotado, atom_to_compare):\n",
    "    \"\"\"Calculo de rmsd entre cliques tomando el atomo rotado y trasladado\n",
    "    y el atomo a comparar, por el momento solo imprime el resultado\"\"\"\n",
    "    # primer RMSD entre atomos\n",
    "    p12 = np.sum((np.array(\n",
    "        atom_to_compare, dtype=np.float64) - clique_trasladado_rotado) ** 2, 1)\n",
    "    rmsd_i = lambda i: np.sqrt(i) / 3\n",
    "    rmsd_final = rmsd_i(p12).mean()\n",
    "\n",
    "    return (rmsd_final)"
   ]
  },
  {
   "cell_type": "code",
   "execution_count": 98,
   "metadata": {},
   "outputs": [
    {
     "data": {
      "text/plain": [
       "array([[ 0.2272509 , -0.82132285, -0.52324546],\n",
       "       [ 0.48833645,  0.56097525, -0.66845664],\n",
       "       [ 0.84254646, -0.10361246,  0.52856401]])"
      ]
     },
     "execution_count": 98,
     "metadata": {},
     "output_type": "execute_result"
    }
   ],
   "source": [
    "matriz_rotacion"
   ]
  },
  {
   "cell_type": "code",
   "execution_count": 100,
   "metadata": {},
   "outputs": [],
   "source": [
    "mat_r = np.array([[0.9914070514132912, 0.07582408401406437, 0.1065962789755417], [0.1298933992885212, -0.47415967110042934, -0.8708044046301128], [-0.015484289756918512, 0.8771677801796874, -0.4799342894452979]])"
   ]
  },
  {
   "cell_type": "code",
   "execution_count": 101,
   "metadata": {},
   "outputs": [],
   "source": [
    "# matriz_R = matrix_R()\n",
    "# matriz_rotacion = fc.rotation_matrix(matriz_R)\n",
    "vector_rotado = fc.rotation_vectors(vecs_center_1, mat_r)\n",
    "vector_rotado_trasladado_a_clique2 = vector_rotado + np.array(bari_2)\n",
    "protein_trasladado_rotado = vector_rotado_trasladado_a_clique2\n",
    "protein_to_compare = vecs2"
   ]
  },
  {
   "cell_type": "code",
   "execution_count": 102,
   "metadata": {},
   "outputs": [
    {
     "data": {
      "text/plain": [
       "0    96\n",
       "1    97\n",
       "2    91\n",
       "Name: 12, dtype: int64"
      ]
     },
     "execution_count": 102,
     "metadata": {},
     "output_type": "execute_result"
    }
   ],
   "source": [
    "df_cliques1.iloc[12]"
   ]
  },
  {
   "cell_type": "code",
   "execution_count": 103,
   "metadata": {},
   "outputs": [
    {
     "data": {
      "text/plain": [
       "(12, 372)"
      ]
     },
     "execution_count": 103,
     "metadata": {},
     "output_type": "execute_result"
    }
   ],
   "source": [
    "(12, 372)"
   ]
  },
  {
   "cell_type": "code",
   "execution_count": 104,
   "metadata": {},
   "outputs": [
    {
     "data": {
      "text/plain": [
       "7.157964105605321"
      ]
     },
     "execution_count": 104,
     "metadata": {},
     "output_type": "execute_result"
    }
   ],
   "source": [
    "rmsd_between_cliques(protein_trasladado_rotado[[96,97,91]],protein_to_compare[[154,156,119]])"
   ]
  },
  {
   "cell_type": "code",
   "execution_count": 105,
   "metadata": {},
   "outputs": [
    {
     "data": {
      "text/plain": [
       "array([[28.39 , 57.093, 26.056],\n",
       "       [28.952, 56.593, 24.813],\n",
       "       [28.021, 57.009, 23.678]])"
      ]
     },
     "execution_count": 105,
     "metadata": {},
     "output_type": "execute_result"
    }
   ],
   "source": [
    "vecs1[:3]"
   ]
  },
  {
   "cell_type": "code",
   "execution_count": 106,
   "metadata": {},
   "outputs": [
    {
     "data": {
      "text/plain": [
       "array([[ 5.22313615, 10.66319764, 22.27097388],\n",
       "       [ 5.03930159, 12.16014327, 22.08940125],\n",
       "       [ 4.45803217,  8.08933989, 18.14701229]])"
      ]
     },
     "execution_count": 106,
     "metadata": {},
     "output_type": "execute_result"
    }
   ],
   "source": [
    "protein_trasladado_rotado[[96,97,91]]"
   ]
  },
  {
   "cell_type": "code",
   "execution_count": 107,
   "metadata": {},
   "outputs": [
    {
     "data": {
      "text/plain": [
       "array([[13.549,  9.51 ,  1.501],\n",
       "       [14.086, 10.457,  3.654],\n",
       "       [11.814,  6.76 , -1.915]])"
      ]
     },
     "execution_count": 107,
     "metadata": {},
     "output_type": "execute_result"
    }
   ],
   "source": [
    "protein_to_compare[[154,156,119]]"
   ]
  },
  {
   "cell_type": "code",
   "execution_count": 108,
   "metadata": {},
   "outputs": [
    {
     "data": {
      "text/plain": [
       "array([[-8.32586385,  1.15319764, 20.76997388],\n",
       "       [-9.04669841,  1.70314327, 18.43540125],\n",
       "       [-7.35596783,  1.32933989, 20.06201229]])"
      ]
     },
     "execution_count": 108,
     "metadata": {},
     "output_type": "execute_result"
    }
   ],
   "source": [
    "protein_trasladado_rotado[[96,97,91]] - protein_to_compare[[154,156,119]]"
   ]
  },
  {
   "cell_type": "code",
   "execution_count": 109,
   "metadata": {},
   "outputs": [
    {
     "data": {
      "text/plain": [
       "array([[ 69.32000885,   1.3298648 , 431.3918151 ],\n",
       "       [ 81.84275215,   2.90069701, 339.86401927],\n",
       "       [ 54.11026277,   1.76714455, 402.48433724]])"
      ]
     },
     "execution_count": 109,
     "metadata": {},
     "output_type": "execute_result"
    }
   ],
   "source": [
    "(protein_trasladado_rotado[[96,97,91]] - protein_to_compare[[154,156,119]]) ** 2"
   ]
  },
  {
   "cell_type": "code",
   "execution_count": 110,
   "metadata": {},
   "outputs": [
    {
     "data": {
      "text/plain": [
       "array([502.04168875, 424.60746843, 458.36174456])"
      ]
     },
     "execution_count": 110,
     "metadata": {},
     "output_type": "execute_result"
    }
   ],
   "source": [
    "np.sum((protein_trasladado_rotado[[96,97,91]] - protein_to_compare[[154,156,119]]) ** 2,1)"
   ]
  },
  {
   "cell_type": "code",
   "execution_count": 111,
   "metadata": {},
   "outputs": [
    {
     "data": {
      "text/plain": [
       "array([7.46876227, 6.86866855, 7.1364615 ])"
      ]
     },
     "execution_count": 111,
     "metadata": {},
     "output_type": "execute_result"
    }
   ],
   "source": [
    "np.sqrt(np.sum((protein_trasladado_rotado[[96,97,91]] - protein_to_compare[[154,156,119]]) ** 2,1))/3"
   ]
  },
  {
   "cell_type": "code",
   "execution_count": 112,
   "metadata": {},
   "outputs": [
    {
     "data": {
      "text/plain": [
       "7.157964105605321"
      ]
     },
     "execution_count": 112,
     "metadata": {},
     "output_type": "execute_result"
    }
   ],
   "source": [
    "np.mean(np.sqrt(np.sum((protein_trasladado_rotado[[96,97,91]] - protein_to_compare[[154,156,119]]) ** 2,1))/3)"
   ]
  },
  {
   "cell_type": "code",
   "execution_count": null,
   "metadata": {},
   "outputs": [],
   "source": []
  }
 ],
 "metadata": {
  "kernelspec": {
   "display_name": "Python 3",
   "language": "python",
   "name": "python3"
  },
  "language_info": {
   "codemirror_mode": {
    "name": "ipython",
    "version": 3
   },
   "file_extension": ".py",
   "mimetype": "text/x-python",
   "name": "python",
   "nbconvert_exporter": "python",
   "pygments_lexer": "ipython3",
   "version": "3.6.6"
  }
 },
 "nbformat": 4,
 "nbformat_minor": 2
}
