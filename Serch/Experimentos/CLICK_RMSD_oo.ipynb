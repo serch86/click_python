{
 "cells": [
  {
   "cell_type": "markdown",
   "metadata": {},
   "source": [
    "# Algoritmo de desarrollo orientado a objetos y numpy\n",
    "Se busca probar las funciones y scripts para obtener una mayor rapidez de ejecucion.\n",
    "Se generan los algoritmos necesarios para el desarrollo del algoritmo que compare ambas estructuras\n",
    "Basandose en la estructura como esta en start_oo.py"
   ]
  },
  {
   "cell_type": "code",
   "execution_count": 1,
   "metadata": {},
   "outputs": [],
   "source": [
    "# librerias que utilizaras\n",
    "import numpy as np\n",
    "# por si no te lee las tools o functions creadas\n",
    "import sys\n",
    "# herramientas para leer pdbs\n",
    "import read_pdb_tools as rpt\n",
    "# calculo de distancia\n",
    "from scipy.spatial.distance import pdist, squareform\n",
    "# libreria de tablas\n",
    "import pandas as pd\n",
    "# funciones de click generadas en pandas\n",
    "import funciones_CLICK as fc\n",
    "# iteradores\n",
    "import itertools as it\n",
    "# cuenta tiempo de ejecucion\n",
    "import datetime\n",
    "#distancia\n",
    "from scipy.spatial import distance\n",
    "#multiprocesamiento\n",
    "import multiprocessing\n",
    "from functools import partial"
   ]
  },
  {
   "cell_type": "code",
   "execution_count": 2,
   "metadata": {},
   "outputs": [],
   "source": [
    "tiempo =  datetime.datetime.now()"
   ]
  },
  {
   "cell_type": "code",
   "execution_count": 3,
   "metadata": {},
   "outputs": [],
   "source": [
    "# assert( len(sys.argv) > 1)\n",
    "# lectura de archivo\n",
    "file1 = 'pdbs/1xxa.pdb' # sys.argv[1]\n",
    "file2 = 'pdbs/1tig.pdb' # sys.argv[2]\n",
    "\n",
    "# numero de cliques, preguntar en el software para generalizarlo...\n",
    "num_cliques = 3\n",
    "\n",
    "# se define la estructura\n",
    "pdb1 = rpt.PdbStruct(file1)\n",
    "pdb2 = rpt.PdbStruct(file2)\n",
    "\n",
    "# se lee el pdb y se agrega al objeto\n",
    "pdb1.AddPdbData(\"%s\" % file1)\n",
    "pdb2.AddPdbData(\"%s\" % file2)\n",
    "\n",
    "# se obtienen los residuos que perteneces a la cadena de interes por default chain = 'A'\n",
    "pdb11 = pdb1.GetResChain()\n",
    "pdb22 = pdb2.GetResChain()\n",
    "\n",
    "pdb1.Set_SS()\n",
    "pdb2.Set_SS()\n",
    "\n",
    "ss1 = fc.create_ss_table(pdb11)\n",
    "ss2 = fc.create_ss_table(pdb22)"
   ]
  },
  {
   "cell_type": "code",
   "execution_count": 4,
   "metadata": {},
   "outputs": [],
   "source": [
    "def get_df_distancias(ref):\n",
    "    \"\"\"Funcion para obtener el dataframe de distancias de cada proteina\"\"\"\n",
    "    # se generan listas con coordenadas y numero de atomo\n",
    "    coord = [res.GetAtom('CA').coord for res in ref]\n",
    "    index = [res.resi for res in ref]\n",
    "\n",
    "    # calcula distancia y regresa dataframe\n",
    "    distancias = []\n",
    "    # se calcula la distancia euclidiana entre cada atomo de carbon alfalfa\n",
    "    for v in coord:\n",
    "        distancia_un_atomo = []\n",
    "        for av in coord:\n",
    "            distancia = pdist(np.array([v, av]), metric='euclidean').item()\n",
    "            distancia_un_atomo.append(distancia)\n",
    "        distancias.append(distancia_un_atomo)\n",
    "\n",
    "    # se genera la matriz de adyacencias para la red\n",
    "    df_da = pd.DataFrame(index=index, columns=index, data=distancias)\n",
    "    return(df_da, index)\n",
    "\n",
    "\n",
    "df_distancias1, index1 = get_df_distancias(pdb11)\n",
    "df_distancias2, index2 = get_df_distancias(pdb22)"
   ]
  },
  {
   "cell_type": "code",
   "execution_count": 6,
   "metadata": {},
   "outputs": [
    {
     "name": "stdout",
     "output_type": "stream",
     "text": [
      "numero de cliques maximos encontrados: 158\n",
      "numero de 3-cliques posibles: 1787\n",
      "****************************************************************************************************\n",
      "numero de cliques maximos encontrados: 246\n",
      "numero de 3-cliques posibles: 2102\n",
      "****************************************************************************************************\n"
     ]
    }
   ],
   "source": [
    "# se generan cliques, tte devuleve dataframe con cliques de 3 y la lista de cliques sin partir\n",
    "df_cliques1, cliques1 = fc.gen_3_cliques(df_distancias1, 'eso',dth=10, k=num_cliques)\n",
    "print('**'*50)\n",
    "df_cliques2, cliques2 = fc.gen_3_cliques(df_distancias2, 'eso',dth=10, k=num_cliques)\n",
    "print('**'*50)"
   ]
  },
  {
   "cell_type": "code",
   "execution_count": 19,
   "metadata": {},
   "outputs": [
    {
     "data": {
      "text/plain": [
       "50576"
      ]
     },
     "execution_count": 19,
     "metadata": {},
     "output_type": "execute_result"
    }
   ],
   "source": [
    "109*58"
   ]
  },
  {
   "cell_type": "code",
   "execution_count": 16,
   "metadata": {},
   "outputs": [
    {
     "data": {
      "text/plain": [
       "numero_elementos\n",
       "4     4 \n",
       "5     12\n",
       "6     42\n",
       "7     58\n",
       "8     26\n",
       "9     13\n",
       "10    3 \n",
       "Name: 0, dtype: int64"
      ]
     },
     "execution_count": 16,
     "metadata": {},
     "output_type": "execute_result"
    }
   ],
   "source": [
    "cliques1.groupby('numero_elementos').count()[0]"
   ]
  },
  {
   "cell_type": "code",
   "execution_count": 112,
   "metadata": {},
   "outputs": [],
   "source": [
    "def get_df_ca(list_of_residues):\n",
    "    \"\"\"Genera dataframe con la informacion necesaria para las siguientes funciones\n",
    "    FALTA DOCUMENTAR ESTA COSA!!!!\"\"\"\n",
    "    #crear df_ca\n",
    "    atom_number = []\n",
    "    atom_name = []\n",
    "    residue_name = []\n",
    "    residue_number = []\n",
    "    coord = []\n",
    "    for res in list_of_residues:\n",
    "        for atom in res.atoms:\n",
    "            atom_number.append(atom.atom_number)\n",
    "            atom_name.append(atom.name)\n",
    "            residue_name.append(res.resn)\n",
    "            residue_number.append(res.resi)\n",
    "            coord.append(atom.coord)\n",
    "\n",
    "    df_atoms = pd.DataFrame(columns=['atom_number', 'atom_name', 'residue_name',\n",
    "                                   'residue_number', 'vector'])\n",
    "    df_atoms.atom_number = atom_number\n",
    "    df_atoms.atom_name = atom_name\n",
    "    df_atoms.residue_name = residue_name\n",
    "    df_atoms.residue_number = residue_number\n",
    "    df_atoms.vector = coord\n",
    "\n",
    "    return(df_atoms)\n",
    "\n",
    "\n",
    "# CREAR DF_atomos_CA #\n",
    "df_atoms1 = get_df_ca(pdb11)\n",
    "df_atoms2 = get_df_ca(pdb22)"
   ]
  },
  {
   "cell_type": "code",
   "execution_count": 113,
   "metadata": {},
   "outputs": [],
   "source": [
    "# se le pega la estructura secundaria al dataframe de los cliques\n",
    "# esto va a cambiar por que lo tiene que obtener del objeto residuo\n",
    "# ya se crea en ss1 y no cuesta reevaluar si es mejor desde el residuo\n",
    "# checar que es mas rapido si desde residuo o desde dataframe ss\n",
    "df_cliques1 = fc.paste_SS(ss1, df_cliques1, num_cliques = num_cliques)\n",
    "df_cliques2 = fc.paste_SS(ss2, df_cliques2, num_cliques = num_cliques)"
   ]
  },
  {
   "cell_type": "code",
   "execution_count": 114,
   "metadata": {},
   "outputs": [],
   "source": [
    "# comparacion SSM #aqui se obtienen los candidatos posibles pasando el filtro de SS\n",
    "candidatos_ss = fc.compare_SS(df_cliques1,df_cliques2, num_cliques=num_cliques)"
   ]
  },
  {
   "cell_type": "code",
   "execution_count": 115,
   "metadata": {},
   "outputs": [],
   "source": [
    "# get coords of cliques\n",
    "df_cliques1 = fc.get_coords_clique(df_atoms1, df_cliques1, num_cliques)\n",
    "df_cliques2 = fc.get_coords_clique(df_atoms2, df_cliques2, num_cliques)"
   ]
  },
  {
   "cell_type": "code",
   "execution_count": 116,
   "metadata": {},
   "outputs": [],
   "source": [
    "# baricentro clique\n",
    "df_cliques1 = fc.baricenter_clique(df_cliques1, num_cliques)\n",
    "df_cliques2 = fc.baricenter_clique(df_cliques2, num_cliques)"
   ]
  },
  {
   "cell_type": "code",
   "execution_count": 117,
   "metadata": {},
   "outputs": [],
   "source": [
    "# vectores gorro\n",
    "df_cliques1 = fc.center_vectors(df_cliques1, num_cliques)\n",
    "df_cliques2 = fc.center_vectors(df_cliques2, num_cliques)"
   ]
  },
  {
   "cell_type": "code",
   "execution_count": 118,
   "metadata": {},
   "outputs": [
    {
     "name": "stdout",
     "output_type": "stream",
     "text": [
      "0 0\n",
      "1 1\n",
      "2 2\n",
      "3 ss_0\n",
      "4 ss_1\n",
      "5 ss_2\n",
      "6 coord_clique_0\n",
      "7 coord_clique_1\n",
      "8 coord_clique_2\n",
      "9 matriz_coordenadas\n",
      "10 baricentro_clique\n",
      "11 vec_gorro_0\n",
      "12 vec_gorro_1\n",
      "13 vec_gorro_2\n",
      "14 vectores_gorro\n"
     ]
    }
   ],
   "source": [
    "for i,j in enumerate(df_cliques1.columns):\n",
    "    print(i,j)"
   ]
  },
  {
   "cell_type": "code",
   "execution_count": 119,
   "metadata": {},
   "outputs": [],
   "source": [
    "idx_rmsd1, idx_rmsd2 = 3*num_cliques, 4*num_cliques+3\n",
    "# print(list(range(idx_rmsd1,idx_rmsd2)))\n",
    "# se pasan a numpy arrays para mayor rapidez\n",
    "array_df_cliques1 = df_cliques1.values[:, range(idx_rmsd1, idx_rmsd2)] #del 9 al 15\n",
    "array_df_cliques2 = df_cliques2.values[:, range(idx_rmsd1, idx_rmsd2)]"
   ]
  },
  {
   "cell_type": "code",
   "execution_count": 120,
   "metadata": {},
   "outputs": [
    {
     "name": "stdout",
     "output_type": "stream",
     "text": [
      "1705808\n"
     ]
    }
   ],
   "source": [
    "#calculo del RMSD\n",
    "print(len(candidatos_ss))"
   ]
  },
  {
   "cell_type": "markdown",
   "metadata": {},
   "source": [
    "# Codigo que restringe candidatos"
   ]
  },
  {
   "cell_type": "code",
   "execution_count": 121,
   "metadata": {},
   "outputs": [],
   "source": [
    "df_cliques1 = fc.get_distancia_promedio(num_cliques, df_cliques1)\n",
    "df_cliques2 = fc.get_distancia_promedio(num_cliques, df_cliques2)\n",
    "\n",
    "array_dist_promedio1 = df_cliques1.values[:, -1]  # el ultimo valor de distancia.\n",
    "array_dist_promedio2 = df_cliques2.values[:, -1]"
   ]
  },
  {
   "cell_type": "code",
   "execution_count": 122,
   "metadata": {},
   "outputs": [
    {
     "name": "stdout",
     "output_type": "stream",
     "text": [
      "1705808\n",
      "253993\n"
     ]
    }
   ],
   "source": [
    "limite_distancia_minima = 0.45\n",
    "if num_cliques == 4:\n",
    "    limite_distancia_minima = 0.9\n",
    "if num_cliques == 5:\n",
    "    limite_distancia_minima = 1.8\n",
    "if num_cliques == 6:\n",
    "    limite_distancia_minima = 3.6\n",
    "if num_cliques == 7:\n",
    "    limite_distancia_minima = 4.5\n",
    "if num_cliques == 8:\n",
    "    limite_distancia_minima = 8.0\n",
    "\n",
    "candidatos_filter_dist = [(i, j) for i, j in candidatos_ss if (\n",
    "        array_dist_promedio1[i] - array_dist_promedio2[j] >= -limite_distancia_minima) & (\n",
    "        array_dist_promedio1[i] - array_dist_promedio2[j] <= limite_distancia_minima)]\n",
    "\n",
    "print(len(candidatos_ss))\n",
    "print(len(candidatos_filter_dist))"
   ]
  },
  {
   "cell_type": "code",
   "execution_count": 123,
   "metadata": {},
   "outputs": [],
   "source": [
    "restriccion_rmsd = 0.15\n",
    "if num_cliques == 4:\n",
    "    restriccion_rmsd = 0.30\n",
    "if num_cliques == 5:\n",
    "    restriccion_rmsd = 0.60\n",
    "if num_cliques == 6:\n",
    "    restriccion_rmsd = 0.90\n",
    "if num_cliques == 7:\n",
    "    restriccion_rmsd = 1.50\n",
    "if num_cliques == 8:\n",
    "    restriccion_rmsd = 1.80"
   ]
  },
  {
   "cell_type": "markdown",
   "metadata": {},
   "source": [
    "# Haciendo MUltiprocessing"
   ]
  },
  {
   "cell_type": "code",
   "execution_count": 124,
   "metadata": {},
   "outputs": [],
   "source": [
    "p = multiprocessing.Pool(multiprocessing.cpu_count()-1)"
   ]
  },
  {
   "cell_type": "code",
   "execution_count": 125,
   "metadata": {},
   "outputs": [
    {
     "name": "stdout",
     "output_type": "stream",
     "text": [
      "CPU times: user 4.91 s, sys: 92.7 ms, total: 5 s\n",
      "Wall time: 13.9 s\n"
     ]
    }
   ],
   "source": [
    "%%time\n",
    "rmsd_1 = p.map(partial(fc.calculate_rmsd_rot_trans_m,  \n",
    "                    array_cliques1 = array_df_cliques1, \n",
    "                    array_cliques2 = array_df_cliques2, \n",
    "                    num_cliques = num_cliques), candidatos_filter_dist)\n",
    "\n",
    "p.close()\n",
    "p.join()"
   ]
  },
  {
   "cell_type": "code",
   "execution_count": 126,
   "metadata": {},
   "outputs": [
    {
     "data": {
      "text/plain": [
       "253993"
      ]
     },
     "execution_count": 126,
     "metadata": {},
     "output_type": "execute_result"
    }
   ],
   "source": [
    "len(rmsd_1)"
   ]
  },
  {
   "cell_type": "code",
   "execution_count": 127,
   "metadata": {},
   "outputs": [
    {
     "data": {
      "text/plain": [
       "(253993, 5)"
      ]
     },
     "execution_count": 127,
     "metadata": {},
     "output_type": "execute_result"
    }
   ],
   "source": [
    "f1 = pd.DataFrame(rmsd_1)\n",
    "f1.columns = ['rmsd','candidatos']\n",
    "f1['cumple'] = np.where(f1.rmsd <= restriccion_rmsd,1,0)\n",
    "f1['candidato_clique_1'] = f1.candidatos.str.get(0)\n",
    "f1['candidato_clique_2'] = f1.candidatos.str.get(1)\n",
    "f1.shape"
   ]
  },
  {
   "cell_type": "code",
   "execution_count": 128,
   "metadata": {},
   "outputs": [
    {
     "name": "stdout",
     "output_type": "stream",
     "text": [
      "6907\n"
     ]
    }
   ],
   "source": [
    "print(f1[f1.cumple==1].cumple.sum())\n",
    "f1 = f1[f1.cumple==1]"
   ]
  },
  {
   "cell_type": "code",
   "execution_count": 129,
   "metadata": {},
   "outputs": [
    {
     "data": {
      "text/html": [
       "<div>\n",
       "<style scoped>\n",
       "    .dataframe tbody tr th:only-of-type {\n",
       "        vertical-align: middle;\n",
       "    }\n",
       "\n",
       "    .dataframe tbody tr th {\n",
       "        vertical-align: top;\n",
       "    }\n",
       "\n",
       "    .dataframe thead th {\n",
       "        text-align: right;\n",
       "    }\n",
       "</style>\n",
       "<table border=\"1\" class=\"dataframe\">\n",
       "  <thead>\n",
       "    <tr style=\"text-align: right;\">\n",
       "      <th></th>\n",
       "      <th>0</th>\n",
       "      <th>1</th>\n",
       "      <th>2</th>\n",
       "      <th>ss_0</th>\n",
       "      <th>ss_1</th>\n",
       "      <th>ss_2</th>\n",
       "      <th>coord_clique_0</th>\n",
       "      <th>coord_clique_1</th>\n",
       "      <th>coord_clique_2</th>\n",
       "      <th>matriz_coordenadas</th>\n",
       "      <th>baricentro_clique</th>\n",
       "      <th>vec_gorro_0</th>\n",
       "      <th>vec_gorro_1</th>\n",
       "      <th>vec_gorro_2</th>\n",
       "      <th>vectores_gorro</th>\n",
       "      <th>distancia_promedio</th>\n",
       "    </tr>\n",
       "  </thead>\n",
       "  <tbody>\n",
       "    <tr>\n",
       "      <th>0</th>\n",
       "      <td>96</td>\n",
       "      <td>97</td>\n",
       "      <td>132</td>\n",
       "      <td>B</td>\n",
       "      <td>B</td>\n",
       "      <td>B</td>\n",
       "      <td>[22.136, 75.657, 3.038]</td>\n",
       "      <td>[21.002, 74.191, 0.793]</td>\n",
       "      <td>[23.896, 66.017, 14.309]</td>\n",
       "      <td>[[22.136, 75.657, 3.038], [21.002, 74.191, 0.793], [23.896, 66.017, 14.309]]</td>\n",
       "      <td>[22.344666666666665, 71.955, 6.046666666666667]</td>\n",
       "      <td>[-0.2086666666666659, 3.701999999999998, -3.008666666666667]</td>\n",
       "      <td>[-1.3426666666666662, 2.236000000000004, -5.253666666666667]</td>\n",
       "      <td>[1.5513333333333357, -5.938000000000002, 8.262333333333332]</td>\n",
       "      <td>[[-0.2086666666666659, 3.701999999999998, -3.008666666666667], [-1.3426666666666662, 2.236000000000004, -5.253666666666667], [1.5513333333333357, -5.938000000000002, 8.262333333333332]]</td>\n",
       "      <td>6.97759</td>\n",
       "    </tr>\n",
       "    <tr>\n",
       "      <th>1</th>\n",
       "      <td>89</td>\n",
       "      <td>97</td>\n",
       "      <td>132</td>\n",
       "      <td>B</td>\n",
       "      <td>B</td>\n",
       "      <td>B</td>\n",
       "      <td>[19.611, 70.025, 3.301]</td>\n",
       "      <td>[21.002, 74.191, 0.793]</td>\n",
       "      <td>[23.896, 66.017, 14.309]</td>\n",
       "      <td>[[19.611, 70.025, 3.301], [21.002, 74.191, 0.793], [23.896, 66.017, 14.309]]</td>\n",
       "      <td>[21.503, 70.07766666666667, 6.134333333333333]</td>\n",
       "      <td>[-1.8919999999999995, -0.052666666666667084, -2.833333333333333]</td>\n",
       "      <td>[-0.5010000000000012, 4.11333333333333, -5.341333333333333]</td>\n",
       "      <td>[2.3930000000000007, -4.060666666666677, 8.174666666666667]</td>\n",
       "      <td>[[-1.8919999999999995, -0.052666666666667084, -2.833333333333333], [-0.5010000000000012, 4.11333333333333, -5.341333333333333], [2.3930000000000007, -4.060666666666677, 8.174666666666667]]</td>\n",
       "      <td>6.53457</td>\n",
       "    </tr>\n",
       "    <tr>\n",
       "      <th>2</th>\n",
       "      <td>97</td>\n",
       "      <td>98</td>\n",
       "      <td>132</td>\n",
       "      <td>B</td>\n",
       "      <td>B</td>\n",
       "      <td>B</td>\n",
       "      <td>[21.002, 74.191, 0.793]</td>\n",
       "      <td>[21.017, 73.308, -0.443]</td>\n",
       "      <td>[23.896, 66.017, 14.309]</td>\n",
       "      <td>[[21.002, 74.191, 0.793], [21.017, 73.308, -0.443], [23.896, 66.017, 14.309]]</td>\n",
       "      <td>[21.971666666666664, 71.17200000000001, 4.886333333333333]</td>\n",
       "      <td>[-0.9696666666666651, 3.0189999999999912, -4.093333333333333]</td>\n",
       "      <td>[-0.9546666666666646, 2.1359999999999957, -5.329333333333333]</td>\n",
       "      <td>[1.9243333333333368, -5.155000000000015, 9.422666666666666]</td>\n",
       "      <td>[[-0.9696666666666651, 3.0189999999999912, -4.093333333333333], [-0.9546666666666646, 2.1359999999999957, -5.329333333333333], [1.9243333333333368, -5.155000000000015, 9.422666666666666]]</td>\n",
       "      <td>7.30325</td>\n",
       "    </tr>\n",
       "    <tr>\n",
       "      <th>3</th>\n",
       "      <td>97</td>\n",
       "      <td>91</td>\n",
       "      <td>132</td>\n",
       "      <td>B</td>\n",
       "      <td>B</td>\n",
       "      <td>B</td>\n",
       "      <td>[21.002, 74.191, 0.793]</td>\n",
       "      <td>[19.973, 71.736, 4.932]</td>\n",
       "      <td>[23.896, 66.017, 14.309]</td>\n",
       "      <td>[[21.002, 74.191, 0.793], [19.973, 71.736, 4.932], [23.896, 66.017, 14.309]]</td>\n",
       "      <td>[21.623666666666665, 70.64800000000001, 6.678]</td>\n",
       "      <td>[-0.6216666666666661, 3.542999999999992, -5.885]</td>\n",
       "      <td>[-1.650666666666666, 1.0879999999999939, -1.7459999999999996]</td>\n",
       "      <td>[2.2723333333333358, -4.631000000000014, 7.630999999999999]</td>\n",
       "      <td>[[-0.6216666666666661, 3.542999999999992, -5.885], [-1.650666666666666, 1.0879999999999939, -1.7459999999999996], [2.2723333333333358, -4.631000000000014, 7.630999999999999]]</td>\n",
       "      <td>6.24862</td>\n",
       "    </tr>\n",
       "    <tr>\n",
       "      <th>4</th>\n",
       "      <td>96</td>\n",
       "      <td>89</td>\n",
       "      <td>132</td>\n",
       "      <td>B</td>\n",
       "      <td>B</td>\n",
       "      <td>B</td>\n",
       "      <td>[22.136, 75.657, 3.038]</td>\n",
       "      <td>[19.611, 70.025, 3.301]</td>\n",
       "      <td>[23.896, 66.017, 14.309]</td>\n",
       "      <td>[[22.136, 75.657, 3.038], [19.611, 70.025, 3.301], [23.896, 66.017, 14.309]]</td>\n",
       "      <td>[21.881, 70.56633333333333, 6.882666666666666]</td>\n",
       "      <td>[0.254999999999999, 5.090666666666664, -3.8446666666666665]</td>\n",
       "      <td>[-2.2699999999999996, -0.541333333333327, -3.581666666666666]</td>\n",
       "      <td>[2.0150000000000006, -4.549333333333337, 7.426333333333333]</td>\n",
       "      <td>[[0.254999999999999, 5.090666666666664, -3.8446666666666665], [-2.2699999999999996, -0.541333333333327, -3.581666666666666], [2.0150000000000006, -4.549333333333337, 7.426333333333333]]</td>\n",
       "      <td>6.53279</td>\n",
       "    </tr>\n",
       "  </tbody>\n",
       "</table>\n",
       "</div>"
      ],
      "text/plain": [
       "    0   1    2 ss_0 ss_1 ss_2           coord_clique_0  \\\n",
       "0  96  97  132  B    B    B    [22.136, 75.657, 3.038]   \n",
       "1  89  97  132  B    B    B    [19.611, 70.025, 3.301]   \n",
       "2  97  98  132  B    B    B    [21.002, 74.191, 0.793]   \n",
       "3  97  91  132  B    B    B    [21.002, 74.191, 0.793]   \n",
       "4  96  89  132  B    B    B    [22.136, 75.657, 3.038]   \n",
       "\n",
       "             coord_clique_1            coord_clique_2  \\\n",
       "0  [21.002, 74.191, 0.793]   [23.896, 66.017, 14.309]   \n",
       "1  [21.002, 74.191, 0.793]   [23.896, 66.017, 14.309]   \n",
       "2  [21.017, 73.308, -0.443]  [23.896, 66.017, 14.309]   \n",
       "3  [19.973, 71.736, 4.932]   [23.896, 66.017, 14.309]   \n",
       "4  [19.611, 70.025, 3.301]   [23.896, 66.017, 14.309]   \n",
       "\n",
       "                                                              matriz_coordenadas  \\\n",
       "0  [[22.136, 75.657, 3.038], [21.002, 74.191, 0.793], [23.896, 66.017, 14.309]]    \n",
       "1  [[19.611, 70.025, 3.301], [21.002, 74.191, 0.793], [23.896, 66.017, 14.309]]    \n",
       "2  [[21.002, 74.191, 0.793], [21.017, 73.308, -0.443], [23.896, 66.017, 14.309]]   \n",
       "3  [[21.002, 74.191, 0.793], [19.973, 71.736, 4.932], [23.896, 66.017, 14.309]]    \n",
       "4  [[22.136, 75.657, 3.038], [19.611, 70.025, 3.301], [23.896, 66.017, 14.309]]    \n",
       "\n",
       "                                            baricentro_clique  \\\n",
       "0  [22.344666666666665, 71.955, 6.046666666666667]              \n",
       "1  [21.503, 70.07766666666667, 6.134333333333333]               \n",
       "2  [21.971666666666664, 71.17200000000001, 4.886333333333333]   \n",
       "3  [21.623666666666665, 70.64800000000001, 6.678]               \n",
       "4  [21.881, 70.56633333333333, 6.882666666666666]               \n",
       "\n",
       "                                                        vec_gorro_0  \\\n",
       "0  [-0.2086666666666659, 3.701999999999998, -3.008666666666667]       \n",
       "1  [-1.8919999999999995, -0.052666666666667084, -2.833333333333333]   \n",
       "2  [-0.9696666666666651, 3.0189999999999912, -4.093333333333333]      \n",
       "3  [-0.6216666666666661, 3.542999999999992, -5.885]                   \n",
       "4  [0.254999999999999, 5.090666666666664, -3.8446666666666665]        \n",
       "\n",
       "                                                     vec_gorro_1  \\\n",
       "0  [-1.3426666666666662, 2.236000000000004, -5.253666666666667]    \n",
       "1  [-0.5010000000000012, 4.11333333333333, -5.341333333333333]     \n",
       "2  [-0.9546666666666646, 2.1359999999999957, -5.329333333333333]   \n",
       "3  [-1.650666666666666, 1.0879999999999939, -1.7459999999999996]   \n",
       "4  [-2.2699999999999996, -0.541333333333327, -3.581666666666666]   \n",
       "\n",
       "                                                   vec_gorro_2  \\\n",
       "0  [1.5513333333333357, -5.938000000000002, 8.262333333333332]   \n",
       "1  [2.3930000000000007, -4.060666666666677, 8.174666666666667]   \n",
       "2  [1.9243333333333368, -5.155000000000015, 9.422666666666666]   \n",
       "3  [2.2723333333333358, -4.631000000000014, 7.630999999999999]   \n",
       "4  [2.0150000000000006, -4.549333333333337, 7.426333333333333]   \n",
       "\n",
       "                                                                                                                                                                                 vectores_gorro  \\\n",
       "0  [[-0.2086666666666659, 3.701999999999998, -3.008666666666667], [-1.3426666666666662, 2.236000000000004, -5.253666666666667], [1.5513333333333357, -5.938000000000002, 8.262333333333332]]      \n",
       "1  [[-1.8919999999999995, -0.052666666666667084, -2.833333333333333], [-0.5010000000000012, 4.11333333333333, -5.341333333333333], [2.3930000000000007, -4.060666666666677, 8.174666666666667]]   \n",
       "2  [[-0.9696666666666651, 3.0189999999999912, -4.093333333333333], [-0.9546666666666646, 2.1359999999999957, -5.329333333333333], [1.9243333333333368, -5.155000000000015, 9.422666666666666]]    \n",
       "3  [[-0.6216666666666661, 3.542999999999992, -5.885], [-1.650666666666666, 1.0879999999999939, -1.7459999999999996], [2.2723333333333358, -4.631000000000014, 7.630999999999999]]                 \n",
       "4  [[0.254999999999999, 5.090666666666664, -3.8446666666666665], [-2.2699999999999996, -0.541333333333327, -3.581666666666666], [2.0150000000000006, -4.549333333333337, 7.426333333333333]]      \n",
       "\n",
       "   distancia_promedio  \n",
       "0 6.97759              \n",
       "1 6.53457              \n",
       "2 7.30325              \n",
       "3 6.24862              \n",
       "4 6.53279              "
      ]
     },
     "execution_count": 129,
     "metadata": {},
     "output_type": "execute_result"
    }
   ],
   "source": [
    "df_cliques1.head()"
   ]
  },
  {
   "cell_type": "code",
   "execution_count": 130,
   "metadata": {},
   "outputs": [
    {
     "data": {
      "text/html": [
       "<div>\n",
       "<style scoped>\n",
       "    .dataframe tbody tr th:only-of-type {\n",
       "        vertical-align: middle;\n",
       "    }\n",
       "\n",
       "    .dataframe tbody tr th {\n",
       "        vertical-align: top;\n",
       "    }\n",
       "\n",
       "    .dataframe thead th {\n",
       "        text-align: right;\n",
       "    }\n",
       "</style>\n",
       "<table border=\"1\" class=\"dataframe\">\n",
       "  <thead>\n",
       "    <tr style=\"text-align: right;\">\n",
       "      <th></th>\n",
       "      <th>rmsd</th>\n",
       "      <th>candidatos</th>\n",
       "      <th>cumple</th>\n",
       "      <th>candidato_clique_1</th>\n",
       "      <th>candidato_clique_2</th>\n",
       "    </tr>\n",
       "  </thead>\n",
       "  <tbody>\n",
       "    <tr>\n",
       "      <th>123</th>\n",
       "      <td>0.14247</td>\n",
       "      <td>(10, 616)</td>\n",
       "      <td>1</td>\n",
       "      <td>10</td>\n",
       "      <td>616</td>\n",
       "    </tr>\n",
       "    <tr>\n",
       "      <th>166</th>\n",
       "      <td>0.14225</td>\n",
       "      <td>(10, 1085)</td>\n",
       "      <td>1</td>\n",
       "      <td>10</td>\n",
       "      <td>1085</td>\n",
       "    </tr>\n",
       "    <tr>\n",
       "      <th>273</th>\n",
       "      <td>0.14233</td>\n",
       "      <td>(10, 1403)</td>\n",
       "      <td>1</td>\n",
       "      <td>10</td>\n",
       "      <td>1403</td>\n",
       "    </tr>\n",
       "    <tr>\n",
       "      <th>291</th>\n",
       "      <td>0.14044</td>\n",
       "      <td>(10, 1456)</td>\n",
       "      <td>1</td>\n",
       "      <td>10</td>\n",
       "      <td>1456</td>\n",
       "    </tr>\n",
       "    <tr>\n",
       "      <th>308</th>\n",
       "      <td>0.11607</td>\n",
       "      <td>(10, 1664)</td>\n",
       "      <td>1</td>\n",
       "      <td>10</td>\n",
       "      <td>1664</td>\n",
       "    </tr>\n",
       "  </tbody>\n",
       "</table>\n",
       "</div>"
      ],
      "text/plain": [
       "       rmsd  candidatos  cumple  candidato_clique_1  candidato_clique_2\n",
       "123 0.14247  (10, 616)   1       10                  616               \n",
       "166 0.14225  (10, 1085)  1       10                  1085              \n",
       "273 0.14233  (10, 1403)  1       10                  1403              \n",
       "291 0.14044  (10, 1456)  1       10                  1456              \n",
       "308 0.11607  (10, 1664)  1       10                  1664              "
      ]
     },
     "execution_count": 130,
     "metadata": {},
     "output_type": "execute_result"
    }
   ],
   "source": [
    "f1.head()"
   ]
  },
  {
   "cell_type": "markdown",
   "metadata": {},
   "source": [
    "# Se agrega un nuevo elemento"
   ]
  },
  {
   "cell_type": "code",
   "execution_count": 220,
   "metadata": {},
   "outputs": [],
   "source": [
    "def add_element_clique(df_cliques, col_candidatos, cliques, candidatos_df, number_elements_clique):\n",
    "    print('numero de elementos del clique:', number_elements_clique)\n",
    "    cliques_maximales = cliques[cliques.numero_elementos >= number_elements_clique].drop('numero_elementos',1).values\n",
    "    set_candidatos = [df_cliques.iloc[i, range(number_elements_clique)].values for i in candidatos_df[col_candidatos].unique()]\n",
    "    #conjunto de candidatos unicos\n",
    "    lista_residuos = []  # aqui se guardara la lista de numero de residuo\n",
    "    for candidato in set_candidatos:  # este va a cambiar cada iteracion\n",
    "        for clique_maximal in cliques_maximales:\n",
    "            clique_maximal = [i for i in clique_maximal if str(i) != 'nan']\n",
    "            if set(candidato).issubset(clique_maximal):       # si esta en un clique maximal\n",
    "                no_estan_en_clique = set(clique_maximal).difference(set(candidato))\n",
    "                # obten los elementos que no estan en ese clique que si estan en el clique maximal\n",
    "                for nuevo_elemento in no_estan_en_clique:\n",
    "                    candidato_nuevo = candidato.copy()\n",
    "                    # se genera una copia para no borrar el orginal\n",
    "                    candidato_nuevo = np.append(candidato_nuevo,nuevo_elemento)\n",
    "                    # se apila un elemento de los que no estan\n",
    "                    if set(candidato_nuevo) not in lista_residuos:\n",
    "                        lista_residuos.append(set(candidato_nuevo))\n",
    "                        # si no esta en la lista pasa\n",
    "    print('numero de elementos del clique ahora:', number_elements_clique+1)\n",
    "    return(pd.DataFrame(lista_residuos))"
   ]
  },
  {
   "cell_type": "code",
   "execution_count": 226,
   "metadata": {},
   "outputs": [
    {
     "name": "stdout",
     "output_type": "stream",
     "text": [
      "numero de elementos del clique: 4\n",
      "numero de elementos del clique ahora: 5\n",
      "numero de elementos del clique: 4\n",
      "numero de elementos del clique ahora: 5\n",
      "CPU times: user 2.68 s, sys: 12.2 ms, total: 2.69 s\n",
      "Wall time: 2.64 s\n"
     ]
    }
   ],
   "source": [
    "new_df_cliques1 = add_element_clique(df_cliques1, 'candidato_clique_1',cliques1,f1,num_cliques)\n",
    "new_df_cliques2 = add_element_clique(df_cliques2, 'candidato_clique_2',cliques2,f1,num_cliques)\n",
    "num_cliques = num_cliques + 1"
   ]
  },
  {
   "cell_type": "code",
   "execution_count": 142,
   "metadata": {},
   "outputs": [],
   "source": [
    "# def get_cliques_4(df_cliques,col,cliques):\n",
    "#     set_clique = [df_cliques.iloc[i, [0,1,2]].values for i in f1[col].unique()] #conjunto de candidatos unicos\n",
    "#     lista_chidi = [] # aqui se guardara la lista de numero de residuo\n",
    "#     cliques_maximales = cliques.drop('numero_elementos',1).values\n",
    "#     for muestra in set_clique: # este va a cambiar cada iteracion\n",
    "#         for i in cliques_maximales:\n",
    "#             if set(muestra).issubset(i):       # si esta en un clique maximal\n",
    "#                 no_estan_en_clique = set(i).difference(set(muestra)) #obten los elementos que no estan en ese clique que si estan en el clique maximal\n",
    "#                 for j in no_estan_en_clique: \n",
    "#                     muestra_falsa = muestra.copy() #se genera una copia para no borrar el orginal\n",
    "#                     muestra_falsa = np.append(muestra_falsa,j) #se apila un elemento de los que no estan\n",
    "#                     if set(muestra_falsa) not in lista_chidi:\n",
    "#                         lista_chidi.append(set(muestra_falsa)) #si no esta en la lista pasa\n",
    "\n",
    "#     return(pd.DataFrame(lista_chidi))"
   ]
  },
  {
   "cell_type": "code",
   "execution_count": 143,
   "metadata": {},
   "outputs": [],
   "source": [
    "# num_cliques = 3\n",
    "# new_df_cliques1 = get_cliques_4(df_cliques1, 'candidato_clique_1',cliques1)\n",
    "# # new_df_cliques2 = get_cliques_4(df_cliques2, 'candidato_clique_2',cliques2)\n",
    "# # num_cliques = num_cliques + 1"
   ]
  },
  {
   "cell_type": "markdown",
   "metadata": {},
   "source": [
    "# VA DE NUEZ EL CALCULO"
   ]
  },
  {
   "cell_type": "code",
   "execution_count": 227,
   "metadata": {},
   "outputs": [],
   "source": [
    "def iter_rmsd(new_df_cliques1,new_df_cliques2,number_elements_clique):\n",
    "    new_df_cliques1 = fc.paste_SS(ss1, new_df_cliques1, num_cliques=number_elements_clique)\n",
    "    new_df_cliques2 = fc.paste_SS(ss2, new_df_cliques2, num_cliques=number_elements_clique)\n",
    "    candidatos_ss = fc.compare_SS(new_df_cliques1, new_df_cliques2, num_cliques=number_elements_clique)\n",
    "    df_cliques1 = fc.get_coords_clique(df_atoms1, new_df_cliques1, number_elements_clique)\n",
    "    df_cliques2 = fc.get_coords_clique(df_atoms2, new_df_cliques2, number_elements_clique)\n",
    "    df_cliques1 = fc.baricenter_clique(df_cliques1, number_elements_clique)\n",
    "    df_cliques2 = fc.baricenter_clique(df_cliques2, number_elements_clique)\n",
    "    df_cliques1 = fc.center_vectors(df_cliques1, number_elements_clique)\n",
    "    df_cliques2 = fc.center_vectors(df_cliques2, number_elements_clique)\n",
    "    idx_rmsd1, idx_rmsd2 = 3 * number_elements_clique, 4 * number_elements_clique + 3\n",
    "    array_df_cliques1 = df_cliques1.values[:, range(idx_rmsd1, idx_rmsd2)]  # del 9 al 15\n",
    "    array_df_cliques2 = df_cliques2.values[:, range(idx_rmsd1, idx_rmsd2)]\n",
    "    print(len(candidatos_ss))\n",
    "    df_cliques1 = fc.get_distancia_promedio(number_elements_clique, df_cliques1)\n",
    "    df_cliques2 = fc.get_distancia_promedio(number_elements_clique, df_cliques2)\n",
    "    array_dist_promedio1 = df_cliques1.values[:, -1]  # el ultimo valor de distancia.\n",
    "    array_dist_promedio2 = df_cliques2.values[:, -1]\n",
    "    limite_distancia_minima = 0.45\n",
    "    if number_elements_clique == 4:\n",
    "        limite_distancia_minima = 0.9\n",
    "    if number_elements_clique == 5:\n",
    "        limite_distancia_minima = 1.8\n",
    "    if number_elements_clique == 6:\n",
    "        limite_distancia_minima = 3.6\n",
    "    if number_elements_clique == 7:\n",
    "        limite_distancia_minima = 4.5\n",
    "    if number_elements_clique == 8:\n",
    "        limite_distancia_minima = 8.0\n",
    "\n",
    "    # filtro por distancia minima\n",
    "    candidatos_filter_dist = [(i, j) for i, j in candidatos_ss if (\n",
    "            array_dist_promedio1[i] - array_dist_promedio2[j] >= -limite_distancia_minima) & (\n",
    "                                      array_dist_promedio1[i] - array_dist_promedio2[j] <= limite_distancia_minima)]\n",
    "\n",
    "    print('num candidatos filtro SS', len(candidatos_ss))\n",
    "    print('num candidatos filtro distancia y ss', len(candidatos_filter_dist))\n",
    "\n",
    "    p = multiprocessing.Pool(multiprocessing.cpu_count() - 1)\n",
    "    restriccion_rmsd = 0.15\n",
    "    if number_elements_clique == 4:\n",
    "        restriccion_rmsd = 0.30\n",
    "    if number_elements_clique == 5:\n",
    "        restriccion_rmsd = 0.60\n",
    "    if number_elements_clique == 6:\n",
    "        restriccion_rmsd = 0.90\n",
    "    if number_elements_clique == 7:\n",
    "        restriccion_rmsd = 1.50\n",
    "    if number_elements_clique == 8:\n",
    "        restriccion_rmsd = 1.80\n",
    "\n",
    "    rmsd_1 = p.map(partial(fc.calculate_rmsd_rot_trans_m,\n",
    "                           array_cliques1=array_df_cliques1,\n",
    "                           array_cliques2=array_df_cliques2,\n",
    "                           num_cliques=number_elements_clique), candidatos_filter_dist)\n",
    "\n",
    "    p.close()\n",
    "    p.join()\n",
    "\n",
    "    f1 = pd.DataFrame(rmsd_1)\n",
    "    f1 = f1[f1[0] <= restriccion_rmsd]\n",
    "    f1['candidato_clique_1'] = f1[1].str.get(0)\n",
    "    f1['candidato_clique_2'] = f1[1].str.get(1)\n",
    "    candidatos = f1[1].values\n",
    "\n",
    "    time = datetime.datetime.now()\n",
    "\n",
    "    print('numero de candidatos:', len(candidatos))\n",
    "    print('tiempo pasado:', time - timenow)\n",
    "\n",
    "    new_df_cliques1 = fc.add_element_clique(df_cliques1, 'candidato_clique_1', cliques1, f1, number_elements_clique)\n",
    "    new_df_cliques2 = fc.add_element_clique(df_cliques2, 'candidato_clique_2', cliques2, f1, number_elements_clique)\n",
    "    number_elements_clique = number_elements_clique + 1\n",
    "    return(new_df_cliques1, new_df_cliques2, number_elements_clique)"
   ]
  },
  {
   "cell_type": "code",
   "execution_count": null,
   "metadata": {},
   "outputs": [],
   "source": [
    "for k in range(4):\n",
    "    new_df_cliques1, new_df_cliques2, number_elements_clique = iter_rmsd(\n",
    "        new_df_cliques1,new_df_cliques2,number_elements_clique)"
   ]
  },
  {
   "cell_type": "code",
   "execution_count": 99,
   "metadata": {},
   "outputs": [],
   "source": [
    "ahora = datetime.datetime.now()"
   ]
  },
  {
   "cell_type": "code",
   "execution_count": 101,
   "metadata": {},
   "outputs": [
    {
     "name": "stdout",
     "output_type": "stream",
     "text": [
      "0:04:32.441614\n"
     ]
    }
   ],
   "source": [
    "print(ahora - tiempo)"
   ]
  }
 ],
 "metadata": {
  "kernelspec": {
   "display_name": "Python 3",
   "language": "python",
   "name": "python3"
  },
  "language_info": {
   "codemirror_mode": {
    "name": "ipython",
    "version": 3
   },
   "file_extension": ".py",
   "mimetype": "text/x-python",
   "name": "python",
   "nbconvert_exporter": "python",
   "pygments_lexer": "ipython3",
   "version": "3.7.0"
  }
 },
 "nbformat": 4,
 "nbformat_minor": 2
}
