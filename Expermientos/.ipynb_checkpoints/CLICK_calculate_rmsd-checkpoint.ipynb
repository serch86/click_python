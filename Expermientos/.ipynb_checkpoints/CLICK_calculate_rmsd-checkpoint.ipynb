{
 "cells": [
  {
   "cell_type": "markdown",
   "metadata": {},
   "source": [
    "# Algoritmo Click\n",
    "## Generacion de cliques\n",
    "+ Se generan con biopandas para obtener los atomos de  CαCα  y sus coordenadas.\n",
    "+ Se calcula la distancia y se genera un grafo completo con la distancia entre cada par de atomos.\n",
    "+ Se restringen los enlaces por una distancia dada y se generan los cliques que tengas un numero k de elementos para pertencer al clique.\n",
    "+ Una ves generados los cliques de cada proteina se extraen sus coordenadas para poderlas comparar"
   ]
  },
  {
   "cell_type": "code",
   "execution_count": 3,
   "metadata": {},
   "outputs": [],
   "source": [
    "#libreria de analisis de datos y una caracterizacion para su facil lectura.\n",
    "import pandas as pd\n",
    "pd.set_option('display.float_format', lambda x: '%.5f' % x)\n",
    "pd.set_option('max_rows', 100)\n",
    "pd.set_option('max_columns', 40)\n",
    "pd.set_option('display.max_colwidth', -1)\n",
    "#libreria de generacion de rede y cliques\n",
    "import networkx as nx,community\n",
    "\n",
    "#libreria de visualizacion de datos y un formato dado\n",
    "import matplotlib.pyplot as plt\n",
    "plt.style.use('ggplot')\n",
    "font = {'family' : 'sans',\n",
    "        'weight' : 'bold',\n",
    "        'size'   : 20}\n",
    "plt.rc('font', **font)\n",
    "plt.rcParams['xtick.labelsize'] = 16\n",
    "plt.rcParams['axes.labelsize'] = 18\n",
    "plt.rcParams['ytick.labelsize'] = 16\n",
    "plt.rcParams[u'figure.figsize'] = (16,8)\n",
    "\n",
    "#mas librerias que voy obteniendo\n",
    "import biopandas.pdb as bp\n",
    "biop = bp.PandasPdb() #libreria de lectura de pdbs\n",
    "\n",
    "#libreria de calculo de distancia euclidiana\n",
    "from scipy.spatial.distance import pdist, squareform\n",
    "\n",
    "#libreria de mate\n",
    "import numpy as np\n",
    "\n",
    "#libreria de iteraciones\n",
    "import itertools as it\n",
    "\n",
    "#Libreria de MA para RMSD\n",
    "import sys\n",
    "sys.path.append('math_tricks/')\n",
    "import math_vect_tools as mvt\n",
    "\n",
    "#Libreria de graficacion interactiva\n",
    "import plotly.plotly as py\n",
    "import plotly.graph_objs as go\n",
    "\n",
    "#Para optimizar el codigo para hacer mas rapido los calculos\n",
    "%load_ext Cython"
   ]
  },
  {
   "cell_type": "code",
   "execution_count": 4,
   "metadata": {},
   "outputs": [],
   "source": [
    "# Aqui se cambiaria por los archivos a leer pdbs sin modificar\n",
    "path1 ='1xxa.pdb'\n",
    "path2 ='1tig.pdb'\n",
    "\n",
    "#funcion de lectura con biopandas\n",
    "def read_biopdb(path):\n",
    "    \"\"\"Extrae las cordenadas de los atomos de C_alfa y los acomoda en un vector\n",
    "    devuelve un dataframe con las coordenadas y el numero de residuo\"\"\"\n",
    "    df = biop.read_pdb(path)\n",
    "    df_atom = df.df['ATOM']\n",
    "    #OJO AQUI ESTA ADECUADO AL PDB   para elegir solo un frame en trj_0 y trj_0_A [:1805]\n",
    "    df_ca = df_atom[df_atom.atom_name == 'CA'][[\n",
    "    'atom_number','atom_name','residue_name','residue_number',\n",
    "    'x_coord','y_coord','z_coord']]\n",
    "    columna_vector = []\n",
    "    for i in zip(df_ca.x_coord.tolist(),df_ca.y_coord.tolist(),df_ca.z_coord.tolist()):\n",
    "        columna_vector.append(np.array(i))\n",
    "\n",
    "    df_ca['vector'] = columna_vector\n",
    "    return(df_ca)"
   ]
  },
  {
   "cell_type": "code",
   "execution_count": 5,
   "metadata": {},
   "outputs": [],
   "source": [
    "#lectura de pdbs\n",
    "df_ca1 = read_biopdb(path1)\n",
    "df_ca2 = read_biopdb(path2)"
   ]
  },
  {
   "cell_type": "code",
   "execution_count": 6,
   "metadata": {},
   "outputs": [],
   "source": [
    "#se calcula la distancia entre cada par de nodos.\n",
    "def distancia_entre_atomos(df_ca):\n",
    "    \"\"\"df_ca: Dataframe con coordenadas de los atomos alfa, devuelve otro DataFrame\n",
    "    df_da: Dataframe como una matriz de adyacencias donde el valor es la distancia\"\"\"\n",
    "    distancias = []\n",
    "    #se calcula la distancia euclidiana entre cada atomo de carbon alfalfa\n",
    "    for v,i in zip(df_ca.vector,df_ca.atom_number):\n",
    "        distancia_un_atomo = []\n",
    "        for av,j in zip(df_ca.vector,df_ca.atom_number):\n",
    "            distancia = pdist([v,av],metric='euclidean').item()\n",
    "            distancia_un_atomo.append(distancia)\n",
    "        distancias.append(distancia_un_atomo)\n",
    "    #se genera la matriz de adyacencias para la red\n",
    "    df_da = pd.DataFrame(index=df_ca.atom_number,columns=df_ca.atom_number,data=distancias)\n",
    "    return(df_da)"
   ]
  },
  {
   "cell_type": "code",
   "execution_count": 7,
   "metadata": {},
   "outputs": [],
   "source": [
    "#generacion de matriz de adyacencias\n",
    "df_da1 = distancia_entre_atomos(df_ca1)\n",
    "df_da2 = distancia_entre_atomos(df_ca2)\n",
    "#podriamos solo mantener la matriz diagonal y dejarla como un array de arrays"
   ]
  },
  {
   "cell_type": "code",
   "execution_count": 8,
   "metadata": {},
   "outputs": [],
   "source": [
    "def gen_3_cliques(df_da, dth = 10, k=3):\n",
    "    \"\"\"Genera n-cliques de dataframe de distancias, tomando en cuenta los enlaces menores o iguales\n",
    "    a dth y forma los k-cliques que elijas \n",
    "    valores por default:\n",
    "    dth=10, k=3\"\"\"\n",
    "    #red de distancias completa\n",
    "    red = nx.from_pandas_adjacency(df_da)\n",
    "    print(\"red antes de filtros:\",nx.info(red))\n",
    "\n",
    "    #filtro de distancias\n",
    "    edgesstrong = [(u,v) for (u,v,d) in red.edges(data=True) if d[\"weight\"] <= dth]\n",
    "\n",
    "    red = nx.Graph(edgesstrong)\n",
    "    print(\"==\"*20)\n",
    "    print(\"red despues de filtros:\",nx.info(red))\n",
    "\n",
    "    n_cliques = [clq for clq in nx.find_cliques(red) if len(clq) >=k]\n",
    "    print('numero de cliques maximos encontrados:',len(n_cliques))\n",
    "\n",
    "    lista_cliques = []\n",
    "    for i,v in enumerate(n_cliques):\n",
    "        a = list(it.combinations(v,k))\n",
    "        for j in a:\n",
    "            if set(j) not in lista_cliques:\n",
    "                #recuerda que para comparar elementos utiliza set, y apilalos como set\n",
    "                lista_cliques.append(set(j))\n",
    "\n",
    "    df_lc = pd.DataFrame(lista_cliques)            \n",
    "    print(\"numero de %s-cliques posibles:\" % (k), df_lc.shape[0])\n",
    "    return(df_lc)"
   ]
  },
  {
   "cell_type": "code",
   "execution_count": 9,
   "metadata": {},
   "outputs": [
    {
     "name": "stdout",
     "output_type": "stream",
     "text": [
      "red antes de filtros: Name: \n",
      "Type: Graph\n",
      "Number of nodes: 429\n",
      "Number of edges: 91806\n",
      "Average degree: 428.0000\n",
      "========================================\n",
      "red despues de filtros: Name: \n",
      "Type: Graph\n",
      "Number of nodes: 429\n",
      "Number of edges: 4127\n",
      "Average degree:  19.2401\n",
      "numero de cliques maximos encontrados: 1429\n",
      "numero de 3-cliques posibles: 13625\n",
      "------------------------------------------------------------------------------------------------------------------------\n",
      "red antes de filtros: Name: \n",
      "Type: Graph\n",
      "Number of nodes: 88\n",
      "Number of edges: 3828\n",
      "Average degree:  87.0000\n",
      "========================================\n",
      "red despues de filtros: Name: \n",
      "Type: Graph\n",
      "Number of nodes: 88\n",
      "Number of edges: 709\n",
      "Average degree:  16.1136\n",
      "numero de cliques maximos encontrados: 246\n",
      "numero de 3-cliques posibles: 2102\n"
     ]
    }
   ],
   "source": [
    "df_lc1 = gen_3_cliques(df_da1,dth = 10, k=3)\n",
    "print('--'*60)\n",
    "df_lc2 = gen_3_cliques(df_da2,dth = 10, k=3)"
   ]
  },
  {
   "cell_type": "code",
   "execution_count": 10,
   "metadata": {},
   "outputs": [],
   "source": [
    "#funcion para obtener las coordenadas del clique\n",
    "def get_coord_clique(df_ca,df_lc):\n",
    "    \"\"\"df_ca:DataFrame con coordenadas de carbonos alfa,\n",
    "    df_lc:Dataframe con cliques, si coincide el numero del atomo\n",
    "    le pega su coordenada y genera una matriz de vectores que contiene \n",
    "    las coordenadas de cada atomo ordenado de izquierda a derecha como \n",
    "    aparecen en df_lc\"\"\"\n",
    "    lista_matriz_coordendas = [] #lista para apilar las coordenadas\n",
    "    for i in df_lc.index:\n",
    "        #si coincide el numero de atomo con el numero de atomo del clique le coloca el vector de coordenadas\n",
    "        mat_dist = [np.array(df_ca[df_ca.atom_number==df_lc.iloc[i,0]].vector.values[0]),\n",
    "                    np.array(df_ca[df_ca.atom_number==df_lc.iloc[i,1]].vector.values[0]),\n",
    "                    np.array(df_ca[df_ca.atom_number==df_lc.iloc[i,2]].vector.values[0])]\n",
    "        lista_matriz_coordendas.append(mat_dist)\n",
    "\n",
    "    df_lc['matriz_coordenadas'] = lista_matriz_coordendas #columna con coordenadas del clique\n",
    "    return(df_lc)"
   ]
  },
  {
   "cell_type": "code",
   "execution_count": 11,
   "metadata": {},
   "outputs": [],
   "source": [
    "#pegado de coordendas\n",
    "df_lc1 = get_coord_clique(df_ca1,df_lc1)\n",
    "df_lc2 = get_coord_clique(df_ca2,df_lc2)"
   ]
  },
  {
   "cell_type": "markdown",
   "metadata": {},
   "source": [
    "## Comparacion de cliques\n",
    "### Pasos para comparar\n",
    "Para obtener el __RMSD__ es necesario primero rotar y trasladar un atomo con respecto al atomo a comparar (de la otra proteina) y calcular el __RMSD__.\n",
    "\n",
    "Siguiendo al metodologia en *Using quaternions to calculate RMSD*.\n",
    "Se generan las funciones de traslado y rotacion.\n",
    "\n",
    "__Segunda parte esto va mas abajo__\n",
    "\n",
    "Para obtener C, $\\alpha$, $\\beta$ con:\n",
    "   + $\\Phi$\n",
    "   + $\\Psi$\n",
    "1. Matriz de comparacion de Estructura Secundaria (SSM)\n",
    "2. Solvente Accesible (SAM)"
   ]
  },
  {
   "cell_type": "markdown",
   "metadata": {},
   "source": [
    "### Traslacion\n",
    "Se calcula el baricentro de cada clique en ambas moleculas y se generan nuevos vectores que van del baricentro al atomo llamados $\\hat{x}$.\n",
    "\n",
    "El baricentro se calcula como $\\bar{x} =$($\\frac{(x_1 + x_2 + x_3)}{3}$,$\\frac{(y_1 + y_2 + y_3)}{3}$,$\\frac{(z_1 + z_2 + z_3)}{3}$)\n",
    "\n",
    "$\\hat{x} = x_k - \\bar{x}$"
   ]
  },
  {
   "cell_type": "code",
   "execution_count": 12,
   "metadata": {},
   "outputs": [],
   "source": [
    "# funcion de calculo de baricentro\n",
    "def baricenter_clique(df_lc):\n",
    "    \"\"\"se calcula el baricentro de cada clique \n",
    "    siguiendo la formula de arriba.\n",
    "    df_lc: Dataframe con los cliques y coordenadas\n",
    "    regresa\n",
    "    df_lc:Dataframe con el baricentro de ese clique\"\"\"\n",
    "    coord_center = []\n",
    "    for i in range(df_lc.shape[0]):\n",
    "        #se extrae las coordenadas de los atomos\n",
    "        A = df_lc.matriz_coordenadas[i][0]\n",
    "        B = df_lc.matriz_coordenadas[i][1]\n",
    "        C = df_lc.matriz_coordenadas[i][2]\n",
    "        #se calcula el punto promedio\n",
    "        x1 = round((A[0]+B[0]+C[0])/3,5)\n",
    "        y1 = round((A[1]+B[1]+C[1])/3,5)\n",
    "        z1 = round((A[2]+B[2]+C[2])/3,5)\n",
    "        #se apila para pegarlo en una sola fila correspondiente al clique\n",
    "        coord_center.append(np.array([x1,y1,z1]))\n",
    "\n",
    "    #generacion de la columna\n",
    "    df_lc['baricentro_clique'] = coord_center\n",
    "    return(df_lc)"
   ]
  },
  {
   "cell_type": "code",
   "execution_count": 13,
   "metadata": {},
   "outputs": [],
   "source": [
    "#calculo de baricentro\n",
    "df_lc1 = baricenter_clique(df_lc1)\n",
    "df_lc2 = baricenter_clique(df_lc2)"
   ]
  },
  {
   "cell_type": "code",
   "execution_count": 14,
   "metadata": {},
   "outputs": [],
   "source": [
    "def center_vectors(df_lc):\n",
    "    \"\"\"Calculo de los vectores gorro que van del baricentro \n",
    "    a la coordenada del atomo\n",
    "    df_lc: Dataframe con baricentro y coordenadas de cada clique\n",
    "    regresa\n",
    "    df_lc:Dataframe con vectores gorro en otra columna\"\"\"\n",
    "    vectores_centricos = []\n",
    "    for i,val in enumerate(df_lc.baricentro_clique):\n",
    "    #     extraccion de coordenadas de cada atomo\n",
    "        A = df_lc.matriz_coordenadas[i][0]\n",
    "        B = df_lc.matriz_coordenadas[i][1]\n",
    "        C = df_lc.matriz_coordenadas[i][2]\n",
    "        #calculo de vectores DEL CENTRO AL PUNTO COORDENADA\n",
    "        vec_a = np.round(list(A - val),6)\n",
    "        vec_b = np.round(list(B - val),6)\n",
    "        vec_c = np.round(list(C - val),6)\n",
    "    #SE APILAN PARA QUE ESTEN EN EL MISMO CLIQUE CORRESPONDIENTE A CADA UNO.\n",
    "        vectores_centricos.append(np.array([vec_a,vec_b,vec_c]))\n",
    "    #se generan la columna de cada vector correspondiente a cada atomo\n",
    "    df_lc['vectores_gorro'] = vectores_centricos\n",
    "    return(df_lc)"
   ]
  },
  {
   "cell_type": "code",
   "execution_count": 15,
   "metadata": {},
   "outputs": [],
   "source": [
    "#generacion de vectores gorro\n",
    "df_lc1 = center_vectors(df_lc1)\n",
    "df_lc2 = center_vectors(df_lc2)"
   ]
  },
  {
   "cell_type": "markdown",
   "metadata": {},
   "source": [
    "### Rotacion\n",
    "Para generar la rotacion tenemos que generar la *matriz gigante* que depende de los elemento de la matriz de correlacion $R_{ij}$\n",
    "\n",
    "Donde $R_{ij} = \\sum\\limits_{k=1}^N{x_{ik}y_{jk}}, i,j = 1,2,3$\n",
    "\n",
    "Posteriormente se calculan los eigenvalores y eigenvectores de esta matriz gigante\n",
    "Para obtener los quaterniones y generar la matriz de rotacion y con ella calcular el vector rotado\n",
    "\n",
    "Por ultimo, se suma al vector rotado y trasladado se suma el baricentro del clique a comparar y se calcula el RMSD"
   ]
  },
  {
   "cell_type": "code",
   "execution_count": 16,
   "metadata": {},
   "outputs": [],
   "source": [
    "# POR OPTIMIZAR CODIGO !!!"
   ]
  },
  {
   "cell_type": "code",
   "execution_count": 17,
   "metadata": {},
   "outputs": [],
   "source": [
    "#funcion para obtener los valores de la prerotacion, de los valores de la matriz de correlaciones\n",
    "# en check por que se utiliza vector gorro en lugar de posiciones iniciales \n",
    "# el articulo no dice...\n",
    "def R_ij(i,j,a1=0,a2=0):\n",
    "    \"\"\"Recuerda que 0-->1,1-->2,2-->2 en los indices de R\n",
    "    a1,a2 corresponden a que atomo quieren que se compare \n",
    "    \"\"\"\n",
    "    #se genera un diccionario para asignar los valores como en el articulo \n",
    "    #y no tener equivocaciones\n",
    "    dict_convencion = {1:0,2:1,3:2}\n",
    "    i = dict_convencion.get(i)\n",
    "    j = dict_convencion.get(j)\n",
    "    \n",
    "    values = []\n",
    "    for k in range(3):\n",
    "        atom_value1 = df_lc1.vectores_gorro[a1][k][i]\n",
    "        atom_value2 = df_lc2.vectores_gorro[a2][k][j]\n",
    "        value = atom_value1 * atom_value2\n",
    "        values.append(value)\n",
    "        valor = sum(values)\n",
    "#         print(atom_value1,atom_value2,value,valor)\n",
    "#         print('//'*40)\n",
    "    return(valor)"
   ]
  },
  {
   "cell_type": "code",
   "execution_count": 18,
   "metadata": {},
   "outputs": [
    {
     "name": "stdout",
     "output_type": "stream",
     "text": [
      "101 µs ± 1.28 µs per loop (mean ± std. dev. of 7 runs, 10000 loops each)\n"
     ]
    }
   ],
   "source": [
    "%%timeit\n",
    "R_ij(1,1,a1=0,a2=0)"
   ]
  },
  {
   "cell_type": "code",
   "execution_count": 19,
   "metadata": {},
   "outputs": [
    {
     "data": {
      "text/plain": [
       "3.9955923332999994"
      ]
     },
     "execution_count": 19,
     "metadata": {},
     "output_type": "execute_result"
    }
   ],
   "source": [
    "R_ij(1,1,a1=0,a2=0)"
   ]
  },
  {
   "cell_type": "code",
   "execution_count": 20,
   "metadata": {},
   "outputs": [],
   "source": [
    "def giant_matrix(i,j):\n",
    "    \"\"\"cliques a comparar: i,j\n",
    "    desde aqui se itera sobre cada i y hay que variar los vectores \n",
    "    coordenada \n",
    "    Regresa la matriz gigante (matriz simetrica del articulo)\"\"\"\n",
    "    #primer renglon\n",
    "    R11R22R33 = (R_ij(1,1,a1=i,a2=j) + R_ij(2,2,a1=i,a2=j) + R_ij(3,3,a1=i,a2=j))\n",
    "    R23_R32 = (R_ij(2,3,a1=i,a2=j) - R_ij(3,2,a1=i,a2=j))\n",
    "    R31_R13 = (R_ij(3,1,a1=i,a2=j) - R_ij(1,3,a1=i,a2=j))\n",
    "    R12_R21 = (R_ij(1,2,a1=i,a2=j) - R_ij(2,1,a1=i,a2=j))\n",
    "    #segundo renglon\n",
    "    R11_R22_R33 = (R_ij(1,1,a1=i,a2=j) - R_ij(2,2,a1=i,a2=j) - R_ij(3,3,a1=i,a2=j))\n",
    "    R12R21 = (R_ij(1,2,a1=i,a2=j) + R_ij(2,1,a1=i,a2=j))\n",
    "    R13R31 = (R_ij(1,3,a1=i,a2=j) + R_ij(3,1,a1=i,a2=j))\n",
    "    #tercer renglon\n",
    "    _R11R22_R33 = (-R_ij(1,1,a1=i,a2=j) + R_ij(2,2,a1=i,a2=j) - R_ij(3,3,a1=i,a2=j))\n",
    "    R23R32 = (R_ij(2,3,a1=i,a2=j) + R_ij(3,2,a1=0,a2=0))\n",
    "    #cuarto renglon\n",
    "    _R11_R22R33 = (-R_ij(1,1,a1=i,a2=j) - R_ij(2,2,a1=i,a2=j) + R_ij(3,3,a1=i,a2=j))\n",
    "\n",
    "    matriz_gigante = np.round([\n",
    "        [R11R22R33, R23_R32 , R31_R13, R12_R21],\n",
    "        [R23_R32, R11_R22_R33, R12R21, R13R31],\n",
    "        [R31_R13, R12R21, _R11R22_R33, R23R32],\n",
    "        [R12_R21, R13R31, R23R32, _R11_R22R33]\n",
    "    ],4)\n",
    "    return(matriz_gigante)"
   ]
  },
  {
   "cell_type": "code",
   "execution_count": 21,
   "metadata": {},
   "outputs": [
    {
     "name": "stdout",
     "output_type": "stream",
     "text": [
      "2.62 ms ± 91.2 µs per loop (mean ± std. dev. of 7 runs, 100 loops each)\n"
     ]
    }
   ],
   "source": [
    "%%timeit\n",
    "giant_matrix(0,0)"
   ]
  },
  {
   "cell_type": "code",
   "execution_count": 22,
   "metadata": {},
   "outputs": [
    {
     "data": {
      "text/plain": [
       "array([[ -2.0775,  15.4423, -16.5152,   0.114 ],\n",
       "       [ 15.4423,  10.0687,   1.4089,  18.757 ],\n",
       "       [-16.5152,   1.4089,  -1.6719,  18.4626],\n",
       "       [  0.114 ,  18.757 ,  18.4626,  -6.3193]])"
      ]
     },
     "execution_count": 22,
     "metadata": {},
     "output_type": "execute_result"
    }
   ],
   "source": [
    "giant_matrix(0,0)"
   ]
  },
  {
   "cell_type": "code",
   "execution_count": 23,
   "metadata": {},
   "outputs": [],
   "source": [
    "def rotation_matrix(matriz_gigante):\n",
    "    \"\"\"utilizando la funcion giant_matrix, fijando los valores de i,j\n",
    "    se calcula la matriz de rotacion con los eigenvectores y eigenvalores\n",
    "    arroja una matriz de rotacion que depende de la matriz gigante\n",
    "    \"\"\"\n",
    "    eignvalues,eigenvectors = np.linalg.eig(matriz_gigante)\n",
    "    q = eigenvectors[:,np.argmax(eignvalues)]\n",
    "    q0,q1,q2,q3 = q[0],q[1],q[2],q[3]\n",
    "    #matriz de rotacion con eigenvectores\n",
    "    mat_rot = [\n",
    "                [(q0**2+q1**2-q2**2-q3**2), 2*(q1*q2-q0*q3),2*(q1*q3+q0*q2)],\n",
    "                [2*(q1*q2+q0*q3), (q0**2-q1**2+q2**2-q3**2),2*(q2*q3-q0*q1)],\n",
    "                [2*(q1*q3-q0*q2),2*(q2*q3+q0*q1), (q0**2-q1**2-q2**2+q3**2)]\n",
    "              ]\n",
    "    return(mat_rot)"
   ]
  },
  {
   "cell_type": "code",
   "execution_count": 24,
   "metadata": {},
   "outputs": [
    {
     "name": "stdout",
     "output_type": "stream",
     "text": [
      "2.76 ms ± 84.1 µs per loop (mean ± std. dev. of 7 runs, 100 loops each)\n"
     ]
    }
   ],
   "source": [
    "%%timeit\n",
    "rotation_matrix(giant_matrix(0,0))"
   ]
  },
  {
   "cell_type": "code",
   "execution_count": 25,
   "metadata": {},
   "outputs": [
    {
     "data": {
      "text/plain": [
       "[[0.3758906562232435, 0.009116571700666432, 0.9266191788887631],\n",
       " [0.6073716594343352, -0.7576354779581207, -0.2389312659639831],\n",
       " [0.6998613304648579, 0.6526142587008013, -0.29032524426987466]]"
      ]
     },
     "execution_count": 25,
     "metadata": {},
     "output_type": "execute_result"
    }
   ],
   "source": [
    "rotation_matrix(giant_matrix(0,0))"
   ]
  },
  {
   "cell_type": "code",
   "execution_count": 26,
   "metadata": {},
   "outputs": [],
   "source": [
    "def rotation_vectors(vector_gorro,i,mat_rot):\n",
    "    \"\"\"obtencion de vector rotado,\n",
    "    utilizando la matriz de rotacion \n",
    "    y los vectores gorro a rotar y trasladar\"\"\"\n",
    "    #mult de cada vector rotado\n",
    "    vec1 = vector_gorro\n",
    "\n",
    "    coord_rot_tras = []\n",
    "    for i in vec1:\n",
    "        coord_rot_tras.append(np.matmul(mat_rot,i.reshape(3,1)).T[0])\n",
    "\n",
    "    x_rot = coord_rot_tras\n",
    "    return(x_rot)"
   ]
  },
  {
   "cell_type": "code",
   "execution_count": 30,
   "metadata": {},
   "outputs": [],
   "source": [
    "\n",
    "def rmsd_between_cliques(atom_trans_rot,atom_to_compare):\n",
    "    \"\"\"Calculo de rmsd entre cliques tomando el atomo rotado y trasladado\n",
    "    y el atomo a comparar, por el momento solo imprime el resultado\"\"\"\n",
    "    # primer RMSD entre atomos\n",
    "    a = atom_trans_rot\n",
    "    b = atom_to_compare\n",
    "    values_diff = []\n",
    "#     print('vector a:', a,'\\n vs \\n','vector b:' , b)\n",
    "    for i,val1 in enumerate(a):\n",
    "        for j,val2 in enumerate(b):\n",
    "            if i == j:\n",
    "    #             print(val1,val2)\n",
    "                diff_x = val1[0] - val2[0]\n",
    "                diff_x2 = diff_x**2\n",
    "\n",
    "                diff_y = val1[1] - val2[1]\n",
    "                diff_y2 = diff_y**2\n",
    "\n",
    "                diff_z = val1[2] - val2[2]\n",
    "                diff_z2 = diff_z**2\n",
    "\n",
    "    #             print(diff_x2,diff_y2,diff_z2)\n",
    "                vals = np.sqrt((diff_x2 + diff_y2 + diff_z2)/3)\n",
    "    #             print(vals)\n",
    "                values_diff.append(vals)\n",
    "                rmsd_final = np.round((sum(values_diff)/3),5)\n",
    "    \n",
    "    if rmsd_final <= 0.15:\n",
    "        print('RMSD_final:', rmsd_final)"
   ]
  },
  {
   "cell_type": "code",
   "execution_count": 31,
   "metadata": {},
   "outputs": [],
   "source": [
    "def calculate_rmsd_rot_trans(atom1,atom2):\n",
    "    matriz_gigante = giant_matrix(atom1,atom2)\n",
    "    mat_rot = rotation_matrix(matriz_gigante)\n",
    "    x_rot = rotation_vectors(df_lc1.vectores_gorro[atom1],atom1,mat_rot)\n",
    "    coord_rot_clique_2 = x_rot + np.array(df_lc2.baricentro_clique[atom2])\n",
    "    rmsd_between_cliques(coord_rot_clique_2,np.array(df_lc2.matriz_coordenadas[atom2]))"
   ]
  },
  {
   "cell_type": "code",
   "execution_count": 29,
   "metadata": {},
   "outputs": [
    {
     "name": "stdout",
     "output_type": "stream",
     "text": [
      "6.32 s ± 187 ms per loop (mean ± std. dev. of 7 runs, 1 loop each)\n"
     ]
    }
   ],
   "source": [
    "%%timeit\n",
    "for i in range(df_lc2.shape[0]): \n",
    "    calculate_rmsd_rot_trans(100,i)"
   ]
  },
  {
   "cell_type": "code",
   "execution_count": 33,
   "metadata": {},
   "outputs": [
    {
     "name": "stdout",
     "output_type": "stream",
     "text": [
      "RMSD_final: 0.1255\n",
      "RMSD_final: 0.09699\n",
      "RMSD_final: 0.12868\n",
      "RMSD_final: 0.14846\n",
      "RMSD_final: 0.08334\n"
     ]
    }
   ],
   "source": [
    "for i in range(df_lc2.shape[0]): \n",
    "    calculate_rmsd_rot_trans(1,i)"
   ]
  },
  {
   "cell_type": "code",
   "execution_count": null,
   "metadata": {},
   "outputs": [],
   "source": []
  }
 ],
 "metadata": {
  "kernelspec": {
   "display_name": "Python 3",
   "language": "python",
   "name": "python3"
  },
  "language_info": {
   "codemirror_mode": {
    "name": "ipython",
    "version": 3
   },
   "file_extension": ".py",
   "mimetype": "text/x-python",
   "name": "python",
   "nbconvert_exporter": "python",
   "pygments_lexer": "ipython3",
   "version": "3.6.5"
  }
 },
 "nbformat": 4,
 "nbformat_minor": 2
}
