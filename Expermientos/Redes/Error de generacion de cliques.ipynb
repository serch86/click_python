{
 "cells": [
  {
   "cell_type": "markdown",
   "metadata": {},
   "source": [
    "# Error 1\n",
    "este codigo siguiente era para generar cliques si coincidian en distancia pero no es adecuado dado que primero hay que generar los cliques y posterior filtrar por distancias."
   ]
  },
  {
   "cell_type": "code",
   "execution_count": 302,
   "metadata": {},
   "outputs": [],
   "source": [
    "#el umbral donde formamos los cliques es tomando encuenta dos factores\n",
    "#1. que el numero de miembros en el clique sea entre 3 y 9, en el articulo lo fijaron en 7 \n",
    "#2. que la distancia este en el intervalo 6 a 12, en el articulo lo fijaron en 10\n",
    "\n",
    "def gen_cliques_internos(df_ca):\n",
    "    #intervalos de distancia posible para formar el clique\n",
    "    #d_inf,d_sup = 3,9\n",
    "    # donde se guardaran los posibles cliques\n",
    "    clique_grande = []\n",
    "    #se calcula la distancia euclidiana entre cada atomo de carbon alfalfa\n",
    "    for v,i in zip(df_ca.vector,df_ca.atom_number):\n",
    "        #clique del atomo a obervarsh\n",
    "        clique = []\n",
    "        for av,j in zip(df_ca.vector,df_ca.atom_number):\n",
    "            if v == av: #si es el mismo atomo no calcular\n",
    "                continue\n",
    "            distancia = pdist([v,av],metric='euclidean').item()\n",
    "            if distancia <= 10: #(d_inf <= distancia) and (distancia <= d_sup) :\n",
    "    #             print(pdist([v,av],metric='euclidean'),i,j)\n",
    "                clique = clique + [j]\n",
    "                #print(clique)\n",
    "        clique_grande.append(clique)\n",
    "\n",
    "    df_ca['cliques'] = clique_grande\n",
    "    return(df_ca)"
   ]
  },
  {
   "cell_type": "code",
   "execution_count": 303,
   "metadata": {},
   "outputs": [],
   "source": [
    "df_cat1 = gen_cliques_internos(df_ca1)"
   ]
  },
  {
   "cell_type": "code",
   "execution_count": 304,
   "metadata": {},
   "outputs": [],
   "source": [
    "#se busca saber si un valor esta en otro conjunto y formar los cliques\n",
    "for i in range(df_cat1.shape[0]):\n",
    "    for j in range(df_cat1.shape[0]):\n",
    "        if i == j: continue #no repetidos\n",
    "        if df_cat1.cliques.values[i] in df_cat1.cliques.values[j]:\n",
    "            print(set(df_cat1.cliques.values[i]))"
   ]
  },
  {
   "cell_type": "code",
   "execution_count": 305,
   "metadata": {},
   "outputs": [],
   "source": [
    "df_cat1.set_index('atom_number',inplace=True)"
   ]
  },
  {
   "cell_type": "code",
   "execution_count": 306,
   "metadata": {},
   "outputs": [],
   "source": [
    "#se genero una red de adyacencias \n",
    "#para saber quien conectaba con quien respetando la distancia desde el filtro pasado\n",
    "lista_enlaces = []\n",
    "for i in range(df_cat1.shape[0]):\n",
    "    lista_enlaces = lista_enlaces + [list(df_cat1.index.isin(df_cat1.cliques.values.take(i))*1)]"
   ]
  },
  {
   "cell_type": "code",
   "execution_count": 307,
   "metadata": {},
   "outputs": [],
   "source": [
    "#se grafico en gephi para ver si estaba bien hecha.\n",
    "red_adyacencias = pd.DataFrame(index=df_cat1.index,columns=df_cat1.index,data=lista_enlaces)\n",
    "red_adyacencias.to_csv('red_adyacencias.csv')"
   ]
  }
 ],
 "metadata": {
  "kernelspec": {
   "display_name": "Python 3",
   "language": "python",
   "name": "python3"
  },
  "language_info": {
   "codemirror_mode": {
    "name": "ipython",
    "version": 3
   },
   "file_extension": ".py",
   "mimetype": "text/x-python",
   "name": "python",
   "nbconvert_exporter": "python",
   "pygments_lexer": "ipython3",
   "version": "3.6.5"
  }
 },
 "nbformat": 4,
 "nbformat_minor": 2
}
